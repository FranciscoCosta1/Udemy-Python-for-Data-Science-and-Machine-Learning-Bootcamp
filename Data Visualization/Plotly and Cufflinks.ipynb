{
 "cells": [
  {
   "cell_type": "markdown",
   "metadata": {},
   "source": [
    "# Plotly and Cufflinks"
   ]
  },
  {
   "cell_type": "markdown",
   "metadata": {},
   "source": [
    "Plotly is a library that allows you to create interactive plots that you can use in dashboards or websites (you can save them as html files or static images).\n",
    "\n",
    "## Installation\n",
    "\n",
    "In order for this all to work, you'll need to install plotly and cufflinks to call plots directly off of a pandas dataframe. These libraries are not currently available through **conda** but are available through **pip**. Install the libraries at your command line/terminal using:\n",
    "\n",
    "    pip install plotly\n",
    "    pip install cufflinks\n",
    "\n",
    "** NOTE: Make sure you only have one installation of Python on your computer when you do this, otherwise the installation may not work. **\n",
    "\n",
    "## Imports and Set-up"
   ]
  },
  {
   "cell_type": "code",
   "execution_count": 1,
   "metadata": {},
   "outputs": [],
   "source": [
    "import pandas as pd\n",
    "import numpy as np\n",
    "%matplotlib inline"
   ]
  },
  {
   "cell_type": "code",
   "execution_count": 2,
   "metadata": {},
   "outputs": [
    {
     "name": "stdout",
     "output_type": "stream",
     "text": [
      "4.5.2\n"
     ]
    }
   ],
   "source": [
    "from plotly import __version__\n",
    "from plotly.offline import download_plotlyjs, init_notebook_mode, plot, iplot\n",
    "\n",
    "print(__version__) # requires version >= 1.9.0"
   ]
  },
  {
   "cell_type": "code",
   "execution_count": 3,
   "metadata": {},
   "outputs": [],
   "source": [
    "import cufflinks as cf"
   ]
  },
  {
   "cell_type": "code",
   "execution_count": 4,
   "metadata": {},
   "outputs": [
    {
     "data": {
      "text/html": [
       "        <script type=\"text/javascript\">\n",
       "        window.PlotlyConfig = {MathJaxConfig: 'local'};\n",
       "        if (window.MathJax) {MathJax.Hub.Config({SVG: {font: \"STIX-Web\"}});}\n",
       "        if (typeof require !== 'undefined') {\n",
       "        require.undef(\"plotly\");\n",
       "        requirejs.config({\n",
       "            paths: {\n",
       "                'plotly': ['https://cdn.plot.ly/plotly-latest.min']\n",
       "            }\n",
       "        });\n",
       "        require(['plotly'], function(Plotly) {\n",
       "            window._Plotly = Plotly;\n",
       "        });\n",
       "        }\n",
       "        </script>\n",
       "        "
      ]
     },
     "metadata": {},
     "output_type": "display_data"
    }
   ],
   "source": [
    "# For Notebooks\n",
    "init_notebook_mode(connected=True)"
   ]
  },
  {
   "cell_type": "code",
   "execution_count": 5,
   "metadata": {},
   "outputs": [
    {
     "data": {
      "text/html": [
       "        <script type=\"text/javascript\">\n",
       "        window.PlotlyConfig = {MathJaxConfig: 'local'};\n",
       "        if (window.MathJax) {MathJax.Hub.Config({SVG: {font: \"STIX-Web\"}});}\n",
       "        if (typeof require !== 'undefined') {\n",
       "        require.undef(\"plotly\");\n",
       "        requirejs.config({\n",
       "            paths: {\n",
       "                'plotly': ['https://cdn.plot.ly/plotly-latest.min']\n",
       "            }\n",
       "        });\n",
       "        require(['plotly'], function(Plotly) {\n",
       "            window._Plotly = Plotly;\n",
       "        });\n",
       "        }\n",
       "        </script>\n",
       "        "
      ]
     },
     "metadata": {},
     "output_type": "display_data"
    }
   ],
   "source": [
    "# For offline use\n",
    "cf.go_offline()"
   ]
  },
  {
   "cell_type": "markdown",
   "metadata": {},
   "source": [
    "### Fake Data"
   ]
  },
  {
   "cell_type": "code",
   "execution_count": 6,
   "metadata": {},
   "outputs": [],
   "source": [
    "df = pd.DataFrame(np.random.randn(100,4),columns='A B C D'.split())"
   ]
  },
  {
   "cell_type": "code",
   "execution_count": 7,
   "metadata": {},
   "outputs": [
    {
     "data": {
      "text/html": [
       "<div>\n",
       "<style scoped>\n",
       "    .dataframe tbody tr th:only-of-type {\n",
       "        vertical-align: middle;\n",
       "    }\n",
       "\n",
       "    .dataframe tbody tr th {\n",
       "        vertical-align: top;\n",
       "    }\n",
       "\n",
       "    .dataframe thead th {\n",
       "        text-align: right;\n",
       "    }\n",
       "</style>\n",
       "<table border=\"1\" class=\"dataframe\">\n",
       "  <thead>\n",
       "    <tr style=\"text-align: right;\">\n",
       "      <th></th>\n",
       "      <th>A</th>\n",
       "      <th>B</th>\n",
       "      <th>C</th>\n",
       "      <th>D</th>\n",
       "    </tr>\n",
       "  </thead>\n",
       "  <tbody>\n",
       "    <tr>\n",
       "      <th>0</th>\n",
       "      <td>0.274420</td>\n",
       "      <td>-0.533897</td>\n",
       "      <td>-1.748520</td>\n",
       "      <td>2.400911</td>\n",
       "    </tr>\n",
       "    <tr>\n",
       "      <th>1</th>\n",
       "      <td>0.496632</td>\n",
       "      <td>-0.737604</td>\n",
       "      <td>-1.248420</td>\n",
       "      <td>0.681960</td>\n",
       "    </tr>\n",
       "    <tr>\n",
       "      <th>2</th>\n",
       "      <td>0.923579</td>\n",
       "      <td>0.786033</td>\n",
       "      <td>-1.007528</td>\n",
       "      <td>-0.623222</td>\n",
       "    </tr>\n",
       "    <tr>\n",
       "      <th>3</th>\n",
       "      <td>-1.307888</td>\n",
       "      <td>-0.181680</td>\n",
       "      <td>-0.972552</td>\n",
       "      <td>0.788740</td>\n",
       "    </tr>\n",
       "    <tr>\n",
       "      <th>4</th>\n",
       "      <td>1.029830</td>\n",
       "      <td>0.394823</td>\n",
       "      <td>-0.612558</td>\n",
       "      <td>-1.301788</td>\n",
       "    </tr>\n",
       "  </tbody>\n",
       "</table>\n",
       "</div>"
      ],
      "text/plain": [
       "          A         B         C         D\n",
       "0  0.274420 -0.533897 -1.748520  2.400911\n",
       "1  0.496632 -0.737604 -1.248420  0.681960\n",
       "2  0.923579  0.786033 -1.007528 -0.623222\n",
       "3 -1.307888 -0.181680 -0.972552  0.788740\n",
       "4  1.029830  0.394823 -0.612558 -1.301788"
      ]
     },
     "execution_count": 7,
     "metadata": {},
     "output_type": "execute_result"
    }
   ],
   "source": [
    "df.head()"
   ]
  },
  {
   "cell_type": "code",
   "execution_count": 8,
   "metadata": {},
   "outputs": [],
   "source": [
    "df2 = pd.DataFrame({'Category':['A','B','C'],'Values':[32,43,50]})"
   ]
  },
  {
   "cell_type": "code",
   "execution_count": 9,
   "metadata": {},
   "outputs": [
    {
     "data": {
      "text/html": [
       "<div>\n",
       "<style scoped>\n",
       "    .dataframe tbody tr th:only-of-type {\n",
       "        vertical-align: middle;\n",
       "    }\n",
       "\n",
       "    .dataframe tbody tr th {\n",
       "        vertical-align: top;\n",
       "    }\n",
       "\n",
       "    .dataframe thead th {\n",
       "        text-align: right;\n",
       "    }\n",
       "</style>\n",
       "<table border=\"1\" class=\"dataframe\">\n",
       "  <thead>\n",
       "    <tr style=\"text-align: right;\">\n",
       "      <th></th>\n",
       "      <th>Category</th>\n",
       "      <th>Values</th>\n",
       "    </tr>\n",
       "  </thead>\n",
       "  <tbody>\n",
       "    <tr>\n",
       "      <th>0</th>\n",
       "      <td>A</td>\n",
       "      <td>32</td>\n",
       "    </tr>\n",
       "    <tr>\n",
       "      <th>1</th>\n",
       "      <td>B</td>\n",
       "      <td>43</td>\n",
       "    </tr>\n",
       "    <tr>\n",
       "      <th>2</th>\n",
       "      <td>C</td>\n",
       "      <td>50</td>\n",
       "    </tr>\n",
       "  </tbody>\n",
       "</table>\n",
       "</div>"
      ],
      "text/plain": [
       "  Category  Values\n",
       "0        A      32\n",
       "1        B      43\n",
       "2        C      50"
      ]
     },
     "execution_count": 9,
     "metadata": {},
     "output_type": "execute_result"
    }
   ],
   "source": [
    "df2.head()"
   ]
  },
  {
   "cell_type": "markdown",
   "metadata": {},
   "source": [
    "## Using Cufflinks and iplot()\n",
    "\n",
    "* scatter\n",
    "* bar\n",
    "* box\n",
    "* spread\n",
    "* ratio\n",
    "* heatmap\n",
    "* surface\n",
    "* histogram\n",
    "* bubble"
   ]
  },
  {
   "cell_type": "markdown",
   "metadata": {},
   "source": [
    "## Scatter"
   ]
  },
  {
   "cell_type": "code",
   "execution_count": 10,
   "metadata": {},
   "outputs": [
    {
     "data": {
      "application/vnd.plotly.v1+json": {
       "config": {
        "linkText": "Export to plot.ly",
        "plotlyServerURL": "https://plot.ly",
        "showLink": true
       },
       "data": [
        {
         "line": {
          "color": "rgba(255, 153, 51, 1.0)",
          "dash": "solid",
          "shape": "linear",
          "width": 1.3
         },
         "marker": {
          "size": 10,
          "symbol": "circle"
         },
         "mode": "markers",
         "name": "B",
         "text": "",
         "type": "scatter",
         "x": [
          0.27442011925577803,
          0.4966318940744484,
          0.9235787135880593,
          -1.3078878995183352,
          1.029829990968547,
          0.8768161316518825,
          1.7607058214307147,
          -1.3352873795477167,
          -1.2398425570338618,
          1.5554085396300308,
          0.10574878112682273,
          0.02877669534919826,
          0.14547075907513576,
          1.0931273800644667,
          0.6761310088429014,
          0.2784728536362254,
          -0.1660772458435563,
          -1.3210450424175817,
          0.5718288528568582,
          0.14355910285361492,
          -0.015859406501193326,
          1.213306555373937,
          0.4930056971125333,
          0.9639894896117828,
          -1.6921012175771217,
          -1.4497539051335953,
          0.5452526346624451,
          -0.645093482314308,
          -0.21143817105405713,
          2.025199604317894,
          1.0647915440432545,
          -0.9974086869972061,
          -0.026009175991362356,
          0.8223224835488065,
          -0.6874438195145413,
          -1.1633762926469993,
          -2.1889031235002805,
          -1.6981324604478112,
          -0.8322915772080726,
          0.8457591850393001,
          2.1442085506693567,
          -1.5640271898647706,
          0.7744562894683265,
          -0.38201421593223095,
          -0.6212905805519496,
          1.5069808387621415,
          -0.26160458098711914,
          -0.4081977076676588,
          0.06513595918607111,
          1.5251829050865908,
          -1.364239429827965,
          -0.5723650046038495,
          -0.35491042630058367,
          0.40182125294929,
          -1.0754453343631818,
          -0.7618618960949269,
          -0.9443244125840022,
          0.8377214807586354,
          -0.031809465745655796,
          -1.0932793443090683,
          0.4765706510147636,
          2.05418105903198,
          0.6394359942486391,
          0.6371385671293637,
          0.2426186474648045,
          -1.0881770872260315,
          -0.5516764613258204,
          -0.11777518422355525,
          0.541620929047994,
          0.2957312870889277,
          0.4429090976829458,
          0.7507240275163064,
          0.006266873749813978,
          1.0006292376829993,
          1.6362468479250005,
          -0.3947402655677738,
          -0.48899105814741345,
          -0.3409198288169905,
          -1.8392733203270557,
          2.0689286752747007,
          -1.0029774967312513,
          -0.6540448424261963,
          -1.0189861726963385,
          1.07798984585544,
          -0.07417500228963209,
          1.9694312682613933,
          -0.6546260721310159,
          -1.854475447570704,
          0.5933309905159341,
          0.2967998336348711,
          0.09463460669330889,
          0.6294080359178124,
          -0.28956562341842773,
          -0.6560223447079263,
          0.3153653081029692,
          -1.5263252201468034,
          1.1928936794991623,
          0.3887480233893524,
          -0.6057963382281494,
          -0.09917451743088809
         ],
         "y": [
          -0.5338968153279375,
          -0.737604098516914,
          0.786032577826171,
          -0.18168043763582525,
          0.3948231518046967,
          -1.285656839190833,
          0.4929836120109994,
          0.730148677998628,
          0.6268605758227215,
          -0.5557695793174016,
          -0.40070084283238566,
          -0.04766528323845765,
          1.3308041018589245,
          1.2819449899198534,
          0.8477216185770992,
          -0.8927707828167398,
          0.6494375285903279,
          -1.2050108148432601,
          -0.07473626077998291,
          0.8980669929684267,
          -0.5269968586077552,
          1.6733011574136327,
          -0.15811245055144024,
          -0.7697173802854936,
          -1.0724251934501332,
          2.0162661600162446,
          0.825875520162066,
          1.3431956059693588,
          0.48621638477181517,
          1.9553703128659479,
          -1.2848791904167656,
          1.293267623163678,
          0.22717944081984312,
          0.08644533575156765,
          -0.6200100862166263,
          2.822142109349293,
          0.8261081315305128,
          -1.2264751974926702,
          -0.0886059823022562,
          0.9571956710271053,
          0.08646891800960291,
          -0.34677771441293503,
          0.40851804088487054,
          0.6649783338954706,
          -1.0969296957460855,
          -0.6743437678108863,
          -1.0918800892854403,
          1.3214368372712242,
          -0.489847125076919,
          -0.27283397042230634,
          1.0339465645395904,
          1.678053130552742,
          0.964812094346171,
          0.19271156696874114,
          1.3594228629156795,
          0.7175701611203561,
          0.45770851544861324,
          -0.9127473216263866,
          0.4025668759667475,
          1.240468662104316,
          -0.41875097813805773,
          -1.9458153186721703,
          0.3845377635616228,
          1.1341057816012856,
          1.187647773407586,
          -0.6271936129770707,
          1.529874764186071,
          -0.639045433088632,
          1.245578441840703,
          -1.0598794371239935,
          0.22162474696218795,
          0.714755826671371,
          -0.6464888249376306,
          -0.15991178748956184,
          0.44270651657742105,
          -0.49536621779670165,
          -0.3337392917600911,
          -0.3722023058235199,
          1.7853238046755189,
          0.6672531974451232,
          -0.0629772291874929,
          -0.2679822545976978,
          -0.427960450897043,
          1.2255891597486852,
          1.6349909023914029,
          -1.0990742295726037,
          -0.4031039386900612,
          -1.8840151714757252,
          0.24122678438561407,
          -1.63272285788489,
          -0.45215556888368347,
          0.9996177661914009,
          -0.8972395864459162,
          -0.3852976988003857,
          -1.6048338125867412,
          0.6810799365123126,
          0.6343674901247007,
          0.6846125078879841,
          0.7511672981039151,
          -0.28261636398842405
         ]
        }
       ],
       "layout": {
        "legend": {
         "bgcolor": "#F5F6F9",
         "font": {
          "color": "#4D5663"
         }
        },
        "paper_bgcolor": "#F5F6F9",
        "plot_bgcolor": "#F5F6F9",
        "template": {
         "data": {
          "bar": [
           {
            "error_x": {
             "color": "#2a3f5f"
            },
            "error_y": {
             "color": "#2a3f5f"
            },
            "marker": {
             "line": {
              "color": "#E5ECF6",
              "width": 0.5
             }
            },
            "type": "bar"
           }
          ],
          "barpolar": [
           {
            "marker": {
             "line": {
              "color": "#E5ECF6",
              "width": 0.5
             }
            },
            "type": "barpolar"
           }
          ],
          "carpet": [
           {
            "aaxis": {
             "endlinecolor": "#2a3f5f",
             "gridcolor": "white",
             "linecolor": "white",
             "minorgridcolor": "white",
             "startlinecolor": "#2a3f5f"
            },
            "baxis": {
             "endlinecolor": "#2a3f5f",
             "gridcolor": "white",
             "linecolor": "white",
             "minorgridcolor": "white",
             "startlinecolor": "#2a3f5f"
            },
            "type": "carpet"
           }
          ],
          "choropleth": [
           {
            "colorbar": {
             "outlinewidth": 0,
             "ticks": ""
            },
            "type": "choropleth"
           }
          ],
          "contour": [
           {
            "colorbar": {
             "outlinewidth": 0,
             "ticks": ""
            },
            "colorscale": [
             [
              0,
              "#0d0887"
             ],
             [
              0.1111111111111111,
              "#46039f"
             ],
             [
              0.2222222222222222,
              "#7201a8"
             ],
             [
              0.3333333333333333,
              "#9c179e"
             ],
             [
              0.4444444444444444,
              "#bd3786"
             ],
             [
              0.5555555555555556,
              "#d8576b"
             ],
             [
              0.6666666666666666,
              "#ed7953"
             ],
             [
              0.7777777777777778,
              "#fb9f3a"
             ],
             [
              0.8888888888888888,
              "#fdca26"
             ],
             [
              1,
              "#f0f921"
             ]
            ],
            "type": "contour"
           }
          ],
          "contourcarpet": [
           {
            "colorbar": {
             "outlinewidth": 0,
             "ticks": ""
            },
            "type": "contourcarpet"
           }
          ],
          "heatmap": [
           {
            "colorbar": {
             "outlinewidth": 0,
             "ticks": ""
            },
            "colorscale": [
             [
              0,
              "#0d0887"
             ],
             [
              0.1111111111111111,
              "#46039f"
             ],
             [
              0.2222222222222222,
              "#7201a8"
             ],
             [
              0.3333333333333333,
              "#9c179e"
             ],
             [
              0.4444444444444444,
              "#bd3786"
             ],
             [
              0.5555555555555556,
              "#d8576b"
             ],
             [
              0.6666666666666666,
              "#ed7953"
             ],
             [
              0.7777777777777778,
              "#fb9f3a"
             ],
             [
              0.8888888888888888,
              "#fdca26"
             ],
             [
              1,
              "#f0f921"
             ]
            ],
            "type": "heatmap"
           }
          ],
          "heatmapgl": [
           {
            "colorbar": {
             "outlinewidth": 0,
             "ticks": ""
            },
            "colorscale": [
             [
              0,
              "#0d0887"
             ],
             [
              0.1111111111111111,
              "#46039f"
             ],
             [
              0.2222222222222222,
              "#7201a8"
             ],
             [
              0.3333333333333333,
              "#9c179e"
             ],
             [
              0.4444444444444444,
              "#bd3786"
             ],
             [
              0.5555555555555556,
              "#d8576b"
             ],
             [
              0.6666666666666666,
              "#ed7953"
             ],
             [
              0.7777777777777778,
              "#fb9f3a"
             ],
             [
              0.8888888888888888,
              "#fdca26"
             ],
             [
              1,
              "#f0f921"
             ]
            ],
            "type": "heatmapgl"
           }
          ],
          "histogram": [
           {
            "marker": {
             "colorbar": {
              "outlinewidth": 0,
              "ticks": ""
             }
            },
            "type": "histogram"
           }
          ],
          "histogram2d": [
           {
            "colorbar": {
             "outlinewidth": 0,
             "ticks": ""
            },
            "colorscale": [
             [
              0,
              "#0d0887"
             ],
             [
              0.1111111111111111,
              "#46039f"
             ],
             [
              0.2222222222222222,
              "#7201a8"
             ],
             [
              0.3333333333333333,
              "#9c179e"
             ],
             [
              0.4444444444444444,
              "#bd3786"
             ],
             [
              0.5555555555555556,
              "#d8576b"
             ],
             [
              0.6666666666666666,
              "#ed7953"
             ],
             [
              0.7777777777777778,
              "#fb9f3a"
             ],
             [
              0.8888888888888888,
              "#fdca26"
             ],
             [
              1,
              "#f0f921"
             ]
            ],
            "type": "histogram2d"
           }
          ],
          "histogram2dcontour": [
           {
            "colorbar": {
             "outlinewidth": 0,
             "ticks": ""
            },
            "colorscale": [
             [
              0,
              "#0d0887"
             ],
             [
              0.1111111111111111,
              "#46039f"
             ],
             [
              0.2222222222222222,
              "#7201a8"
             ],
             [
              0.3333333333333333,
              "#9c179e"
             ],
             [
              0.4444444444444444,
              "#bd3786"
             ],
             [
              0.5555555555555556,
              "#d8576b"
             ],
             [
              0.6666666666666666,
              "#ed7953"
             ],
             [
              0.7777777777777778,
              "#fb9f3a"
             ],
             [
              0.8888888888888888,
              "#fdca26"
             ],
             [
              1,
              "#f0f921"
             ]
            ],
            "type": "histogram2dcontour"
           }
          ],
          "mesh3d": [
           {
            "colorbar": {
             "outlinewidth": 0,
             "ticks": ""
            },
            "type": "mesh3d"
           }
          ],
          "parcoords": [
           {
            "line": {
             "colorbar": {
              "outlinewidth": 0,
              "ticks": ""
             }
            },
            "type": "parcoords"
           }
          ],
          "pie": [
           {
            "automargin": true,
            "type": "pie"
           }
          ],
          "scatter": [
           {
            "marker": {
             "colorbar": {
              "outlinewidth": 0,
              "ticks": ""
             }
            },
            "type": "scatter"
           }
          ],
          "scatter3d": [
           {
            "line": {
             "colorbar": {
              "outlinewidth": 0,
              "ticks": ""
             }
            },
            "marker": {
             "colorbar": {
              "outlinewidth": 0,
              "ticks": ""
             }
            },
            "type": "scatter3d"
           }
          ],
          "scattercarpet": [
           {
            "marker": {
             "colorbar": {
              "outlinewidth": 0,
              "ticks": ""
             }
            },
            "type": "scattercarpet"
           }
          ],
          "scattergeo": [
           {
            "marker": {
             "colorbar": {
              "outlinewidth": 0,
              "ticks": ""
             }
            },
            "type": "scattergeo"
           }
          ],
          "scattergl": [
           {
            "marker": {
             "colorbar": {
              "outlinewidth": 0,
              "ticks": ""
             }
            },
            "type": "scattergl"
           }
          ],
          "scattermapbox": [
           {
            "marker": {
             "colorbar": {
              "outlinewidth": 0,
              "ticks": ""
             }
            },
            "type": "scattermapbox"
           }
          ],
          "scatterpolar": [
           {
            "marker": {
             "colorbar": {
              "outlinewidth": 0,
              "ticks": ""
             }
            },
            "type": "scatterpolar"
           }
          ],
          "scatterpolargl": [
           {
            "marker": {
             "colorbar": {
              "outlinewidth": 0,
              "ticks": ""
             }
            },
            "type": "scatterpolargl"
           }
          ],
          "scatterternary": [
           {
            "marker": {
             "colorbar": {
              "outlinewidth": 0,
              "ticks": ""
             }
            },
            "type": "scatterternary"
           }
          ],
          "surface": [
           {
            "colorbar": {
             "outlinewidth": 0,
             "ticks": ""
            },
            "colorscale": [
             [
              0,
              "#0d0887"
             ],
             [
              0.1111111111111111,
              "#46039f"
             ],
             [
              0.2222222222222222,
              "#7201a8"
             ],
             [
              0.3333333333333333,
              "#9c179e"
             ],
             [
              0.4444444444444444,
              "#bd3786"
             ],
             [
              0.5555555555555556,
              "#d8576b"
             ],
             [
              0.6666666666666666,
              "#ed7953"
             ],
             [
              0.7777777777777778,
              "#fb9f3a"
             ],
             [
              0.8888888888888888,
              "#fdca26"
             ],
             [
              1,
              "#f0f921"
             ]
            ],
            "type": "surface"
           }
          ],
          "table": [
           {
            "cells": {
             "fill": {
              "color": "#EBF0F8"
             },
             "line": {
              "color": "white"
             }
            },
            "header": {
             "fill": {
              "color": "#C8D4E3"
             },
             "line": {
              "color": "white"
             }
            },
            "type": "table"
           }
          ]
         },
         "layout": {
          "annotationdefaults": {
           "arrowcolor": "#2a3f5f",
           "arrowhead": 0,
           "arrowwidth": 1
          },
          "coloraxis": {
           "colorbar": {
            "outlinewidth": 0,
            "ticks": ""
           }
          },
          "colorscale": {
           "diverging": [
            [
             0,
             "#8e0152"
            ],
            [
             0.1,
             "#c51b7d"
            ],
            [
             0.2,
             "#de77ae"
            ],
            [
             0.3,
             "#f1b6da"
            ],
            [
             0.4,
             "#fde0ef"
            ],
            [
             0.5,
             "#f7f7f7"
            ],
            [
             0.6,
             "#e6f5d0"
            ],
            [
             0.7,
             "#b8e186"
            ],
            [
             0.8,
             "#7fbc41"
            ],
            [
             0.9,
             "#4d9221"
            ],
            [
             1,
             "#276419"
            ]
           ],
           "sequential": [
            [
             0,
             "#0d0887"
            ],
            [
             0.1111111111111111,
             "#46039f"
            ],
            [
             0.2222222222222222,
             "#7201a8"
            ],
            [
             0.3333333333333333,
             "#9c179e"
            ],
            [
             0.4444444444444444,
             "#bd3786"
            ],
            [
             0.5555555555555556,
             "#d8576b"
            ],
            [
             0.6666666666666666,
             "#ed7953"
            ],
            [
             0.7777777777777778,
             "#fb9f3a"
            ],
            [
             0.8888888888888888,
             "#fdca26"
            ],
            [
             1,
             "#f0f921"
            ]
           ],
           "sequentialminus": [
            [
             0,
             "#0d0887"
            ],
            [
             0.1111111111111111,
             "#46039f"
            ],
            [
             0.2222222222222222,
             "#7201a8"
            ],
            [
             0.3333333333333333,
             "#9c179e"
            ],
            [
             0.4444444444444444,
             "#bd3786"
            ],
            [
             0.5555555555555556,
             "#d8576b"
            ],
            [
             0.6666666666666666,
             "#ed7953"
            ],
            [
             0.7777777777777778,
             "#fb9f3a"
            ],
            [
             0.8888888888888888,
             "#fdca26"
            ],
            [
             1,
             "#f0f921"
            ]
           ]
          },
          "colorway": [
           "#636efa",
           "#EF553B",
           "#00cc96",
           "#ab63fa",
           "#FFA15A",
           "#19d3f3",
           "#FF6692",
           "#B6E880",
           "#FF97FF",
           "#FECB52"
          ],
          "font": {
           "color": "#2a3f5f"
          },
          "geo": {
           "bgcolor": "white",
           "lakecolor": "white",
           "landcolor": "#E5ECF6",
           "showlakes": true,
           "showland": true,
           "subunitcolor": "white"
          },
          "hoverlabel": {
           "align": "left"
          },
          "hovermode": "closest",
          "mapbox": {
           "style": "light"
          },
          "paper_bgcolor": "white",
          "plot_bgcolor": "#E5ECF6",
          "polar": {
           "angularaxis": {
            "gridcolor": "white",
            "linecolor": "white",
            "ticks": ""
           },
           "bgcolor": "#E5ECF6",
           "radialaxis": {
            "gridcolor": "white",
            "linecolor": "white",
            "ticks": ""
           }
          },
          "scene": {
           "xaxis": {
            "backgroundcolor": "#E5ECF6",
            "gridcolor": "white",
            "gridwidth": 2,
            "linecolor": "white",
            "showbackground": true,
            "ticks": "",
            "zerolinecolor": "white"
           },
           "yaxis": {
            "backgroundcolor": "#E5ECF6",
            "gridcolor": "white",
            "gridwidth": 2,
            "linecolor": "white",
            "showbackground": true,
            "ticks": "",
            "zerolinecolor": "white"
           },
           "zaxis": {
            "backgroundcolor": "#E5ECF6",
            "gridcolor": "white",
            "gridwidth": 2,
            "linecolor": "white",
            "showbackground": true,
            "ticks": "",
            "zerolinecolor": "white"
           }
          },
          "shapedefaults": {
           "line": {
            "color": "#2a3f5f"
           }
          },
          "ternary": {
           "aaxis": {
            "gridcolor": "white",
            "linecolor": "white",
            "ticks": ""
           },
           "baxis": {
            "gridcolor": "white",
            "linecolor": "white",
            "ticks": ""
           },
           "bgcolor": "#E5ECF6",
           "caxis": {
            "gridcolor": "white",
            "linecolor": "white",
            "ticks": ""
           }
          },
          "title": {
           "x": 0.05
          },
          "xaxis": {
           "automargin": true,
           "gridcolor": "white",
           "linecolor": "white",
           "ticks": "",
           "title": {
            "standoff": 15
           },
           "zerolinecolor": "white",
           "zerolinewidth": 2
          },
          "yaxis": {
           "automargin": true,
           "gridcolor": "white",
           "linecolor": "white",
           "ticks": "",
           "title": {
            "standoff": 15
           },
           "zerolinecolor": "white",
           "zerolinewidth": 2
          }
         }
        },
        "title": {
         "font": {
          "color": "#4D5663"
         }
        },
        "xaxis": {
         "gridcolor": "#E1E5ED",
         "showgrid": true,
         "tickfont": {
          "color": "#4D5663"
         },
         "title": {
          "font": {
           "color": "#4D5663"
          },
          "text": ""
         },
         "zerolinecolor": "#E1E5ED"
        },
        "yaxis": {
         "gridcolor": "#E1E5ED",
         "showgrid": true,
         "tickfont": {
          "color": "#4D5663"
         },
         "title": {
          "font": {
           "color": "#4D5663"
          },
          "text": ""
         },
         "zerolinecolor": "#E1E5ED"
        }
       }
      },
      "text/html": [
       "<div>\n",
       "        \n",
       "        \n",
       "            <div id=\"012e051a-9fe7-4966-bcdb-f6aa5bb44b52\" class=\"plotly-graph-div\" style=\"height:525px; width:100%;\"></div>\n",
       "            <script type=\"text/javascript\">\n",
       "                require([\"plotly\"], function(Plotly) {\n",
       "                    window.PLOTLYENV=window.PLOTLYENV || {};\n",
       "                    window.PLOTLYENV.BASE_URL='https://plot.ly';\n",
       "                    \n",
       "                if (document.getElementById(\"012e051a-9fe7-4966-bcdb-f6aa5bb44b52\")) {\n",
       "                    Plotly.newPlot(\n",
       "                        '012e051a-9fe7-4966-bcdb-f6aa5bb44b52',\n",
       "                        [{\"line\": {\"color\": \"rgba(255, 153, 51, 1.0)\", \"dash\": \"solid\", \"shape\": \"linear\", \"width\": 1.3}, \"marker\": {\"size\": 10, \"symbol\": \"circle\"}, \"mode\": \"markers\", \"name\": \"B\", \"text\": \"\", \"type\": \"scatter\", \"x\": [0.27442011925577803, 0.4966318940744484, 0.9235787135880593, -1.3078878995183352, 1.029829990968547, 0.8768161316518825, 1.7607058214307147, -1.3352873795477167, -1.2398425570338618, 1.5554085396300308, 0.10574878112682273, 0.02877669534919826, 0.14547075907513576, 1.0931273800644667, 0.6761310088429014, 0.2784728536362254, -0.1660772458435563, -1.3210450424175817, 0.5718288528568582, 0.14355910285361492, -0.015859406501193326, 1.213306555373937, 0.4930056971125333, 0.9639894896117828, -1.6921012175771217, -1.4497539051335953, 0.5452526346624451, -0.645093482314308, -0.21143817105405713, 2.025199604317894, 1.0647915440432545, -0.9974086869972061, -0.026009175991362356, 0.8223224835488065, -0.6874438195145413, -1.1633762926469993, -2.1889031235002805, -1.6981324604478112, -0.8322915772080726, 0.8457591850393001, 2.1442085506693567, -1.5640271898647706, 0.7744562894683265, -0.38201421593223095, -0.6212905805519496, 1.5069808387621415, -0.26160458098711914, -0.4081977076676588, 0.06513595918607111, 1.5251829050865908, -1.364239429827965, -0.5723650046038495, -0.35491042630058367, 0.40182125294929, -1.0754453343631818, -0.7618618960949269, -0.9443244125840022, 0.8377214807586354, -0.031809465745655796, -1.0932793443090683, 0.4765706510147636, 2.05418105903198, 0.6394359942486391, 0.6371385671293637, 0.2426186474648045, -1.0881770872260315, -0.5516764613258204, -0.11777518422355525, 0.541620929047994, 0.2957312870889277, 0.4429090976829458, 0.7507240275163064, 0.006266873749813978, 1.0006292376829993, 1.6362468479250005, -0.3947402655677738, -0.48899105814741345, -0.3409198288169905, -1.8392733203270557, 2.0689286752747007, -1.0029774967312513, -0.6540448424261963, -1.0189861726963385, 1.07798984585544, -0.07417500228963209, 1.9694312682613933, -0.6546260721310159, -1.854475447570704, 0.5933309905159341, 0.2967998336348711, 0.09463460669330889, 0.6294080359178124, -0.28956562341842773, -0.6560223447079263, 0.3153653081029692, -1.5263252201468034, 1.1928936794991623, 0.3887480233893524, -0.6057963382281494, -0.09917451743088809], \"y\": [-0.5338968153279375, -0.737604098516914, 0.786032577826171, -0.18168043763582525, 0.3948231518046967, -1.285656839190833, 0.4929836120109994, 0.730148677998628, 0.6268605758227215, -0.5557695793174016, -0.40070084283238566, -0.04766528323845765, 1.3308041018589245, 1.2819449899198534, 0.8477216185770992, -0.8927707828167398, 0.6494375285903279, -1.2050108148432601, -0.07473626077998291, 0.8980669929684267, -0.5269968586077552, 1.6733011574136327, -0.15811245055144024, -0.7697173802854936, -1.0724251934501332, 2.0162661600162446, 0.825875520162066, 1.3431956059693588, 0.48621638477181517, 1.9553703128659479, -1.2848791904167656, 1.293267623163678, 0.22717944081984312, 0.08644533575156765, -0.6200100862166263, 2.822142109349293, 0.8261081315305128, -1.2264751974926702, -0.0886059823022562, 0.9571956710271053, 0.08646891800960291, -0.34677771441293503, 0.40851804088487054, 0.6649783338954706, -1.0969296957460855, -0.6743437678108863, -1.0918800892854403, 1.3214368372712242, -0.489847125076919, -0.27283397042230634, 1.0339465645395904, 1.678053130552742, 0.964812094346171, 0.19271156696874114, 1.3594228629156795, 0.7175701611203561, 0.45770851544861324, -0.9127473216263866, 0.4025668759667475, 1.240468662104316, -0.41875097813805773, -1.9458153186721703, 0.3845377635616228, 1.1341057816012856, 1.187647773407586, -0.6271936129770707, 1.529874764186071, -0.639045433088632, 1.245578441840703, -1.0598794371239935, 0.22162474696218795, 0.714755826671371, -0.6464888249376306, -0.15991178748956184, 0.44270651657742105, -0.49536621779670165, -0.3337392917600911, -0.3722023058235199, 1.7853238046755189, 0.6672531974451232, -0.0629772291874929, -0.2679822545976978, -0.427960450897043, 1.2255891597486852, 1.6349909023914029, -1.0990742295726037, -0.4031039386900612, -1.8840151714757252, 0.24122678438561407, -1.63272285788489, -0.45215556888368347, 0.9996177661914009, -0.8972395864459162, -0.3852976988003857, -1.6048338125867412, 0.6810799365123126, 0.6343674901247007, 0.6846125078879841, 0.7511672981039151, -0.28261636398842405]}],\n",
       "                        {\"legend\": {\"bgcolor\": \"#F5F6F9\", \"font\": {\"color\": \"#4D5663\"}}, \"paper_bgcolor\": \"#F5F6F9\", \"plot_bgcolor\": \"#F5F6F9\", \"template\": {\"data\": {\"bar\": [{\"error_x\": {\"color\": \"#2a3f5f\"}, \"error_y\": {\"color\": \"#2a3f5f\"}, \"marker\": {\"line\": {\"color\": \"#E5ECF6\", \"width\": 0.5}}, \"type\": \"bar\"}], \"barpolar\": [{\"marker\": {\"line\": {\"color\": \"#E5ECF6\", \"width\": 0.5}}, \"type\": \"barpolar\"}], \"carpet\": [{\"aaxis\": {\"endlinecolor\": \"#2a3f5f\", \"gridcolor\": \"white\", \"linecolor\": \"white\", \"minorgridcolor\": \"white\", \"startlinecolor\": \"#2a3f5f\"}, \"baxis\": {\"endlinecolor\": \"#2a3f5f\", \"gridcolor\": \"white\", \"linecolor\": \"white\", \"minorgridcolor\": \"white\", \"startlinecolor\": \"#2a3f5f\"}, \"type\": \"carpet\"}], \"choropleth\": [{\"colorbar\": {\"outlinewidth\": 0, \"ticks\": \"\"}, \"type\": \"choropleth\"}], \"contour\": [{\"colorbar\": {\"outlinewidth\": 0, \"ticks\": \"\"}, \"colorscale\": [[0.0, \"#0d0887\"], [0.1111111111111111, \"#46039f\"], [0.2222222222222222, \"#7201a8\"], [0.3333333333333333, \"#9c179e\"], [0.4444444444444444, \"#bd3786\"], [0.5555555555555556, \"#d8576b\"], [0.6666666666666666, \"#ed7953\"], [0.7777777777777778, \"#fb9f3a\"], [0.8888888888888888, \"#fdca26\"], [1.0, \"#f0f921\"]], \"type\": \"contour\"}], \"contourcarpet\": [{\"colorbar\": {\"outlinewidth\": 0, \"ticks\": \"\"}, \"type\": \"contourcarpet\"}], \"heatmap\": [{\"colorbar\": {\"outlinewidth\": 0, \"ticks\": \"\"}, \"colorscale\": [[0.0, \"#0d0887\"], [0.1111111111111111, \"#46039f\"], [0.2222222222222222, \"#7201a8\"], [0.3333333333333333, \"#9c179e\"], [0.4444444444444444, \"#bd3786\"], [0.5555555555555556, \"#d8576b\"], [0.6666666666666666, \"#ed7953\"], [0.7777777777777778, \"#fb9f3a\"], [0.8888888888888888, \"#fdca26\"], [1.0, \"#f0f921\"]], \"type\": \"heatmap\"}], \"heatmapgl\": [{\"colorbar\": {\"outlinewidth\": 0, \"ticks\": \"\"}, \"colorscale\": [[0.0, \"#0d0887\"], [0.1111111111111111, \"#46039f\"], [0.2222222222222222, \"#7201a8\"], [0.3333333333333333, \"#9c179e\"], [0.4444444444444444, \"#bd3786\"], [0.5555555555555556, \"#d8576b\"], [0.6666666666666666, \"#ed7953\"], [0.7777777777777778, \"#fb9f3a\"], [0.8888888888888888, \"#fdca26\"], [1.0, \"#f0f921\"]], \"type\": \"heatmapgl\"}], \"histogram\": [{\"marker\": {\"colorbar\": {\"outlinewidth\": 0, \"ticks\": \"\"}}, \"type\": \"histogram\"}], \"histogram2d\": [{\"colorbar\": {\"outlinewidth\": 0, \"ticks\": \"\"}, \"colorscale\": [[0.0, \"#0d0887\"], [0.1111111111111111, \"#46039f\"], [0.2222222222222222, \"#7201a8\"], [0.3333333333333333, \"#9c179e\"], [0.4444444444444444, \"#bd3786\"], [0.5555555555555556, \"#d8576b\"], [0.6666666666666666, \"#ed7953\"], [0.7777777777777778, \"#fb9f3a\"], [0.8888888888888888, \"#fdca26\"], [1.0, \"#f0f921\"]], \"type\": \"histogram2d\"}], \"histogram2dcontour\": [{\"colorbar\": {\"outlinewidth\": 0, \"ticks\": \"\"}, \"colorscale\": [[0.0, \"#0d0887\"], [0.1111111111111111, \"#46039f\"], [0.2222222222222222, \"#7201a8\"], [0.3333333333333333, \"#9c179e\"], [0.4444444444444444, \"#bd3786\"], [0.5555555555555556, \"#d8576b\"], [0.6666666666666666, \"#ed7953\"], [0.7777777777777778, \"#fb9f3a\"], [0.8888888888888888, \"#fdca26\"], [1.0, \"#f0f921\"]], \"type\": \"histogram2dcontour\"}], \"mesh3d\": [{\"colorbar\": {\"outlinewidth\": 0, \"ticks\": \"\"}, \"type\": \"mesh3d\"}], \"parcoords\": [{\"line\": {\"colorbar\": {\"outlinewidth\": 0, \"ticks\": \"\"}}, \"type\": \"parcoords\"}], \"pie\": [{\"automargin\": true, \"type\": \"pie\"}], \"scatter\": [{\"marker\": {\"colorbar\": {\"outlinewidth\": 0, \"ticks\": \"\"}}, \"type\": \"scatter\"}], \"scatter3d\": [{\"line\": {\"colorbar\": {\"outlinewidth\": 0, \"ticks\": \"\"}}, \"marker\": {\"colorbar\": {\"outlinewidth\": 0, \"ticks\": \"\"}}, \"type\": \"scatter3d\"}], \"scattercarpet\": [{\"marker\": {\"colorbar\": {\"outlinewidth\": 0, \"ticks\": \"\"}}, \"type\": \"scattercarpet\"}], \"scattergeo\": [{\"marker\": {\"colorbar\": {\"outlinewidth\": 0, \"ticks\": \"\"}}, \"type\": \"scattergeo\"}], \"scattergl\": [{\"marker\": {\"colorbar\": {\"outlinewidth\": 0, \"ticks\": \"\"}}, \"type\": \"scattergl\"}], \"scattermapbox\": [{\"marker\": {\"colorbar\": {\"outlinewidth\": 0, \"ticks\": \"\"}}, \"type\": \"scattermapbox\"}], \"scatterpolar\": [{\"marker\": {\"colorbar\": {\"outlinewidth\": 0, \"ticks\": \"\"}}, \"type\": \"scatterpolar\"}], \"scatterpolargl\": [{\"marker\": {\"colorbar\": {\"outlinewidth\": 0, \"ticks\": \"\"}}, \"type\": \"scatterpolargl\"}], \"scatterternary\": [{\"marker\": {\"colorbar\": {\"outlinewidth\": 0, \"ticks\": \"\"}}, \"type\": \"scatterternary\"}], \"surface\": [{\"colorbar\": {\"outlinewidth\": 0, \"ticks\": \"\"}, \"colorscale\": [[0.0, \"#0d0887\"], [0.1111111111111111, \"#46039f\"], [0.2222222222222222, \"#7201a8\"], [0.3333333333333333, \"#9c179e\"], [0.4444444444444444, \"#bd3786\"], [0.5555555555555556, \"#d8576b\"], [0.6666666666666666, \"#ed7953\"], [0.7777777777777778, \"#fb9f3a\"], [0.8888888888888888, \"#fdca26\"], [1.0, \"#f0f921\"]], \"type\": \"surface\"}], \"table\": [{\"cells\": {\"fill\": {\"color\": \"#EBF0F8\"}, \"line\": {\"color\": \"white\"}}, \"header\": {\"fill\": {\"color\": \"#C8D4E3\"}, \"line\": {\"color\": \"white\"}}, \"type\": \"table\"}]}, \"layout\": {\"annotationdefaults\": {\"arrowcolor\": \"#2a3f5f\", \"arrowhead\": 0, \"arrowwidth\": 1}, \"coloraxis\": {\"colorbar\": {\"outlinewidth\": 0, \"ticks\": \"\"}}, \"colorscale\": {\"diverging\": [[0, \"#8e0152\"], [0.1, \"#c51b7d\"], [0.2, \"#de77ae\"], [0.3, \"#f1b6da\"], [0.4, \"#fde0ef\"], [0.5, \"#f7f7f7\"], [0.6, \"#e6f5d0\"], [0.7, \"#b8e186\"], [0.8, \"#7fbc41\"], [0.9, \"#4d9221\"], [1, \"#276419\"]], \"sequential\": [[0.0, \"#0d0887\"], [0.1111111111111111, \"#46039f\"], [0.2222222222222222, \"#7201a8\"], [0.3333333333333333, \"#9c179e\"], [0.4444444444444444, \"#bd3786\"], [0.5555555555555556, \"#d8576b\"], [0.6666666666666666, \"#ed7953\"], [0.7777777777777778, \"#fb9f3a\"], [0.8888888888888888, \"#fdca26\"], [1.0, \"#f0f921\"]], \"sequentialminus\": [[0.0, \"#0d0887\"], [0.1111111111111111, \"#46039f\"], [0.2222222222222222, \"#7201a8\"], [0.3333333333333333, \"#9c179e\"], [0.4444444444444444, \"#bd3786\"], [0.5555555555555556, \"#d8576b\"], [0.6666666666666666, \"#ed7953\"], [0.7777777777777778, \"#fb9f3a\"], [0.8888888888888888, \"#fdca26\"], [1.0, \"#f0f921\"]]}, \"colorway\": [\"#636efa\", \"#EF553B\", \"#00cc96\", \"#ab63fa\", \"#FFA15A\", \"#19d3f3\", \"#FF6692\", \"#B6E880\", \"#FF97FF\", \"#FECB52\"], \"font\": {\"color\": \"#2a3f5f\"}, \"geo\": {\"bgcolor\": \"white\", \"lakecolor\": \"white\", \"landcolor\": \"#E5ECF6\", \"showlakes\": true, \"showland\": true, \"subunitcolor\": \"white\"}, \"hoverlabel\": {\"align\": \"left\"}, \"hovermode\": \"closest\", \"mapbox\": {\"style\": \"light\"}, \"paper_bgcolor\": \"white\", \"plot_bgcolor\": \"#E5ECF6\", \"polar\": {\"angularaxis\": {\"gridcolor\": \"white\", \"linecolor\": \"white\", \"ticks\": \"\"}, \"bgcolor\": \"#E5ECF6\", \"radialaxis\": {\"gridcolor\": \"white\", \"linecolor\": \"white\", \"ticks\": \"\"}}, \"scene\": {\"xaxis\": {\"backgroundcolor\": \"#E5ECF6\", \"gridcolor\": \"white\", \"gridwidth\": 2, \"linecolor\": \"white\", \"showbackground\": true, \"ticks\": \"\", \"zerolinecolor\": \"white\"}, \"yaxis\": {\"backgroundcolor\": \"#E5ECF6\", \"gridcolor\": \"white\", \"gridwidth\": 2, \"linecolor\": \"white\", \"showbackground\": true, \"ticks\": \"\", \"zerolinecolor\": \"white\"}, \"zaxis\": {\"backgroundcolor\": \"#E5ECF6\", \"gridcolor\": \"white\", \"gridwidth\": 2, \"linecolor\": \"white\", \"showbackground\": true, \"ticks\": \"\", \"zerolinecolor\": \"white\"}}, \"shapedefaults\": {\"line\": {\"color\": \"#2a3f5f\"}}, \"ternary\": {\"aaxis\": {\"gridcolor\": \"white\", \"linecolor\": \"white\", \"ticks\": \"\"}, \"baxis\": {\"gridcolor\": \"white\", \"linecolor\": \"white\", \"ticks\": \"\"}, \"bgcolor\": \"#E5ECF6\", \"caxis\": {\"gridcolor\": \"white\", \"linecolor\": \"white\", \"ticks\": \"\"}}, \"title\": {\"x\": 0.05}, \"xaxis\": {\"automargin\": true, \"gridcolor\": \"white\", \"linecolor\": \"white\", \"ticks\": \"\", \"title\": {\"standoff\": 15}, \"zerolinecolor\": \"white\", \"zerolinewidth\": 2}, \"yaxis\": {\"automargin\": true, \"gridcolor\": \"white\", \"linecolor\": \"white\", \"ticks\": \"\", \"title\": {\"standoff\": 15}, \"zerolinecolor\": \"white\", \"zerolinewidth\": 2}}}, \"title\": {\"font\": {\"color\": \"#4D5663\"}}, \"xaxis\": {\"gridcolor\": \"#E1E5ED\", \"showgrid\": true, \"tickfont\": {\"color\": \"#4D5663\"}, \"title\": {\"font\": {\"color\": \"#4D5663\"}, \"text\": \"\"}, \"zerolinecolor\": \"#E1E5ED\"}, \"yaxis\": {\"gridcolor\": \"#E1E5ED\", \"showgrid\": true, \"tickfont\": {\"color\": \"#4D5663\"}, \"title\": {\"font\": {\"color\": \"#4D5663\"}, \"text\": \"\"}, \"zerolinecolor\": \"#E1E5ED\"}},\n",
       "                        {\"showLink\": true, \"linkText\": \"Export to plot.ly\", \"plotlyServerURL\": \"https://plot.ly\", \"responsive\": true}\n",
       "                    ).then(function(){\n",
       "                            \n",
       "var gd = document.getElementById('012e051a-9fe7-4966-bcdb-f6aa5bb44b52');\n",
       "var x = new MutationObserver(function (mutations, observer) {{\n",
       "        var display = window.getComputedStyle(gd).display;\n",
       "        if (!display || display === 'none') {{\n",
       "            console.log([gd, 'removed!']);\n",
       "            Plotly.purge(gd);\n",
       "            observer.disconnect();\n",
       "        }}\n",
       "}});\n",
       "\n",
       "// Listen for the removal of the full notebook cells\n",
       "var notebookContainer = gd.closest('#notebook-container');\n",
       "if (notebookContainer) {{\n",
       "    x.observe(notebookContainer, {childList: true});\n",
       "}}\n",
       "\n",
       "// Listen for the clearing of the current output cell\n",
       "var outputEl = gd.closest('.output');\n",
       "if (outputEl) {{\n",
       "    x.observe(outputEl, {childList: true});\n",
       "}}\n",
       "\n",
       "                        })\n",
       "                };\n",
       "                });\n",
       "            </script>\n",
       "        </div>"
      ]
     },
     "metadata": {},
     "output_type": "display_data"
    }
   ],
   "source": [
    "df.iplot(kind='scatter',x='A',y='B',mode='markers',size=10)"
   ]
  },
  {
   "cell_type": "markdown",
   "metadata": {},
   "source": [
    "## Bar Plots"
   ]
  },
  {
   "cell_type": "code",
   "execution_count": 11,
   "metadata": {},
   "outputs": [
    {
     "data": {
      "application/vnd.plotly.v1+json": {
       "config": {
        "linkText": "Export to plot.ly",
        "plotlyServerURL": "https://plot.ly",
        "showLink": true
       },
       "data": [
        {
         "marker": {
          "color": "rgba(255, 153, 51, 0.6)",
          "line": {
           "color": "rgba(255, 153, 51, 1.0)",
           "width": 1
          }
         },
         "name": "Values",
         "orientation": "v",
         "text": "",
         "type": "bar",
         "x": [
          "A",
          "B",
          "C"
         ],
         "y": [
          32,
          43,
          50
         ]
        }
       ],
       "layout": {
        "legend": {
         "bgcolor": "#F5F6F9",
         "font": {
          "color": "#4D5663"
         }
        },
        "paper_bgcolor": "#F5F6F9",
        "plot_bgcolor": "#F5F6F9",
        "template": {
         "data": {
          "bar": [
           {
            "error_x": {
             "color": "#2a3f5f"
            },
            "error_y": {
             "color": "#2a3f5f"
            },
            "marker": {
             "line": {
              "color": "#E5ECF6",
              "width": 0.5
             }
            },
            "type": "bar"
           }
          ],
          "barpolar": [
           {
            "marker": {
             "line": {
              "color": "#E5ECF6",
              "width": 0.5
             }
            },
            "type": "barpolar"
           }
          ],
          "carpet": [
           {
            "aaxis": {
             "endlinecolor": "#2a3f5f",
             "gridcolor": "white",
             "linecolor": "white",
             "minorgridcolor": "white",
             "startlinecolor": "#2a3f5f"
            },
            "baxis": {
             "endlinecolor": "#2a3f5f",
             "gridcolor": "white",
             "linecolor": "white",
             "minorgridcolor": "white",
             "startlinecolor": "#2a3f5f"
            },
            "type": "carpet"
           }
          ],
          "choropleth": [
           {
            "colorbar": {
             "outlinewidth": 0,
             "ticks": ""
            },
            "type": "choropleth"
           }
          ],
          "contour": [
           {
            "colorbar": {
             "outlinewidth": 0,
             "ticks": ""
            },
            "colorscale": [
             [
              0,
              "#0d0887"
             ],
             [
              0.1111111111111111,
              "#46039f"
             ],
             [
              0.2222222222222222,
              "#7201a8"
             ],
             [
              0.3333333333333333,
              "#9c179e"
             ],
             [
              0.4444444444444444,
              "#bd3786"
             ],
             [
              0.5555555555555556,
              "#d8576b"
             ],
             [
              0.6666666666666666,
              "#ed7953"
             ],
             [
              0.7777777777777778,
              "#fb9f3a"
             ],
             [
              0.8888888888888888,
              "#fdca26"
             ],
             [
              1,
              "#f0f921"
             ]
            ],
            "type": "contour"
           }
          ],
          "contourcarpet": [
           {
            "colorbar": {
             "outlinewidth": 0,
             "ticks": ""
            },
            "type": "contourcarpet"
           }
          ],
          "heatmap": [
           {
            "colorbar": {
             "outlinewidth": 0,
             "ticks": ""
            },
            "colorscale": [
             [
              0,
              "#0d0887"
             ],
             [
              0.1111111111111111,
              "#46039f"
             ],
             [
              0.2222222222222222,
              "#7201a8"
             ],
             [
              0.3333333333333333,
              "#9c179e"
             ],
             [
              0.4444444444444444,
              "#bd3786"
             ],
             [
              0.5555555555555556,
              "#d8576b"
             ],
             [
              0.6666666666666666,
              "#ed7953"
             ],
             [
              0.7777777777777778,
              "#fb9f3a"
             ],
             [
              0.8888888888888888,
              "#fdca26"
             ],
             [
              1,
              "#f0f921"
             ]
            ],
            "type": "heatmap"
           }
          ],
          "heatmapgl": [
           {
            "colorbar": {
             "outlinewidth": 0,
             "ticks": ""
            },
            "colorscale": [
             [
              0,
              "#0d0887"
             ],
             [
              0.1111111111111111,
              "#46039f"
             ],
             [
              0.2222222222222222,
              "#7201a8"
             ],
             [
              0.3333333333333333,
              "#9c179e"
             ],
             [
              0.4444444444444444,
              "#bd3786"
             ],
             [
              0.5555555555555556,
              "#d8576b"
             ],
             [
              0.6666666666666666,
              "#ed7953"
             ],
             [
              0.7777777777777778,
              "#fb9f3a"
             ],
             [
              0.8888888888888888,
              "#fdca26"
             ],
             [
              1,
              "#f0f921"
             ]
            ],
            "type": "heatmapgl"
           }
          ],
          "histogram": [
           {
            "marker": {
             "colorbar": {
              "outlinewidth": 0,
              "ticks": ""
             }
            },
            "type": "histogram"
           }
          ],
          "histogram2d": [
           {
            "colorbar": {
             "outlinewidth": 0,
             "ticks": ""
            },
            "colorscale": [
             [
              0,
              "#0d0887"
             ],
             [
              0.1111111111111111,
              "#46039f"
             ],
             [
              0.2222222222222222,
              "#7201a8"
             ],
             [
              0.3333333333333333,
              "#9c179e"
             ],
             [
              0.4444444444444444,
              "#bd3786"
             ],
             [
              0.5555555555555556,
              "#d8576b"
             ],
             [
              0.6666666666666666,
              "#ed7953"
             ],
             [
              0.7777777777777778,
              "#fb9f3a"
             ],
             [
              0.8888888888888888,
              "#fdca26"
             ],
             [
              1,
              "#f0f921"
             ]
            ],
            "type": "histogram2d"
           }
          ],
          "histogram2dcontour": [
           {
            "colorbar": {
             "outlinewidth": 0,
             "ticks": ""
            },
            "colorscale": [
             [
              0,
              "#0d0887"
             ],
             [
              0.1111111111111111,
              "#46039f"
             ],
             [
              0.2222222222222222,
              "#7201a8"
             ],
             [
              0.3333333333333333,
              "#9c179e"
             ],
             [
              0.4444444444444444,
              "#bd3786"
             ],
             [
              0.5555555555555556,
              "#d8576b"
             ],
             [
              0.6666666666666666,
              "#ed7953"
             ],
             [
              0.7777777777777778,
              "#fb9f3a"
             ],
             [
              0.8888888888888888,
              "#fdca26"
             ],
             [
              1,
              "#f0f921"
             ]
            ],
            "type": "histogram2dcontour"
           }
          ],
          "mesh3d": [
           {
            "colorbar": {
             "outlinewidth": 0,
             "ticks": ""
            },
            "type": "mesh3d"
           }
          ],
          "parcoords": [
           {
            "line": {
             "colorbar": {
              "outlinewidth": 0,
              "ticks": ""
             }
            },
            "type": "parcoords"
           }
          ],
          "pie": [
           {
            "automargin": true,
            "type": "pie"
           }
          ],
          "scatter": [
           {
            "marker": {
             "colorbar": {
              "outlinewidth": 0,
              "ticks": ""
             }
            },
            "type": "scatter"
           }
          ],
          "scatter3d": [
           {
            "line": {
             "colorbar": {
              "outlinewidth": 0,
              "ticks": ""
             }
            },
            "marker": {
             "colorbar": {
              "outlinewidth": 0,
              "ticks": ""
             }
            },
            "type": "scatter3d"
           }
          ],
          "scattercarpet": [
           {
            "marker": {
             "colorbar": {
              "outlinewidth": 0,
              "ticks": ""
             }
            },
            "type": "scattercarpet"
           }
          ],
          "scattergeo": [
           {
            "marker": {
             "colorbar": {
              "outlinewidth": 0,
              "ticks": ""
             }
            },
            "type": "scattergeo"
           }
          ],
          "scattergl": [
           {
            "marker": {
             "colorbar": {
              "outlinewidth": 0,
              "ticks": ""
             }
            },
            "type": "scattergl"
           }
          ],
          "scattermapbox": [
           {
            "marker": {
             "colorbar": {
              "outlinewidth": 0,
              "ticks": ""
             }
            },
            "type": "scattermapbox"
           }
          ],
          "scatterpolar": [
           {
            "marker": {
             "colorbar": {
              "outlinewidth": 0,
              "ticks": ""
             }
            },
            "type": "scatterpolar"
           }
          ],
          "scatterpolargl": [
           {
            "marker": {
             "colorbar": {
              "outlinewidth": 0,
              "ticks": ""
             }
            },
            "type": "scatterpolargl"
           }
          ],
          "scatterternary": [
           {
            "marker": {
             "colorbar": {
              "outlinewidth": 0,
              "ticks": ""
             }
            },
            "type": "scatterternary"
           }
          ],
          "surface": [
           {
            "colorbar": {
             "outlinewidth": 0,
             "ticks": ""
            },
            "colorscale": [
             [
              0,
              "#0d0887"
             ],
             [
              0.1111111111111111,
              "#46039f"
             ],
             [
              0.2222222222222222,
              "#7201a8"
             ],
             [
              0.3333333333333333,
              "#9c179e"
             ],
             [
              0.4444444444444444,
              "#bd3786"
             ],
             [
              0.5555555555555556,
              "#d8576b"
             ],
             [
              0.6666666666666666,
              "#ed7953"
             ],
             [
              0.7777777777777778,
              "#fb9f3a"
             ],
             [
              0.8888888888888888,
              "#fdca26"
             ],
             [
              1,
              "#f0f921"
             ]
            ],
            "type": "surface"
           }
          ],
          "table": [
           {
            "cells": {
             "fill": {
              "color": "#EBF0F8"
             },
             "line": {
              "color": "white"
             }
            },
            "header": {
             "fill": {
              "color": "#C8D4E3"
             },
             "line": {
              "color": "white"
             }
            },
            "type": "table"
           }
          ]
         },
         "layout": {
          "annotationdefaults": {
           "arrowcolor": "#2a3f5f",
           "arrowhead": 0,
           "arrowwidth": 1
          },
          "coloraxis": {
           "colorbar": {
            "outlinewidth": 0,
            "ticks": ""
           }
          },
          "colorscale": {
           "diverging": [
            [
             0,
             "#8e0152"
            ],
            [
             0.1,
             "#c51b7d"
            ],
            [
             0.2,
             "#de77ae"
            ],
            [
             0.3,
             "#f1b6da"
            ],
            [
             0.4,
             "#fde0ef"
            ],
            [
             0.5,
             "#f7f7f7"
            ],
            [
             0.6,
             "#e6f5d0"
            ],
            [
             0.7,
             "#b8e186"
            ],
            [
             0.8,
             "#7fbc41"
            ],
            [
             0.9,
             "#4d9221"
            ],
            [
             1,
             "#276419"
            ]
           ],
           "sequential": [
            [
             0,
             "#0d0887"
            ],
            [
             0.1111111111111111,
             "#46039f"
            ],
            [
             0.2222222222222222,
             "#7201a8"
            ],
            [
             0.3333333333333333,
             "#9c179e"
            ],
            [
             0.4444444444444444,
             "#bd3786"
            ],
            [
             0.5555555555555556,
             "#d8576b"
            ],
            [
             0.6666666666666666,
             "#ed7953"
            ],
            [
             0.7777777777777778,
             "#fb9f3a"
            ],
            [
             0.8888888888888888,
             "#fdca26"
            ],
            [
             1,
             "#f0f921"
            ]
           ],
           "sequentialminus": [
            [
             0,
             "#0d0887"
            ],
            [
             0.1111111111111111,
             "#46039f"
            ],
            [
             0.2222222222222222,
             "#7201a8"
            ],
            [
             0.3333333333333333,
             "#9c179e"
            ],
            [
             0.4444444444444444,
             "#bd3786"
            ],
            [
             0.5555555555555556,
             "#d8576b"
            ],
            [
             0.6666666666666666,
             "#ed7953"
            ],
            [
             0.7777777777777778,
             "#fb9f3a"
            ],
            [
             0.8888888888888888,
             "#fdca26"
            ],
            [
             1,
             "#f0f921"
            ]
           ]
          },
          "colorway": [
           "#636efa",
           "#EF553B",
           "#00cc96",
           "#ab63fa",
           "#FFA15A",
           "#19d3f3",
           "#FF6692",
           "#B6E880",
           "#FF97FF",
           "#FECB52"
          ],
          "font": {
           "color": "#2a3f5f"
          },
          "geo": {
           "bgcolor": "white",
           "lakecolor": "white",
           "landcolor": "#E5ECF6",
           "showlakes": true,
           "showland": true,
           "subunitcolor": "white"
          },
          "hoverlabel": {
           "align": "left"
          },
          "hovermode": "closest",
          "mapbox": {
           "style": "light"
          },
          "paper_bgcolor": "white",
          "plot_bgcolor": "#E5ECF6",
          "polar": {
           "angularaxis": {
            "gridcolor": "white",
            "linecolor": "white",
            "ticks": ""
           },
           "bgcolor": "#E5ECF6",
           "radialaxis": {
            "gridcolor": "white",
            "linecolor": "white",
            "ticks": ""
           }
          },
          "scene": {
           "xaxis": {
            "backgroundcolor": "#E5ECF6",
            "gridcolor": "white",
            "gridwidth": 2,
            "linecolor": "white",
            "showbackground": true,
            "ticks": "",
            "zerolinecolor": "white"
           },
           "yaxis": {
            "backgroundcolor": "#E5ECF6",
            "gridcolor": "white",
            "gridwidth": 2,
            "linecolor": "white",
            "showbackground": true,
            "ticks": "",
            "zerolinecolor": "white"
           },
           "zaxis": {
            "backgroundcolor": "#E5ECF6",
            "gridcolor": "white",
            "gridwidth": 2,
            "linecolor": "white",
            "showbackground": true,
            "ticks": "",
            "zerolinecolor": "white"
           }
          },
          "shapedefaults": {
           "line": {
            "color": "#2a3f5f"
           }
          },
          "ternary": {
           "aaxis": {
            "gridcolor": "white",
            "linecolor": "white",
            "ticks": ""
           },
           "baxis": {
            "gridcolor": "white",
            "linecolor": "white",
            "ticks": ""
           },
           "bgcolor": "#E5ECF6",
           "caxis": {
            "gridcolor": "white",
            "linecolor": "white",
            "ticks": ""
           }
          },
          "title": {
           "x": 0.05
          },
          "xaxis": {
           "automargin": true,
           "gridcolor": "white",
           "linecolor": "white",
           "ticks": "",
           "title": {
            "standoff": 15
           },
           "zerolinecolor": "white",
           "zerolinewidth": 2
          },
          "yaxis": {
           "automargin": true,
           "gridcolor": "white",
           "linecolor": "white",
           "ticks": "",
           "title": {
            "standoff": 15
           },
           "zerolinecolor": "white",
           "zerolinewidth": 2
          }
         }
        },
        "title": {
         "font": {
          "color": "#4D5663"
         }
        },
        "xaxis": {
         "gridcolor": "#E1E5ED",
         "showgrid": true,
         "tickfont": {
          "color": "#4D5663"
         },
         "title": {
          "font": {
           "color": "#4D5663"
          },
          "text": ""
         },
         "zerolinecolor": "#E1E5ED"
        },
        "yaxis": {
         "gridcolor": "#E1E5ED",
         "showgrid": true,
         "tickfont": {
          "color": "#4D5663"
         },
         "title": {
          "font": {
           "color": "#4D5663"
          },
          "text": ""
         },
         "zerolinecolor": "#E1E5ED"
        }
       }
      },
      "text/html": [
       "<div>\n",
       "        \n",
       "        \n",
       "            <div id=\"d40602dc-cf61-49c8-a72f-a499e9dfb7fd\" class=\"plotly-graph-div\" style=\"height:525px; width:100%;\"></div>\n",
       "            <script type=\"text/javascript\">\n",
       "                require([\"plotly\"], function(Plotly) {\n",
       "                    window.PLOTLYENV=window.PLOTLYENV || {};\n",
       "                    window.PLOTLYENV.BASE_URL='https://plot.ly';\n",
       "                    \n",
       "                if (document.getElementById(\"d40602dc-cf61-49c8-a72f-a499e9dfb7fd\")) {\n",
       "                    Plotly.newPlot(\n",
       "                        'd40602dc-cf61-49c8-a72f-a499e9dfb7fd',\n",
       "                        [{\"marker\": {\"color\": \"rgba(255, 153, 51, 0.6)\", \"line\": {\"color\": \"rgba(255, 153, 51, 1.0)\", \"width\": 1}}, \"name\": \"Values\", \"orientation\": \"v\", \"text\": \"\", \"type\": \"bar\", \"x\": [\"A\", \"B\", \"C\"], \"y\": [32, 43, 50]}],\n",
       "                        {\"legend\": {\"bgcolor\": \"#F5F6F9\", \"font\": {\"color\": \"#4D5663\"}}, \"paper_bgcolor\": \"#F5F6F9\", \"plot_bgcolor\": \"#F5F6F9\", \"template\": {\"data\": {\"bar\": [{\"error_x\": {\"color\": \"#2a3f5f\"}, \"error_y\": {\"color\": \"#2a3f5f\"}, \"marker\": {\"line\": {\"color\": \"#E5ECF6\", \"width\": 0.5}}, \"type\": \"bar\"}], \"barpolar\": [{\"marker\": {\"line\": {\"color\": \"#E5ECF6\", \"width\": 0.5}}, \"type\": \"barpolar\"}], \"carpet\": [{\"aaxis\": {\"endlinecolor\": \"#2a3f5f\", \"gridcolor\": \"white\", \"linecolor\": \"white\", \"minorgridcolor\": \"white\", \"startlinecolor\": \"#2a3f5f\"}, \"baxis\": {\"endlinecolor\": \"#2a3f5f\", \"gridcolor\": \"white\", \"linecolor\": \"white\", \"minorgridcolor\": \"white\", \"startlinecolor\": \"#2a3f5f\"}, \"type\": \"carpet\"}], \"choropleth\": [{\"colorbar\": {\"outlinewidth\": 0, \"ticks\": \"\"}, \"type\": \"choropleth\"}], \"contour\": [{\"colorbar\": {\"outlinewidth\": 0, \"ticks\": \"\"}, \"colorscale\": [[0.0, \"#0d0887\"], [0.1111111111111111, \"#46039f\"], [0.2222222222222222, \"#7201a8\"], [0.3333333333333333, \"#9c179e\"], [0.4444444444444444, \"#bd3786\"], [0.5555555555555556, \"#d8576b\"], [0.6666666666666666, \"#ed7953\"], [0.7777777777777778, \"#fb9f3a\"], [0.8888888888888888, \"#fdca26\"], [1.0, \"#f0f921\"]], \"type\": \"contour\"}], \"contourcarpet\": [{\"colorbar\": {\"outlinewidth\": 0, \"ticks\": \"\"}, \"type\": \"contourcarpet\"}], \"heatmap\": [{\"colorbar\": {\"outlinewidth\": 0, \"ticks\": \"\"}, \"colorscale\": [[0.0, \"#0d0887\"], [0.1111111111111111, \"#46039f\"], [0.2222222222222222, \"#7201a8\"], [0.3333333333333333, \"#9c179e\"], [0.4444444444444444, \"#bd3786\"], [0.5555555555555556, \"#d8576b\"], [0.6666666666666666, \"#ed7953\"], [0.7777777777777778, \"#fb9f3a\"], [0.8888888888888888, \"#fdca26\"], [1.0, \"#f0f921\"]], \"type\": \"heatmap\"}], \"heatmapgl\": [{\"colorbar\": {\"outlinewidth\": 0, \"ticks\": \"\"}, \"colorscale\": [[0.0, \"#0d0887\"], [0.1111111111111111, \"#46039f\"], [0.2222222222222222, \"#7201a8\"], [0.3333333333333333, \"#9c179e\"], [0.4444444444444444, \"#bd3786\"], [0.5555555555555556, \"#d8576b\"], [0.6666666666666666, \"#ed7953\"], [0.7777777777777778, \"#fb9f3a\"], [0.8888888888888888, \"#fdca26\"], [1.0, \"#f0f921\"]], \"type\": \"heatmapgl\"}], \"histogram\": [{\"marker\": {\"colorbar\": {\"outlinewidth\": 0, \"ticks\": \"\"}}, \"type\": \"histogram\"}], \"histogram2d\": [{\"colorbar\": {\"outlinewidth\": 0, \"ticks\": \"\"}, \"colorscale\": [[0.0, \"#0d0887\"], [0.1111111111111111, \"#46039f\"], [0.2222222222222222, \"#7201a8\"], [0.3333333333333333, \"#9c179e\"], [0.4444444444444444, \"#bd3786\"], [0.5555555555555556, \"#d8576b\"], [0.6666666666666666, \"#ed7953\"], [0.7777777777777778, \"#fb9f3a\"], [0.8888888888888888, \"#fdca26\"], [1.0, \"#f0f921\"]], \"type\": \"histogram2d\"}], \"histogram2dcontour\": [{\"colorbar\": {\"outlinewidth\": 0, \"ticks\": \"\"}, \"colorscale\": [[0.0, \"#0d0887\"], [0.1111111111111111, \"#46039f\"], [0.2222222222222222, \"#7201a8\"], [0.3333333333333333, \"#9c179e\"], [0.4444444444444444, \"#bd3786\"], [0.5555555555555556, \"#d8576b\"], [0.6666666666666666, \"#ed7953\"], [0.7777777777777778, \"#fb9f3a\"], [0.8888888888888888, \"#fdca26\"], [1.0, \"#f0f921\"]], \"type\": \"histogram2dcontour\"}], \"mesh3d\": [{\"colorbar\": {\"outlinewidth\": 0, \"ticks\": \"\"}, \"type\": \"mesh3d\"}], \"parcoords\": [{\"line\": {\"colorbar\": {\"outlinewidth\": 0, \"ticks\": \"\"}}, \"type\": \"parcoords\"}], \"pie\": [{\"automargin\": true, \"type\": \"pie\"}], \"scatter\": [{\"marker\": {\"colorbar\": {\"outlinewidth\": 0, \"ticks\": \"\"}}, \"type\": \"scatter\"}], \"scatter3d\": [{\"line\": {\"colorbar\": {\"outlinewidth\": 0, \"ticks\": \"\"}}, \"marker\": {\"colorbar\": {\"outlinewidth\": 0, \"ticks\": \"\"}}, \"type\": \"scatter3d\"}], \"scattercarpet\": [{\"marker\": {\"colorbar\": {\"outlinewidth\": 0, \"ticks\": \"\"}}, \"type\": \"scattercarpet\"}], \"scattergeo\": [{\"marker\": {\"colorbar\": {\"outlinewidth\": 0, \"ticks\": \"\"}}, \"type\": \"scattergeo\"}], \"scattergl\": [{\"marker\": {\"colorbar\": {\"outlinewidth\": 0, \"ticks\": \"\"}}, \"type\": \"scattergl\"}], \"scattermapbox\": [{\"marker\": {\"colorbar\": {\"outlinewidth\": 0, \"ticks\": \"\"}}, \"type\": \"scattermapbox\"}], \"scatterpolar\": [{\"marker\": {\"colorbar\": {\"outlinewidth\": 0, \"ticks\": \"\"}}, \"type\": \"scatterpolar\"}], \"scatterpolargl\": [{\"marker\": {\"colorbar\": {\"outlinewidth\": 0, \"ticks\": \"\"}}, \"type\": \"scatterpolargl\"}], \"scatterternary\": [{\"marker\": {\"colorbar\": {\"outlinewidth\": 0, \"ticks\": \"\"}}, \"type\": \"scatterternary\"}], \"surface\": [{\"colorbar\": {\"outlinewidth\": 0, \"ticks\": \"\"}, \"colorscale\": [[0.0, \"#0d0887\"], [0.1111111111111111, \"#46039f\"], [0.2222222222222222, \"#7201a8\"], [0.3333333333333333, \"#9c179e\"], [0.4444444444444444, \"#bd3786\"], [0.5555555555555556, \"#d8576b\"], [0.6666666666666666, \"#ed7953\"], [0.7777777777777778, \"#fb9f3a\"], [0.8888888888888888, \"#fdca26\"], [1.0, \"#f0f921\"]], \"type\": \"surface\"}], \"table\": [{\"cells\": {\"fill\": {\"color\": \"#EBF0F8\"}, \"line\": {\"color\": \"white\"}}, \"header\": {\"fill\": {\"color\": \"#C8D4E3\"}, \"line\": {\"color\": \"white\"}}, \"type\": \"table\"}]}, \"layout\": {\"annotationdefaults\": {\"arrowcolor\": \"#2a3f5f\", \"arrowhead\": 0, \"arrowwidth\": 1}, \"coloraxis\": {\"colorbar\": {\"outlinewidth\": 0, \"ticks\": \"\"}}, \"colorscale\": {\"diverging\": [[0, \"#8e0152\"], [0.1, \"#c51b7d\"], [0.2, \"#de77ae\"], [0.3, \"#f1b6da\"], [0.4, \"#fde0ef\"], [0.5, \"#f7f7f7\"], [0.6, \"#e6f5d0\"], [0.7, \"#b8e186\"], [0.8, \"#7fbc41\"], [0.9, \"#4d9221\"], [1, \"#276419\"]], \"sequential\": [[0.0, \"#0d0887\"], [0.1111111111111111, \"#46039f\"], [0.2222222222222222, \"#7201a8\"], [0.3333333333333333, \"#9c179e\"], [0.4444444444444444, \"#bd3786\"], [0.5555555555555556, \"#d8576b\"], [0.6666666666666666, \"#ed7953\"], [0.7777777777777778, \"#fb9f3a\"], [0.8888888888888888, \"#fdca26\"], [1.0, \"#f0f921\"]], \"sequentialminus\": [[0.0, \"#0d0887\"], [0.1111111111111111, \"#46039f\"], [0.2222222222222222, \"#7201a8\"], [0.3333333333333333, \"#9c179e\"], [0.4444444444444444, \"#bd3786\"], [0.5555555555555556, \"#d8576b\"], [0.6666666666666666, \"#ed7953\"], [0.7777777777777778, \"#fb9f3a\"], [0.8888888888888888, \"#fdca26\"], [1.0, \"#f0f921\"]]}, \"colorway\": [\"#636efa\", \"#EF553B\", \"#00cc96\", \"#ab63fa\", \"#FFA15A\", \"#19d3f3\", \"#FF6692\", \"#B6E880\", \"#FF97FF\", \"#FECB52\"], \"font\": {\"color\": \"#2a3f5f\"}, \"geo\": {\"bgcolor\": \"white\", \"lakecolor\": \"white\", \"landcolor\": \"#E5ECF6\", \"showlakes\": true, \"showland\": true, \"subunitcolor\": \"white\"}, \"hoverlabel\": {\"align\": \"left\"}, \"hovermode\": \"closest\", \"mapbox\": {\"style\": \"light\"}, \"paper_bgcolor\": \"white\", \"plot_bgcolor\": \"#E5ECF6\", \"polar\": {\"angularaxis\": {\"gridcolor\": \"white\", \"linecolor\": \"white\", \"ticks\": \"\"}, \"bgcolor\": \"#E5ECF6\", \"radialaxis\": {\"gridcolor\": \"white\", \"linecolor\": \"white\", \"ticks\": \"\"}}, \"scene\": {\"xaxis\": {\"backgroundcolor\": \"#E5ECF6\", \"gridcolor\": \"white\", \"gridwidth\": 2, \"linecolor\": \"white\", \"showbackground\": true, \"ticks\": \"\", \"zerolinecolor\": \"white\"}, \"yaxis\": {\"backgroundcolor\": \"#E5ECF6\", \"gridcolor\": \"white\", \"gridwidth\": 2, \"linecolor\": \"white\", \"showbackground\": true, \"ticks\": \"\", \"zerolinecolor\": \"white\"}, \"zaxis\": {\"backgroundcolor\": \"#E5ECF6\", \"gridcolor\": \"white\", \"gridwidth\": 2, \"linecolor\": \"white\", \"showbackground\": true, \"ticks\": \"\", \"zerolinecolor\": \"white\"}}, \"shapedefaults\": {\"line\": {\"color\": \"#2a3f5f\"}}, \"ternary\": {\"aaxis\": {\"gridcolor\": \"white\", \"linecolor\": \"white\", \"ticks\": \"\"}, \"baxis\": {\"gridcolor\": \"white\", \"linecolor\": \"white\", \"ticks\": \"\"}, \"bgcolor\": \"#E5ECF6\", \"caxis\": {\"gridcolor\": \"white\", \"linecolor\": \"white\", \"ticks\": \"\"}}, \"title\": {\"x\": 0.05}, \"xaxis\": {\"automargin\": true, \"gridcolor\": \"white\", \"linecolor\": \"white\", \"ticks\": \"\", \"title\": {\"standoff\": 15}, \"zerolinecolor\": \"white\", \"zerolinewidth\": 2}, \"yaxis\": {\"automargin\": true, \"gridcolor\": \"white\", \"linecolor\": \"white\", \"ticks\": \"\", \"title\": {\"standoff\": 15}, \"zerolinecolor\": \"white\", \"zerolinewidth\": 2}}}, \"title\": {\"font\": {\"color\": \"#4D5663\"}}, \"xaxis\": {\"gridcolor\": \"#E1E5ED\", \"showgrid\": true, \"tickfont\": {\"color\": \"#4D5663\"}, \"title\": {\"font\": {\"color\": \"#4D5663\"}, \"text\": \"\"}, \"zerolinecolor\": \"#E1E5ED\"}, \"yaxis\": {\"gridcolor\": \"#E1E5ED\", \"showgrid\": true, \"tickfont\": {\"color\": \"#4D5663\"}, \"title\": {\"font\": {\"color\": \"#4D5663\"}, \"text\": \"\"}, \"zerolinecolor\": \"#E1E5ED\"}},\n",
       "                        {\"showLink\": true, \"linkText\": \"Export to plot.ly\", \"plotlyServerURL\": \"https://plot.ly\", \"responsive\": true}\n",
       "                    ).then(function(){\n",
       "                            \n",
       "var gd = document.getElementById('d40602dc-cf61-49c8-a72f-a499e9dfb7fd');\n",
       "var x = new MutationObserver(function (mutations, observer) {{\n",
       "        var display = window.getComputedStyle(gd).display;\n",
       "        if (!display || display === 'none') {{\n",
       "            console.log([gd, 'removed!']);\n",
       "            Plotly.purge(gd);\n",
       "            observer.disconnect();\n",
       "        }}\n",
       "}});\n",
       "\n",
       "// Listen for the removal of the full notebook cells\n",
       "var notebookContainer = gd.closest('#notebook-container');\n",
       "if (notebookContainer) {{\n",
       "    x.observe(notebookContainer, {childList: true});\n",
       "}}\n",
       "\n",
       "// Listen for the clearing of the current output cell\n",
       "var outputEl = gd.closest('.output');\n",
       "if (outputEl) {{\n",
       "    x.observe(outputEl, {childList: true});\n",
       "}}\n",
       "\n",
       "                        })\n",
       "                };\n",
       "                });\n",
       "            </script>\n",
       "        </div>"
      ]
     },
     "metadata": {},
     "output_type": "display_data"
    }
   ],
   "source": [
    "df2.iplot(kind='bar',x='Category',y='Values')"
   ]
  },
  {
   "cell_type": "code",
   "execution_count": 12,
   "metadata": {},
   "outputs": [
    {
     "data": {
      "application/vnd.plotly.v1+json": {
       "config": {
        "linkText": "Export to plot.ly",
        "plotlyServerURL": "https://plot.ly",
        "showLink": true
       },
       "data": [
        {
         "marker": {
          "color": "rgba(255, 153, 51, 0.6)",
          "line": {
           "color": "rgba(255, 153, 51, 1.0)",
           "width": 1
          }
         },
         "name": "None",
         "orientation": "v",
         "text": "",
         "type": "bar",
         "x": [
          "A",
          "B",
          "C",
          "D"
         ],
         "y": [
          100,
          100,
          100,
          100
         ]
        }
       ],
       "layout": {
        "legend": {
         "bgcolor": "#F5F6F9",
         "font": {
          "color": "#4D5663"
         }
        },
        "paper_bgcolor": "#F5F6F9",
        "plot_bgcolor": "#F5F6F9",
        "template": {
         "data": {
          "bar": [
           {
            "error_x": {
             "color": "#2a3f5f"
            },
            "error_y": {
             "color": "#2a3f5f"
            },
            "marker": {
             "line": {
              "color": "#E5ECF6",
              "width": 0.5
             }
            },
            "type": "bar"
           }
          ],
          "barpolar": [
           {
            "marker": {
             "line": {
              "color": "#E5ECF6",
              "width": 0.5
             }
            },
            "type": "barpolar"
           }
          ],
          "carpet": [
           {
            "aaxis": {
             "endlinecolor": "#2a3f5f",
             "gridcolor": "white",
             "linecolor": "white",
             "minorgridcolor": "white",
             "startlinecolor": "#2a3f5f"
            },
            "baxis": {
             "endlinecolor": "#2a3f5f",
             "gridcolor": "white",
             "linecolor": "white",
             "minorgridcolor": "white",
             "startlinecolor": "#2a3f5f"
            },
            "type": "carpet"
           }
          ],
          "choropleth": [
           {
            "colorbar": {
             "outlinewidth": 0,
             "ticks": ""
            },
            "type": "choropleth"
           }
          ],
          "contour": [
           {
            "colorbar": {
             "outlinewidth": 0,
             "ticks": ""
            },
            "colorscale": [
             [
              0,
              "#0d0887"
             ],
             [
              0.1111111111111111,
              "#46039f"
             ],
             [
              0.2222222222222222,
              "#7201a8"
             ],
             [
              0.3333333333333333,
              "#9c179e"
             ],
             [
              0.4444444444444444,
              "#bd3786"
             ],
             [
              0.5555555555555556,
              "#d8576b"
             ],
             [
              0.6666666666666666,
              "#ed7953"
             ],
             [
              0.7777777777777778,
              "#fb9f3a"
             ],
             [
              0.8888888888888888,
              "#fdca26"
             ],
             [
              1,
              "#f0f921"
             ]
            ],
            "type": "contour"
           }
          ],
          "contourcarpet": [
           {
            "colorbar": {
             "outlinewidth": 0,
             "ticks": ""
            },
            "type": "contourcarpet"
           }
          ],
          "heatmap": [
           {
            "colorbar": {
             "outlinewidth": 0,
             "ticks": ""
            },
            "colorscale": [
             [
              0,
              "#0d0887"
             ],
             [
              0.1111111111111111,
              "#46039f"
             ],
             [
              0.2222222222222222,
              "#7201a8"
             ],
             [
              0.3333333333333333,
              "#9c179e"
             ],
             [
              0.4444444444444444,
              "#bd3786"
             ],
             [
              0.5555555555555556,
              "#d8576b"
             ],
             [
              0.6666666666666666,
              "#ed7953"
             ],
             [
              0.7777777777777778,
              "#fb9f3a"
             ],
             [
              0.8888888888888888,
              "#fdca26"
             ],
             [
              1,
              "#f0f921"
             ]
            ],
            "type": "heatmap"
           }
          ],
          "heatmapgl": [
           {
            "colorbar": {
             "outlinewidth": 0,
             "ticks": ""
            },
            "colorscale": [
             [
              0,
              "#0d0887"
             ],
             [
              0.1111111111111111,
              "#46039f"
             ],
             [
              0.2222222222222222,
              "#7201a8"
             ],
             [
              0.3333333333333333,
              "#9c179e"
             ],
             [
              0.4444444444444444,
              "#bd3786"
             ],
             [
              0.5555555555555556,
              "#d8576b"
             ],
             [
              0.6666666666666666,
              "#ed7953"
             ],
             [
              0.7777777777777778,
              "#fb9f3a"
             ],
             [
              0.8888888888888888,
              "#fdca26"
             ],
             [
              1,
              "#f0f921"
             ]
            ],
            "type": "heatmapgl"
           }
          ],
          "histogram": [
           {
            "marker": {
             "colorbar": {
              "outlinewidth": 0,
              "ticks": ""
             }
            },
            "type": "histogram"
           }
          ],
          "histogram2d": [
           {
            "colorbar": {
             "outlinewidth": 0,
             "ticks": ""
            },
            "colorscale": [
             [
              0,
              "#0d0887"
             ],
             [
              0.1111111111111111,
              "#46039f"
             ],
             [
              0.2222222222222222,
              "#7201a8"
             ],
             [
              0.3333333333333333,
              "#9c179e"
             ],
             [
              0.4444444444444444,
              "#bd3786"
             ],
             [
              0.5555555555555556,
              "#d8576b"
             ],
             [
              0.6666666666666666,
              "#ed7953"
             ],
             [
              0.7777777777777778,
              "#fb9f3a"
             ],
             [
              0.8888888888888888,
              "#fdca26"
             ],
             [
              1,
              "#f0f921"
             ]
            ],
            "type": "histogram2d"
           }
          ],
          "histogram2dcontour": [
           {
            "colorbar": {
             "outlinewidth": 0,
             "ticks": ""
            },
            "colorscale": [
             [
              0,
              "#0d0887"
             ],
             [
              0.1111111111111111,
              "#46039f"
             ],
             [
              0.2222222222222222,
              "#7201a8"
             ],
             [
              0.3333333333333333,
              "#9c179e"
             ],
             [
              0.4444444444444444,
              "#bd3786"
             ],
             [
              0.5555555555555556,
              "#d8576b"
             ],
             [
              0.6666666666666666,
              "#ed7953"
             ],
             [
              0.7777777777777778,
              "#fb9f3a"
             ],
             [
              0.8888888888888888,
              "#fdca26"
             ],
             [
              1,
              "#f0f921"
             ]
            ],
            "type": "histogram2dcontour"
           }
          ],
          "mesh3d": [
           {
            "colorbar": {
             "outlinewidth": 0,
             "ticks": ""
            },
            "type": "mesh3d"
           }
          ],
          "parcoords": [
           {
            "line": {
             "colorbar": {
              "outlinewidth": 0,
              "ticks": ""
             }
            },
            "type": "parcoords"
           }
          ],
          "pie": [
           {
            "automargin": true,
            "type": "pie"
           }
          ],
          "scatter": [
           {
            "marker": {
             "colorbar": {
              "outlinewidth": 0,
              "ticks": ""
             }
            },
            "type": "scatter"
           }
          ],
          "scatter3d": [
           {
            "line": {
             "colorbar": {
              "outlinewidth": 0,
              "ticks": ""
             }
            },
            "marker": {
             "colorbar": {
              "outlinewidth": 0,
              "ticks": ""
             }
            },
            "type": "scatter3d"
           }
          ],
          "scattercarpet": [
           {
            "marker": {
             "colorbar": {
              "outlinewidth": 0,
              "ticks": ""
             }
            },
            "type": "scattercarpet"
           }
          ],
          "scattergeo": [
           {
            "marker": {
             "colorbar": {
              "outlinewidth": 0,
              "ticks": ""
             }
            },
            "type": "scattergeo"
           }
          ],
          "scattergl": [
           {
            "marker": {
             "colorbar": {
              "outlinewidth": 0,
              "ticks": ""
             }
            },
            "type": "scattergl"
           }
          ],
          "scattermapbox": [
           {
            "marker": {
             "colorbar": {
              "outlinewidth": 0,
              "ticks": ""
             }
            },
            "type": "scattermapbox"
           }
          ],
          "scatterpolar": [
           {
            "marker": {
             "colorbar": {
              "outlinewidth": 0,
              "ticks": ""
             }
            },
            "type": "scatterpolar"
           }
          ],
          "scatterpolargl": [
           {
            "marker": {
             "colorbar": {
              "outlinewidth": 0,
              "ticks": ""
             }
            },
            "type": "scatterpolargl"
           }
          ],
          "scatterternary": [
           {
            "marker": {
             "colorbar": {
              "outlinewidth": 0,
              "ticks": ""
             }
            },
            "type": "scatterternary"
           }
          ],
          "surface": [
           {
            "colorbar": {
             "outlinewidth": 0,
             "ticks": ""
            },
            "colorscale": [
             [
              0,
              "#0d0887"
             ],
             [
              0.1111111111111111,
              "#46039f"
             ],
             [
              0.2222222222222222,
              "#7201a8"
             ],
             [
              0.3333333333333333,
              "#9c179e"
             ],
             [
              0.4444444444444444,
              "#bd3786"
             ],
             [
              0.5555555555555556,
              "#d8576b"
             ],
             [
              0.6666666666666666,
              "#ed7953"
             ],
             [
              0.7777777777777778,
              "#fb9f3a"
             ],
             [
              0.8888888888888888,
              "#fdca26"
             ],
             [
              1,
              "#f0f921"
             ]
            ],
            "type": "surface"
           }
          ],
          "table": [
           {
            "cells": {
             "fill": {
              "color": "#EBF0F8"
             },
             "line": {
              "color": "white"
             }
            },
            "header": {
             "fill": {
              "color": "#C8D4E3"
             },
             "line": {
              "color": "white"
             }
            },
            "type": "table"
           }
          ]
         },
         "layout": {
          "annotationdefaults": {
           "arrowcolor": "#2a3f5f",
           "arrowhead": 0,
           "arrowwidth": 1
          },
          "coloraxis": {
           "colorbar": {
            "outlinewidth": 0,
            "ticks": ""
           }
          },
          "colorscale": {
           "diverging": [
            [
             0,
             "#8e0152"
            ],
            [
             0.1,
             "#c51b7d"
            ],
            [
             0.2,
             "#de77ae"
            ],
            [
             0.3,
             "#f1b6da"
            ],
            [
             0.4,
             "#fde0ef"
            ],
            [
             0.5,
             "#f7f7f7"
            ],
            [
             0.6,
             "#e6f5d0"
            ],
            [
             0.7,
             "#b8e186"
            ],
            [
             0.8,
             "#7fbc41"
            ],
            [
             0.9,
             "#4d9221"
            ],
            [
             1,
             "#276419"
            ]
           ],
           "sequential": [
            [
             0,
             "#0d0887"
            ],
            [
             0.1111111111111111,
             "#46039f"
            ],
            [
             0.2222222222222222,
             "#7201a8"
            ],
            [
             0.3333333333333333,
             "#9c179e"
            ],
            [
             0.4444444444444444,
             "#bd3786"
            ],
            [
             0.5555555555555556,
             "#d8576b"
            ],
            [
             0.6666666666666666,
             "#ed7953"
            ],
            [
             0.7777777777777778,
             "#fb9f3a"
            ],
            [
             0.8888888888888888,
             "#fdca26"
            ],
            [
             1,
             "#f0f921"
            ]
           ],
           "sequentialminus": [
            [
             0,
             "#0d0887"
            ],
            [
             0.1111111111111111,
             "#46039f"
            ],
            [
             0.2222222222222222,
             "#7201a8"
            ],
            [
             0.3333333333333333,
             "#9c179e"
            ],
            [
             0.4444444444444444,
             "#bd3786"
            ],
            [
             0.5555555555555556,
             "#d8576b"
            ],
            [
             0.6666666666666666,
             "#ed7953"
            ],
            [
             0.7777777777777778,
             "#fb9f3a"
            ],
            [
             0.8888888888888888,
             "#fdca26"
            ],
            [
             1,
             "#f0f921"
            ]
           ]
          },
          "colorway": [
           "#636efa",
           "#EF553B",
           "#00cc96",
           "#ab63fa",
           "#FFA15A",
           "#19d3f3",
           "#FF6692",
           "#B6E880",
           "#FF97FF",
           "#FECB52"
          ],
          "font": {
           "color": "#2a3f5f"
          },
          "geo": {
           "bgcolor": "white",
           "lakecolor": "white",
           "landcolor": "#E5ECF6",
           "showlakes": true,
           "showland": true,
           "subunitcolor": "white"
          },
          "hoverlabel": {
           "align": "left"
          },
          "hovermode": "closest",
          "mapbox": {
           "style": "light"
          },
          "paper_bgcolor": "white",
          "plot_bgcolor": "#E5ECF6",
          "polar": {
           "angularaxis": {
            "gridcolor": "white",
            "linecolor": "white",
            "ticks": ""
           },
           "bgcolor": "#E5ECF6",
           "radialaxis": {
            "gridcolor": "white",
            "linecolor": "white",
            "ticks": ""
           }
          },
          "scene": {
           "xaxis": {
            "backgroundcolor": "#E5ECF6",
            "gridcolor": "white",
            "gridwidth": 2,
            "linecolor": "white",
            "showbackground": true,
            "ticks": "",
            "zerolinecolor": "white"
           },
           "yaxis": {
            "backgroundcolor": "#E5ECF6",
            "gridcolor": "white",
            "gridwidth": 2,
            "linecolor": "white",
            "showbackground": true,
            "ticks": "",
            "zerolinecolor": "white"
           },
           "zaxis": {
            "backgroundcolor": "#E5ECF6",
            "gridcolor": "white",
            "gridwidth": 2,
            "linecolor": "white",
            "showbackground": true,
            "ticks": "",
            "zerolinecolor": "white"
           }
          },
          "shapedefaults": {
           "line": {
            "color": "#2a3f5f"
           }
          },
          "ternary": {
           "aaxis": {
            "gridcolor": "white",
            "linecolor": "white",
            "ticks": ""
           },
           "baxis": {
            "gridcolor": "white",
            "linecolor": "white",
            "ticks": ""
           },
           "bgcolor": "#E5ECF6",
           "caxis": {
            "gridcolor": "white",
            "linecolor": "white",
            "ticks": ""
           }
          },
          "title": {
           "x": 0.05
          },
          "xaxis": {
           "automargin": true,
           "gridcolor": "white",
           "linecolor": "white",
           "ticks": "",
           "title": {
            "standoff": 15
           },
           "zerolinecolor": "white",
           "zerolinewidth": 2
          },
          "yaxis": {
           "automargin": true,
           "gridcolor": "white",
           "linecolor": "white",
           "ticks": "",
           "title": {
            "standoff": 15
           },
           "zerolinecolor": "white",
           "zerolinewidth": 2
          }
         }
        },
        "title": {
         "font": {
          "color": "#4D5663"
         }
        },
        "xaxis": {
         "gridcolor": "#E1E5ED",
         "showgrid": true,
         "tickfont": {
          "color": "#4D5663"
         },
         "title": {
          "font": {
           "color": "#4D5663"
          },
          "text": ""
         },
         "zerolinecolor": "#E1E5ED"
        },
        "yaxis": {
         "gridcolor": "#E1E5ED",
         "showgrid": true,
         "tickfont": {
          "color": "#4D5663"
         },
         "title": {
          "font": {
           "color": "#4D5663"
          },
          "text": ""
         },
         "zerolinecolor": "#E1E5ED"
        }
       }
      },
      "text/html": [
       "<div>\n",
       "        \n",
       "        \n",
       "            <div id=\"e1c34f62-8f41-41a8-ab96-15cf563d7e2e\" class=\"plotly-graph-div\" style=\"height:525px; width:100%;\"></div>\n",
       "            <script type=\"text/javascript\">\n",
       "                require([\"plotly\"], function(Plotly) {\n",
       "                    window.PLOTLYENV=window.PLOTLYENV || {};\n",
       "                    window.PLOTLYENV.BASE_URL='https://plot.ly';\n",
       "                    \n",
       "                if (document.getElementById(\"e1c34f62-8f41-41a8-ab96-15cf563d7e2e\")) {\n",
       "                    Plotly.newPlot(\n",
       "                        'e1c34f62-8f41-41a8-ab96-15cf563d7e2e',\n",
       "                        [{\"marker\": {\"color\": \"rgba(255, 153, 51, 0.6)\", \"line\": {\"color\": \"rgba(255, 153, 51, 1.0)\", \"width\": 1}}, \"name\": \"None\", \"orientation\": \"v\", \"text\": \"\", \"type\": \"bar\", \"x\": [\"A\", \"B\", \"C\", \"D\"], \"y\": [100, 100, 100, 100]}],\n",
       "                        {\"legend\": {\"bgcolor\": \"#F5F6F9\", \"font\": {\"color\": \"#4D5663\"}}, \"paper_bgcolor\": \"#F5F6F9\", \"plot_bgcolor\": \"#F5F6F9\", \"template\": {\"data\": {\"bar\": [{\"error_x\": {\"color\": \"#2a3f5f\"}, \"error_y\": {\"color\": \"#2a3f5f\"}, \"marker\": {\"line\": {\"color\": \"#E5ECF6\", \"width\": 0.5}}, \"type\": \"bar\"}], \"barpolar\": [{\"marker\": {\"line\": {\"color\": \"#E5ECF6\", \"width\": 0.5}}, \"type\": \"barpolar\"}], \"carpet\": [{\"aaxis\": {\"endlinecolor\": \"#2a3f5f\", \"gridcolor\": \"white\", \"linecolor\": \"white\", \"minorgridcolor\": \"white\", \"startlinecolor\": \"#2a3f5f\"}, \"baxis\": {\"endlinecolor\": \"#2a3f5f\", \"gridcolor\": \"white\", \"linecolor\": \"white\", \"minorgridcolor\": \"white\", \"startlinecolor\": \"#2a3f5f\"}, \"type\": \"carpet\"}], \"choropleth\": [{\"colorbar\": {\"outlinewidth\": 0, \"ticks\": \"\"}, \"type\": \"choropleth\"}], \"contour\": [{\"colorbar\": {\"outlinewidth\": 0, \"ticks\": \"\"}, \"colorscale\": [[0.0, \"#0d0887\"], [0.1111111111111111, \"#46039f\"], [0.2222222222222222, \"#7201a8\"], [0.3333333333333333, \"#9c179e\"], [0.4444444444444444, \"#bd3786\"], [0.5555555555555556, \"#d8576b\"], [0.6666666666666666, \"#ed7953\"], [0.7777777777777778, \"#fb9f3a\"], [0.8888888888888888, \"#fdca26\"], [1.0, \"#f0f921\"]], \"type\": \"contour\"}], \"contourcarpet\": [{\"colorbar\": {\"outlinewidth\": 0, \"ticks\": \"\"}, \"type\": \"contourcarpet\"}], \"heatmap\": [{\"colorbar\": {\"outlinewidth\": 0, \"ticks\": \"\"}, \"colorscale\": [[0.0, \"#0d0887\"], [0.1111111111111111, \"#46039f\"], [0.2222222222222222, \"#7201a8\"], [0.3333333333333333, \"#9c179e\"], [0.4444444444444444, \"#bd3786\"], [0.5555555555555556, \"#d8576b\"], [0.6666666666666666, \"#ed7953\"], [0.7777777777777778, \"#fb9f3a\"], [0.8888888888888888, \"#fdca26\"], [1.0, \"#f0f921\"]], \"type\": \"heatmap\"}], \"heatmapgl\": [{\"colorbar\": {\"outlinewidth\": 0, \"ticks\": \"\"}, \"colorscale\": [[0.0, \"#0d0887\"], [0.1111111111111111, \"#46039f\"], [0.2222222222222222, \"#7201a8\"], [0.3333333333333333, \"#9c179e\"], [0.4444444444444444, \"#bd3786\"], [0.5555555555555556, \"#d8576b\"], [0.6666666666666666, \"#ed7953\"], [0.7777777777777778, \"#fb9f3a\"], [0.8888888888888888, \"#fdca26\"], [1.0, \"#f0f921\"]], \"type\": \"heatmapgl\"}], \"histogram\": [{\"marker\": {\"colorbar\": {\"outlinewidth\": 0, \"ticks\": \"\"}}, \"type\": \"histogram\"}], \"histogram2d\": [{\"colorbar\": {\"outlinewidth\": 0, \"ticks\": \"\"}, \"colorscale\": [[0.0, \"#0d0887\"], [0.1111111111111111, \"#46039f\"], [0.2222222222222222, \"#7201a8\"], [0.3333333333333333, \"#9c179e\"], [0.4444444444444444, \"#bd3786\"], [0.5555555555555556, \"#d8576b\"], [0.6666666666666666, \"#ed7953\"], [0.7777777777777778, \"#fb9f3a\"], [0.8888888888888888, \"#fdca26\"], [1.0, \"#f0f921\"]], \"type\": \"histogram2d\"}], \"histogram2dcontour\": [{\"colorbar\": {\"outlinewidth\": 0, \"ticks\": \"\"}, \"colorscale\": [[0.0, \"#0d0887\"], [0.1111111111111111, \"#46039f\"], [0.2222222222222222, \"#7201a8\"], [0.3333333333333333, \"#9c179e\"], [0.4444444444444444, \"#bd3786\"], [0.5555555555555556, \"#d8576b\"], [0.6666666666666666, \"#ed7953\"], [0.7777777777777778, \"#fb9f3a\"], [0.8888888888888888, \"#fdca26\"], [1.0, \"#f0f921\"]], \"type\": \"histogram2dcontour\"}], \"mesh3d\": [{\"colorbar\": {\"outlinewidth\": 0, \"ticks\": \"\"}, \"type\": \"mesh3d\"}], \"parcoords\": [{\"line\": {\"colorbar\": {\"outlinewidth\": 0, \"ticks\": \"\"}}, \"type\": \"parcoords\"}], \"pie\": [{\"automargin\": true, \"type\": \"pie\"}], \"scatter\": [{\"marker\": {\"colorbar\": {\"outlinewidth\": 0, \"ticks\": \"\"}}, \"type\": \"scatter\"}], \"scatter3d\": [{\"line\": {\"colorbar\": {\"outlinewidth\": 0, \"ticks\": \"\"}}, \"marker\": {\"colorbar\": {\"outlinewidth\": 0, \"ticks\": \"\"}}, \"type\": \"scatter3d\"}], \"scattercarpet\": [{\"marker\": {\"colorbar\": {\"outlinewidth\": 0, \"ticks\": \"\"}}, \"type\": \"scattercarpet\"}], \"scattergeo\": [{\"marker\": {\"colorbar\": {\"outlinewidth\": 0, \"ticks\": \"\"}}, \"type\": \"scattergeo\"}], \"scattergl\": [{\"marker\": {\"colorbar\": {\"outlinewidth\": 0, \"ticks\": \"\"}}, \"type\": \"scattergl\"}], \"scattermapbox\": [{\"marker\": {\"colorbar\": {\"outlinewidth\": 0, \"ticks\": \"\"}}, \"type\": \"scattermapbox\"}], \"scatterpolar\": [{\"marker\": {\"colorbar\": {\"outlinewidth\": 0, \"ticks\": \"\"}}, \"type\": \"scatterpolar\"}], \"scatterpolargl\": [{\"marker\": {\"colorbar\": {\"outlinewidth\": 0, \"ticks\": \"\"}}, \"type\": \"scatterpolargl\"}], \"scatterternary\": [{\"marker\": {\"colorbar\": {\"outlinewidth\": 0, \"ticks\": \"\"}}, \"type\": \"scatterternary\"}], \"surface\": [{\"colorbar\": {\"outlinewidth\": 0, \"ticks\": \"\"}, \"colorscale\": [[0.0, \"#0d0887\"], [0.1111111111111111, \"#46039f\"], [0.2222222222222222, \"#7201a8\"], [0.3333333333333333, \"#9c179e\"], [0.4444444444444444, \"#bd3786\"], [0.5555555555555556, \"#d8576b\"], [0.6666666666666666, \"#ed7953\"], [0.7777777777777778, \"#fb9f3a\"], [0.8888888888888888, \"#fdca26\"], [1.0, \"#f0f921\"]], \"type\": \"surface\"}], \"table\": [{\"cells\": {\"fill\": {\"color\": \"#EBF0F8\"}, \"line\": {\"color\": \"white\"}}, \"header\": {\"fill\": {\"color\": \"#C8D4E3\"}, \"line\": {\"color\": \"white\"}}, \"type\": \"table\"}]}, \"layout\": {\"annotationdefaults\": {\"arrowcolor\": \"#2a3f5f\", \"arrowhead\": 0, \"arrowwidth\": 1}, \"coloraxis\": {\"colorbar\": {\"outlinewidth\": 0, \"ticks\": \"\"}}, \"colorscale\": {\"diverging\": [[0, \"#8e0152\"], [0.1, \"#c51b7d\"], [0.2, \"#de77ae\"], [0.3, \"#f1b6da\"], [0.4, \"#fde0ef\"], [0.5, \"#f7f7f7\"], [0.6, \"#e6f5d0\"], [0.7, \"#b8e186\"], [0.8, \"#7fbc41\"], [0.9, \"#4d9221\"], [1, \"#276419\"]], \"sequential\": [[0.0, \"#0d0887\"], [0.1111111111111111, \"#46039f\"], [0.2222222222222222, \"#7201a8\"], [0.3333333333333333, \"#9c179e\"], [0.4444444444444444, \"#bd3786\"], [0.5555555555555556, \"#d8576b\"], [0.6666666666666666, \"#ed7953\"], [0.7777777777777778, \"#fb9f3a\"], [0.8888888888888888, \"#fdca26\"], [1.0, \"#f0f921\"]], \"sequentialminus\": [[0.0, \"#0d0887\"], [0.1111111111111111, \"#46039f\"], [0.2222222222222222, \"#7201a8\"], [0.3333333333333333, \"#9c179e\"], [0.4444444444444444, \"#bd3786\"], [0.5555555555555556, \"#d8576b\"], [0.6666666666666666, \"#ed7953\"], [0.7777777777777778, \"#fb9f3a\"], [0.8888888888888888, \"#fdca26\"], [1.0, \"#f0f921\"]]}, \"colorway\": [\"#636efa\", \"#EF553B\", \"#00cc96\", \"#ab63fa\", \"#FFA15A\", \"#19d3f3\", \"#FF6692\", \"#B6E880\", \"#FF97FF\", \"#FECB52\"], \"font\": {\"color\": \"#2a3f5f\"}, \"geo\": {\"bgcolor\": \"white\", \"lakecolor\": \"white\", \"landcolor\": \"#E5ECF6\", \"showlakes\": true, \"showland\": true, \"subunitcolor\": \"white\"}, \"hoverlabel\": {\"align\": \"left\"}, \"hovermode\": \"closest\", \"mapbox\": {\"style\": \"light\"}, \"paper_bgcolor\": \"white\", \"plot_bgcolor\": \"#E5ECF6\", \"polar\": {\"angularaxis\": {\"gridcolor\": \"white\", \"linecolor\": \"white\", \"ticks\": \"\"}, \"bgcolor\": \"#E5ECF6\", \"radialaxis\": {\"gridcolor\": \"white\", \"linecolor\": \"white\", \"ticks\": \"\"}}, \"scene\": {\"xaxis\": {\"backgroundcolor\": \"#E5ECF6\", \"gridcolor\": \"white\", \"gridwidth\": 2, \"linecolor\": \"white\", \"showbackground\": true, \"ticks\": \"\", \"zerolinecolor\": \"white\"}, \"yaxis\": {\"backgroundcolor\": \"#E5ECF6\", \"gridcolor\": \"white\", \"gridwidth\": 2, \"linecolor\": \"white\", \"showbackground\": true, \"ticks\": \"\", \"zerolinecolor\": \"white\"}, \"zaxis\": {\"backgroundcolor\": \"#E5ECF6\", \"gridcolor\": \"white\", \"gridwidth\": 2, \"linecolor\": \"white\", \"showbackground\": true, \"ticks\": \"\", \"zerolinecolor\": \"white\"}}, \"shapedefaults\": {\"line\": {\"color\": \"#2a3f5f\"}}, \"ternary\": {\"aaxis\": {\"gridcolor\": \"white\", \"linecolor\": \"white\", \"ticks\": \"\"}, \"baxis\": {\"gridcolor\": \"white\", \"linecolor\": \"white\", \"ticks\": \"\"}, \"bgcolor\": \"#E5ECF6\", \"caxis\": {\"gridcolor\": \"white\", \"linecolor\": \"white\", \"ticks\": \"\"}}, \"title\": {\"x\": 0.05}, \"xaxis\": {\"automargin\": true, \"gridcolor\": \"white\", \"linecolor\": \"white\", \"ticks\": \"\", \"title\": {\"standoff\": 15}, \"zerolinecolor\": \"white\", \"zerolinewidth\": 2}, \"yaxis\": {\"automargin\": true, \"gridcolor\": \"white\", \"linecolor\": \"white\", \"ticks\": \"\", \"title\": {\"standoff\": 15}, \"zerolinecolor\": \"white\", \"zerolinewidth\": 2}}}, \"title\": {\"font\": {\"color\": \"#4D5663\"}}, \"xaxis\": {\"gridcolor\": \"#E1E5ED\", \"showgrid\": true, \"tickfont\": {\"color\": \"#4D5663\"}, \"title\": {\"font\": {\"color\": \"#4D5663\"}, \"text\": \"\"}, \"zerolinecolor\": \"#E1E5ED\"}, \"yaxis\": {\"gridcolor\": \"#E1E5ED\", \"showgrid\": true, \"tickfont\": {\"color\": \"#4D5663\"}, \"title\": {\"font\": {\"color\": \"#4D5663\"}, \"text\": \"\"}, \"zerolinecolor\": \"#E1E5ED\"}},\n",
       "                        {\"showLink\": true, \"linkText\": \"Export to plot.ly\", \"plotlyServerURL\": \"https://plot.ly\", \"responsive\": true}\n",
       "                    ).then(function(){\n",
       "                            \n",
       "var gd = document.getElementById('e1c34f62-8f41-41a8-ab96-15cf563d7e2e');\n",
       "var x = new MutationObserver(function (mutations, observer) {{\n",
       "        var display = window.getComputedStyle(gd).display;\n",
       "        if (!display || display === 'none') {{\n",
       "            console.log([gd, 'removed!']);\n",
       "            Plotly.purge(gd);\n",
       "            observer.disconnect();\n",
       "        }}\n",
       "}});\n",
       "\n",
       "// Listen for the removal of the full notebook cells\n",
       "var notebookContainer = gd.closest('#notebook-container');\n",
       "if (notebookContainer) {{\n",
       "    x.observe(notebookContainer, {childList: true});\n",
       "}}\n",
       "\n",
       "// Listen for the clearing of the current output cell\n",
       "var outputEl = gd.closest('.output');\n",
       "if (outputEl) {{\n",
       "    x.observe(outputEl, {childList: true});\n",
       "}}\n",
       "\n",
       "                        })\n",
       "                };\n",
       "                });\n",
       "            </script>\n",
       "        </div>"
      ]
     },
     "metadata": {},
     "output_type": "display_data"
    }
   ],
   "source": [
    "df.count().iplot(kind='bar')"
   ]
  },
  {
   "cell_type": "markdown",
   "metadata": {},
   "source": [
    "## Boxplots"
   ]
  },
  {
   "cell_type": "code",
   "execution_count": 13,
   "metadata": {},
   "outputs": [
    {
     "data": {
      "application/vnd.plotly.v1+json": {
       "config": {
        "linkText": "Export to plot.ly",
        "plotlyServerURL": "https://plot.ly",
        "showLink": true
       },
       "data": [
        {
         "boxpoints": false,
         "line": {
          "width": 1.3
         },
         "marker": {
          "color": "rgba(255, 153, 51, 1.0)"
         },
         "name": "A",
         "orientation": "v",
         "type": "box",
         "y": [
          0.27442011925577803,
          0.4966318940744484,
          0.9235787135880593,
          -1.3078878995183352,
          1.029829990968547,
          0.8768161316518825,
          1.7607058214307147,
          -1.3352873795477167,
          -1.2398425570338618,
          1.5554085396300308,
          0.10574878112682273,
          0.02877669534919826,
          0.14547075907513576,
          1.0931273800644667,
          0.6761310088429014,
          0.2784728536362254,
          -0.1660772458435563,
          -1.3210450424175817,
          0.5718288528568582,
          0.14355910285361492,
          -0.015859406501193326,
          1.213306555373937,
          0.4930056971125333,
          0.9639894896117828,
          -1.6921012175771217,
          -1.4497539051335953,
          0.5452526346624451,
          -0.645093482314308,
          -0.21143817105405713,
          2.025199604317894,
          1.0647915440432545,
          -0.9974086869972061,
          -0.026009175991362356,
          0.8223224835488065,
          -0.6874438195145413,
          -1.1633762926469993,
          -2.1889031235002805,
          -1.6981324604478112,
          -0.8322915772080726,
          0.8457591850393001,
          2.1442085506693567,
          -1.5640271898647706,
          0.7744562894683265,
          -0.38201421593223095,
          -0.6212905805519496,
          1.5069808387621415,
          -0.26160458098711914,
          -0.4081977076676588,
          0.06513595918607111,
          1.5251829050865908,
          -1.364239429827965,
          -0.5723650046038495,
          -0.35491042630058367,
          0.40182125294929,
          -1.0754453343631818,
          -0.7618618960949269,
          -0.9443244125840022,
          0.8377214807586354,
          -0.031809465745655796,
          -1.0932793443090683,
          0.4765706510147636,
          2.05418105903198,
          0.6394359942486391,
          0.6371385671293637,
          0.2426186474648045,
          -1.0881770872260315,
          -0.5516764613258204,
          -0.11777518422355525,
          0.541620929047994,
          0.2957312870889277,
          0.4429090976829458,
          0.7507240275163064,
          0.006266873749813978,
          1.0006292376829993,
          1.6362468479250005,
          -0.3947402655677738,
          -0.48899105814741345,
          -0.3409198288169905,
          -1.8392733203270557,
          2.0689286752747007,
          -1.0029774967312513,
          -0.6540448424261963,
          -1.0189861726963385,
          1.07798984585544,
          -0.07417500228963209,
          1.9694312682613933,
          -0.6546260721310159,
          -1.854475447570704,
          0.5933309905159341,
          0.2967998336348711,
          0.09463460669330889,
          0.6294080359178124,
          -0.28956562341842773,
          -0.6560223447079263,
          0.3153653081029692,
          -1.5263252201468034,
          1.1928936794991623,
          0.3887480233893524,
          -0.6057963382281494,
          -0.09917451743088809
         ]
        },
        {
         "boxpoints": false,
         "line": {
          "width": 1.3
         },
         "marker": {
          "color": "rgba(55, 128, 191, 1.0)"
         },
         "name": "B",
         "orientation": "v",
         "type": "box",
         "y": [
          -0.5338968153279375,
          -0.737604098516914,
          0.786032577826171,
          -0.18168043763582525,
          0.3948231518046967,
          -1.285656839190833,
          0.4929836120109994,
          0.730148677998628,
          0.6268605758227215,
          -0.5557695793174016,
          -0.40070084283238566,
          -0.04766528323845765,
          1.3308041018589245,
          1.2819449899198534,
          0.8477216185770992,
          -0.8927707828167398,
          0.6494375285903279,
          -1.2050108148432601,
          -0.07473626077998291,
          0.8980669929684267,
          -0.5269968586077552,
          1.6733011574136327,
          -0.15811245055144024,
          -0.7697173802854936,
          -1.0724251934501332,
          2.0162661600162446,
          0.825875520162066,
          1.3431956059693588,
          0.48621638477181517,
          1.9553703128659479,
          -1.2848791904167656,
          1.293267623163678,
          0.22717944081984312,
          0.08644533575156765,
          -0.6200100862166263,
          2.822142109349293,
          0.8261081315305128,
          -1.2264751974926702,
          -0.0886059823022562,
          0.9571956710271053,
          0.08646891800960291,
          -0.34677771441293503,
          0.40851804088487054,
          0.6649783338954706,
          -1.0969296957460855,
          -0.6743437678108863,
          -1.0918800892854403,
          1.3214368372712242,
          -0.489847125076919,
          -0.27283397042230634,
          1.0339465645395904,
          1.678053130552742,
          0.964812094346171,
          0.19271156696874114,
          1.3594228629156795,
          0.7175701611203561,
          0.45770851544861324,
          -0.9127473216263866,
          0.4025668759667475,
          1.240468662104316,
          -0.41875097813805773,
          -1.9458153186721703,
          0.3845377635616228,
          1.1341057816012856,
          1.187647773407586,
          -0.6271936129770707,
          1.529874764186071,
          -0.639045433088632,
          1.245578441840703,
          -1.0598794371239935,
          0.22162474696218795,
          0.714755826671371,
          -0.6464888249376306,
          -0.15991178748956184,
          0.44270651657742105,
          -0.49536621779670165,
          -0.3337392917600911,
          -0.3722023058235199,
          1.7853238046755189,
          0.6672531974451232,
          -0.0629772291874929,
          -0.2679822545976978,
          -0.427960450897043,
          1.2255891597486852,
          1.6349909023914029,
          -1.0990742295726037,
          -0.4031039386900612,
          -1.8840151714757252,
          0.24122678438561407,
          -1.63272285788489,
          -0.45215556888368347,
          0.9996177661914009,
          -0.8972395864459162,
          -0.3852976988003857,
          -1.6048338125867412,
          0.6810799365123126,
          0.6343674901247007,
          0.6846125078879841,
          0.7511672981039151,
          -0.28261636398842405
         ]
        },
        {
         "boxpoints": false,
         "line": {
          "width": 1.3
         },
         "marker": {
          "color": "rgba(50, 171, 96, 1.0)"
         },
         "name": "C",
         "orientation": "v",
         "type": "box",
         "y": [
          -1.7485201069591834,
          -1.248420460246769,
          -1.0075280699285276,
          -0.9725518392526331,
          -0.6125580000788612,
          1.5760168254053477,
          3.1112798898969665,
          0.12091950003886064,
          -1.7155531562944366,
          -0.8096404549948362,
          -0.5060314294593212,
          0.09533818535459651,
          2.1690743098645586,
          1.2080495707997074,
          -2.6202202715084986,
          0.09767169102789787,
          -1.2819820037327558,
          0.13518469888419476,
          -3.084790549939067,
          -0.0928415934708775,
          1.1239154243379592,
          0.5284989727147826,
          1.780036515541744,
          -0.3670349035589682,
          0.991359504796717,
          1.0980606254994498,
          0.05889203924934366,
          1.3520304892360469,
          -2.2532625362966905,
          2.511047084901181,
          1.4777598495378366,
          0.7107639517827246,
          0.9905571434022301,
          0.4939042051628568,
          -0.30318369202593204,
          -0.20572389186947077,
          1.5111963961491124,
          0.818542866015444,
          1.405947976651865,
          0.07589676612528864,
          -1.6150177283856333,
          0.4829498586775949,
          -1.0020525017535273,
          0.48705033350238613,
          0.7893913940389492,
          1.042603772749581,
          0.7023316180161469,
          0.9989523840144684,
          -0.8679755846735273,
          -0.3498252885375398,
          0.676618385436938,
          0.04081092286680008,
          0.3610496227384134,
          -0.10556015372926142,
          -0.5683480892831416,
          -0.5250362254432627,
          -1.209124371647606,
          1.1859934357640527,
          -0.6432401817537491,
          1.5482412077671712,
          -0.9114281767939825,
          0.27412471147018425,
          1.5136983928699403,
          1.811251440223618,
          -1.1407022465952563,
          -0.11489383916197456,
          -0.18828021095885358,
          1.3309600894134206,
          -1.846507522364263,
          -0.3795601778584485,
          0.724337773539108,
          0.608226848828633,
          2.145322528431656,
          -1.316798218389222,
          -0.0561128168489964,
          0.6962038416091032,
          0.6021415493331566,
          -0.962852009548119,
          -0.8064038979687622,
          -1.8281566150887754,
          -1.3891228837001643,
          -0.8274390005044422,
          -0.6016672382221137,
          -0.8894914442305945,
          0.5220285374608629,
          -0.5593335491776248,
          1.5660959296870434,
          -1.1105594030213204,
          -0.9716912024083473,
          0.8155124851298962,
          0.4608813156671842,
          0.8719395265683174,
          -0.315649587010231,
          0.47345649994695366,
          -0.09303806480081672,
          -0.3039382915405551,
          -0.9049587882620793,
          -0.8812215048138823,
          0.8136540326243287,
          -1.586615858482131
         ]
        },
        {
         "boxpoints": false,
         "line": {
          "width": 1.3
         },
         "marker": {
          "color": "rgba(128, 0, 128, 1.0)"
         },
         "name": "D",
         "orientation": "v",
         "type": "box",
         "y": [
          2.400910959817672,
          0.6819598149990173,
          -0.6232220194147332,
          0.7887395442388007,
          -1.301788145951858,
          0.04298717719900988,
          -0.337606399168051,
          -0.3490972931123941,
          -0.5068354424402199,
          -0.3116103659287749,
          1.0846448965688362,
          0.7977311205483589,
          -1.1431753830869036,
          -0.3186293795663426,
          -1.750924615250202,
          -2.9488522016425787,
          1.0169344193039447,
          2.050260613333816,
          -1.5193722818685347,
          -0.5621209693088283,
          -0.5330376530210282,
          -2.8566440070623837,
          0.78605289587328,
          0.6611326911720234,
          0.5281680667288813,
          0.25602262924607333,
          -0.2421640457669898,
          0.6945191944719256,
          0.20354542028254255,
          1.8725122134796268,
          -0.36854262725668063,
          -0.12557761460437292,
          -1.1779969538295298,
          0.8337681119216217,
          -1.5967903515443078,
          -0.04603274957753495,
          0.8577657360409547,
          0.7615458964802142,
          -0.14898456791709666,
          1.5661071602007113,
          -0.026215842003465106,
          -1.082701548546245,
          1.291549300882984,
          0.660437905490934,
          0.7527743950155561,
          0.1931582437842661,
          0.28666233615420045,
          -1.3854754111964733,
          1.1329097329405442,
          -0.1666932286083753,
          1.0478947021859135,
          -1.8983432266477809,
          1.6402811698311521,
          0.7327081792627386,
          -1.1965885360578552,
          -1.1112064603879197,
          -0.27374826444604033,
          -0.3001220396103051,
          -0.5899607786100437,
          0.7028745544320834,
          -0.09837521162133121,
          -1.9735466621727498,
          -0.20186640833230038,
          1.0704831627253344,
          0.9826482537507075,
          -1.5718950401733178,
          -2.147274930201117,
          -0.6141840005922726,
          -2.350297390865512,
          -1.1963069467822,
          -1.2615040276058762,
          -0.07541991306592753,
          -0.5688190765678266,
          0.9355969297751028,
          -2.2030141721337824,
          -0.07365859575543833,
          -0.5432217858757188,
          0.0661776750639695,
          -0.9330942246422116,
          1.048692435536162,
          1.308334734308985,
          -0.28020285246212434,
          -0.7302103967012064,
          -0.23986559247048359,
          -0.20001295011184908,
          -1.536716833187831,
          -0.25617333188326635,
          -1.2055988763345966,
          -2.1354257691690695,
          1.3616065782581308,
          0.397343084340552,
          0.46338631253367857,
          -0.6698575399509631,
          -0.2403364364402599,
          -0.6986079146756682,
          -1.4686138159507987,
          -0.27074685859711606,
          0.5755507541235156,
          -2.2020184068867,
          -0.3417824817094762
         ]
        }
       ],
       "layout": {
        "legend": {
         "bgcolor": "#F5F6F9",
         "font": {
          "color": "#4D5663"
         }
        },
        "paper_bgcolor": "#F5F6F9",
        "plot_bgcolor": "#F5F6F9",
        "template": {
         "data": {
          "bar": [
           {
            "error_x": {
             "color": "#2a3f5f"
            },
            "error_y": {
             "color": "#2a3f5f"
            },
            "marker": {
             "line": {
              "color": "#E5ECF6",
              "width": 0.5
             }
            },
            "type": "bar"
           }
          ],
          "barpolar": [
           {
            "marker": {
             "line": {
              "color": "#E5ECF6",
              "width": 0.5
             }
            },
            "type": "barpolar"
           }
          ],
          "carpet": [
           {
            "aaxis": {
             "endlinecolor": "#2a3f5f",
             "gridcolor": "white",
             "linecolor": "white",
             "minorgridcolor": "white",
             "startlinecolor": "#2a3f5f"
            },
            "baxis": {
             "endlinecolor": "#2a3f5f",
             "gridcolor": "white",
             "linecolor": "white",
             "minorgridcolor": "white",
             "startlinecolor": "#2a3f5f"
            },
            "type": "carpet"
           }
          ],
          "choropleth": [
           {
            "colorbar": {
             "outlinewidth": 0,
             "ticks": ""
            },
            "type": "choropleth"
           }
          ],
          "contour": [
           {
            "colorbar": {
             "outlinewidth": 0,
             "ticks": ""
            },
            "colorscale": [
             [
              0,
              "#0d0887"
             ],
             [
              0.1111111111111111,
              "#46039f"
             ],
             [
              0.2222222222222222,
              "#7201a8"
             ],
             [
              0.3333333333333333,
              "#9c179e"
             ],
             [
              0.4444444444444444,
              "#bd3786"
             ],
             [
              0.5555555555555556,
              "#d8576b"
             ],
             [
              0.6666666666666666,
              "#ed7953"
             ],
             [
              0.7777777777777778,
              "#fb9f3a"
             ],
             [
              0.8888888888888888,
              "#fdca26"
             ],
             [
              1,
              "#f0f921"
             ]
            ],
            "type": "contour"
           }
          ],
          "contourcarpet": [
           {
            "colorbar": {
             "outlinewidth": 0,
             "ticks": ""
            },
            "type": "contourcarpet"
           }
          ],
          "heatmap": [
           {
            "colorbar": {
             "outlinewidth": 0,
             "ticks": ""
            },
            "colorscale": [
             [
              0,
              "#0d0887"
             ],
             [
              0.1111111111111111,
              "#46039f"
             ],
             [
              0.2222222222222222,
              "#7201a8"
             ],
             [
              0.3333333333333333,
              "#9c179e"
             ],
             [
              0.4444444444444444,
              "#bd3786"
             ],
             [
              0.5555555555555556,
              "#d8576b"
             ],
             [
              0.6666666666666666,
              "#ed7953"
             ],
             [
              0.7777777777777778,
              "#fb9f3a"
             ],
             [
              0.8888888888888888,
              "#fdca26"
             ],
             [
              1,
              "#f0f921"
             ]
            ],
            "type": "heatmap"
           }
          ],
          "heatmapgl": [
           {
            "colorbar": {
             "outlinewidth": 0,
             "ticks": ""
            },
            "colorscale": [
             [
              0,
              "#0d0887"
             ],
             [
              0.1111111111111111,
              "#46039f"
             ],
             [
              0.2222222222222222,
              "#7201a8"
             ],
             [
              0.3333333333333333,
              "#9c179e"
             ],
             [
              0.4444444444444444,
              "#bd3786"
             ],
             [
              0.5555555555555556,
              "#d8576b"
             ],
             [
              0.6666666666666666,
              "#ed7953"
             ],
             [
              0.7777777777777778,
              "#fb9f3a"
             ],
             [
              0.8888888888888888,
              "#fdca26"
             ],
             [
              1,
              "#f0f921"
             ]
            ],
            "type": "heatmapgl"
           }
          ],
          "histogram": [
           {
            "marker": {
             "colorbar": {
              "outlinewidth": 0,
              "ticks": ""
             }
            },
            "type": "histogram"
           }
          ],
          "histogram2d": [
           {
            "colorbar": {
             "outlinewidth": 0,
             "ticks": ""
            },
            "colorscale": [
             [
              0,
              "#0d0887"
             ],
             [
              0.1111111111111111,
              "#46039f"
             ],
             [
              0.2222222222222222,
              "#7201a8"
             ],
             [
              0.3333333333333333,
              "#9c179e"
             ],
             [
              0.4444444444444444,
              "#bd3786"
             ],
             [
              0.5555555555555556,
              "#d8576b"
             ],
             [
              0.6666666666666666,
              "#ed7953"
             ],
             [
              0.7777777777777778,
              "#fb9f3a"
             ],
             [
              0.8888888888888888,
              "#fdca26"
             ],
             [
              1,
              "#f0f921"
             ]
            ],
            "type": "histogram2d"
           }
          ],
          "histogram2dcontour": [
           {
            "colorbar": {
             "outlinewidth": 0,
             "ticks": ""
            },
            "colorscale": [
             [
              0,
              "#0d0887"
             ],
             [
              0.1111111111111111,
              "#46039f"
             ],
             [
              0.2222222222222222,
              "#7201a8"
             ],
             [
              0.3333333333333333,
              "#9c179e"
             ],
             [
              0.4444444444444444,
              "#bd3786"
             ],
             [
              0.5555555555555556,
              "#d8576b"
             ],
             [
              0.6666666666666666,
              "#ed7953"
             ],
             [
              0.7777777777777778,
              "#fb9f3a"
             ],
             [
              0.8888888888888888,
              "#fdca26"
             ],
             [
              1,
              "#f0f921"
             ]
            ],
            "type": "histogram2dcontour"
           }
          ],
          "mesh3d": [
           {
            "colorbar": {
             "outlinewidth": 0,
             "ticks": ""
            },
            "type": "mesh3d"
           }
          ],
          "parcoords": [
           {
            "line": {
             "colorbar": {
              "outlinewidth": 0,
              "ticks": ""
             }
            },
            "type": "parcoords"
           }
          ],
          "pie": [
           {
            "automargin": true,
            "type": "pie"
           }
          ],
          "scatter": [
           {
            "marker": {
             "colorbar": {
              "outlinewidth": 0,
              "ticks": ""
             }
            },
            "type": "scatter"
           }
          ],
          "scatter3d": [
           {
            "line": {
             "colorbar": {
              "outlinewidth": 0,
              "ticks": ""
             }
            },
            "marker": {
             "colorbar": {
              "outlinewidth": 0,
              "ticks": ""
             }
            },
            "type": "scatter3d"
           }
          ],
          "scattercarpet": [
           {
            "marker": {
             "colorbar": {
              "outlinewidth": 0,
              "ticks": ""
             }
            },
            "type": "scattercarpet"
           }
          ],
          "scattergeo": [
           {
            "marker": {
             "colorbar": {
              "outlinewidth": 0,
              "ticks": ""
             }
            },
            "type": "scattergeo"
           }
          ],
          "scattergl": [
           {
            "marker": {
             "colorbar": {
              "outlinewidth": 0,
              "ticks": ""
             }
            },
            "type": "scattergl"
           }
          ],
          "scattermapbox": [
           {
            "marker": {
             "colorbar": {
              "outlinewidth": 0,
              "ticks": ""
             }
            },
            "type": "scattermapbox"
           }
          ],
          "scatterpolar": [
           {
            "marker": {
             "colorbar": {
              "outlinewidth": 0,
              "ticks": ""
             }
            },
            "type": "scatterpolar"
           }
          ],
          "scatterpolargl": [
           {
            "marker": {
             "colorbar": {
              "outlinewidth": 0,
              "ticks": ""
             }
            },
            "type": "scatterpolargl"
           }
          ],
          "scatterternary": [
           {
            "marker": {
             "colorbar": {
              "outlinewidth": 0,
              "ticks": ""
             }
            },
            "type": "scatterternary"
           }
          ],
          "surface": [
           {
            "colorbar": {
             "outlinewidth": 0,
             "ticks": ""
            },
            "colorscale": [
             [
              0,
              "#0d0887"
             ],
             [
              0.1111111111111111,
              "#46039f"
             ],
             [
              0.2222222222222222,
              "#7201a8"
             ],
             [
              0.3333333333333333,
              "#9c179e"
             ],
             [
              0.4444444444444444,
              "#bd3786"
             ],
             [
              0.5555555555555556,
              "#d8576b"
             ],
             [
              0.6666666666666666,
              "#ed7953"
             ],
             [
              0.7777777777777778,
              "#fb9f3a"
             ],
             [
              0.8888888888888888,
              "#fdca26"
             ],
             [
              1,
              "#f0f921"
             ]
            ],
            "type": "surface"
           }
          ],
          "table": [
           {
            "cells": {
             "fill": {
              "color": "#EBF0F8"
             },
             "line": {
              "color": "white"
             }
            },
            "header": {
             "fill": {
              "color": "#C8D4E3"
             },
             "line": {
              "color": "white"
             }
            },
            "type": "table"
           }
          ]
         },
         "layout": {
          "annotationdefaults": {
           "arrowcolor": "#2a3f5f",
           "arrowhead": 0,
           "arrowwidth": 1
          },
          "coloraxis": {
           "colorbar": {
            "outlinewidth": 0,
            "ticks": ""
           }
          },
          "colorscale": {
           "diverging": [
            [
             0,
             "#8e0152"
            ],
            [
             0.1,
             "#c51b7d"
            ],
            [
             0.2,
             "#de77ae"
            ],
            [
             0.3,
             "#f1b6da"
            ],
            [
             0.4,
             "#fde0ef"
            ],
            [
             0.5,
             "#f7f7f7"
            ],
            [
             0.6,
             "#e6f5d0"
            ],
            [
             0.7,
             "#b8e186"
            ],
            [
             0.8,
             "#7fbc41"
            ],
            [
             0.9,
             "#4d9221"
            ],
            [
             1,
             "#276419"
            ]
           ],
           "sequential": [
            [
             0,
             "#0d0887"
            ],
            [
             0.1111111111111111,
             "#46039f"
            ],
            [
             0.2222222222222222,
             "#7201a8"
            ],
            [
             0.3333333333333333,
             "#9c179e"
            ],
            [
             0.4444444444444444,
             "#bd3786"
            ],
            [
             0.5555555555555556,
             "#d8576b"
            ],
            [
             0.6666666666666666,
             "#ed7953"
            ],
            [
             0.7777777777777778,
             "#fb9f3a"
            ],
            [
             0.8888888888888888,
             "#fdca26"
            ],
            [
             1,
             "#f0f921"
            ]
           ],
           "sequentialminus": [
            [
             0,
             "#0d0887"
            ],
            [
             0.1111111111111111,
             "#46039f"
            ],
            [
             0.2222222222222222,
             "#7201a8"
            ],
            [
             0.3333333333333333,
             "#9c179e"
            ],
            [
             0.4444444444444444,
             "#bd3786"
            ],
            [
             0.5555555555555556,
             "#d8576b"
            ],
            [
             0.6666666666666666,
             "#ed7953"
            ],
            [
             0.7777777777777778,
             "#fb9f3a"
            ],
            [
             0.8888888888888888,
             "#fdca26"
            ],
            [
             1,
             "#f0f921"
            ]
           ]
          },
          "colorway": [
           "#636efa",
           "#EF553B",
           "#00cc96",
           "#ab63fa",
           "#FFA15A",
           "#19d3f3",
           "#FF6692",
           "#B6E880",
           "#FF97FF",
           "#FECB52"
          ],
          "font": {
           "color": "#2a3f5f"
          },
          "geo": {
           "bgcolor": "white",
           "lakecolor": "white",
           "landcolor": "#E5ECF6",
           "showlakes": true,
           "showland": true,
           "subunitcolor": "white"
          },
          "hoverlabel": {
           "align": "left"
          },
          "hovermode": "closest",
          "mapbox": {
           "style": "light"
          },
          "paper_bgcolor": "white",
          "plot_bgcolor": "#E5ECF6",
          "polar": {
           "angularaxis": {
            "gridcolor": "white",
            "linecolor": "white",
            "ticks": ""
           },
           "bgcolor": "#E5ECF6",
           "radialaxis": {
            "gridcolor": "white",
            "linecolor": "white",
            "ticks": ""
           }
          },
          "scene": {
           "xaxis": {
            "backgroundcolor": "#E5ECF6",
            "gridcolor": "white",
            "gridwidth": 2,
            "linecolor": "white",
            "showbackground": true,
            "ticks": "",
            "zerolinecolor": "white"
           },
           "yaxis": {
            "backgroundcolor": "#E5ECF6",
            "gridcolor": "white",
            "gridwidth": 2,
            "linecolor": "white",
            "showbackground": true,
            "ticks": "",
            "zerolinecolor": "white"
           },
           "zaxis": {
            "backgroundcolor": "#E5ECF6",
            "gridcolor": "white",
            "gridwidth": 2,
            "linecolor": "white",
            "showbackground": true,
            "ticks": "",
            "zerolinecolor": "white"
           }
          },
          "shapedefaults": {
           "line": {
            "color": "#2a3f5f"
           }
          },
          "ternary": {
           "aaxis": {
            "gridcolor": "white",
            "linecolor": "white",
            "ticks": ""
           },
           "baxis": {
            "gridcolor": "white",
            "linecolor": "white",
            "ticks": ""
           },
           "bgcolor": "#E5ECF6",
           "caxis": {
            "gridcolor": "white",
            "linecolor": "white",
            "ticks": ""
           }
          },
          "title": {
           "x": 0.05
          },
          "xaxis": {
           "automargin": true,
           "gridcolor": "white",
           "linecolor": "white",
           "ticks": "",
           "title": {
            "standoff": 15
           },
           "zerolinecolor": "white",
           "zerolinewidth": 2
          },
          "yaxis": {
           "automargin": true,
           "gridcolor": "white",
           "linecolor": "white",
           "ticks": "",
           "title": {
            "standoff": 15
           },
           "zerolinecolor": "white",
           "zerolinewidth": 2
          }
         }
        },
        "title": {
         "font": {
          "color": "#4D5663"
         }
        },
        "xaxis": {
         "gridcolor": "#E1E5ED",
         "showgrid": true,
         "tickfont": {
          "color": "#4D5663"
         },
         "title": {
          "font": {
           "color": "#4D5663"
          },
          "text": ""
         },
         "zerolinecolor": "#E1E5ED"
        },
        "yaxis": {
         "gridcolor": "#E1E5ED",
         "showgrid": true,
         "tickfont": {
          "color": "#4D5663"
         },
         "title": {
          "font": {
           "color": "#4D5663"
          },
          "text": ""
         },
         "zerolinecolor": "#E1E5ED"
        }
       }
      },
      "text/html": [
       "<div>\n",
       "        \n",
       "        \n",
       "            <div id=\"79a7e5ac-88bd-4d66-ac91-edbf16added9\" class=\"plotly-graph-div\" style=\"height:525px; width:100%;\"></div>\n",
       "            <script type=\"text/javascript\">\n",
       "                require([\"plotly\"], function(Plotly) {\n",
       "                    window.PLOTLYENV=window.PLOTLYENV || {};\n",
       "                    window.PLOTLYENV.BASE_URL='https://plot.ly';\n",
       "                    \n",
       "                if (document.getElementById(\"79a7e5ac-88bd-4d66-ac91-edbf16added9\")) {\n",
       "                    Plotly.newPlot(\n",
       "                        '79a7e5ac-88bd-4d66-ac91-edbf16added9',\n",
       "                        [{\"boxpoints\": false, \"line\": {\"width\": 1.3}, \"marker\": {\"color\": \"rgba(255, 153, 51, 1.0)\"}, \"name\": \"A\", \"orientation\": \"v\", \"type\": \"box\", \"y\": [0.27442011925577803, 0.4966318940744484, 0.9235787135880593, -1.3078878995183352, 1.029829990968547, 0.8768161316518825, 1.7607058214307147, -1.3352873795477167, -1.2398425570338618, 1.5554085396300308, 0.10574878112682273, 0.02877669534919826, 0.14547075907513576, 1.0931273800644667, 0.6761310088429014, 0.2784728536362254, -0.1660772458435563, -1.3210450424175817, 0.5718288528568582, 0.14355910285361492, -0.015859406501193326, 1.213306555373937, 0.4930056971125333, 0.9639894896117828, -1.6921012175771217, -1.4497539051335953, 0.5452526346624451, -0.645093482314308, -0.21143817105405713, 2.025199604317894, 1.0647915440432545, -0.9974086869972061, -0.026009175991362356, 0.8223224835488065, -0.6874438195145413, -1.1633762926469993, -2.1889031235002805, -1.6981324604478112, -0.8322915772080726, 0.8457591850393001, 2.1442085506693567, -1.5640271898647706, 0.7744562894683265, -0.38201421593223095, -0.6212905805519496, 1.5069808387621415, -0.26160458098711914, -0.4081977076676588, 0.06513595918607111, 1.5251829050865908, -1.364239429827965, -0.5723650046038495, -0.35491042630058367, 0.40182125294929, -1.0754453343631818, -0.7618618960949269, -0.9443244125840022, 0.8377214807586354, -0.031809465745655796, -1.0932793443090683, 0.4765706510147636, 2.05418105903198, 0.6394359942486391, 0.6371385671293637, 0.2426186474648045, -1.0881770872260315, -0.5516764613258204, -0.11777518422355525, 0.541620929047994, 0.2957312870889277, 0.4429090976829458, 0.7507240275163064, 0.006266873749813978, 1.0006292376829993, 1.6362468479250005, -0.3947402655677738, -0.48899105814741345, -0.3409198288169905, -1.8392733203270557, 2.0689286752747007, -1.0029774967312513, -0.6540448424261963, -1.0189861726963385, 1.07798984585544, -0.07417500228963209, 1.9694312682613933, -0.6546260721310159, -1.854475447570704, 0.5933309905159341, 0.2967998336348711, 0.09463460669330889, 0.6294080359178124, -0.28956562341842773, -0.6560223447079263, 0.3153653081029692, -1.5263252201468034, 1.1928936794991623, 0.3887480233893524, -0.6057963382281494, -0.09917451743088809]}, {\"boxpoints\": false, \"line\": {\"width\": 1.3}, \"marker\": {\"color\": \"rgba(55, 128, 191, 1.0)\"}, \"name\": \"B\", \"orientation\": \"v\", \"type\": \"box\", \"y\": [-0.5338968153279375, -0.737604098516914, 0.786032577826171, -0.18168043763582525, 0.3948231518046967, -1.285656839190833, 0.4929836120109994, 0.730148677998628, 0.6268605758227215, -0.5557695793174016, -0.40070084283238566, -0.04766528323845765, 1.3308041018589245, 1.2819449899198534, 0.8477216185770992, -0.8927707828167398, 0.6494375285903279, -1.2050108148432601, -0.07473626077998291, 0.8980669929684267, -0.5269968586077552, 1.6733011574136327, -0.15811245055144024, -0.7697173802854936, -1.0724251934501332, 2.0162661600162446, 0.825875520162066, 1.3431956059693588, 0.48621638477181517, 1.9553703128659479, -1.2848791904167656, 1.293267623163678, 0.22717944081984312, 0.08644533575156765, -0.6200100862166263, 2.822142109349293, 0.8261081315305128, -1.2264751974926702, -0.0886059823022562, 0.9571956710271053, 0.08646891800960291, -0.34677771441293503, 0.40851804088487054, 0.6649783338954706, -1.0969296957460855, -0.6743437678108863, -1.0918800892854403, 1.3214368372712242, -0.489847125076919, -0.27283397042230634, 1.0339465645395904, 1.678053130552742, 0.964812094346171, 0.19271156696874114, 1.3594228629156795, 0.7175701611203561, 0.45770851544861324, -0.9127473216263866, 0.4025668759667475, 1.240468662104316, -0.41875097813805773, -1.9458153186721703, 0.3845377635616228, 1.1341057816012856, 1.187647773407586, -0.6271936129770707, 1.529874764186071, -0.639045433088632, 1.245578441840703, -1.0598794371239935, 0.22162474696218795, 0.714755826671371, -0.6464888249376306, -0.15991178748956184, 0.44270651657742105, -0.49536621779670165, -0.3337392917600911, -0.3722023058235199, 1.7853238046755189, 0.6672531974451232, -0.0629772291874929, -0.2679822545976978, -0.427960450897043, 1.2255891597486852, 1.6349909023914029, -1.0990742295726037, -0.4031039386900612, -1.8840151714757252, 0.24122678438561407, -1.63272285788489, -0.45215556888368347, 0.9996177661914009, -0.8972395864459162, -0.3852976988003857, -1.6048338125867412, 0.6810799365123126, 0.6343674901247007, 0.6846125078879841, 0.7511672981039151, -0.28261636398842405]}, {\"boxpoints\": false, \"line\": {\"width\": 1.3}, \"marker\": {\"color\": \"rgba(50, 171, 96, 1.0)\"}, \"name\": \"C\", \"orientation\": \"v\", \"type\": \"box\", \"y\": [-1.7485201069591834, -1.248420460246769, -1.0075280699285276, -0.9725518392526331, -0.6125580000788612, 1.5760168254053477, 3.1112798898969665, 0.12091950003886064, -1.7155531562944366, -0.8096404549948362, -0.5060314294593212, 0.09533818535459651, 2.1690743098645586, 1.2080495707997074, -2.6202202715084986, 0.09767169102789787, -1.2819820037327558, 0.13518469888419476, -3.084790549939067, -0.0928415934708775, 1.1239154243379592, 0.5284989727147826, 1.780036515541744, -0.3670349035589682, 0.991359504796717, 1.0980606254994498, 0.05889203924934366, 1.3520304892360469, -2.2532625362966905, 2.511047084901181, 1.4777598495378366, 0.7107639517827246, 0.9905571434022301, 0.4939042051628568, -0.30318369202593204, -0.20572389186947077, 1.5111963961491124, 0.818542866015444, 1.405947976651865, 0.07589676612528864, -1.6150177283856333, 0.4829498586775949, -1.0020525017535273, 0.48705033350238613, 0.7893913940389492, 1.042603772749581, 0.7023316180161469, 0.9989523840144684, -0.8679755846735273, -0.3498252885375398, 0.676618385436938, 0.04081092286680008, 0.3610496227384134, -0.10556015372926142, -0.5683480892831416, -0.5250362254432627, -1.209124371647606, 1.1859934357640527, -0.6432401817537491, 1.5482412077671712, -0.9114281767939825, 0.27412471147018425, 1.5136983928699403, 1.811251440223618, -1.1407022465952563, -0.11489383916197456, -0.18828021095885358, 1.3309600894134206, -1.846507522364263, -0.3795601778584485, 0.724337773539108, 0.608226848828633, 2.145322528431656, -1.316798218389222, -0.0561128168489964, 0.6962038416091032, 0.6021415493331566, -0.962852009548119, -0.8064038979687622, -1.8281566150887754, -1.3891228837001643, -0.8274390005044422, -0.6016672382221137, -0.8894914442305945, 0.5220285374608629, -0.5593335491776248, 1.5660959296870434, -1.1105594030213204, -0.9716912024083473, 0.8155124851298962, 0.4608813156671842, 0.8719395265683174, -0.315649587010231, 0.47345649994695366, -0.09303806480081672, -0.3039382915405551, -0.9049587882620793, -0.8812215048138823, 0.8136540326243287, -1.586615858482131]}, {\"boxpoints\": false, \"line\": {\"width\": 1.3}, \"marker\": {\"color\": \"rgba(128, 0, 128, 1.0)\"}, \"name\": \"D\", \"orientation\": \"v\", \"type\": \"box\", \"y\": [2.400910959817672, 0.6819598149990173, -0.6232220194147332, 0.7887395442388007, -1.301788145951858, 0.04298717719900988, -0.337606399168051, -0.3490972931123941, -0.5068354424402199, -0.3116103659287749, 1.0846448965688362, 0.7977311205483589, -1.1431753830869036, -0.3186293795663426, -1.750924615250202, -2.9488522016425787, 1.0169344193039447, 2.050260613333816, -1.5193722818685347, -0.5621209693088283, -0.5330376530210282, -2.8566440070623837, 0.78605289587328, 0.6611326911720234, 0.5281680667288813, 0.25602262924607333, -0.2421640457669898, 0.6945191944719256, 0.20354542028254255, 1.8725122134796268, -0.36854262725668063, -0.12557761460437292, -1.1779969538295298, 0.8337681119216217, -1.5967903515443078, -0.04603274957753495, 0.8577657360409547, 0.7615458964802142, -0.14898456791709666, 1.5661071602007113, -0.026215842003465106, -1.082701548546245, 1.291549300882984, 0.660437905490934, 0.7527743950155561, 0.1931582437842661, 0.28666233615420045, -1.3854754111964733, 1.1329097329405442, -0.1666932286083753, 1.0478947021859135, -1.8983432266477809, 1.6402811698311521, 0.7327081792627386, -1.1965885360578552, -1.1112064603879197, -0.27374826444604033, -0.3001220396103051, -0.5899607786100437, 0.7028745544320834, -0.09837521162133121, -1.9735466621727498, -0.20186640833230038, 1.0704831627253344, 0.9826482537507075, -1.5718950401733178, -2.147274930201117, -0.6141840005922726, -2.350297390865512, -1.1963069467822, -1.2615040276058762, -0.07541991306592753, -0.5688190765678266, 0.9355969297751028, -2.2030141721337824, -0.07365859575543833, -0.5432217858757188, 0.0661776750639695, -0.9330942246422116, 1.048692435536162, 1.308334734308985, -0.28020285246212434, -0.7302103967012064, -0.23986559247048359, -0.20001295011184908, -1.536716833187831, -0.25617333188326635, -1.2055988763345966, -2.1354257691690695, 1.3616065782581308, 0.397343084340552, 0.46338631253367857, -0.6698575399509631, -0.2403364364402599, -0.6986079146756682, -1.4686138159507987, -0.27074685859711606, 0.5755507541235156, -2.2020184068867, -0.3417824817094762]}],\n",
       "                        {\"legend\": {\"bgcolor\": \"#F5F6F9\", \"font\": {\"color\": \"#4D5663\"}}, \"paper_bgcolor\": \"#F5F6F9\", \"plot_bgcolor\": \"#F5F6F9\", \"template\": {\"data\": {\"bar\": [{\"error_x\": {\"color\": \"#2a3f5f\"}, \"error_y\": {\"color\": \"#2a3f5f\"}, \"marker\": {\"line\": {\"color\": \"#E5ECF6\", \"width\": 0.5}}, \"type\": \"bar\"}], \"barpolar\": [{\"marker\": {\"line\": {\"color\": \"#E5ECF6\", \"width\": 0.5}}, \"type\": \"barpolar\"}], \"carpet\": [{\"aaxis\": {\"endlinecolor\": \"#2a3f5f\", \"gridcolor\": \"white\", \"linecolor\": \"white\", \"minorgridcolor\": \"white\", \"startlinecolor\": \"#2a3f5f\"}, \"baxis\": {\"endlinecolor\": \"#2a3f5f\", \"gridcolor\": \"white\", \"linecolor\": \"white\", \"minorgridcolor\": \"white\", \"startlinecolor\": \"#2a3f5f\"}, \"type\": \"carpet\"}], \"choropleth\": [{\"colorbar\": {\"outlinewidth\": 0, \"ticks\": \"\"}, \"type\": \"choropleth\"}], \"contour\": [{\"colorbar\": {\"outlinewidth\": 0, \"ticks\": \"\"}, \"colorscale\": [[0.0, \"#0d0887\"], [0.1111111111111111, \"#46039f\"], [0.2222222222222222, \"#7201a8\"], [0.3333333333333333, \"#9c179e\"], [0.4444444444444444, \"#bd3786\"], [0.5555555555555556, \"#d8576b\"], [0.6666666666666666, \"#ed7953\"], [0.7777777777777778, \"#fb9f3a\"], [0.8888888888888888, \"#fdca26\"], [1.0, \"#f0f921\"]], \"type\": \"contour\"}], \"contourcarpet\": [{\"colorbar\": {\"outlinewidth\": 0, \"ticks\": \"\"}, \"type\": \"contourcarpet\"}], \"heatmap\": [{\"colorbar\": {\"outlinewidth\": 0, \"ticks\": \"\"}, \"colorscale\": [[0.0, \"#0d0887\"], [0.1111111111111111, \"#46039f\"], [0.2222222222222222, \"#7201a8\"], [0.3333333333333333, \"#9c179e\"], [0.4444444444444444, \"#bd3786\"], [0.5555555555555556, \"#d8576b\"], [0.6666666666666666, \"#ed7953\"], [0.7777777777777778, \"#fb9f3a\"], [0.8888888888888888, \"#fdca26\"], [1.0, \"#f0f921\"]], \"type\": \"heatmap\"}], \"heatmapgl\": [{\"colorbar\": {\"outlinewidth\": 0, \"ticks\": \"\"}, \"colorscale\": [[0.0, \"#0d0887\"], [0.1111111111111111, \"#46039f\"], [0.2222222222222222, \"#7201a8\"], [0.3333333333333333, \"#9c179e\"], [0.4444444444444444, \"#bd3786\"], [0.5555555555555556, \"#d8576b\"], [0.6666666666666666, \"#ed7953\"], [0.7777777777777778, \"#fb9f3a\"], [0.8888888888888888, \"#fdca26\"], [1.0, \"#f0f921\"]], \"type\": \"heatmapgl\"}], \"histogram\": [{\"marker\": {\"colorbar\": {\"outlinewidth\": 0, \"ticks\": \"\"}}, \"type\": \"histogram\"}], \"histogram2d\": [{\"colorbar\": {\"outlinewidth\": 0, \"ticks\": \"\"}, \"colorscale\": [[0.0, \"#0d0887\"], [0.1111111111111111, \"#46039f\"], [0.2222222222222222, \"#7201a8\"], [0.3333333333333333, \"#9c179e\"], [0.4444444444444444, \"#bd3786\"], [0.5555555555555556, \"#d8576b\"], [0.6666666666666666, \"#ed7953\"], [0.7777777777777778, \"#fb9f3a\"], [0.8888888888888888, \"#fdca26\"], [1.0, \"#f0f921\"]], \"type\": \"histogram2d\"}], \"histogram2dcontour\": [{\"colorbar\": {\"outlinewidth\": 0, \"ticks\": \"\"}, \"colorscale\": [[0.0, \"#0d0887\"], [0.1111111111111111, \"#46039f\"], [0.2222222222222222, \"#7201a8\"], [0.3333333333333333, \"#9c179e\"], [0.4444444444444444, \"#bd3786\"], [0.5555555555555556, \"#d8576b\"], [0.6666666666666666, \"#ed7953\"], [0.7777777777777778, \"#fb9f3a\"], [0.8888888888888888, \"#fdca26\"], [1.0, \"#f0f921\"]], \"type\": \"histogram2dcontour\"}], \"mesh3d\": [{\"colorbar\": {\"outlinewidth\": 0, \"ticks\": \"\"}, \"type\": \"mesh3d\"}], \"parcoords\": [{\"line\": {\"colorbar\": {\"outlinewidth\": 0, \"ticks\": \"\"}}, \"type\": \"parcoords\"}], \"pie\": [{\"automargin\": true, \"type\": \"pie\"}], \"scatter\": [{\"marker\": {\"colorbar\": {\"outlinewidth\": 0, \"ticks\": \"\"}}, \"type\": \"scatter\"}], \"scatter3d\": [{\"line\": {\"colorbar\": {\"outlinewidth\": 0, \"ticks\": \"\"}}, \"marker\": {\"colorbar\": {\"outlinewidth\": 0, \"ticks\": \"\"}}, \"type\": \"scatter3d\"}], \"scattercarpet\": [{\"marker\": {\"colorbar\": {\"outlinewidth\": 0, \"ticks\": \"\"}}, \"type\": \"scattercarpet\"}], \"scattergeo\": [{\"marker\": {\"colorbar\": {\"outlinewidth\": 0, \"ticks\": \"\"}}, \"type\": \"scattergeo\"}], \"scattergl\": [{\"marker\": {\"colorbar\": {\"outlinewidth\": 0, \"ticks\": \"\"}}, \"type\": \"scattergl\"}], \"scattermapbox\": [{\"marker\": {\"colorbar\": {\"outlinewidth\": 0, \"ticks\": \"\"}}, \"type\": \"scattermapbox\"}], \"scatterpolar\": [{\"marker\": {\"colorbar\": {\"outlinewidth\": 0, \"ticks\": \"\"}}, \"type\": \"scatterpolar\"}], \"scatterpolargl\": [{\"marker\": {\"colorbar\": {\"outlinewidth\": 0, \"ticks\": \"\"}}, \"type\": \"scatterpolargl\"}], \"scatterternary\": [{\"marker\": {\"colorbar\": {\"outlinewidth\": 0, \"ticks\": \"\"}}, \"type\": \"scatterternary\"}], \"surface\": [{\"colorbar\": {\"outlinewidth\": 0, \"ticks\": \"\"}, \"colorscale\": [[0.0, \"#0d0887\"], [0.1111111111111111, \"#46039f\"], [0.2222222222222222, \"#7201a8\"], [0.3333333333333333, \"#9c179e\"], [0.4444444444444444, \"#bd3786\"], [0.5555555555555556, \"#d8576b\"], [0.6666666666666666, \"#ed7953\"], [0.7777777777777778, \"#fb9f3a\"], [0.8888888888888888, \"#fdca26\"], [1.0, \"#f0f921\"]], \"type\": \"surface\"}], \"table\": [{\"cells\": {\"fill\": {\"color\": \"#EBF0F8\"}, \"line\": {\"color\": \"white\"}}, \"header\": {\"fill\": {\"color\": \"#C8D4E3\"}, \"line\": {\"color\": \"white\"}}, \"type\": \"table\"}]}, \"layout\": {\"annotationdefaults\": {\"arrowcolor\": \"#2a3f5f\", \"arrowhead\": 0, \"arrowwidth\": 1}, \"coloraxis\": {\"colorbar\": {\"outlinewidth\": 0, \"ticks\": \"\"}}, \"colorscale\": {\"diverging\": [[0, \"#8e0152\"], [0.1, \"#c51b7d\"], [0.2, \"#de77ae\"], [0.3, \"#f1b6da\"], [0.4, \"#fde0ef\"], [0.5, \"#f7f7f7\"], [0.6, \"#e6f5d0\"], [0.7, \"#b8e186\"], [0.8, \"#7fbc41\"], [0.9, \"#4d9221\"], [1, \"#276419\"]], \"sequential\": [[0.0, \"#0d0887\"], [0.1111111111111111, \"#46039f\"], [0.2222222222222222, \"#7201a8\"], [0.3333333333333333, \"#9c179e\"], [0.4444444444444444, \"#bd3786\"], [0.5555555555555556, \"#d8576b\"], [0.6666666666666666, \"#ed7953\"], [0.7777777777777778, \"#fb9f3a\"], [0.8888888888888888, \"#fdca26\"], [1.0, \"#f0f921\"]], \"sequentialminus\": [[0.0, \"#0d0887\"], [0.1111111111111111, \"#46039f\"], [0.2222222222222222, \"#7201a8\"], [0.3333333333333333, \"#9c179e\"], [0.4444444444444444, \"#bd3786\"], [0.5555555555555556, \"#d8576b\"], [0.6666666666666666, \"#ed7953\"], [0.7777777777777778, \"#fb9f3a\"], [0.8888888888888888, \"#fdca26\"], [1.0, \"#f0f921\"]]}, \"colorway\": [\"#636efa\", \"#EF553B\", \"#00cc96\", \"#ab63fa\", \"#FFA15A\", \"#19d3f3\", \"#FF6692\", \"#B6E880\", \"#FF97FF\", \"#FECB52\"], \"font\": {\"color\": \"#2a3f5f\"}, \"geo\": {\"bgcolor\": \"white\", \"lakecolor\": \"white\", \"landcolor\": \"#E5ECF6\", \"showlakes\": true, \"showland\": true, \"subunitcolor\": \"white\"}, \"hoverlabel\": {\"align\": \"left\"}, \"hovermode\": \"closest\", \"mapbox\": {\"style\": \"light\"}, \"paper_bgcolor\": \"white\", \"plot_bgcolor\": \"#E5ECF6\", \"polar\": {\"angularaxis\": {\"gridcolor\": \"white\", \"linecolor\": \"white\", \"ticks\": \"\"}, \"bgcolor\": \"#E5ECF6\", \"radialaxis\": {\"gridcolor\": \"white\", \"linecolor\": \"white\", \"ticks\": \"\"}}, \"scene\": {\"xaxis\": {\"backgroundcolor\": \"#E5ECF6\", \"gridcolor\": \"white\", \"gridwidth\": 2, \"linecolor\": \"white\", \"showbackground\": true, \"ticks\": \"\", \"zerolinecolor\": \"white\"}, \"yaxis\": {\"backgroundcolor\": \"#E5ECF6\", \"gridcolor\": \"white\", \"gridwidth\": 2, \"linecolor\": \"white\", \"showbackground\": true, \"ticks\": \"\", \"zerolinecolor\": \"white\"}, \"zaxis\": {\"backgroundcolor\": \"#E5ECF6\", \"gridcolor\": \"white\", \"gridwidth\": 2, \"linecolor\": \"white\", \"showbackground\": true, \"ticks\": \"\", \"zerolinecolor\": \"white\"}}, \"shapedefaults\": {\"line\": {\"color\": \"#2a3f5f\"}}, \"ternary\": {\"aaxis\": {\"gridcolor\": \"white\", \"linecolor\": \"white\", \"ticks\": \"\"}, \"baxis\": {\"gridcolor\": \"white\", \"linecolor\": \"white\", \"ticks\": \"\"}, \"bgcolor\": \"#E5ECF6\", \"caxis\": {\"gridcolor\": \"white\", \"linecolor\": \"white\", \"ticks\": \"\"}}, \"title\": {\"x\": 0.05}, \"xaxis\": {\"automargin\": true, \"gridcolor\": \"white\", \"linecolor\": \"white\", \"ticks\": \"\", \"title\": {\"standoff\": 15}, \"zerolinecolor\": \"white\", \"zerolinewidth\": 2}, \"yaxis\": {\"automargin\": true, \"gridcolor\": \"white\", \"linecolor\": \"white\", \"ticks\": \"\", \"title\": {\"standoff\": 15}, \"zerolinecolor\": \"white\", \"zerolinewidth\": 2}}}, \"title\": {\"font\": {\"color\": \"#4D5663\"}}, \"xaxis\": {\"gridcolor\": \"#E1E5ED\", \"showgrid\": true, \"tickfont\": {\"color\": \"#4D5663\"}, \"title\": {\"font\": {\"color\": \"#4D5663\"}, \"text\": \"\"}, \"zerolinecolor\": \"#E1E5ED\"}, \"yaxis\": {\"gridcolor\": \"#E1E5ED\", \"showgrid\": true, \"tickfont\": {\"color\": \"#4D5663\"}, \"title\": {\"font\": {\"color\": \"#4D5663\"}, \"text\": \"\"}, \"zerolinecolor\": \"#E1E5ED\"}},\n",
       "                        {\"showLink\": true, \"linkText\": \"Export to plot.ly\", \"plotlyServerURL\": \"https://plot.ly\", \"responsive\": true}\n",
       "                    ).then(function(){\n",
       "                            \n",
       "var gd = document.getElementById('79a7e5ac-88bd-4d66-ac91-edbf16added9');\n",
       "var x = new MutationObserver(function (mutations, observer) {{\n",
       "        var display = window.getComputedStyle(gd).display;\n",
       "        if (!display || display === 'none') {{\n",
       "            console.log([gd, 'removed!']);\n",
       "            Plotly.purge(gd);\n",
       "            observer.disconnect();\n",
       "        }}\n",
       "}});\n",
       "\n",
       "// Listen for the removal of the full notebook cells\n",
       "var notebookContainer = gd.closest('#notebook-container');\n",
       "if (notebookContainer) {{\n",
       "    x.observe(notebookContainer, {childList: true});\n",
       "}}\n",
       "\n",
       "// Listen for the clearing of the current output cell\n",
       "var outputEl = gd.closest('.output');\n",
       "if (outputEl) {{\n",
       "    x.observe(outputEl, {childList: true});\n",
       "}}\n",
       "\n",
       "                        })\n",
       "                };\n",
       "                });\n",
       "            </script>\n",
       "        </div>"
      ]
     },
     "metadata": {},
     "output_type": "display_data"
    }
   ],
   "source": [
    "df.iplot(kind='box')"
   ]
  },
  {
   "cell_type": "markdown",
   "metadata": {},
   "source": [
    "## 3d Surface"
   ]
  },
  {
   "cell_type": "code",
   "execution_count": 14,
   "metadata": {},
   "outputs": [
    {
     "data": {
      "application/vnd.plotly.v1+json": {
       "config": {
        "linkText": "Export to plot.ly",
        "plotlyServerURL": "https://plot.ly",
        "showLink": true
       },
       "data": [
        {
         "colorscale": [
          [
           0,
           "rgb(165,0,38)"
          ],
          [
           0.1,
           "rgb(215,48,39)"
          ],
          [
           0.2,
           "rgb(244,109,67)"
          ],
          [
           0.3,
           "rgb(253,174,97)"
          ],
          [
           0.4,
           "rgb(254,224,144)"
          ],
          [
           0.5,
           "rgb(255,255,191)"
          ],
          [
           0.6,
           "rgb(224,243,248)"
          ],
          [
           0.7,
           "rgb(171,217,233)"
          ],
          [
           0.8,
           "rgb(116,173,209)"
          ],
          [
           0.9,
           "rgb(69,117,180)"
          ],
          [
           1,
           "rgb(49,54,149)"
          ]
         ],
         "type": "surface",
         "x": [
          0,
          1,
          2,
          3,
          4
         ],
         "y": [
          "x",
          "y",
          "z"
         ],
         "z": [
          [
           1,
           2,
           3,
           4,
           5
          ],
          [
           10,
           20,
           30,
           20,
           10
          ],
          [
           5,
           4,
           3,
           2,
           1
          ]
         ]
        }
       ],
       "layout": {
        "legend": {
         "bgcolor": "#F5F6F9",
         "font": {
          "color": "#4D5663"
         }
        },
        "paper_bgcolor": "#F5F6F9",
        "plot_bgcolor": "#F5F6F9",
        "template": {
         "data": {
          "bar": [
           {
            "error_x": {
             "color": "#2a3f5f"
            },
            "error_y": {
             "color": "#2a3f5f"
            },
            "marker": {
             "line": {
              "color": "#E5ECF6",
              "width": 0.5
             }
            },
            "type": "bar"
           }
          ],
          "barpolar": [
           {
            "marker": {
             "line": {
              "color": "#E5ECF6",
              "width": 0.5
             }
            },
            "type": "barpolar"
           }
          ],
          "carpet": [
           {
            "aaxis": {
             "endlinecolor": "#2a3f5f",
             "gridcolor": "white",
             "linecolor": "white",
             "minorgridcolor": "white",
             "startlinecolor": "#2a3f5f"
            },
            "baxis": {
             "endlinecolor": "#2a3f5f",
             "gridcolor": "white",
             "linecolor": "white",
             "minorgridcolor": "white",
             "startlinecolor": "#2a3f5f"
            },
            "type": "carpet"
           }
          ],
          "choropleth": [
           {
            "colorbar": {
             "outlinewidth": 0,
             "ticks": ""
            },
            "type": "choropleth"
           }
          ],
          "contour": [
           {
            "colorbar": {
             "outlinewidth": 0,
             "ticks": ""
            },
            "colorscale": [
             [
              0,
              "#0d0887"
             ],
             [
              0.1111111111111111,
              "#46039f"
             ],
             [
              0.2222222222222222,
              "#7201a8"
             ],
             [
              0.3333333333333333,
              "#9c179e"
             ],
             [
              0.4444444444444444,
              "#bd3786"
             ],
             [
              0.5555555555555556,
              "#d8576b"
             ],
             [
              0.6666666666666666,
              "#ed7953"
             ],
             [
              0.7777777777777778,
              "#fb9f3a"
             ],
             [
              0.8888888888888888,
              "#fdca26"
             ],
             [
              1,
              "#f0f921"
             ]
            ],
            "type": "contour"
           }
          ],
          "contourcarpet": [
           {
            "colorbar": {
             "outlinewidth": 0,
             "ticks": ""
            },
            "type": "contourcarpet"
           }
          ],
          "heatmap": [
           {
            "colorbar": {
             "outlinewidth": 0,
             "ticks": ""
            },
            "colorscale": [
             [
              0,
              "#0d0887"
             ],
             [
              0.1111111111111111,
              "#46039f"
             ],
             [
              0.2222222222222222,
              "#7201a8"
             ],
             [
              0.3333333333333333,
              "#9c179e"
             ],
             [
              0.4444444444444444,
              "#bd3786"
             ],
             [
              0.5555555555555556,
              "#d8576b"
             ],
             [
              0.6666666666666666,
              "#ed7953"
             ],
             [
              0.7777777777777778,
              "#fb9f3a"
             ],
             [
              0.8888888888888888,
              "#fdca26"
             ],
             [
              1,
              "#f0f921"
             ]
            ],
            "type": "heatmap"
           }
          ],
          "heatmapgl": [
           {
            "colorbar": {
             "outlinewidth": 0,
             "ticks": ""
            },
            "colorscale": [
             [
              0,
              "#0d0887"
             ],
             [
              0.1111111111111111,
              "#46039f"
             ],
             [
              0.2222222222222222,
              "#7201a8"
             ],
             [
              0.3333333333333333,
              "#9c179e"
             ],
             [
              0.4444444444444444,
              "#bd3786"
             ],
             [
              0.5555555555555556,
              "#d8576b"
             ],
             [
              0.6666666666666666,
              "#ed7953"
             ],
             [
              0.7777777777777778,
              "#fb9f3a"
             ],
             [
              0.8888888888888888,
              "#fdca26"
             ],
             [
              1,
              "#f0f921"
             ]
            ],
            "type": "heatmapgl"
           }
          ],
          "histogram": [
           {
            "marker": {
             "colorbar": {
              "outlinewidth": 0,
              "ticks": ""
             }
            },
            "type": "histogram"
           }
          ],
          "histogram2d": [
           {
            "colorbar": {
             "outlinewidth": 0,
             "ticks": ""
            },
            "colorscale": [
             [
              0,
              "#0d0887"
             ],
             [
              0.1111111111111111,
              "#46039f"
             ],
             [
              0.2222222222222222,
              "#7201a8"
             ],
             [
              0.3333333333333333,
              "#9c179e"
             ],
             [
              0.4444444444444444,
              "#bd3786"
             ],
             [
              0.5555555555555556,
              "#d8576b"
             ],
             [
              0.6666666666666666,
              "#ed7953"
             ],
             [
              0.7777777777777778,
              "#fb9f3a"
             ],
             [
              0.8888888888888888,
              "#fdca26"
             ],
             [
              1,
              "#f0f921"
             ]
            ],
            "type": "histogram2d"
           }
          ],
          "histogram2dcontour": [
           {
            "colorbar": {
             "outlinewidth": 0,
             "ticks": ""
            },
            "colorscale": [
             [
              0,
              "#0d0887"
             ],
             [
              0.1111111111111111,
              "#46039f"
             ],
             [
              0.2222222222222222,
              "#7201a8"
             ],
             [
              0.3333333333333333,
              "#9c179e"
             ],
             [
              0.4444444444444444,
              "#bd3786"
             ],
             [
              0.5555555555555556,
              "#d8576b"
             ],
             [
              0.6666666666666666,
              "#ed7953"
             ],
             [
              0.7777777777777778,
              "#fb9f3a"
             ],
             [
              0.8888888888888888,
              "#fdca26"
             ],
             [
              1,
              "#f0f921"
             ]
            ],
            "type": "histogram2dcontour"
           }
          ],
          "mesh3d": [
           {
            "colorbar": {
             "outlinewidth": 0,
             "ticks": ""
            },
            "type": "mesh3d"
           }
          ],
          "parcoords": [
           {
            "line": {
             "colorbar": {
              "outlinewidth": 0,
              "ticks": ""
             }
            },
            "type": "parcoords"
           }
          ],
          "pie": [
           {
            "automargin": true,
            "type": "pie"
           }
          ],
          "scatter": [
           {
            "marker": {
             "colorbar": {
              "outlinewidth": 0,
              "ticks": ""
             }
            },
            "type": "scatter"
           }
          ],
          "scatter3d": [
           {
            "line": {
             "colorbar": {
              "outlinewidth": 0,
              "ticks": ""
             }
            },
            "marker": {
             "colorbar": {
              "outlinewidth": 0,
              "ticks": ""
             }
            },
            "type": "scatter3d"
           }
          ],
          "scattercarpet": [
           {
            "marker": {
             "colorbar": {
              "outlinewidth": 0,
              "ticks": ""
             }
            },
            "type": "scattercarpet"
           }
          ],
          "scattergeo": [
           {
            "marker": {
             "colorbar": {
              "outlinewidth": 0,
              "ticks": ""
             }
            },
            "type": "scattergeo"
           }
          ],
          "scattergl": [
           {
            "marker": {
             "colorbar": {
              "outlinewidth": 0,
              "ticks": ""
             }
            },
            "type": "scattergl"
           }
          ],
          "scattermapbox": [
           {
            "marker": {
             "colorbar": {
              "outlinewidth": 0,
              "ticks": ""
             }
            },
            "type": "scattermapbox"
           }
          ],
          "scatterpolar": [
           {
            "marker": {
             "colorbar": {
              "outlinewidth": 0,
              "ticks": ""
             }
            },
            "type": "scatterpolar"
           }
          ],
          "scatterpolargl": [
           {
            "marker": {
             "colorbar": {
              "outlinewidth": 0,
              "ticks": ""
             }
            },
            "type": "scatterpolargl"
           }
          ],
          "scatterternary": [
           {
            "marker": {
             "colorbar": {
              "outlinewidth": 0,
              "ticks": ""
             }
            },
            "type": "scatterternary"
           }
          ],
          "surface": [
           {
            "colorbar": {
             "outlinewidth": 0,
             "ticks": ""
            },
            "colorscale": [
             [
              0,
              "#0d0887"
             ],
             [
              0.1111111111111111,
              "#46039f"
             ],
             [
              0.2222222222222222,
              "#7201a8"
             ],
             [
              0.3333333333333333,
              "#9c179e"
             ],
             [
              0.4444444444444444,
              "#bd3786"
             ],
             [
              0.5555555555555556,
              "#d8576b"
             ],
             [
              0.6666666666666666,
              "#ed7953"
             ],
             [
              0.7777777777777778,
              "#fb9f3a"
             ],
             [
              0.8888888888888888,
              "#fdca26"
             ],
             [
              1,
              "#f0f921"
             ]
            ],
            "type": "surface"
           }
          ],
          "table": [
           {
            "cells": {
             "fill": {
              "color": "#EBF0F8"
             },
             "line": {
              "color": "white"
             }
            },
            "header": {
             "fill": {
              "color": "#C8D4E3"
             },
             "line": {
              "color": "white"
             }
            },
            "type": "table"
           }
          ]
         },
         "layout": {
          "annotationdefaults": {
           "arrowcolor": "#2a3f5f",
           "arrowhead": 0,
           "arrowwidth": 1
          },
          "coloraxis": {
           "colorbar": {
            "outlinewidth": 0,
            "ticks": ""
           }
          },
          "colorscale": {
           "diverging": [
            [
             0,
             "#8e0152"
            ],
            [
             0.1,
             "#c51b7d"
            ],
            [
             0.2,
             "#de77ae"
            ],
            [
             0.3,
             "#f1b6da"
            ],
            [
             0.4,
             "#fde0ef"
            ],
            [
             0.5,
             "#f7f7f7"
            ],
            [
             0.6,
             "#e6f5d0"
            ],
            [
             0.7,
             "#b8e186"
            ],
            [
             0.8,
             "#7fbc41"
            ],
            [
             0.9,
             "#4d9221"
            ],
            [
             1,
             "#276419"
            ]
           ],
           "sequential": [
            [
             0,
             "#0d0887"
            ],
            [
             0.1111111111111111,
             "#46039f"
            ],
            [
             0.2222222222222222,
             "#7201a8"
            ],
            [
             0.3333333333333333,
             "#9c179e"
            ],
            [
             0.4444444444444444,
             "#bd3786"
            ],
            [
             0.5555555555555556,
             "#d8576b"
            ],
            [
             0.6666666666666666,
             "#ed7953"
            ],
            [
             0.7777777777777778,
             "#fb9f3a"
            ],
            [
             0.8888888888888888,
             "#fdca26"
            ],
            [
             1,
             "#f0f921"
            ]
           ],
           "sequentialminus": [
            [
             0,
             "#0d0887"
            ],
            [
             0.1111111111111111,
             "#46039f"
            ],
            [
             0.2222222222222222,
             "#7201a8"
            ],
            [
             0.3333333333333333,
             "#9c179e"
            ],
            [
             0.4444444444444444,
             "#bd3786"
            ],
            [
             0.5555555555555556,
             "#d8576b"
            ],
            [
             0.6666666666666666,
             "#ed7953"
            ],
            [
             0.7777777777777778,
             "#fb9f3a"
            ],
            [
             0.8888888888888888,
             "#fdca26"
            ],
            [
             1,
             "#f0f921"
            ]
           ]
          },
          "colorway": [
           "#636efa",
           "#EF553B",
           "#00cc96",
           "#ab63fa",
           "#FFA15A",
           "#19d3f3",
           "#FF6692",
           "#B6E880",
           "#FF97FF",
           "#FECB52"
          ],
          "font": {
           "color": "#2a3f5f"
          },
          "geo": {
           "bgcolor": "white",
           "lakecolor": "white",
           "landcolor": "#E5ECF6",
           "showlakes": true,
           "showland": true,
           "subunitcolor": "white"
          },
          "hoverlabel": {
           "align": "left"
          },
          "hovermode": "closest",
          "mapbox": {
           "style": "light"
          },
          "paper_bgcolor": "white",
          "plot_bgcolor": "#E5ECF6",
          "polar": {
           "angularaxis": {
            "gridcolor": "white",
            "linecolor": "white",
            "ticks": ""
           },
           "bgcolor": "#E5ECF6",
           "radialaxis": {
            "gridcolor": "white",
            "linecolor": "white",
            "ticks": ""
           }
          },
          "scene": {
           "xaxis": {
            "backgroundcolor": "#E5ECF6",
            "gridcolor": "white",
            "gridwidth": 2,
            "linecolor": "white",
            "showbackground": true,
            "ticks": "",
            "zerolinecolor": "white"
           },
           "yaxis": {
            "backgroundcolor": "#E5ECF6",
            "gridcolor": "white",
            "gridwidth": 2,
            "linecolor": "white",
            "showbackground": true,
            "ticks": "",
            "zerolinecolor": "white"
           },
           "zaxis": {
            "backgroundcolor": "#E5ECF6",
            "gridcolor": "white",
            "gridwidth": 2,
            "linecolor": "white",
            "showbackground": true,
            "ticks": "",
            "zerolinecolor": "white"
           }
          },
          "shapedefaults": {
           "line": {
            "color": "#2a3f5f"
           }
          },
          "ternary": {
           "aaxis": {
            "gridcolor": "white",
            "linecolor": "white",
            "ticks": ""
           },
           "baxis": {
            "gridcolor": "white",
            "linecolor": "white",
            "ticks": ""
           },
           "bgcolor": "#E5ECF6",
           "caxis": {
            "gridcolor": "white",
            "linecolor": "white",
            "ticks": ""
           }
          },
          "title": {
           "x": 0.05
          },
          "xaxis": {
           "automargin": true,
           "gridcolor": "white",
           "linecolor": "white",
           "ticks": "",
           "title": {
            "standoff": 15
           },
           "zerolinecolor": "white",
           "zerolinewidth": 2
          },
          "yaxis": {
           "automargin": true,
           "gridcolor": "white",
           "linecolor": "white",
           "ticks": "",
           "title": {
            "standoff": 15
           },
           "zerolinecolor": "white",
           "zerolinewidth": 2
          }
         }
        },
        "title": {
         "font": {
          "color": "#4D5663"
         }
        },
        "xaxis": {
         "gridcolor": "#E1E5ED",
         "showgrid": true,
         "tickfont": {
          "color": "#4D5663"
         },
         "title": {
          "font": {
           "color": "#4D5663"
          },
          "text": ""
         },
         "zerolinecolor": "#E1E5ED"
        },
        "yaxis": {
         "gridcolor": "#E1E5ED",
         "showgrid": true,
         "tickfont": {
          "color": "#4D5663"
         },
         "title": {
          "font": {
           "color": "#4D5663"
          },
          "text": ""
         },
         "zerolinecolor": "#E1E5ED"
        }
       }
      },
      "text/html": [
       "<div>\n",
       "        \n",
       "        \n",
       "            <div id=\"09b58657-35de-4116-a0c0-1b28e5e0bbad\" class=\"plotly-graph-div\" style=\"height:525px; width:100%;\"></div>\n",
       "            <script type=\"text/javascript\">\n",
       "                require([\"plotly\"], function(Plotly) {\n",
       "                    window.PLOTLYENV=window.PLOTLYENV || {};\n",
       "                    window.PLOTLYENV.BASE_URL='https://plot.ly';\n",
       "                    \n",
       "                if (document.getElementById(\"09b58657-35de-4116-a0c0-1b28e5e0bbad\")) {\n",
       "                    Plotly.newPlot(\n",
       "                        '09b58657-35de-4116-a0c0-1b28e5e0bbad',\n",
       "                        [{\"colorscale\": [[0.0, \"rgb(165,0,38)\"], [0.1, \"rgb(215,48,39)\"], [0.2, \"rgb(244,109,67)\"], [0.3, \"rgb(253,174,97)\"], [0.4, \"rgb(254,224,144)\"], [0.5, \"rgb(255,255,191)\"], [0.6, \"rgb(224,243,248)\"], [0.7, \"rgb(171,217,233)\"], [0.8, \"rgb(116,173,209)\"], [0.9, \"rgb(69,117,180)\"], [1.0, \"rgb(49,54,149)\"]], \"type\": \"surface\", \"x\": [0, 1, 2, 3, 4], \"y\": [\"x\", \"y\", \"z\"], \"z\": [[1, 2, 3, 4, 5], [10, 20, 30, 20, 10], [5, 4, 3, 2, 1]]}],\n",
       "                        {\"legend\": {\"bgcolor\": \"#F5F6F9\", \"font\": {\"color\": \"#4D5663\"}}, \"paper_bgcolor\": \"#F5F6F9\", \"plot_bgcolor\": \"#F5F6F9\", \"template\": {\"data\": {\"bar\": [{\"error_x\": {\"color\": \"#2a3f5f\"}, \"error_y\": {\"color\": \"#2a3f5f\"}, \"marker\": {\"line\": {\"color\": \"#E5ECF6\", \"width\": 0.5}}, \"type\": \"bar\"}], \"barpolar\": [{\"marker\": {\"line\": {\"color\": \"#E5ECF6\", \"width\": 0.5}}, \"type\": \"barpolar\"}], \"carpet\": [{\"aaxis\": {\"endlinecolor\": \"#2a3f5f\", \"gridcolor\": \"white\", \"linecolor\": \"white\", \"minorgridcolor\": \"white\", \"startlinecolor\": \"#2a3f5f\"}, \"baxis\": {\"endlinecolor\": \"#2a3f5f\", \"gridcolor\": \"white\", \"linecolor\": \"white\", \"minorgridcolor\": \"white\", \"startlinecolor\": \"#2a3f5f\"}, \"type\": \"carpet\"}], \"choropleth\": [{\"colorbar\": {\"outlinewidth\": 0, \"ticks\": \"\"}, \"type\": \"choropleth\"}], \"contour\": [{\"colorbar\": {\"outlinewidth\": 0, \"ticks\": \"\"}, \"colorscale\": [[0.0, \"#0d0887\"], [0.1111111111111111, \"#46039f\"], [0.2222222222222222, \"#7201a8\"], [0.3333333333333333, \"#9c179e\"], [0.4444444444444444, \"#bd3786\"], [0.5555555555555556, \"#d8576b\"], [0.6666666666666666, \"#ed7953\"], [0.7777777777777778, \"#fb9f3a\"], [0.8888888888888888, \"#fdca26\"], [1.0, \"#f0f921\"]], \"type\": \"contour\"}], \"contourcarpet\": [{\"colorbar\": {\"outlinewidth\": 0, \"ticks\": \"\"}, \"type\": \"contourcarpet\"}], \"heatmap\": [{\"colorbar\": {\"outlinewidth\": 0, \"ticks\": \"\"}, \"colorscale\": [[0.0, \"#0d0887\"], [0.1111111111111111, \"#46039f\"], [0.2222222222222222, \"#7201a8\"], [0.3333333333333333, \"#9c179e\"], [0.4444444444444444, \"#bd3786\"], [0.5555555555555556, \"#d8576b\"], [0.6666666666666666, \"#ed7953\"], [0.7777777777777778, \"#fb9f3a\"], [0.8888888888888888, \"#fdca26\"], [1.0, \"#f0f921\"]], \"type\": \"heatmap\"}], \"heatmapgl\": [{\"colorbar\": {\"outlinewidth\": 0, \"ticks\": \"\"}, \"colorscale\": [[0.0, \"#0d0887\"], [0.1111111111111111, \"#46039f\"], [0.2222222222222222, \"#7201a8\"], [0.3333333333333333, \"#9c179e\"], [0.4444444444444444, \"#bd3786\"], [0.5555555555555556, \"#d8576b\"], [0.6666666666666666, \"#ed7953\"], [0.7777777777777778, \"#fb9f3a\"], [0.8888888888888888, \"#fdca26\"], [1.0, \"#f0f921\"]], \"type\": \"heatmapgl\"}], \"histogram\": [{\"marker\": {\"colorbar\": {\"outlinewidth\": 0, \"ticks\": \"\"}}, \"type\": \"histogram\"}], \"histogram2d\": [{\"colorbar\": {\"outlinewidth\": 0, \"ticks\": \"\"}, \"colorscale\": [[0.0, \"#0d0887\"], [0.1111111111111111, \"#46039f\"], [0.2222222222222222, \"#7201a8\"], [0.3333333333333333, \"#9c179e\"], [0.4444444444444444, \"#bd3786\"], [0.5555555555555556, \"#d8576b\"], [0.6666666666666666, \"#ed7953\"], [0.7777777777777778, \"#fb9f3a\"], [0.8888888888888888, \"#fdca26\"], [1.0, \"#f0f921\"]], \"type\": \"histogram2d\"}], \"histogram2dcontour\": [{\"colorbar\": {\"outlinewidth\": 0, \"ticks\": \"\"}, \"colorscale\": [[0.0, \"#0d0887\"], [0.1111111111111111, \"#46039f\"], [0.2222222222222222, \"#7201a8\"], [0.3333333333333333, \"#9c179e\"], [0.4444444444444444, \"#bd3786\"], [0.5555555555555556, \"#d8576b\"], [0.6666666666666666, \"#ed7953\"], [0.7777777777777778, \"#fb9f3a\"], [0.8888888888888888, \"#fdca26\"], [1.0, \"#f0f921\"]], \"type\": \"histogram2dcontour\"}], \"mesh3d\": [{\"colorbar\": {\"outlinewidth\": 0, \"ticks\": \"\"}, \"type\": \"mesh3d\"}], \"parcoords\": [{\"line\": {\"colorbar\": {\"outlinewidth\": 0, \"ticks\": \"\"}}, \"type\": \"parcoords\"}], \"pie\": [{\"automargin\": true, \"type\": \"pie\"}], \"scatter\": [{\"marker\": {\"colorbar\": {\"outlinewidth\": 0, \"ticks\": \"\"}}, \"type\": \"scatter\"}], \"scatter3d\": [{\"line\": {\"colorbar\": {\"outlinewidth\": 0, \"ticks\": \"\"}}, \"marker\": {\"colorbar\": {\"outlinewidth\": 0, \"ticks\": \"\"}}, \"type\": \"scatter3d\"}], \"scattercarpet\": [{\"marker\": {\"colorbar\": {\"outlinewidth\": 0, \"ticks\": \"\"}}, \"type\": \"scattercarpet\"}], \"scattergeo\": [{\"marker\": {\"colorbar\": {\"outlinewidth\": 0, \"ticks\": \"\"}}, \"type\": \"scattergeo\"}], \"scattergl\": [{\"marker\": {\"colorbar\": {\"outlinewidth\": 0, \"ticks\": \"\"}}, \"type\": \"scattergl\"}], \"scattermapbox\": [{\"marker\": {\"colorbar\": {\"outlinewidth\": 0, \"ticks\": \"\"}}, \"type\": \"scattermapbox\"}], \"scatterpolar\": [{\"marker\": {\"colorbar\": {\"outlinewidth\": 0, \"ticks\": \"\"}}, \"type\": \"scatterpolar\"}], \"scatterpolargl\": [{\"marker\": {\"colorbar\": {\"outlinewidth\": 0, \"ticks\": \"\"}}, \"type\": \"scatterpolargl\"}], \"scatterternary\": [{\"marker\": {\"colorbar\": {\"outlinewidth\": 0, \"ticks\": \"\"}}, \"type\": \"scatterternary\"}], \"surface\": [{\"colorbar\": {\"outlinewidth\": 0, \"ticks\": \"\"}, \"colorscale\": [[0.0, \"#0d0887\"], [0.1111111111111111, \"#46039f\"], [0.2222222222222222, \"#7201a8\"], [0.3333333333333333, \"#9c179e\"], [0.4444444444444444, \"#bd3786\"], [0.5555555555555556, \"#d8576b\"], [0.6666666666666666, \"#ed7953\"], [0.7777777777777778, \"#fb9f3a\"], [0.8888888888888888, \"#fdca26\"], [1.0, \"#f0f921\"]], \"type\": \"surface\"}], \"table\": [{\"cells\": {\"fill\": {\"color\": \"#EBF0F8\"}, \"line\": {\"color\": \"white\"}}, \"header\": {\"fill\": {\"color\": \"#C8D4E3\"}, \"line\": {\"color\": \"white\"}}, \"type\": \"table\"}]}, \"layout\": {\"annotationdefaults\": {\"arrowcolor\": \"#2a3f5f\", \"arrowhead\": 0, \"arrowwidth\": 1}, \"coloraxis\": {\"colorbar\": {\"outlinewidth\": 0, \"ticks\": \"\"}}, \"colorscale\": {\"diverging\": [[0, \"#8e0152\"], [0.1, \"#c51b7d\"], [0.2, \"#de77ae\"], [0.3, \"#f1b6da\"], [0.4, \"#fde0ef\"], [0.5, \"#f7f7f7\"], [0.6, \"#e6f5d0\"], [0.7, \"#b8e186\"], [0.8, \"#7fbc41\"], [0.9, \"#4d9221\"], [1, \"#276419\"]], \"sequential\": [[0.0, \"#0d0887\"], [0.1111111111111111, \"#46039f\"], [0.2222222222222222, \"#7201a8\"], [0.3333333333333333, \"#9c179e\"], [0.4444444444444444, \"#bd3786\"], [0.5555555555555556, \"#d8576b\"], [0.6666666666666666, \"#ed7953\"], [0.7777777777777778, \"#fb9f3a\"], [0.8888888888888888, \"#fdca26\"], [1.0, \"#f0f921\"]], \"sequentialminus\": [[0.0, \"#0d0887\"], [0.1111111111111111, \"#46039f\"], [0.2222222222222222, \"#7201a8\"], [0.3333333333333333, \"#9c179e\"], [0.4444444444444444, \"#bd3786\"], [0.5555555555555556, \"#d8576b\"], [0.6666666666666666, \"#ed7953\"], [0.7777777777777778, \"#fb9f3a\"], [0.8888888888888888, \"#fdca26\"], [1.0, \"#f0f921\"]]}, \"colorway\": [\"#636efa\", \"#EF553B\", \"#00cc96\", \"#ab63fa\", \"#FFA15A\", \"#19d3f3\", \"#FF6692\", \"#B6E880\", \"#FF97FF\", \"#FECB52\"], \"font\": {\"color\": \"#2a3f5f\"}, \"geo\": {\"bgcolor\": \"white\", \"lakecolor\": \"white\", \"landcolor\": \"#E5ECF6\", \"showlakes\": true, \"showland\": true, \"subunitcolor\": \"white\"}, \"hoverlabel\": {\"align\": \"left\"}, \"hovermode\": \"closest\", \"mapbox\": {\"style\": \"light\"}, \"paper_bgcolor\": \"white\", \"plot_bgcolor\": \"#E5ECF6\", \"polar\": {\"angularaxis\": {\"gridcolor\": \"white\", \"linecolor\": \"white\", \"ticks\": \"\"}, \"bgcolor\": \"#E5ECF6\", \"radialaxis\": {\"gridcolor\": \"white\", \"linecolor\": \"white\", \"ticks\": \"\"}}, \"scene\": {\"xaxis\": {\"backgroundcolor\": \"#E5ECF6\", \"gridcolor\": \"white\", \"gridwidth\": 2, \"linecolor\": \"white\", \"showbackground\": true, \"ticks\": \"\", \"zerolinecolor\": \"white\"}, \"yaxis\": {\"backgroundcolor\": \"#E5ECF6\", \"gridcolor\": \"white\", \"gridwidth\": 2, \"linecolor\": \"white\", \"showbackground\": true, \"ticks\": \"\", \"zerolinecolor\": \"white\"}, \"zaxis\": {\"backgroundcolor\": \"#E5ECF6\", \"gridcolor\": \"white\", \"gridwidth\": 2, \"linecolor\": \"white\", \"showbackground\": true, \"ticks\": \"\", \"zerolinecolor\": \"white\"}}, \"shapedefaults\": {\"line\": {\"color\": \"#2a3f5f\"}}, \"ternary\": {\"aaxis\": {\"gridcolor\": \"white\", \"linecolor\": \"white\", \"ticks\": \"\"}, \"baxis\": {\"gridcolor\": \"white\", \"linecolor\": \"white\", \"ticks\": \"\"}, \"bgcolor\": \"#E5ECF6\", \"caxis\": {\"gridcolor\": \"white\", \"linecolor\": \"white\", \"ticks\": \"\"}}, \"title\": {\"x\": 0.05}, \"xaxis\": {\"automargin\": true, \"gridcolor\": \"white\", \"linecolor\": \"white\", \"ticks\": \"\", \"title\": {\"standoff\": 15}, \"zerolinecolor\": \"white\", \"zerolinewidth\": 2}, \"yaxis\": {\"automargin\": true, \"gridcolor\": \"white\", \"linecolor\": \"white\", \"ticks\": \"\", \"title\": {\"standoff\": 15}, \"zerolinecolor\": \"white\", \"zerolinewidth\": 2}}}, \"title\": {\"font\": {\"color\": \"#4D5663\"}}, \"xaxis\": {\"gridcolor\": \"#E1E5ED\", \"showgrid\": true, \"tickfont\": {\"color\": \"#4D5663\"}, \"title\": {\"font\": {\"color\": \"#4D5663\"}, \"text\": \"\"}, \"zerolinecolor\": \"#E1E5ED\"}, \"yaxis\": {\"gridcolor\": \"#E1E5ED\", \"showgrid\": true, \"tickfont\": {\"color\": \"#4D5663\"}, \"title\": {\"font\": {\"color\": \"#4D5663\"}, \"text\": \"\"}, \"zerolinecolor\": \"#E1E5ED\"}},\n",
       "                        {\"showLink\": true, \"linkText\": \"Export to plot.ly\", \"plotlyServerURL\": \"https://plot.ly\", \"responsive\": true}\n",
       "                    ).then(function(){\n",
       "                            \n",
       "var gd = document.getElementById('09b58657-35de-4116-a0c0-1b28e5e0bbad');\n",
       "var x = new MutationObserver(function (mutations, observer) {{\n",
       "        var display = window.getComputedStyle(gd).display;\n",
       "        if (!display || display === 'none') {{\n",
       "            console.log([gd, 'removed!']);\n",
       "            Plotly.purge(gd);\n",
       "            observer.disconnect();\n",
       "        }}\n",
       "}});\n",
       "\n",
       "// Listen for the removal of the full notebook cells\n",
       "var notebookContainer = gd.closest('#notebook-container');\n",
       "if (notebookContainer) {{\n",
       "    x.observe(notebookContainer, {childList: true});\n",
       "}}\n",
       "\n",
       "// Listen for the clearing of the current output cell\n",
       "var outputEl = gd.closest('.output');\n",
       "if (outputEl) {{\n",
       "    x.observe(outputEl, {childList: true});\n",
       "}}\n",
       "\n",
       "                        })\n",
       "                };\n",
       "                });\n",
       "            </script>\n",
       "        </div>"
      ]
     },
     "metadata": {},
     "output_type": "display_data"
    }
   ],
   "source": [
    "df3 = pd.DataFrame({'x':[1,2,3,4,5],'y':[10,20,30,20,10],'z':[5,4,3,2,1]})\n",
    "df3.iplot(kind='surface',colorscale='rdylbu')"
   ]
  },
  {
   "cell_type": "markdown",
   "metadata": {},
   "source": [
    "## Spread"
   ]
  },
  {
   "cell_type": "code",
   "execution_count": 15,
   "metadata": {},
   "outputs": [
    {
     "name": "stderr",
     "output_type": "stream",
     "text": [
      "C:\\Users\\xico_\\Anaconda3\\lib\\site-packages\\cufflinks\\plotlytools.py:849: FutureWarning:\n",
      "\n",
      "The pandas.np module is deprecated and will be removed from pandas in a future version. Import numpy directly instead\n",
      "\n",
      "C:\\Users\\xico_\\Anaconda3\\lib\\site-packages\\cufflinks\\plotlytools.py:850: FutureWarning:\n",
      "\n",
      "The pandas.np module is deprecated and will be removed from pandas in a future version. Import numpy directly instead\n",
      "\n"
     ]
    },
    {
     "data": {
      "application/vnd.plotly.v1+json": {
       "config": {
        "linkText": "Export to plot.ly",
        "plotlyServerURL": "https://plot.ly",
        "showLink": true
       },
       "data": [
        {
         "line": {
          "color": "rgba(255, 153, 51, 1.0)",
          "dash": "solid",
          "shape": "linear",
          "width": 1.3
         },
         "mode": "lines",
         "name": "A",
         "text": "",
         "type": "scatter",
         "x": [
          0,
          1,
          2,
          3,
          4,
          5,
          6,
          7,
          8,
          9,
          10,
          11,
          12,
          13,
          14,
          15,
          16,
          17,
          18,
          19,
          20,
          21,
          22,
          23,
          24,
          25,
          26,
          27,
          28,
          29,
          30,
          31,
          32,
          33,
          34,
          35,
          36,
          37,
          38,
          39,
          40,
          41,
          42,
          43,
          44,
          45,
          46,
          47,
          48,
          49,
          50,
          51,
          52,
          53,
          54,
          55,
          56,
          57,
          58,
          59,
          60,
          61,
          62,
          63,
          64,
          65,
          66,
          67,
          68,
          69,
          70,
          71,
          72,
          73,
          74,
          75,
          76,
          77,
          78,
          79,
          80,
          81,
          82,
          83,
          84,
          85,
          86,
          87,
          88,
          89,
          90,
          91,
          92,
          93,
          94,
          95,
          96,
          97,
          98,
          99
         ],
         "y": [
          0.27442011925577803,
          0.4966318940744484,
          0.9235787135880593,
          -1.3078878995183352,
          1.029829990968547,
          0.8768161316518825,
          1.7607058214307147,
          -1.3352873795477167,
          -1.2398425570338618,
          1.5554085396300308,
          0.10574878112682273,
          0.02877669534919826,
          0.14547075907513576,
          1.0931273800644667,
          0.6761310088429014,
          0.2784728536362254,
          -0.1660772458435563,
          -1.3210450424175817,
          0.5718288528568582,
          0.14355910285361492,
          -0.015859406501193326,
          1.213306555373937,
          0.4930056971125333,
          0.9639894896117828,
          -1.6921012175771217,
          -1.4497539051335953,
          0.5452526346624451,
          -0.645093482314308,
          -0.21143817105405713,
          2.025199604317894,
          1.0647915440432545,
          -0.9974086869972061,
          -0.026009175991362356,
          0.8223224835488065,
          -0.6874438195145413,
          -1.1633762926469993,
          -2.1889031235002805,
          -1.6981324604478112,
          -0.8322915772080726,
          0.8457591850393001,
          2.1442085506693567,
          -1.5640271898647706,
          0.7744562894683265,
          -0.38201421593223095,
          -0.6212905805519496,
          1.5069808387621415,
          -0.26160458098711914,
          -0.4081977076676588,
          0.06513595918607111,
          1.5251829050865908,
          -1.364239429827965,
          -0.5723650046038495,
          -0.35491042630058367,
          0.40182125294929,
          -1.0754453343631818,
          -0.7618618960949269,
          -0.9443244125840022,
          0.8377214807586354,
          -0.031809465745655796,
          -1.0932793443090683,
          0.4765706510147636,
          2.05418105903198,
          0.6394359942486391,
          0.6371385671293637,
          0.2426186474648045,
          -1.0881770872260315,
          -0.5516764613258204,
          -0.11777518422355525,
          0.541620929047994,
          0.2957312870889277,
          0.4429090976829458,
          0.7507240275163064,
          0.006266873749813978,
          1.0006292376829993,
          1.6362468479250005,
          -0.3947402655677738,
          -0.48899105814741345,
          -0.3409198288169905,
          -1.8392733203270557,
          2.0689286752747007,
          -1.0029774967312513,
          -0.6540448424261963,
          -1.0189861726963385,
          1.07798984585544,
          -0.07417500228963209,
          1.9694312682613933,
          -0.6546260721310159,
          -1.854475447570704,
          0.5933309905159341,
          0.2967998336348711,
          0.09463460669330889,
          0.6294080359178124,
          -0.28956562341842773,
          -0.6560223447079263,
          0.3153653081029692,
          -1.5263252201468034,
          1.1928936794991623,
          0.3887480233893524,
          -0.6057963382281494,
          -0.09917451743088809
         ]
        },
        {
         "line": {
          "color": "rgba(55, 128, 191, 1.0)",
          "dash": "solid",
          "shape": "linear",
          "width": 1.3
         },
         "mode": "lines",
         "name": "B",
         "text": "",
         "type": "scatter",
         "x": [
          0,
          1,
          2,
          3,
          4,
          5,
          6,
          7,
          8,
          9,
          10,
          11,
          12,
          13,
          14,
          15,
          16,
          17,
          18,
          19,
          20,
          21,
          22,
          23,
          24,
          25,
          26,
          27,
          28,
          29,
          30,
          31,
          32,
          33,
          34,
          35,
          36,
          37,
          38,
          39,
          40,
          41,
          42,
          43,
          44,
          45,
          46,
          47,
          48,
          49,
          50,
          51,
          52,
          53,
          54,
          55,
          56,
          57,
          58,
          59,
          60,
          61,
          62,
          63,
          64,
          65,
          66,
          67,
          68,
          69,
          70,
          71,
          72,
          73,
          74,
          75,
          76,
          77,
          78,
          79,
          80,
          81,
          82,
          83,
          84,
          85,
          86,
          87,
          88,
          89,
          90,
          91,
          92,
          93,
          94,
          95,
          96,
          97,
          98,
          99
         ],
         "y": [
          -0.5338968153279375,
          -0.737604098516914,
          0.786032577826171,
          -0.18168043763582525,
          0.3948231518046967,
          -1.285656839190833,
          0.4929836120109994,
          0.730148677998628,
          0.6268605758227215,
          -0.5557695793174016,
          -0.40070084283238566,
          -0.04766528323845765,
          1.3308041018589245,
          1.2819449899198534,
          0.8477216185770992,
          -0.8927707828167398,
          0.6494375285903279,
          -1.2050108148432601,
          -0.07473626077998291,
          0.8980669929684267,
          -0.5269968586077552,
          1.6733011574136327,
          -0.15811245055144024,
          -0.7697173802854936,
          -1.0724251934501332,
          2.0162661600162446,
          0.825875520162066,
          1.3431956059693588,
          0.48621638477181517,
          1.9553703128659479,
          -1.2848791904167656,
          1.293267623163678,
          0.22717944081984312,
          0.08644533575156765,
          -0.6200100862166263,
          2.822142109349293,
          0.8261081315305128,
          -1.2264751974926702,
          -0.0886059823022562,
          0.9571956710271053,
          0.08646891800960291,
          -0.34677771441293503,
          0.40851804088487054,
          0.6649783338954706,
          -1.0969296957460855,
          -0.6743437678108863,
          -1.0918800892854403,
          1.3214368372712242,
          -0.489847125076919,
          -0.27283397042230634,
          1.0339465645395904,
          1.678053130552742,
          0.964812094346171,
          0.19271156696874114,
          1.3594228629156795,
          0.7175701611203561,
          0.45770851544861324,
          -0.9127473216263866,
          0.4025668759667475,
          1.240468662104316,
          -0.41875097813805773,
          -1.9458153186721703,
          0.3845377635616228,
          1.1341057816012856,
          1.187647773407586,
          -0.6271936129770707,
          1.529874764186071,
          -0.639045433088632,
          1.245578441840703,
          -1.0598794371239935,
          0.22162474696218795,
          0.714755826671371,
          -0.6464888249376306,
          -0.15991178748956184,
          0.44270651657742105,
          -0.49536621779670165,
          -0.3337392917600911,
          -0.3722023058235199,
          1.7853238046755189,
          0.6672531974451232,
          -0.0629772291874929,
          -0.2679822545976978,
          -0.427960450897043,
          1.2255891597486852,
          1.6349909023914029,
          -1.0990742295726037,
          -0.4031039386900612,
          -1.8840151714757252,
          0.24122678438561407,
          -1.63272285788489,
          -0.45215556888368347,
          0.9996177661914009,
          -0.8972395864459162,
          -0.3852976988003857,
          -1.6048338125867412,
          0.6810799365123126,
          0.6343674901247007,
          0.6846125078879841,
          0.7511672981039151,
          -0.28261636398842405
         ]
        },
        {
         "connectgaps": false,
         "fill": "tozeroy",
         "line": {
          "color": "green",
          "dash": "solid",
          "shape": "linear",
          "width": 0.5
         },
         "mode": "lines",
         "name": "Spread",
         "showlegend": false,
         "type": "scatter",
         "x": [
          0,
          1,
          2,
          3,
          4,
          5,
          6,
          7,
          8,
          9,
          10,
          11,
          12,
          13,
          14,
          15,
          16,
          17,
          18,
          19,
          20,
          21,
          22,
          23,
          24,
          25,
          26,
          27,
          28,
          29,
          30,
          31,
          32,
          33,
          34,
          35,
          36,
          37,
          38,
          39,
          40,
          41,
          42,
          43,
          44,
          45,
          46,
          47,
          48,
          49,
          50,
          51,
          52,
          53,
          54,
          55,
          56,
          57,
          58,
          59,
          60,
          61,
          62,
          63,
          64,
          65,
          66,
          67,
          68,
          69,
          70,
          71,
          72,
          73,
          74,
          75,
          76,
          77,
          78,
          79,
          80,
          81,
          82,
          83,
          84,
          85,
          86,
          87,
          88,
          89,
          90,
          91,
          92,
          93,
          94,
          95,
          96,
          97,
          98,
          99
         ],
         "xaxis": "x2",
         "y": [
          0.8083169345837156,
          1.2342359925913624,
          0.13754613576188834,
          "",
          0.6350068391638504,
          2.1624729708427157,
          1.2677222094197154,
          "",
          "",
          2.111178118947432,
          0.5064496239592085,
          0.07644197858765592,
          "",
          "",
          "",
          1.1712436364529653,
          "",
          "",
          0.6465651136368411,
          "",
          0.5111374521065619,
          "",
          0.6511181476639736,
          1.7337068698972764,
          "",
          "",
          "",
          "",
          "",
          0.06982929145194627,
          2.34967073446002,
          "",
          "",
          0.7358771477972389,
          "",
          "",
          "",
          "",
          "",
          "",
          2.0577396326597537,
          "",
          0.3659382485834559,
          "",
          0.4756391151941358,
          2.181324606573028,
          0.8302755082983212,
          "",
          0.5549830842629901,
          1.7980168755088972,
          "",
          "",
          "",
          0.20910968598054885,
          "",
          "",
          "",
          1.7504688023850221,
          "",
          "",
          0.8953216291528213,
          3.99999637770415,
          0.2548982306870163,
          "",
          "",
          "",
          "",
          0.5212702488650768,
          "",
          1.3556107242129212,
          0.22128435072075783,
          0.03596820084493535,
          0.6527556986874445,
          1.1605410251725612,
          1.1935403313475794,
          0.10062595222892784,
          "",
          0.03128247700652936,
          "",
          1.4016754778295775,
          "",
          "",
          "",
          "",
          "",
          3.068505497833997,
          "",
          0.029539723905021242,
          0.35210420613032,
          1.9295226915197612,
          0.5467901755769924,
          "",
          0.6076739630274884,
          "",
          1.9201991206897104,
          "",
          0.5585261893744615,
          "",
          "",
          0.18344184655753595
         ],
         "yaxis": "y2"
        },
        {
         "connectgaps": false,
         "fill": "tozeroy",
         "line": {
          "color": "red",
          "dash": "solid",
          "shape": "linear",
          "width": 0.5
         },
         "mode": "lines",
         "name": "Spread",
         "showlegend": false,
         "type": "scatter",
         "x": [
          0,
          1,
          2,
          3,
          4,
          5,
          6,
          7,
          8,
          9,
          10,
          11,
          12,
          13,
          14,
          15,
          16,
          17,
          18,
          19,
          20,
          21,
          22,
          23,
          24,
          25,
          26,
          27,
          28,
          29,
          30,
          31,
          32,
          33,
          34,
          35,
          36,
          37,
          38,
          39,
          40,
          41,
          42,
          43,
          44,
          45,
          46,
          47,
          48,
          49,
          50,
          51,
          52,
          53,
          54,
          55,
          56,
          57,
          58,
          59,
          60,
          61,
          62,
          63,
          64,
          65,
          66,
          67,
          68,
          69,
          70,
          71,
          72,
          73,
          74,
          75,
          76,
          77,
          78,
          79,
          80,
          81,
          82,
          83,
          84,
          85,
          86,
          87,
          88,
          89,
          90,
          91,
          92,
          93,
          94,
          95,
          96,
          97,
          98,
          99
         ],
         "xaxis": "x2",
         "y": [
          "",
          "",
          "",
          -1.12620746188251,
          "",
          "",
          "",
          -2.0654360575463446,
          -1.8667031328565833,
          "",
          "",
          "",
          -1.1853333427837887,
          -0.18881760985538665,
          -0.1715906097341977,
          "",
          -0.8155147744338842,
          -0.11603422757432158,
          "",
          -0.7545078901148118,
          "",
          -0.45999460203969567,
          "",
          "",
          -0.6196760241269885,
          -3.4660200651498396,
          -0.2806228854996209,
          -1.9882890882836668,
          -0.6976545558258723,
          "",
          "",
          -2.290676310160884,
          -0.25318861681120547,
          "",
          -0.06743373329791491,
          -3.985518401996292,
          -3.0150112550307933,
          -0.471657262955141,
          -0.7436855949058163,
          -0.1114364859878052,
          "",
          -1.2172494754518355,
          "",
          -1.0469925498277015,
          "",
          "",
          "",
          -1.729634544938883,
          "",
          "",
          -2.398185994367555,
          -2.2504181351565915,
          -1.3197225206467547,
          "",
          -2.4348681972788615,
          -1.479432057215283,
          -1.4020329280326154,
          "",
          -0.4343763417124033,
          -2.3337480064133844,
          "",
          "",
          "",
          -0.49696721447192194,
          -0.9450291259427817,
          -0.4609834742489608,
          -2.0815512255118915,
          "",
          -0.703957512792709,
          "",
          "",
          "",
          "",
          "",
          "",
          "",
          -0.15525176638732235,
          "",
          -3.6245971250025746,
          "",
          -0.9400002675437583,
          -0.3860625878284985,
          -0.5910257217992956,
          -0.1475993138932452,
          -1.709165904681035,
          "",
          -0.25152213344095464,
          "",
          "",
          "",
          "",
          -0.3702097302735885,
          "",
          -0.2707246459075406,
          "",
          -2.207405156659116,
          "",
          -0.29586448449863173,
          -1.3569636363320645,
          ""
         ],
         "yaxis": "y2"
        }
       ],
       "layout": {
        "hovermode": "x",
        "legend": {
         "bgcolor": "#F5F6F9",
         "font": {
          "color": "#4D5663"
         }
        },
        "paper_bgcolor": "#F5F6F9",
        "plot_bgcolor": "#F5F6F9",
        "template": {
         "data": {
          "bar": [
           {
            "error_x": {
             "color": "#2a3f5f"
            },
            "error_y": {
             "color": "#2a3f5f"
            },
            "marker": {
             "line": {
              "color": "#E5ECF6",
              "width": 0.5
             }
            },
            "type": "bar"
           }
          ],
          "barpolar": [
           {
            "marker": {
             "line": {
              "color": "#E5ECF6",
              "width": 0.5
             }
            },
            "type": "barpolar"
           }
          ],
          "carpet": [
           {
            "aaxis": {
             "endlinecolor": "#2a3f5f",
             "gridcolor": "white",
             "linecolor": "white",
             "minorgridcolor": "white",
             "startlinecolor": "#2a3f5f"
            },
            "baxis": {
             "endlinecolor": "#2a3f5f",
             "gridcolor": "white",
             "linecolor": "white",
             "minorgridcolor": "white",
             "startlinecolor": "#2a3f5f"
            },
            "type": "carpet"
           }
          ],
          "choropleth": [
           {
            "colorbar": {
             "outlinewidth": 0,
             "ticks": ""
            },
            "type": "choropleth"
           }
          ],
          "contour": [
           {
            "colorbar": {
             "outlinewidth": 0,
             "ticks": ""
            },
            "colorscale": [
             [
              0,
              "#0d0887"
             ],
             [
              0.1111111111111111,
              "#46039f"
             ],
             [
              0.2222222222222222,
              "#7201a8"
             ],
             [
              0.3333333333333333,
              "#9c179e"
             ],
             [
              0.4444444444444444,
              "#bd3786"
             ],
             [
              0.5555555555555556,
              "#d8576b"
             ],
             [
              0.6666666666666666,
              "#ed7953"
             ],
             [
              0.7777777777777778,
              "#fb9f3a"
             ],
             [
              0.8888888888888888,
              "#fdca26"
             ],
             [
              1,
              "#f0f921"
             ]
            ],
            "type": "contour"
           }
          ],
          "contourcarpet": [
           {
            "colorbar": {
             "outlinewidth": 0,
             "ticks": ""
            },
            "type": "contourcarpet"
           }
          ],
          "heatmap": [
           {
            "colorbar": {
             "outlinewidth": 0,
             "ticks": ""
            },
            "colorscale": [
             [
              0,
              "#0d0887"
             ],
             [
              0.1111111111111111,
              "#46039f"
             ],
             [
              0.2222222222222222,
              "#7201a8"
             ],
             [
              0.3333333333333333,
              "#9c179e"
             ],
             [
              0.4444444444444444,
              "#bd3786"
             ],
             [
              0.5555555555555556,
              "#d8576b"
             ],
             [
              0.6666666666666666,
              "#ed7953"
             ],
             [
              0.7777777777777778,
              "#fb9f3a"
             ],
             [
              0.8888888888888888,
              "#fdca26"
             ],
             [
              1,
              "#f0f921"
             ]
            ],
            "type": "heatmap"
           }
          ],
          "heatmapgl": [
           {
            "colorbar": {
             "outlinewidth": 0,
             "ticks": ""
            },
            "colorscale": [
             [
              0,
              "#0d0887"
             ],
             [
              0.1111111111111111,
              "#46039f"
             ],
             [
              0.2222222222222222,
              "#7201a8"
             ],
             [
              0.3333333333333333,
              "#9c179e"
             ],
             [
              0.4444444444444444,
              "#bd3786"
             ],
             [
              0.5555555555555556,
              "#d8576b"
             ],
             [
              0.6666666666666666,
              "#ed7953"
             ],
             [
              0.7777777777777778,
              "#fb9f3a"
             ],
             [
              0.8888888888888888,
              "#fdca26"
             ],
             [
              1,
              "#f0f921"
             ]
            ],
            "type": "heatmapgl"
           }
          ],
          "histogram": [
           {
            "marker": {
             "colorbar": {
              "outlinewidth": 0,
              "ticks": ""
             }
            },
            "type": "histogram"
           }
          ],
          "histogram2d": [
           {
            "colorbar": {
             "outlinewidth": 0,
             "ticks": ""
            },
            "colorscale": [
             [
              0,
              "#0d0887"
             ],
             [
              0.1111111111111111,
              "#46039f"
             ],
             [
              0.2222222222222222,
              "#7201a8"
             ],
             [
              0.3333333333333333,
              "#9c179e"
             ],
             [
              0.4444444444444444,
              "#bd3786"
             ],
             [
              0.5555555555555556,
              "#d8576b"
             ],
             [
              0.6666666666666666,
              "#ed7953"
             ],
             [
              0.7777777777777778,
              "#fb9f3a"
             ],
             [
              0.8888888888888888,
              "#fdca26"
             ],
             [
              1,
              "#f0f921"
             ]
            ],
            "type": "histogram2d"
           }
          ],
          "histogram2dcontour": [
           {
            "colorbar": {
             "outlinewidth": 0,
             "ticks": ""
            },
            "colorscale": [
             [
              0,
              "#0d0887"
             ],
             [
              0.1111111111111111,
              "#46039f"
             ],
             [
              0.2222222222222222,
              "#7201a8"
             ],
             [
              0.3333333333333333,
              "#9c179e"
             ],
             [
              0.4444444444444444,
              "#bd3786"
             ],
             [
              0.5555555555555556,
              "#d8576b"
             ],
             [
              0.6666666666666666,
              "#ed7953"
             ],
             [
              0.7777777777777778,
              "#fb9f3a"
             ],
             [
              0.8888888888888888,
              "#fdca26"
             ],
             [
              1,
              "#f0f921"
             ]
            ],
            "type": "histogram2dcontour"
           }
          ],
          "mesh3d": [
           {
            "colorbar": {
             "outlinewidth": 0,
             "ticks": ""
            },
            "type": "mesh3d"
           }
          ],
          "parcoords": [
           {
            "line": {
             "colorbar": {
              "outlinewidth": 0,
              "ticks": ""
             }
            },
            "type": "parcoords"
           }
          ],
          "pie": [
           {
            "automargin": true,
            "type": "pie"
           }
          ],
          "scatter": [
           {
            "marker": {
             "colorbar": {
              "outlinewidth": 0,
              "ticks": ""
             }
            },
            "type": "scatter"
           }
          ],
          "scatter3d": [
           {
            "line": {
             "colorbar": {
              "outlinewidth": 0,
              "ticks": ""
             }
            },
            "marker": {
             "colorbar": {
              "outlinewidth": 0,
              "ticks": ""
             }
            },
            "type": "scatter3d"
           }
          ],
          "scattercarpet": [
           {
            "marker": {
             "colorbar": {
              "outlinewidth": 0,
              "ticks": ""
             }
            },
            "type": "scattercarpet"
           }
          ],
          "scattergeo": [
           {
            "marker": {
             "colorbar": {
              "outlinewidth": 0,
              "ticks": ""
             }
            },
            "type": "scattergeo"
           }
          ],
          "scattergl": [
           {
            "marker": {
             "colorbar": {
              "outlinewidth": 0,
              "ticks": ""
             }
            },
            "type": "scattergl"
           }
          ],
          "scattermapbox": [
           {
            "marker": {
             "colorbar": {
              "outlinewidth": 0,
              "ticks": ""
             }
            },
            "type": "scattermapbox"
           }
          ],
          "scatterpolar": [
           {
            "marker": {
             "colorbar": {
              "outlinewidth": 0,
              "ticks": ""
             }
            },
            "type": "scatterpolar"
           }
          ],
          "scatterpolargl": [
           {
            "marker": {
             "colorbar": {
              "outlinewidth": 0,
              "ticks": ""
             }
            },
            "type": "scatterpolargl"
           }
          ],
          "scatterternary": [
           {
            "marker": {
             "colorbar": {
              "outlinewidth": 0,
              "ticks": ""
             }
            },
            "type": "scatterternary"
           }
          ],
          "surface": [
           {
            "colorbar": {
             "outlinewidth": 0,
             "ticks": ""
            },
            "colorscale": [
             [
              0,
              "#0d0887"
             ],
             [
              0.1111111111111111,
              "#46039f"
             ],
             [
              0.2222222222222222,
              "#7201a8"
             ],
             [
              0.3333333333333333,
              "#9c179e"
             ],
             [
              0.4444444444444444,
              "#bd3786"
             ],
             [
              0.5555555555555556,
              "#d8576b"
             ],
             [
              0.6666666666666666,
              "#ed7953"
             ],
             [
              0.7777777777777778,
              "#fb9f3a"
             ],
             [
              0.8888888888888888,
              "#fdca26"
             ],
             [
              1,
              "#f0f921"
             ]
            ],
            "type": "surface"
           }
          ],
          "table": [
           {
            "cells": {
             "fill": {
              "color": "#EBF0F8"
             },
             "line": {
              "color": "white"
             }
            },
            "header": {
             "fill": {
              "color": "#C8D4E3"
             },
             "line": {
              "color": "white"
             }
            },
            "type": "table"
           }
          ]
         },
         "layout": {
          "annotationdefaults": {
           "arrowcolor": "#2a3f5f",
           "arrowhead": 0,
           "arrowwidth": 1
          },
          "coloraxis": {
           "colorbar": {
            "outlinewidth": 0,
            "ticks": ""
           }
          },
          "colorscale": {
           "diverging": [
            [
             0,
             "#8e0152"
            ],
            [
             0.1,
             "#c51b7d"
            ],
            [
             0.2,
             "#de77ae"
            ],
            [
             0.3,
             "#f1b6da"
            ],
            [
             0.4,
             "#fde0ef"
            ],
            [
             0.5,
             "#f7f7f7"
            ],
            [
             0.6,
             "#e6f5d0"
            ],
            [
             0.7,
             "#b8e186"
            ],
            [
             0.8,
             "#7fbc41"
            ],
            [
             0.9,
             "#4d9221"
            ],
            [
             1,
             "#276419"
            ]
           ],
           "sequential": [
            [
             0,
             "#0d0887"
            ],
            [
             0.1111111111111111,
             "#46039f"
            ],
            [
             0.2222222222222222,
             "#7201a8"
            ],
            [
             0.3333333333333333,
             "#9c179e"
            ],
            [
             0.4444444444444444,
             "#bd3786"
            ],
            [
             0.5555555555555556,
             "#d8576b"
            ],
            [
             0.6666666666666666,
             "#ed7953"
            ],
            [
             0.7777777777777778,
             "#fb9f3a"
            ],
            [
             0.8888888888888888,
             "#fdca26"
            ],
            [
             1,
             "#f0f921"
            ]
           ],
           "sequentialminus": [
            [
             0,
             "#0d0887"
            ],
            [
             0.1111111111111111,
             "#46039f"
            ],
            [
             0.2222222222222222,
             "#7201a8"
            ],
            [
             0.3333333333333333,
             "#9c179e"
            ],
            [
             0.4444444444444444,
             "#bd3786"
            ],
            [
             0.5555555555555556,
             "#d8576b"
            ],
            [
             0.6666666666666666,
             "#ed7953"
            ],
            [
             0.7777777777777778,
             "#fb9f3a"
            ],
            [
             0.8888888888888888,
             "#fdca26"
            ],
            [
             1,
             "#f0f921"
            ]
           ]
          },
          "colorway": [
           "#636efa",
           "#EF553B",
           "#00cc96",
           "#ab63fa",
           "#FFA15A",
           "#19d3f3",
           "#FF6692",
           "#B6E880",
           "#FF97FF",
           "#FECB52"
          ],
          "font": {
           "color": "#2a3f5f"
          },
          "geo": {
           "bgcolor": "white",
           "lakecolor": "white",
           "landcolor": "#E5ECF6",
           "showlakes": true,
           "showland": true,
           "subunitcolor": "white"
          },
          "hoverlabel": {
           "align": "left"
          },
          "hovermode": "closest",
          "mapbox": {
           "style": "light"
          },
          "paper_bgcolor": "white",
          "plot_bgcolor": "#E5ECF6",
          "polar": {
           "angularaxis": {
            "gridcolor": "white",
            "linecolor": "white",
            "ticks": ""
           },
           "bgcolor": "#E5ECF6",
           "radialaxis": {
            "gridcolor": "white",
            "linecolor": "white",
            "ticks": ""
           }
          },
          "scene": {
           "xaxis": {
            "backgroundcolor": "#E5ECF6",
            "gridcolor": "white",
            "gridwidth": 2,
            "linecolor": "white",
            "showbackground": true,
            "ticks": "",
            "zerolinecolor": "white"
           },
           "yaxis": {
            "backgroundcolor": "#E5ECF6",
            "gridcolor": "white",
            "gridwidth": 2,
            "linecolor": "white",
            "showbackground": true,
            "ticks": "",
            "zerolinecolor": "white"
           },
           "zaxis": {
            "backgroundcolor": "#E5ECF6",
            "gridcolor": "white",
            "gridwidth": 2,
            "linecolor": "white",
            "showbackground": true,
            "ticks": "",
            "zerolinecolor": "white"
           }
          },
          "shapedefaults": {
           "line": {
            "color": "#2a3f5f"
           }
          },
          "ternary": {
           "aaxis": {
            "gridcolor": "white",
            "linecolor": "white",
            "ticks": ""
           },
           "baxis": {
            "gridcolor": "white",
            "linecolor": "white",
            "ticks": ""
           },
           "bgcolor": "#E5ECF6",
           "caxis": {
            "gridcolor": "white",
            "linecolor": "white",
            "ticks": ""
           }
          },
          "title": {
           "x": 0.05
          },
          "xaxis": {
           "automargin": true,
           "gridcolor": "white",
           "linecolor": "white",
           "ticks": "",
           "title": {
            "standoff": 15
           },
           "zerolinecolor": "white",
           "zerolinewidth": 2
          },
          "yaxis": {
           "automargin": true,
           "gridcolor": "white",
           "linecolor": "white",
           "ticks": "",
           "title": {
            "standoff": 15
           },
           "zerolinecolor": "white",
           "zerolinewidth": 2
          }
         }
        },
        "title": {
         "font": {
          "color": "#4D5663"
         }
        },
        "xaxis": {
         "gridcolor": "#E1E5ED",
         "showgrid": true,
         "tickfont": {
          "color": "#4D5663"
         },
         "title": {
          "font": {
           "color": "#4D5663"
          },
          "text": ""
         },
         "zerolinecolor": "#E1E5ED"
        },
        "xaxis2": {
         "anchor": "y2",
         "gridcolor": "#E1E5ED",
         "showgrid": true,
         "showticklabels": false,
         "tickfont": {
          "color": "#4D5663"
         },
         "title": {
          "font": {
           "color": "#4D5663"
          },
          "text": ""
         },
         "zerolinecolor": "#E1E5ED"
        },
        "yaxis": {
         "domain": [
          0.3,
          1
         ],
         "gridcolor": "#E1E5ED",
         "showgrid": true,
         "tickfont": {
          "color": "#4D5663"
         },
         "title": {
          "font": {
           "color": "#4D5663"
          },
          "text": ""
         },
         "zerolinecolor": "#E1E5ED"
        },
        "yaxis2": {
         "domain": [
          0,
          0.25
         ],
         "gridcolor": "#E1E5ED",
         "showgrid": true,
         "tickfont": {
          "color": "#4D5663"
         },
         "title": {
          "font": {
           "color": "#4D5663"
          },
          "text": "Spread"
         },
         "zerolinecolor": "#E1E5ED"
        }
       }
      },
      "text/html": [
       "<div>\n",
       "        \n",
       "        \n",
       "            <div id=\"fa759978-6403-47cf-96d5-4f4efd0e4e6f\" class=\"plotly-graph-div\" style=\"height:525px; width:100%;\"></div>\n",
       "            <script type=\"text/javascript\">\n",
       "                require([\"plotly\"], function(Plotly) {\n",
       "                    window.PLOTLYENV=window.PLOTLYENV || {};\n",
       "                    window.PLOTLYENV.BASE_URL='https://plot.ly';\n",
       "                    \n",
       "                if (document.getElementById(\"fa759978-6403-47cf-96d5-4f4efd0e4e6f\")) {\n",
       "                    Plotly.newPlot(\n",
       "                        'fa759978-6403-47cf-96d5-4f4efd0e4e6f',\n",
       "                        [{\"line\": {\"color\": \"rgba(255, 153, 51, 1.0)\", \"dash\": \"solid\", \"shape\": \"linear\", \"width\": 1.3}, \"mode\": \"lines\", \"name\": \"A\", \"text\": \"\", \"type\": \"scatter\", \"x\": [0, 1, 2, 3, 4, 5, 6, 7, 8, 9, 10, 11, 12, 13, 14, 15, 16, 17, 18, 19, 20, 21, 22, 23, 24, 25, 26, 27, 28, 29, 30, 31, 32, 33, 34, 35, 36, 37, 38, 39, 40, 41, 42, 43, 44, 45, 46, 47, 48, 49, 50, 51, 52, 53, 54, 55, 56, 57, 58, 59, 60, 61, 62, 63, 64, 65, 66, 67, 68, 69, 70, 71, 72, 73, 74, 75, 76, 77, 78, 79, 80, 81, 82, 83, 84, 85, 86, 87, 88, 89, 90, 91, 92, 93, 94, 95, 96, 97, 98, 99], \"y\": [0.27442011925577803, 0.4966318940744484, 0.9235787135880593, -1.3078878995183352, 1.029829990968547, 0.8768161316518825, 1.7607058214307147, -1.3352873795477167, -1.2398425570338618, 1.5554085396300308, 0.10574878112682273, 0.02877669534919826, 0.14547075907513576, 1.0931273800644667, 0.6761310088429014, 0.2784728536362254, -0.1660772458435563, -1.3210450424175817, 0.5718288528568582, 0.14355910285361492, -0.015859406501193326, 1.213306555373937, 0.4930056971125333, 0.9639894896117828, -1.6921012175771217, -1.4497539051335953, 0.5452526346624451, -0.645093482314308, -0.21143817105405713, 2.025199604317894, 1.0647915440432545, -0.9974086869972061, -0.026009175991362356, 0.8223224835488065, -0.6874438195145413, -1.1633762926469993, -2.1889031235002805, -1.6981324604478112, -0.8322915772080726, 0.8457591850393001, 2.1442085506693567, -1.5640271898647706, 0.7744562894683265, -0.38201421593223095, -0.6212905805519496, 1.5069808387621415, -0.26160458098711914, -0.4081977076676588, 0.06513595918607111, 1.5251829050865908, -1.364239429827965, -0.5723650046038495, -0.35491042630058367, 0.40182125294929, -1.0754453343631818, -0.7618618960949269, -0.9443244125840022, 0.8377214807586354, -0.031809465745655796, -1.0932793443090683, 0.4765706510147636, 2.05418105903198, 0.6394359942486391, 0.6371385671293637, 0.2426186474648045, -1.0881770872260315, -0.5516764613258204, -0.11777518422355525, 0.541620929047994, 0.2957312870889277, 0.4429090976829458, 0.7507240275163064, 0.006266873749813978, 1.0006292376829993, 1.6362468479250005, -0.3947402655677738, -0.48899105814741345, -0.3409198288169905, -1.8392733203270557, 2.0689286752747007, -1.0029774967312513, -0.6540448424261963, -1.0189861726963385, 1.07798984585544, -0.07417500228963209, 1.9694312682613933, -0.6546260721310159, -1.854475447570704, 0.5933309905159341, 0.2967998336348711, 0.09463460669330889, 0.6294080359178124, -0.28956562341842773, -0.6560223447079263, 0.3153653081029692, -1.5263252201468034, 1.1928936794991623, 0.3887480233893524, -0.6057963382281494, -0.09917451743088809]}, {\"line\": {\"color\": \"rgba(55, 128, 191, 1.0)\", \"dash\": \"solid\", \"shape\": \"linear\", \"width\": 1.3}, \"mode\": \"lines\", \"name\": \"B\", \"text\": \"\", \"type\": \"scatter\", \"x\": [0, 1, 2, 3, 4, 5, 6, 7, 8, 9, 10, 11, 12, 13, 14, 15, 16, 17, 18, 19, 20, 21, 22, 23, 24, 25, 26, 27, 28, 29, 30, 31, 32, 33, 34, 35, 36, 37, 38, 39, 40, 41, 42, 43, 44, 45, 46, 47, 48, 49, 50, 51, 52, 53, 54, 55, 56, 57, 58, 59, 60, 61, 62, 63, 64, 65, 66, 67, 68, 69, 70, 71, 72, 73, 74, 75, 76, 77, 78, 79, 80, 81, 82, 83, 84, 85, 86, 87, 88, 89, 90, 91, 92, 93, 94, 95, 96, 97, 98, 99], \"y\": [-0.5338968153279375, -0.737604098516914, 0.786032577826171, -0.18168043763582525, 0.3948231518046967, -1.285656839190833, 0.4929836120109994, 0.730148677998628, 0.6268605758227215, -0.5557695793174016, -0.40070084283238566, -0.04766528323845765, 1.3308041018589245, 1.2819449899198534, 0.8477216185770992, -0.8927707828167398, 0.6494375285903279, -1.2050108148432601, -0.07473626077998291, 0.8980669929684267, -0.5269968586077552, 1.6733011574136327, -0.15811245055144024, -0.7697173802854936, -1.0724251934501332, 2.0162661600162446, 0.825875520162066, 1.3431956059693588, 0.48621638477181517, 1.9553703128659479, -1.2848791904167656, 1.293267623163678, 0.22717944081984312, 0.08644533575156765, -0.6200100862166263, 2.822142109349293, 0.8261081315305128, -1.2264751974926702, -0.0886059823022562, 0.9571956710271053, 0.08646891800960291, -0.34677771441293503, 0.40851804088487054, 0.6649783338954706, -1.0969296957460855, -0.6743437678108863, -1.0918800892854403, 1.3214368372712242, -0.489847125076919, -0.27283397042230634, 1.0339465645395904, 1.678053130552742, 0.964812094346171, 0.19271156696874114, 1.3594228629156795, 0.7175701611203561, 0.45770851544861324, -0.9127473216263866, 0.4025668759667475, 1.240468662104316, -0.41875097813805773, -1.9458153186721703, 0.3845377635616228, 1.1341057816012856, 1.187647773407586, -0.6271936129770707, 1.529874764186071, -0.639045433088632, 1.245578441840703, -1.0598794371239935, 0.22162474696218795, 0.714755826671371, -0.6464888249376306, -0.15991178748956184, 0.44270651657742105, -0.49536621779670165, -0.3337392917600911, -0.3722023058235199, 1.7853238046755189, 0.6672531974451232, -0.0629772291874929, -0.2679822545976978, -0.427960450897043, 1.2255891597486852, 1.6349909023914029, -1.0990742295726037, -0.4031039386900612, -1.8840151714757252, 0.24122678438561407, -1.63272285788489, -0.45215556888368347, 0.9996177661914009, -0.8972395864459162, -0.3852976988003857, -1.6048338125867412, 0.6810799365123126, 0.6343674901247007, 0.6846125078879841, 0.7511672981039151, -0.28261636398842405]}, {\"connectgaps\": false, \"fill\": \"tozeroy\", \"line\": {\"color\": \"green\", \"dash\": \"solid\", \"shape\": \"linear\", \"width\": 0.5}, \"mode\": \"lines\", \"name\": \"Spread\", \"showlegend\": false, \"type\": \"scatter\", \"x\": [0, 1, 2, 3, 4, 5, 6, 7, 8, 9, 10, 11, 12, 13, 14, 15, 16, 17, 18, 19, 20, 21, 22, 23, 24, 25, 26, 27, 28, 29, 30, 31, 32, 33, 34, 35, 36, 37, 38, 39, 40, 41, 42, 43, 44, 45, 46, 47, 48, 49, 50, 51, 52, 53, 54, 55, 56, 57, 58, 59, 60, 61, 62, 63, 64, 65, 66, 67, 68, 69, 70, 71, 72, 73, 74, 75, 76, 77, 78, 79, 80, 81, 82, 83, 84, 85, 86, 87, 88, 89, 90, 91, 92, 93, 94, 95, 96, 97, 98, 99], \"xaxis\": \"x2\", \"y\": [0.8083169345837156, 1.2342359925913624, 0.13754613576188834, \"\", 0.6350068391638504, 2.1624729708427157, 1.2677222094197154, \"\", \"\", 2.111178118947432, 0.5064496239592085, 0.07644197858765592, \"\", \"\", \"\", 1.1712436364529653, \"\", \"\", 0.6465651136368411, \"\", 0.5111374521065619, \"\", 0.6511181476639736, 1.7337068698972764, \"\", \"\", \"\", \"\", \"\", 0.06982929145194627, 2.34967073446002, \"\", \"\", 0.7358771477972389, \"\", \"\", \"\", \"\", \"\", \"\", 2.0577396326597537, \"\", 0.3659382485834559, \"\", 0.4756391151941358, 2.181324606573028, 0.8302755082983212, \"\", 0.5549830842629901, 1.7980168755088972, \"\", \"\", \"\", 0.20910968598054885, \"\", \"\", \"\", 1.7504688023850221, \"\", \"\", 0.8953216291528213, 3.99999637770415, 0.2548982306870163, \"\", \"\", \"\", \"\", 0.5212702488650768, \"\", 1.3556107242129212, 0.22128435072075783, 0.03596820084493535, 0.6527556986874445, 1.1605410251725612, 1.1935403313475794, 0.10062595222892784, \"\", 0.03128247700652936, \"\", 1.4016754778295775, \"\", \"\", \"\", \"\", \"\", 3.068505497833997, \"\", 0.029539723905021242, 0.35210420613032, 1.9295226915197612, 0.5467901755769924, \"\", 0.6076739630274884, \"\", 1.9201991206897104, \"\", 0.5585261893744615, \"\", \"\", 0.18344184655753595], \"yaxis\": \"y2\"}, {\"connectgaps\": false, \"fill\": \"tozeroy\", \"line\": {\"color\": \"red\", \"dash\": \"solid\", \"shape\": \"linear\", \"width\": 0.5}, \"mode\": \"lines\", \"name\": \"Spread\", \"showlegend\": false, \"type\": \"scatter\", \"x\": [0, 1, 2, 3, 4, 5, 6, 7, 8, 9, 10, 11, 12, 13, 14, 15, 16, 17, 18, 19, 20, 21, 22, 23, 24, 25, 26, 27, 28, 29, 30, 31, 32, 33, 34, 35, 36, 37, 38, 39, 40, 41, 42, 43, 44, 45, 46, 47, 48, 49, 50, 51, 52, 53, 54, 55, 56, 57, 58, 59, 60, 61, 62, 63, 64, 65, 66, 67, 68, 69, 70, 71, 72, 73, 74, 75, 76, 77, 78, 79, 80, 81, 82, 83, 84, 85, 86, 87, 88, 89, 90, 91, 92, 93, 94, 95, 96, 97, 98, 99], \"xaxis\": \"x2\", \"y\": [\"\", \"\", \"\", -1.12620746188251, \"\", \"\", \"\", -2.0654360575463446, -1.8667031328565833, \"\", \"\", \"\", -1.1853333427837887, -0.18881760985538665, -0.1715906097341977, \"\", -0.8155147744338842, -0.11603422757432158, \"\", -0.7545078901148118, \"\", -0.45999460203969567, \"\", \"\", -0.6196760241269885, -3.4660200651498396, -0.2806228854996209, -1.9882890882836668, -0.6976545558258723, \"\", \"\", -2.290676310160884, -0.25318861681120547, \"\", -0.06743373329791491, -3.985518401996292, -3.0150112550307933, -0.471657262955141, -0.7436855949058163, -0.1114364859878052, \"\", -1.2172494754518355, \"\", -1.0469925498277015, \"\", \"\", \"\", -1.729634544938883, \"\", \"\", -2.398185994367555, -2.2504181351565915, -1.3197225206467547, \"\", -2.4348681972788615, -1.479432057215283, -1.4020329280326154, \"\", -0.4343763417124033, -2.3337480064133844, \"\", \"\", \"\", -0.49696721447192194, -0.9450291259427817, -0.4609834742489608, -2.0815512255118915, \"\", -0.703957512792709, \"\", \"\", \"\", \"\", \"\", \"\", \"\", -0.15525176638732235, \"\", -3.6245971250025746, \"\", -0.9400002675437583, -0.3860625878284985, -0.5910257217992956, -0.1475993138932452, -1.709165904681035, \"\", -0.25152213344095464, \"\", \"\", \"\", \"\", -0.3702097302735885, \"\", -0.2707246459075406, \"\", -2.207405156659116, \"\", -0.29586448449863173, -1.3569636363320645, \"\"], \"yaxis\": \"y2\"}],\n",
       "                        {\"hovermode\": \"x\", \"legend\": {\"bgcolor\": \"#F5F6F9\", \"font\": {\"color\": \"#4D5663\"}}, \"paper_bgcolor\": \"#F5F6F9\", \"plot_bgcolor\": \"#F5F6F9\", \"template\": {\"data\": {\"bar\": [{\"error_x\": {\"color\": \"#2a3f5f\"}, \"error_y\": {\"color\": \"#2a3f5f\"}, \"marker\": {\"line\": {\"color\": \"#E5ECF6\", \"width\": 0.5}}, \"type\": \"bar\"}], \"barpolar\": [{\"marker\": {\"line\": {\"color\": \"#E5ECF6\", \"width\": 0.5}}, \"type\": \"barpolar\"}], \"carpet\": [{\"aaxis\": {\"endlinecolor\": \"#2a3f5f\", \"gridcolor\": \"white\", \"linecolor\": \"white\", \"minorgridcolor\": \"white\", \"startlinecolor\": \"#2a3f5f\"}, \"baxis\": {\"endlinecolor\": \"#2a3f5f\", \"gridcolor\": \"white\", \"linecolor\": \"white\", \"minorgridcolor\": \"white\", \"startlinecolor\": \"#2a3f5f\"}, \"type\": \"carpet\"}], \"choropleth\": [{\"colorbar\": {\"outlinewidth\": 0, \"ticks\": \"\"}, \"type\": \"choropleth\"}], \"contour\": [{\"colorbar\": {\"outlinewidth\": 0, \"ticks\": \"\"}, \"colorscale\": [[0.0, \"#0d0887\"], [0.1111111111111111, \"#46039f\"], [0.2222222222222222, \"#7201a8\"], [0.3333333333333333, \"#9c179e\"], [0.4444444444444444, \"#bd3786\"], [0.5555555555555556, \"#d8576b\"], [0.6666666666666666, \"#ed7953\"], [0.7777777777777778, \"#fb9f3a\"], [0.8888888888888888, \"#fdca26\"], [1.0, \"#f0f921\"]], \"type\": \"contour\"}], \"contourcarpet\": [{\"colorbar\": {\"outlinewidth\": 0, \"ticks\": \"\"}, \"type\": \"contourcarpet\"}], \"heatmap\": [{\"colorbar\": {\"outlinewidth\": 0, \"ticks\": \"\"}, \"colorscale\": [[0.0, \"#0d0887\"], [0.1111111111111111, \"#46039f\"], [0.2222222222222222, \"#7201a8\"], [0.3333333333333333, \"#9c179e\"], [0.4444444444444444, \"#bd3786\"], [0.5555555555555556, \"#d8576b\"], [0.6666666666666666, \"#ed7953\"], [0.7777777777777778, \"#fb9f3a\"], [0.8888888888888888, \"#fdca26\"], [1.0, \"#f0f921\"]], \"type\": \"heatmap\"}], \"heatmapgl\": [{\"colorbar\": {\"outlinewidth\": 0, \"ticks\": \"\"}, \"colorscale\": [[0.0, \"#0d0887\"], [0.1111111111111111, \"#46039f\"], [0.2222222222222222, \"#7201a8\"], [0.3333333333333333, \"#9c179e\"], [0.4444444444444444, \"#bd3786\"], [0.5555555555555556, \"#d8576b\"], [0.6666666666666666, \"#ed7953\"], [0.7777777777777778, \"#fb9f3a\"], [0.8888888888888888, \"#fdca26\"], [1.0, \"#f0f921\"]], \"type\": \"heatmapgl\"}], \"histogram\": [{\"marker\": {\"colorbar\": {\"outlinewidth\": 0, \"ticks\": \"\"}}, \"type\": \"histogram\"}], \"histogram2d\": [{\"colorbar\": {\"outlinewidth\": 0, \"ticks\": \"\"}, \"colorscale\": [[0.0, \"#0d0887\"], [0.1111111111111111, \"#46039f\"], [0.2222222222222222, \"#7201a8\"], [0.3333333333333333, \"#9c179e\"], [0.4444444444444444, \"#bd3786\"], [0.5555555555555556, \"#d8576b\"], [0.6666666666666666, \"#ed7953\"], [0.7777777777777778, \"#fb9f3a\"], [0.8888888888888888, \"#fdca26\"], [1.0, \"#f0f921\"]], \"type\": \"histogram2d\"}], \"histogram2dcontour\": [{\"colorbar\": {\"outlinewidth\": 0, \"ticks\": \"\"}, \"colorscale\": [[0.0, \"#0d0887\"], [0.1111111111111111, \"#46039f\"], [0.2222222222222222, \"#7201a8\"], [0.3333333333333333, \"#9c179e\"], [0.4444444444444444, \"#bd3786\"], [0.5555555555555556, \"#d8576b\"], [0.6666666666666666, \"#ed7953\"], [0.7777777777777778, \"#fb9f3a\"], [0.8888888888888888, \"#fdca26\"], [1.0, \"#f0f921\"]], \"type\": \"histogram2dcontour\"}], \"mesh3d\": [{\"colorbar\": {\"outlinewidth\": 0, \"ticks\": \"\"}, \"type\": \"mesh3d\"}], \"parcoords\": [{\"line\": {\"colorbar\": {\"outlinewidth\": 0, \"ticks\": \"\"}}, \"type\": \"parcoords\"}], \"pie\": [{\"automargin\": true, \"type\": \"pie\"}], \"scatter\": [{\"marker\": {\"colorbar\": {\"outlinewidth\": 0, \"ticks\": \"\"}}, \"type\": \"scatter\"}], \"scatter3d\": [{\"line\": {\"colorbar\": {\"outlinewidth\": 0, \"ticks\": \"\"}}, \"marker\": {\"colorbar\": {\"outlinewidth\": 0, \"ticks\": \"\"}}, \"type\": \"scatter3d\"}], \"scattercarpet\": [{\"marker\": {\"colorbar\": {\"outlinewidth\": 0, \"ticks\": \"\"}}, \"type\": \"scattercarpet\"}], \"scattergeo\": [{\"marker\": {\"colorbar\": {\"outlinewidth\": 0, \"ticks\": \"\"}}, \"type\": \"scattergeo\"}], \"scattergl\": [{\"marker\": {\"colorbar\": {\"outlinewidth\": 0, \"ticks\": \"\"}}, \"type\": \"scattergl\"}], \"scattermapbox\": [{\"marker\": {\"colorbar\": {\"outlinewidth\": 0, \"ticks\": \"\"}}, \"type\": \"scattermapbox\"}], \"scatterpolar\": [{\"marker\": {\"colorbar\": {\"outlinewidth\": 0, \"ticks\": \"\"}}, \"type\": \"scatterpolar\"}], \"scatterpolargl\": [{\"marker\": {\"colorbar\": {\"outlinewidth\": 0, \"ticks\": \"\"}}, \"type\": \"scatterpolargl\"}], \"scatterternary\": [{\"marker\": {\"colorbar\": {\"outlinewidth\": 0, \"ticks\": \"\"}}, \"type\": \"scatterternary\"}], \"surface\": [{\"colorbar\": {\"outlinewidth\": 0, \"ticks\": \"\"}, \"colorscale\": [[0.0, \"#0d0887\"], [0.1111111111111111, \"#46039f\"], [0.2222222222222222, \"#7201a8\"], [0.3333333333333333, \"#9c179e\"], [0.4444444444444444, \"#bd3786\"], [0.5555555555555556, \"#d8576b\"], [0.6666666666666666, \"#ed7953\"], [0.7777777777777778, \"#fb9f3a\"], [0.8888888888888888, \"#fdca26\"], [1.0, \"#f0f921\"]], \"type\": \"surface\"}], \"table\": [{\"cells\": {\"fill\": {\"color\": \"#EBF0F8\"}, \"line\": {\"color\": \"white\"}}, \"header\": {\"fill\": {\"color\": \"#C8D4E3\"}, \"line\": {\"color\": \"white\"}}, \"type\": \"table\"}]}, \"layout\": {\"annotationdefaults\": {\"arrowcolor\": \"#2a3f5f\", \"arrowhead\": 0, \"arrowwidth\": 1}, \"coloraxis\": {\"colorbar\": {\"outlinewidth\": 0, \"ticks\": \"\"}}, \"colorscale\": {\"diverging\": [[0, \"#8e0152\"], [0.1, \"#c51b7d\"], [0.2, \"#de77ae\"], [0.3, \"#f1b6da\"], [0.4, \"#fde0ef\"], [0.5, \"#f7f7f7\"], [0.6, \"#e6f5d0\"], [0.7, \"#b8e186\"], [0.8, \"#7fbc41\"], [0.9, \"#4d9221\"], [1, \"#276419\"]], \"sequential\": [[0.0, \"#0d0887\"], [0.1111111111111111, \"#46039f\"], [0.2222222222222222, \"#7201a8\"], [0.3333333333333333, \"#9c179e\"], [0.4444444444444444, \"#bd3786\"], [0.5555555555555556, \"#d8576b\"], [0.6666666666666666, \"#ed7953\"], [0.7777777777777778, \"#fb9f3a\"], [0.8888888888888888, \"#fdca26\"], [1.0, \"#f0f921\"]], \"sequentialminus\": [[0.0, \"#0d0887\"], [0.1111111111111111, \"#46039f\"], [0.2222222222222222, \"#7201a8\"], [0.3333333333333333, \"#9c179e\"], [0.4444444444444444, \"#bd3786\"], [0.5555555555555556, \"#d8576b\"], [0.6666666666666666, \"#ed7953\"], [0.7777777777777778, \"#fb9f3a\"], [0.8888888888888888, \"#fdca26\"], [1.0, \"#f0f921\"]]}, \"colorway\": [\"#636efa\", \"#EF553B\", \"#00cc96\", \"#ab63fa\", \"#FFA15A\", \"#19d3f3\", \"#FF6692\", \"#B6E880\", \"#FF97FF\", \"#FECB52\"], \"font\": {\"color\": \"#2a3f5f\"}, \"geo\": {\"bgcolor\": \"white\", \"lakecolor\": \"white\", \"landcolor\": \"#E5ECF6\", \"showlakes\": true, \"showland\": true, \"subunitcolor\": \"white\"}, \"hoverlabel\": {\"align\": \"left\"}, \"hovermode\": \"closest\", \"mapbox\": {\"style\": \"light\"}, \"paper_bgcolor\": \"white\", \"plot_bgcolor\": \"#E5ECF6\", \"polar\": {\"angularaxis\": {\"gridcolor\": \"white\", \"linecolor\": \"white\", \"ticks\": \"\"}, \"bgcolor\": \"#E5ECF6\", \"radialaxis\": {\"gridcolor\": \"white\", \"linecolor\": \"white\", \"ticks\": \"\"}}, \"scene\": {\"xaxis\": {\"backgroundcolor\": \"#E5ECF6\", \"gridcolor\": \"white\", \"gridwidth\": 2, \"linecolor\": \"white\", \"showbackground\": true, \"ticks\": \"\", \"zerolinecolor\": \"white\"}, \"yaxis\": {\"backgroundcolor\": \"#E5ECF6\", \"gridcolor\": \"white\", \"gridwidth\": 2, \"linecolor\": \"white\", \"showbackground\": true, \"ticks\": \"\", \"zerolinecolor\": \"white\"}, \"zaxis\": {\"backgroundcolor\": \"#E5ECF6\", \"gridcolor\": \"white\", \"gridwidth\": 2, \"linecolor\": \"white\", \"showbackground\": true, \"ticks\": \"\", \"zerolinecolor\": \"white\"}}, \"shapedefaults\": {\"line\": {\"color\": \"#2a3f5f\"}}, \"ternary\": {\"aaxis\": {\"gridcolor\": \"white\", \"linecolor\": \"white\", \"ticks\": \"\"}, \"baxis\": {\"gridcolor\": \"white\", \"linecolor\": \"white\", \"ticks\": \"\"}, \"bgcolor\": \"#E5ECF6\", \"caxis\": {\"gridcolor\": \"white\", \"linecolor\": \"white\", \"ticks\": \"\"}}, \"title\": {\"x\": 0.05}, \"xaxis\": {\"automargin\": true, \"gridcolor\": \"white\", \"linecolor\": \"white\", \"ticks\": \"\", \"title\": {\"standoff\": 15}, \"zerolinecolor\": \"white\", \"zerolinewidth\": 2}, \"yaxis\": {\"automargin\": true, \"gridcolor\": \"white\", \"linecolor\": \"white\", \"ticks\": \"\", \"title\": {\"standoff\": 15}, \"zerolinecolor\": \"white\", \"zerolinewidth\": 2}}}, \"title\": {\"font\": {\"color\": \"#4D5663\"}}, \"xaxis\": {\"gridcolor\": \"#E1E5ED\", \"showgrid\": true, \"tickfont\": {\"color\": \"#4D5663\"}, \"title\": {\"font\": {\"color\": \"#4D5663\"}, \"text\": \"\"}, \"zerolinecolor\": \"#E1E5ED\"}, \"xaxis2\": {\"anchor\": \"y2\", \"gridcolor\": \"#E1E5ED\", \"showgrid\": true, \"showticklabels\": false, \"tickfont\": {\"color\": \"#4D5663\"}, \"title\": {\"font\": {\"color\": \"#4D5663\"}, \"text\": \"\"}, \"zerolinecolor\": \"#E1E5ED\"}, \"yaxis\": {\"domain\": [0.3, 1], \"gridcolor\": \"#E1E5ED\", \"showgrid\": true, \"tickfont\": {\"color\": \"#4D5663\"}, \"title\": {\"font\": {\"color\": \"#4D5663\"}, \"text\": \"\"}, \"zerolinecolor\": \"#E1E5ED\"}, \"yaxis2\": {\"domain\": [0, 0.25], \"gridcolor\": \"#E1E5ED\", \"showgrid\": true, \"tickfont\": {\"color\": \"#4D5663\"}, \"title\": {\"font\": {\"color\": \"#4D5663\"}, \"text\": \"Spread\"}, \"zerolinecolor\": \"#E1E5ED\"}},\n",
       "                        {\"showLink\": true, \"linkText\": \"Export to plot.ly\", \"plotlyServerURL\": \"https://plot.ly\", \"responsive\": true}\n",
       "                    ).then(function(){\n",
       "                            \n",
       "var gd = document.getElementById('fa759978-6403-47cf-96d5-4f4efd0e4e6f');\n",
       "var x = new MutationObserver(function (mutations, observer) {{\n",
       "        var display = window.getComputedStyle(gd).display;\n",
       "        if (!display || display === 'none') {{\n",
       "            console.log([gd, 'removed!']);\n",
       "            Plotly.purge(gd);\n",
       "            observer.disconnect();\n",
       "        }}\n",
       "}});\n",
       "\n",
       "// Listen for the removal of the full notebook cells\n",
       "var notebookContainer = gd.closest('#notebook-container');\n",
       "if (notebookContainer) {{\n",
       "    x.observe(notebookContainer, {childList: true});\n",
       "}}\n",
       "\n",
       "// Listen for the clearing of the current output cell\n",
       "var outputEl = gd.closest('.output');\n",
       "if (outputEl) {{\n",
       "    x.observe(outputEl, {childList: true});\n",
       "}}\n",
       "\n",
       "                        })\n",
       "                };\n",
       "                });\n",
       "            </script>\n",
       "        </div>"
      ]
     },
     "metadata": {},
     "output_type": "display_data"
    }
   ],
   "source": [
    "df[['A','B']].iplot(kind='spread')"
   ]
  },
  {
   "cell_type": "markdown",
   "metadata": {},
   "source": [
    "## histogram"
   ]
  },
  {
   "cell_type": "code",
   "execution_count": 16,
   "metadata": {},
   "outputs": [
    {
     "data": {
      "application/vnd.plotly.v1+json": {
       "config": {
        "linkText": "Export to plot.ly",
        "plotlyServerURL": "https://plot.ly",
        "showLink": true
       },
       "data": [
        {
         "histfunc": "count",
         "histnorm": "",
         "marker": {
          "color": "rgba(255, 153, 51, 1.0)",
          "line": {
           "color": "#4D5663",
           "width": 1.3
          }
         },
         "name": "A",
         "nbinsx": 25,
         "opacity": 0.8,
         "orientation": "v",
         "type": "histogram",
         "x": [
          0.27442011925577803,
          0.4966318940744484,
          0.9235787135880593,
          -1.3078878995183352,
          1.029829990968547,
          0.8768161316518825,
          1.7607058214307147,
          -1.3352873795477167,
          -1.2398425570338618,
          1.5554085396300308,
          0.10574878112682273,
          0.02877669534919826,
          0.14547075907513576,
          1.0931273800644667,
          0.6761310088429014,
          0.2784728536362254,
          -0.1660772458435563,
          -1.3210450424175817,
          0.5718288528568582,
          0.14355910285361492,
          -0.015859406501193326,
          1.213306555373937,
          0.4930056971125333,
          0.9639894896117828,
          -1.6921012175771217,
          -1.4497539051335953,
          0.5452526346624451,
          -0.645093482314308,
          -0.21143817105405713,
          2.025199604317894,
          1.0647915440432545,
          -0.9974086869972061,
          -0.026009175991362356,
          0.8223224835488065,
          -0.6874438195145413,
          -1.1633762926469993,
          -2.1889031235002805,
          -1.6981324604478112,
          -0.8322915772080726,
          0.8457591850393001,
          2.1442085506693567,
          -1.5640271898647706,
          0.7744562894683265,
          -0.38201421593223095,
          -0.6212905805519496,
          1.5069808387621415,
          -0.26160458098711914,
          -0.4081977076676588,
          0.06513595918607111,
          1.5251829050865908,
          -1.364239429827965,
          -0.5723650046038495,
          -0.35491042630058367,
          0.40182125294929,
          -1.0754453343631818,
          -0.7618618960949269,
          -0.9443244125840022,
          0.8377214807586354,
          -0.031809465745655796,
          -1.0932793443090683,
          0.4765706510147636,
          2.05418105903198,
          0.6394359942486391,
          0.6371385671293637,
          0.2426186474648045,
          -1.0881770872260315,
          -0.5516764613258204,
          -0.11777518422355525,
          0.541620929047994,
          0.2957312870889277,
          0.4429090976829458,
          0.7507240275163064,
          0.006266873749813978,
          1.0006292376829993,
          1.6362468479250005,
          -0.3947402655677738,
          -0.48899105814741345,
          -0.3409198288169905,
          -1.8392733203270557,
          2.0689286752747007,
          -1.0029774967312513,
          -0.6540448424261963,
          -1.0189861726963385,
          1.07798984585544,
          -0.07417500228963209,
          1.9694312682613933,
          -0.6546260721310159,
          -1.854475447570704,
          0.5933309905159341,
          0.2967998336348711,
          0.09463460669330889,
          0.6294080359178124,
          -0.28956562341842773,
          -0.6560223447079263,
          0.3153653081029692,
          -1.5263252201468034,
          1.1928936794991623,
          0.3887480233893524,
          -0.6057963382281494,
          -0.09917451743088809
         ]
        }
       ],
       "layout": {
        "barmode": "overlay",
        "legend": {
         "bgcolor": "#F5F6F9",
         "font": {
          "color": "#4D5663"
         }
        },
        "paper_bgcolor": "#F5F6F9",
        "plot_bgcolor": "#F5F6F9",
        "template": {
         "data": {
          "bar": [
           {
            "error_x": {
             "color": "#2a3f5f"
            },
            "error_y": {
             "color": "#2a3f5f"
            },
            "marker": {
             "line": {
              "color": "#E5ECF6",
              "width": 0.5
             }
            },
            "type": "bar"
           }
          ],
          "barpolar": [
           {
            "marker": {
             "line": {
              "color": "#E5ECF6",
              "width": 0.5
             }
            },
            "type": "barpolar"
           }
          ],
          "carpet": [
           {
            "aaxis": {
             "endlinecolor": "#2a3f5f",
             "gridcolor": "white",
             "linecolor": "white",
             "minorgridcolor": "white",
             "startlinecolor": "#2a3f5f"
            },
            "baxis": {
             "endlinecolor": "#2a3f5f",
             "gridcolor": "white",
             "linecolor": "white",
             "minorgridcolor": "white",
             "startlinecolor": "#2a3f5f"
            },
            "type": "carpet"
           }
          ],
          "choropleth": [
           {
            "colorbar": {
             "outlinewidth": 0,
             "ticks": ""
            },
            "type": "choropleth"
           }
          ],
          "contour": [
           {
            "colorbar": {
             "outlinewidth": 0,
             "ticks": ""
            },
            "colorscale": [
             [
              0,
              "#0d0887"
             ],
             [
              0.1111111111111111,
              "#46039f"
             ],
             [
              0.2222222222222222,
              "#7201a8"
             ],
             [
              0.3333333333333333,
              "#9c179e"
             ],
             [
              0.4444444444444444,
              "#bd3786"
             ],
             [
              0.5555555555555556,
              "#d8576b"
             ],
             [
              0.6666666666666666,
              "#ed7953"
             ],
             [
              0.7777777777777778,
              "#fb9f3a"
             ],
             [
              0.8888888888888888,
              "#fdca26"
             ],
             [
              1,
              "#f0f921"
             ]
            ],
            "type": "contour"
           }
          ],
          "contourcarpet": [
           {
            "colorbar": {
             "outlinewidth": 0,
             "ticks": ""
            },
            "type": "contourcarpet"
           }
          ],
          "heatmap": [
           {
            "colorbar": {
             "outlinewidth": 0,
             "ticks": ""
            },
            "colorscale": [
             [
              0,
              "#0d0887"
             ],
             [
              0.1111111111111111,
              "#46039f"
             ],
             [
              0.2222222222222222,
              "#7201a8"
             ],
             [
              0.3333333333333333,
              "#9c179e"
             ],
             [
              0.4444444444444444,
              "#bd3786"
             ],
             [
              0.5555555555555556,
              "#d8576b"
             ],
             [
              0.6666666666666666,
              "#ed7953"
             ],
             [
              0.7777777777777778,
              "#fb9f3a"
             ],
             [
              0.8888888888888888,
              "#fdca26"
             ],
             [
              1,
              "#f0f921"
             ]
            ],
            "type": "heatmap"
           }
          ],
          "heatmapgl": [
           {
            "colorbar": {
             "outlinewidth": 0,
             "ticks": ""
            },
            "colorscale": [
             [
              0,
              "#0d0887"
             ],
             [
              0.1111111111111111,
              "#46039f"
             ],
             [
              0.2222222222222222,
              "#7201a8"
             ],
             [
              0.3333333333333333,
              "#9c179e"
             ],
             [
              0.4444444444444444,
              "#bd3786"
             ],
             [
              0.5555555555555556,
              "#d8576b"
             ],
             [
              0.6666666666666666,
              "#ed7953"
             ],
             [
              0.7777777777777778,
              "#fb9f3a"
             ],
             [
              0.8888888888888888,
              "#fdca26"
             ],
             [
              1,
              "#f0f921"
             ]
            ],
            "type": "heatmapgl"
           }
          ],
          "histogram": [
           {
            "marker": {
             "colorbar": {
              "outlinewidth": 0,
              "ticks": ""
             }
            },
            "type": "histogram"
           }
          ],
          "histogram2d": [
           {
            "colorbar": {
             "outlinewidth": 0,
             "ticks": ""
            },
            "colorscale": [
             [
              0,
              "#0d0887"
             ],
             [
              0.1111111111111111,
              "#46039f"
             ],
             [
              0.2222222222222222,
              "#7201a8"
             ],
             [
              0.3333333333333333,
              "#9c179e"
             ],
             [
              0.4444444444444444,
              "#bd3786"
             ],
             [
              0.5555555555555556,
              "#d8576b"
             ],
             [
              0.6666666666666666,
              "#ed7953"
             ],
             [
              0.7777777777777778,
              "#fb9f3a"
             ],
             [
              0.8888888888888888,
              "#fdca26"
             ],
             [
              1,
              "#f0f921"
             ]
            ],
            "type": "histogram2d"
           }
          ],
          "histogram2dcontour": [
           {
            "colorbar": {
             "outlinewidth": 0,
             "ticks": ""
            },
            "colorscale": [
             [
              0,
              "#0d0887"
             ],
             [
              0.1111111111111111,
              "#46039f"
             ],
             [
              0.2222222222222222,
              "#7201a8"
             ],
             [
              0.3333333333333333,
              "#9c179e"
             ],
             [
              0.4444444444444444,
              "#bd3786"
             ],
             [
              0.5555555555555556,
              "#d8576b"
             ],
             [
              0.6666666666666666,
              "#ed7953"
             ],
             [
              0.7777777777777778,
              "#fb9f3a"
             ],
             [
              0.8888888888888888,
              "#fdca26"
             ],
             [
              1,
              "#f0f921"
             ]
            ],
            "type": "histogram2dcontour"
           }
          ],
          "mesh3d": [
           {
            "colorbar": {
             "outlinewidth": 0,
             "ticks": ""
            },
            "type": "mesh3d"
           }
          ],
          "parcoords": [
           {
            "line": {
             "colorbar": {
              "outlinewidth": 0,
              "ticks": ""
             }
            },
            "type": "parcoords"
           }
          ],
          "pie": [
           {
            "automargin": true,
            "type": "pie"
           }
          ],
          "scatter": [
           {
            "marker": {
             "colorbar": {
              "outlinewidth": 0,
              "ticks": ""
             }
            },
            "type": "scatter"
           }
          ],
          "scatter3d": [
           {
            "line": {
             "colorbar": {
              "outlinewidth": 0,
              "ticks": ""
             }
            },
            "marker": {
             "colorbar": {
              "outlinewidth": 0,
              "ticks": ""
             }
            },
            "type": "scatter3d"
           }
          ],
          "scattercarpet": [
           {
            "marker": {
             "colorbar": {
              "outlinewidth": 0,
              "ticks": ""
             }
            },
            "type": "scattercarpet"
           }
          ],
          "scattergeo": [
           {
            "marker": {
             "colorbar": {
              "outlinewidth": 0,
              "ticks": ""
             }
            },
            "type": "scattergeo"
           }
          ],
          "scattergl": [
           {
            "marker": {
             "colorbar": {
              "outlinewidth": 0,
              "ticks": ""
             }
            },
            "type": "scattergl"
           }
          ],
          "scattermapbox": [
           {
            "marker": {
             "colorbar": {
              "outlinewidth": 0,
              "ticks": ""
             }
            },
            "type": "scattermapbox"
           }
          ],
          "scatterpolar": [
           {
            "marker": {
             "colorbar": {
              "outlinewidth": 0,
              "ticks": ""
             }
            },
            "type": "scatterpolar"
           }
          ],
          "scatterpolargl": [
           {
            "marker": {
             "colorbar": {
              "outlinewidth": 0,
              "ticks": ""
             }
            },
            "type": "scatterpolargl"
           }
          ],
          "scatterternary": [
           {
            "marker": {
             "colorbar": {
              "outlinewidth": 0,
              "ticks": ""
             }
            },
            "type": "scatterternary"
           }
          ],
          "surface": [
           {
            "colorbar": {
             "outlinewidth": 0,
             "ticks": ""
            },
            "colorscale": [
             [
              0,
              "#0d0887"
             ],
             [
              0.1111111111111111,
              "#46039f"
             ],
             [
              0.2222222222222222,
              "#7201a8"
             ],
             [
              0.3333333333333333,
              "#9c179e"
             ],
             [
              0.4444444444444444,
              "#bd3786"
             ],
             [
              0.5555555555555556,
              "#d8576b"
             ],
             [
              0.6666666666666666,
              "#ed7953"
             ],
             [
              0.7777777777777778,
              "#fb9f3a"
             ],
             [
              0.8888888888888888,
              "#fdca26"
             ],
             [
              1,
              "#f0f921"
             ]
            ],
            "type": "surface"
           }
          ],
          "table": [
           {
            "cells": {
             "fill": {
              "color": "#EBF0F8"
             },
             "line": {
              "color": "white"
             }
            },
            "header": {
             "fill": {
              "color": "#C8D4E3"
             },
             "line": {
              "color": "white"
             }
            },
            "type": "table"
           }
          ]
         },
         "layout": {
          "annotationdefaults": {
           "arrowcolor": "#2a3f5f",
           "arrowhead": 0,
           "arrowwidth": 1
          },
          "coloraxis": {
           "colorbar": {
            "outlinewidth": 0,
            "ticks": ""
           }
          },
          "colorscale": {
           "diverging": [
            [
             0,
             "#8e0152"
            ],
            [
             0.1,
             "#c51b7d"
            ],
            [
             0.2,
             "#de77ae"
            ],
            [
             0.3,
             "#f1b6da"
            ],
            [
             0.4,
             "#fde0ef"
            ],
            [
             0.5,
             "#f7f7f7"
            ],
            [
             0.6,
             "#e6f5d0"
            ],
            [
             0.7,
             "#b8e186"
            ],
            [
             0.8,
             "#7fbc41"
            ],
            [
             0.9,
             "#4d9221"
            ],
            [
             1,
             "#276419"
            ]
           ],
           "sequential": [
            [
             0,
             "#0d0887"
            ],
            [
             0.1111111111111111,
             "#46039f"
            ],
            [
             0.2222222222222222,
             "#7201a8"
            ],
            [
             0.3333333333333333,
             "#9c179e"
            ],
            [
             0.4444444444444444,
             "#bd3786"
            ],
            [
             0.5555555555555556,
             "#d8576b"
            ],
            [
             0.6666666666666666,
             "#ed7953"
            ],
            [
             0.7777777777777778,
             "#fb9f3a"
            ],
            [
             0.8888888888888888,
             "#fdca26"
            ],
            [
             1,
             "#f0f921"
            ]
           ],
           "sequentialminus": [
            [
             0,
             "#0d0887"
            ],
            [
             0.1111111111111111,
             "#46039f"
            ],
            [
             0.2222222222222222,
             "#7201a8"
            ],
            [
             0.3333333333333333,
             "#9c179e"
            ],
            [
             0.4444444444444444,
             "#bd3786"
            ],
            [
             0.5555555555555556,
             "#d8576b"
            ],
            [
             0.6666666666666666,
             "#ed7953"
            ],
            [
             0.7777777777777778,
             "#fb9f3a"
            ],
            [
             0.8888888888888888,
             "#fdca26"
            ],
            [
             1,
             "#f0f921"
            ]
           ]
          },
          "colorway": [
           "#636efa",
           "#EF553B",
           "#00cc96",
           "#ab63fa",
           "#FFA15A",
           "#19d3f3",
           "#FF6692",
           "#B6E880",
           "#FF97FF",
           "#FECB52"
          ],
          "font": {
           "color": "#2a3f5f"
          },
          "geo": {
           "bgcolor": "white",
           "lakecolor": "white",
           "landcolor": "#E5ECF6",
           "showlakes": true,
           "showland": true,
           "subunitcolor": "white"
          },
          "hoverlabel": {
           "align": "left"
          },
          "hovermode": "closest",
          "mapbox": {
           "style": "light"
          },
          "paper_bgcolor": "white",
          "plot_bgcolor": "#E5ECF6",
          "polar": {
           "angularaxis": {
            "gridcolor": "white",
            "linecolor": "white",
            "ticks": ""
           },
           "bgcolor": "#E5ECF6",
           "radialaxis": {
            "gridcolor": "white",
            "linecolor": "white",
            "ticks": ""
           }
          },
          "scene": {
           "xaxis": {
            "backgroundcolor": "#E5ECF6",
            "gridcolor": "white",
            "gridwidth": 2,
            "linecolor": "white",
            "showbackground": true,
            "ticks": "",
            "zerolinecolor": "white"
           },
           "yaxis": {
            "backgroundcolor": "#E5ECF6",
            "gridcolor": "white",
            "gridwidth": 2,
            "linecolor": "white",
            "showbackground": true,
            "ticks": "",
            "zerolinecolor": "white"
           },
           "zaxis": {
            "backgroundcolor": "#E5ECF6",
            "gridcolor": "white",
            "gridwidth": 2,
            "linecolor": "white",
            "showbackground": true,
            "ticks": "",
            "zerolinecolor": "white"
           }
          },
          "shapedefaults": {
           "line": {
            "color": "#2a3f5f"
           }
          },
          "ternary": {
           "aaxis": {
            "gridcolor": "white",
            "linecolor": "white",
            "ticks": ""
           },
           "baxis": {
            "gridcolor": "white",
            "linecolor": "white",
            "ticks": ""
           },
           "bgcolor": "#E5ECF6",
           "caxis": {
            "gridcolor": "white",
            "linecolor": "white",
            "ticks": ""
           }
          },
          "title": {
           "x": 0.05
          },
          "xaxis": {
           "automargin": true,
           "gridcolor": "white",
           "linecolor": "white",
           "ticks": "",
           "title": {
            "standoff": 15
           },
           "zerolinecolor": "white",
           "zerolinewidth": 2
          },
          "yaxis": {
           "automargin": true,
           "gridcolor": "white",
           "linecolor": "white",
           "ticks": "",
           "title": {
            "standoff": 15
           },
           "zerolinecolor": "white",
           "zerolinewidth": 2
          }
         }
        },
        "title": {
         "font": {
          "color": "#4D5663"
         }
        },
        "xaxis": {
         "gridcolor": "#E1E5ED",
         "showgrid": true,
         "tickfont": {
          "color": "#4D5663"
         },
         "title": {
          "font": {
           "color": "#4D5663"
          },
          "text": ""
         },
         "zerolinecolor": "#E1E5ED"
        },
        "yaxis": {
         "gridcolor": "#E1E5ED",
         "showgrid": true,
         "tickfont": {
          "color": "#4D5663"
         },
         "title": {
          "font": {
           "color": "#4D5663"
          },
          "text": ""
         },
         "zerolinecolor": "#E1E5ED"
        }
       }
      },
      "text/html": [
       "<div>\n",
       "        \n",
       "        \n",
       "            <div id=\"a002a1e7-14c6-4ac2-be96-ef3b154cad9e\" class=\"plotly-graph-div\" style=\"height:525px; width:100%;\"></div>\n",
       "            <script type=\"text/javascript\">\n",
       "                require([\"plotly\"], function(Plotly) {\n",
       "                    window.PLOTLYENV=window.PLOTLYENV || {};\n",
       "                    window.PLOTLYENV.BASE_URL='https://plot.ly';\n",
       "                    \n",
       "                if (document.getElementById(\"a002a1e7-14c6-4ac2-be96-ef3b154cad9e\")) {\n",
       "                    Plotly.newPlot(\n",
       "                        'a002a1e7-14c6-4ac2-be96-ef3b154cad9e',\n",
       "                        [{\"histfunc\": \"count\", \"histnorm\": \"\", \"marker\": {\"color\": \"rgba(255, 153, 51, 1.0)\", \"line\": {\"color\": \"#4D5663\", \"width\": 1.3}}, \"name\": \"A\", \"nbinsx\": 25, \"opacity\": 0.8, \"orientation\": \"v\", \"type\": \"histogram\", \"x\": [0.27442011925577803, 0.4966318940744484, 0.9235787135880593, -1.3078878995183352, 1.029829990968547, 0.8768161316518825, 1.7607058214307147, -1.3352873795477167, -1.2398425570338618, 1.5554085396300308, 0.10574878112682273, 0.02877669534919826, 0.14547075907513576, 1.0931273800644667, 0.6761310088429014, 0.2784728536362254, -0.1660772458435563, -1.3210450424175817, 0.5718288528568582, 0.14355910285361492, -0.015859406501193326, 1.213306555373937, 0.4930056971125333, 0.9639894896117828, -1.6921012175771217, -1.4497539051335953, 0.5452526346624451, -0.645093482314308, -0.21143817105405713, 2.025199604317894, 1.0647915440432545, -0.9974086869972061, -0.026009175991362356, 0.8223224835488065, -0.6874438195145413, -1.1633762926469993, -2.1889031235002805, -1.6981324604478112, -0.8322915772080726, 0.8457591850393001, 2.1442085506693567, -1.5640271898647706, 0.7744562894683265, -0.38201421593223095, -0.6212905805519496, 1.5069808387621415, -0.26160458098711914, -0.4081977076676588, 0.06513595918607111, 1.5251829050865908, -1.364239429827965, -0.5723650046038495, -0.35491042630058367, 0.40182125294929, -1.0754453343631818, -0.7618618960949269, -0.9443244125840022, 0.8377214807586354, -0.031809465745655796, -1.0932793443090683, 0.4765706510147636, 2.05418105903198, 0.6394359942486391, 0.6371385671293637, 0.2426186474648045, -1.0881770872260315, -0.5516764613258204, -0.11777518422355525, 0.541620929047994, 0.2957312870889277, 0.4429090976829458, 0.7507240275163064, 0.006266873749813978, 1.0006292376829993, 1.6362468479250005, -0.3947402655677738, -0.48899105814741345, -0.3409198288169905, -1.8392733203270557, 2.0689286752747007, -1.0029774967312513, -0.6540448424261963, -1.0189861726963385, 1.07798984585544, -0.07417500228963209, 1.9694312682613933, -0.6546260721310159, -1.854475447570704, 0.5933309905159341, 0.2967998336348711, 0.09463460669330889, 0.6294080359178124, -0.28956562341842773, -0.6560223447079263, 0.3153653081029692, -1.5263252201468034, 1.1928936794991623, 0.3887480233893524, -0.6057963382281494, -0.09917451743088809]}],\n",
       "                        {\"barmode\": \"overlay\", \"legend\": {\"bgcolor\": \"#F5F6F9\", \"font\": {\"color\": \"#4D5663\"}}, \"paper_bgcolor\": \"#F5F6F9\", \"plot_bgcolor\": \"#F5F6F9\", \"template\": {\"data\": {\"bar\": [{\"error_x\": {\"color\": \"#2a3f5f\"}, \"error_y\": {\"color\": \"#2a3f5f\"}, \"marker\": {\"line\": {\"color\": \"#E5ECF6\", \"width\": 0.5}}, \"type\": \"bar\"}], \"barpolar\": [{\"marker\": {\"line\": {\"color\": \"#E5ECF6\", \"width\": 0.5}}, \"type\": \"barpolar\"}], \"carpet\": [{\"aaxis\": {\"endlinecolor\": \"#2a3f5f\", \"gridcolor\": \"white\", \"linecolor\": \"white\", \"minorgridcolor\": \"white\", \"startlinecolor\": \"#2a3f5f\"}, \"baxis\": {\"endlinecolor\": \"#2a3f5f\", \"gridcolor\": \"white\", \"linecolor\": \"white\", \"minorgridcolor\": \"white\", \"startlinecolor\": \"#2a3f5f\"}, \"type\": \"carpet\"}], \"choropleth\": [{\"colorbar\": {\"outlinewidth\": 0, \"ticks\": \"\"}, \"type\": \"choropleth\"}], \"contour\": [{\"colorbar\": {\"outlinewidth\": 0, \"ticks\": \"\"}, \"colorscale\": [[0.0, \"#0d0887\"], [0.1111111111111111, \"#46039f\"], [0.2222222222222222, \"#7201a8\"], [0.3333333333333333, \"#9c179e\"], [0.4444444444444444, \"#bd3786\"], [0.5555555555555556, \"#d8576b\"], [0.6666666666666666, \"#ed7953\"], [0.7777777777777778, \"#fb9f3a\"], [0.8888888888888888, \"#fdca26\"], [1.0, \"#f0f921\"]], \"type\": \"contour\"}], \"contourcarpet\": [{\"colorbar\": {\"outlinewidth\": 0, \"ticks\": \"\"}, \"type\": \"contourcarpet\"}], \"heatmap\": [{\"colorbar\": {\"outlinewidth\": 0, \"ticks\": \"\"}, \"colorscale\": [[0.0, \"#0d0887\"], [0.1111111111111111, \"#46039f\"], [0.2222222222222222, \"#7201a8\"], [0.3333333333333333, \"#9c179e\"], [0.4444444444444444, \"#bd3786\"], [0.5555555555555556, \"#d8576b\"], [0.6666666666666666, \"#ed7953\"], [0.7777777777777778, \"#fb9f3a\"], [0.8888888888888888, \"#fdca26\"], [1.0, \"#f0f921\"]], \"type\": \"heatmap\"}], \"heatmapgl\": [{\"colorbar\": {\"outlinewidth\": 0, \"ticks\": \"\"}, \"colorscale\": [[0.0, \"#0d0887\"], [0.1111111111111111, \"#46039f\"], [0.2222222222222222, \"#7201a8\"], [0.3333333333333333, \"#9c179e\"], [0.4444444444444444, \"#bd3786\"], [0.5555555555555556, \"#d8576b\"], [0.6666666666666666, \"#ed7953\"], [0.7777777777777778, \"#fb9f3a\"], [0.8888888888888888, \"#fdca26\"], [1.0, \"#f0f921\"]], \"type\": \"heatmapgl\"}], \"histogram\": [{\"marker\": {\"colorbar\": {\"outlinewidth\": 0, \"ticks\": \"\"}}, \"type\": \"histogram\"}], \"histogram2d\": [{\"colorbar\": {\"outlinewidth\": 0, \"ticks\": \"\"}, \"colorscale\": [[0.0, \"#0d0887\"], [0.1111111111111111, \"#46039f\"], [0.2222222222222222, \"#7201a8\"], [0.3333333333333333, \"#9c179e\"], [0.4444444444444444, \"#bd3786\"], [0.5555555555555556, \"#d8576b\"], [0.6666666666666666, \"#ed7953\"], [0.7777777777777778, \"#fb9f3a\"], [0.8888888888888888, \"#fdca26\"], [1.0, \"#f0f921\"]], \"type\": \"histogram2d\"}], \"histogram2dcontour\": [{\"colorbar\": {\"outlinewidth\": 0, \"ticks\": \"\"}, \"colorscale\": [[0.0, \"#0d0887\"], [0.1111111111111111, \"#46039f\"], [0.2222222222222222, \"#7201a8\"], [0.3333333333333333, \"#9c179e\"], [0.4444444444444444, \"#bd3786\"], [0.5555555555555556, \"#d8576b\"], [0.6666666666666666, \"#ed7953\"], [0.7777777777777778, \"#fb9f3a\"], [0.8888888888888888, \"#fdca26\"], [1.0, \"#f0f921\"]], \"type\": \"histogram2dcontour\"}], \"mesh3d\": [{\"colorbar\": {\"outlinewidth\": 0, \"ticks\": \"\"}, \"type\": \"mesh3d\"}], \"parcoords\": [{\"line\": {\"colorbar\": {\"outlinewidth\": 0, \"ticks\": \"\"}}, \"type\": \"parcoords\"}], \"pie\": [{\"automargin\": true, \"type\": \"pie\"}], \"scatter\": [{\"marker\": {\"colorbar\": {\"outlinewidth\": 0, \"ticks\": \"\"}}, \"type\": \"scatter\"}], \"scatter3d\": [{\"line\": {\"colorbar\": {\"outlinewidth\": 0, \"ticks\": \"\"}}, \"marker\": {\"colorbar\": {\"outlinewidth\": 0, \"ticks\": \"\"}}, \"type\": \"scatter3d\"}], \"scattercarpet\": [{\"marker\": {\"colorbar\": {\"outlinewidth\": 0, \"ticks\": \"\"}}, \"type\": \"scattercarpet\"}], \"scattergeo\": [{\"marker\": {\"colorbar\": {\"outlinewidth\": 0, \"ticks\": \"\"}}, \"type\": \"scattergeo\"}], \"scattergl\": [{\"marker\": {\"colorbar\": {\"outlinewidth\": 0, \"ticks\": \"\"}}, \"type\": \"scattergl\"}], \"scattermapbox\": [{\"marker\": {\"colorbar\": {\"outlinewidth\": 0, \"ticks\": \"\"}}, \"type\": \"scattermapbox\"}], \"scatterpolar\": [{\"marker\": {\"colorbar\": {\"outlinewidth\": 0, \"ticks\": \"\"}}, \"type\": \"scatterpolar\"}], \"scatterpolargl\": [{\"marker\": {\"colorbar\": {\"outlinewidth\": 0, \"ticks\": \"\"}}, \"type\": \"scatterpolargl\"}], \"scatterternary\": [{\"marker\": {\"colorbar\": {\"outlinewidth\": 0, \"ticks\": \"\"}}, \"type\": \"scatterternary\"}], \"surface\": [{\"colorbar\": {\"outlinewidth\": 0, \"ticks\": \"\"}, \"colorscale\": [[0.0, \"#0d0887\"], [0.1111111111111111, \"#46039f\"], [0.2222222222222222, \"#7201a8\"], [0.3333333333333333, \"#9c179e\"], [0.4444444444444444, \"#bd3786\"], [0.5555555555555556, \"#d8576b\"], [0.6666666666666666, \"#ed7953\"], [0.7777777777777778, \"#fb9f3a\"], [0.8888888888888888, \"#fdca26\"], [1.0, \"#f0f921\"]], \"type\": \"surface\"}], \"table\": [{\"cells\": {\"fill\": {\"color\": \"#EBF0F8\"}, \"line\": {\"color\": \"white\"}}, \"header\": {\"fill\": {\"color\": \"#C8D4E3\"}, \"line\": {\"color\": \"white\"}}, \"type\": \"table\"}]}, \"layout\": {\"annotationdefaults\": {\"arrowcolor\": \"#2a3f5f\", \"arrowhead\": 0, \"arrowwidth\": 1}, \"coloraxis\": {\"colorbar\": {\"outlinewidth\": 0, \"ticks\": \"\"}}, \"colorscale\": {\"diverging\": [[0, \"#8e0152\"], [0.1, \"#c51b7d\"], [0.2, \"#de77ae\"], [0.3, \"#f1b6da\"], [0.4, \"#fde0ef\"], [0.5, \"#f7f7f7\"], [0.6, \"#e6f5d0\"], [0.7, \"#b8e186\"], [0.8, \"#7fbc41\"], [0.9, \"#4d9221\"], [1, \"#276419\"]], \"sequential\": [[0.0, \"#0d0887\"], [0.1111111111111111, \"#46039f\"], [0.2222222222222222, \"#7201a8\"], [0.3333333333333333, \"#9c179e\"], [0.4444444444444444, \"#bd3786\"], [0.5555555555555556, \"#d8576b\"], [0.6666666666666666, \"#ed7953\"], [0.7777777777777778, \"#fb9f3a\"], [0.8888888888888888, \"#fdca26\"], [1.0, \"#f0f921\"]], \"sequentialminus\": [[0.0, \"#0d0887\"], [0.1111111111111111, \"#46039f\"], [0.2222222222222222, \"#7201a8\"], [0.3333333333333333, \"#9c179e\"], [0.4444444444444444, \"#bd3786\"], [0.5555555555555556, \"#d8576b\"], [0.6666666666666666, \"#ed7953\"], [0.7777777777777778, \"#fb9f3a\"], [0.8888888888888888, \"#fdca26\"], [1.0, \"#f0f921\"]]}, \"colorway\": [\"#636efa\", \"#EF553B\", \"#00cc96\", \"#ab63fa\", \"#FFA15A\", \"#19d3f3\", \"#FF6692\", \"#B6E880\", \"#FF97FF\", \"#FECB52\"], \"font\": {\"color\": \"#2a3f5f\"}, \"geo\": {\"bgcolor\": \"white\", \"lakecolor\": \"white\", \"landcolor\": \"#E5ECF6\", \"showlakes\": true, \"showland\": true, \"subunitcolor\": \"white\"}, \"hoverlabel\": {\"align\": \"left\"}, \"hovermode\": \"closest\", \"mapbox\": {\"style\": \"light\"}, \"paper_bgcolor\": \"white\", \"plot_bgcolor\": \"#E5ECF6\", \"polar\": {\"angularaxis\": {\"gridcolor\": \"white\", \"linecolor\": \"white\", \"ticks\": \"\"}, \"bgcolor\": \"#E5ECF6\", \"radialaxis\": {\"gridcolor\": \"white\", \"linecolor\": \"white\", \"ticks\": \"\"}}, \"scene\": {\"xaxis\": {\"backgroundcolor\": \"#E5ECF6\", \"gridcolor\": \"white\", \"gridwidth\": 2, \"linecolor\": \"white\", \"showbackground\": true, \"ticks\": \"\", \"zerolinecolor\": \"white\"}, \"yaxis\": {\"backgroundcolor\": \"#E5ECF6\", \"gridcolor\": \"white\", \"gridwidth\": 2, \"linecolor\": \"white\", \"showbackground\": true, \"ticks\": \"\", \"zerolinecolor\": \"white\"}, \"zaxis\": {\"backgroundcolor\": \"#E5ECF6\", \"gridcolor\": \"white\", \"gridwidth\": 2, \"linecolor\": \"white\", \"showbackground\": true, \"ticks\": \"\", \"zerolinecolor\": \"white\"}}, \"shapedefaults\": {\"line\": {\"color\": \"#2a3f5f\"}}, \"ternary\": {\"aaxis\": {\"gridcolor\": \"white\", \"linecolor\": \"white\", \"ticks\": \"\"}, \"baxis\": {\"gridcolor\": \"white\", \"linecolor\": \"white\", \"ticks\": \"\"}, \"bgcolor\": \"#E5ECF6\", \"caxis\": {\"gridcolor\": \"white\", \"linecolor\": \"white\", \"ticks\": \"\"}}, \"title\": {\"x\": 0.05}, \"xaxis\": {\"automargin\": true, \"gridcolor\": \"white\", \"linecolor\": \"white\", \"ticks\": \"\", \"title\": {\"standoff\": 15}, \"zerolinecolor\": \"white\", \"zerolinewidth\": 2}, \"yaxis\": {\"automargin\": true, \"gridcolor\": \"white\", \"linecolor\": \"white\", \"ticks\": \"\", \"title\": {\"standoff\": 15}, \"zerolinecolor\": \"white\", \"zerolinewidth\": 2}}}, \"title\": {\"font\": {\"color\": \"#4D5663\"}}, \"xaxis\": {\"gridcolor\": \"#E1E5ED\", \"showgrid\": true, \"tickfont\": {\"color\": \"#4D5663\"}, \"title\": {\"font\": {\"color\": \"#4D5663\"}, \"text\": \"\"}, \"zerolinecolor\": \"#E1E5ED\"}, \"yaxis\": {\"gridcolor\": \"#E1E5ED\", \"showgrid\": true, \"tickfont\": {\"color\": \"#4D5663\"}, \"title\": {\"font\": {\"color\": \"#4D5663\"}, \"text\": \"\"}, \"zerolinecolor\": \"#E1E5ED\"}},\n",
       "                        {\"showLink\": true, \"linkText\": \"Export to plot.ly\", \"plotlyServerURL\": \"https://plot.ly\", \"responsive\": true}\n",
       "                    ).then(function(){\n",
       "                            \n",
       "var gd = document.getElementById('a002a1e7-14c6-4ac2-be96-ef3b154cad9e');\n",
       "var x = new MutationObserver(function (mutations, observer) {{\n",
       "        var display = window.getComputedStyle(gd).display;\n",
       "        if (!display || display === 'none') {{\n",
       "            console.log([gd, 'removed!']);\n",
       "            Plotly.purge(gd);\n",
       "            observer.disconnect();\n",
       "        }}\n",
       "}});\n",
       "\n",
       "// Listen for the removal of the full notebook cells\n",
       "var notebookContainer = gd.closest('#notebook-container');\n",
       "if (notebookContainer) {{\n",
       "    x.observe(notebookContainer, {childList: true});\n",
       "}}\n",
       "\n",
       "// Listen for the clearing of the current output cell\n",
       "var outputEl = gd.closest('.output');\n",
       "if (outputEl) {{\n",
       "    x.observe(outputEl, {childList: true});\n",
       "}}\n",
       "\n",
       "                        })\n",
       "                };\n",
       "                });\n",
       "            </script>\n",
       "        </div>"
      ]
     },
     "metadata": {},
     "output_type": "display_data"
    }
   ],
   "source": [
    "df['A'].iplot(kind='hist',bins=25)"
   ]
  },
  {
   "cell_type": "code",
   "execution_count": 17,
   "metadata": {},
   "outputs": [
    {
     "data": {
      "application/vnd.plotly.v1+json": {
       "config": {
        "linkText": "Export to plot.ly",
        "plotlyServerURL": "https://plot.ly",
        "showLink": true
       },
       "data": [
        {
         "marker": {
          "color": [
           "rgb(255, 153, 51)",
           "rgb(55, 128, 191)",
           "rgb(50, 171, 96)",
           "rgb(128, 0, 128)",
           "rgb(219, 64, 82)",
           "rgb(0, 128, 128)",
           "rgb(255, 255, 51)",
           "rgb(128, 128, 0)",
           "rgb(251, 128, 114)",
           "rgb(128, 177, 211)"
          ],
          "line": {
           "width": 1.3
          },
          "size": [
           33,
           41,
           45,
           46,
           51,
           87,
           111,
           63,
           34,
           48,
           53,
           63,
           96,
           81,
           19,
           63,
           41,
           63,
           12,
           60,
           79,
           70,
           90,
           55,
           77,
           79,
           62,
           83,
           25,
           102,
           85,
           73,
           77,
           69,
           56,
           58,
           86,
           74,
           84,
           63,
           35,
           69,
           45,
           69,
           74,
           78,
           73,
           77,
           47,
           56,
           72,
           62,
           67,
           60,
           52,
           53,
           42,
           80,
           51,
           86,
           47,
           66,
           86,
           91,
           43,
           59,
           58,
           83,
           31,
           55,
           73,
           71,
           96,
           40,
           60,
           73,
           71,
           46,
           48,
           32,
           39,
           48,
           52,
           47,
           70,
           52,
           87,
           43,
           46,
           74,
           69,
           75,
           56,
           69,
           60,
           56,
           47,
           47,
           74,
           36
          ],
          "symbol": "circle"
         },
         "mode": "markers",
         "text": "",
         "type": "scatter",
         "x": [
          0.27442011925577803,
          0.4966318940744484,
          0.9235787135880593,
          -1.3078878995183352,
          1.029829990968547,
          0.8768161316518825,
          1.7607058214307147,
          -1.3352873795477167,
          -1.2398425570338618,
          1.5554085396300308,
          0.10574878112682273,
          0.02877669534919826,
          0.14547075907513576,
          1.0931273800644667,
          0.6761310088429014,
          0.2784728536362254,
          -0.1660772458435563,
          -1.3210450424175817,
          0.5718288528568582,
          0.14355910285361492,
          -0.015859406501193326,
          1.213306555373937,
          0.4930056971125333,
          0.9639894896117828,
          -1.6921012175771217,
          -1.4497539051335953,
          0.5452526346624451,
          -0.645093482314308,
          -0.21143817105405713,
          2.025199604317894,
          1.0647915440432545,
          -0.9974086869972061,
          -0.026009175991362356,
          0.8223224835488065,
          -0.6874438195145413,
          -1.1633762926469993,
          -2.1889031235002805,
          -1.6981324604478112,
          -0.8322915772080726,
          0.8457591850393001,
          2.1442085506693567,
          -1.5640271898647706,
          0.7744562894683265,
          -0.38201421593223095,
          -0.6212905805519496,
          1.5069808387621415,
          -0.26160458098711914,
          -0.4081977076676588,
          0.06513595918607111,
          1.5251829050865908,
          -1.364239429827965,
          -0.5723650046038495,
          -0.35491042630058367,
          0.40182125294929,
          -1.0754453343631818,
          -0.7618618960949269,
          -0.9443244125840022,
          0.8377214807586354,
          -0.031809465745655796,
          -1.0932793443090683,
          0.4765706510147636,
          2.05418105903198,
          0.6394359942486391,
          0.6371385671293637,
          0.2426186474648045,
          -1.0881770872260315,
          -0.5516764613258204,
          -0.11777518422355525,
          0.541620929047994,
          0.2957312870889277,
          0.4429090976829458,
          0.7507240275163064,
          0.006266873749813978,
          1.0006292376829993,
          1.6362468479250005,
          -0.3947402655677738,
          -0.48899105814741345,
          -0.3409198288169905,
          -1.8392733203270557,
          2.0689286752747007,
          -1.0029774967312513,
          -0.6540448424261963,
          -1.0189861726963385,
          1.07798984585544,
          -0.07417500228963209,
          1.9694312682613933,
          -0.6546260721310159,
          -1.854475447570704,
          0.5933309905159341,
          0.2967998336348711,
          0.09463460669330889,
          0.6294080359178124,
          -0.28956562341842773,
          -0.6560223447079263,
          0.3153653081029692,
          -1.5263252201468034,
          1.1928936794991623,
          0.3887480233893524,
          -0.6057963382281494,
          -0.09917451743088809
         ],
         "y": [
          -0.5338968153279375,
          -0.737604098516914,
          0.786032577826171,
          -0.18168043763582525,
          0.3948231518046967,
          -1.285656839190833,
          0.4929836120109994,
          0.730148677998628,
          0.6268605758227215,
          -0.5557695793174016,
          -0.40070084283238566,
          -0.04766528323845765,
          1.3308041018589245,
          1.2819449899198534,
          0.8477216185770992,
          -0.8927707828167398,
          0.6494375285903279,
          -1.2050108148432601,
          -0.07473626077998291,
          0.8980669929684267,
          -0.5269968586077552,
          1.6733011574136327,
          -0.15811245055144024,
          -0.7697173802854936,
          -1.0724251934501332,
          2.0162661600162446,
          0.825875520162066,
          1.3431956059693588,
          0.48621638477181517,
          1.9553703128659479,
          -1.2848791904167656,
          1.293267623163678,
          0.22717944081984312,
          0.08644533575156765,
          -0.6200100862166263,
          2.822142109349293,
          0.8261081315305128,
          -1.2264751974926702,
          -0.0886059823022562,
          0.9571956710271053,
          0.08646891800960291,
          -0.34677771441293503,
          0.40851804088487054,
          0.6649783338954706,
          -1.0969296957460855,
          -0.6743437678108863,
          -1.0918800892854403,
          1.3214368372712242,
          -0.489847125076919,
          -0.27283397042230634,
          1.0339465645395904,
          1.678053130552742,
          0.964812094346171,
          0.19271156696874114,
          1.3594228629156795,
          0.7175701611203561,
          0.45770851544861324,
          -0.9127473216263866,
          0.4025668759667475,
          1.240468662104316,
          -0.41875097813805773,
          -1.9458153186721703,
          0.3845377635616228,
          1.1341057816012856,
          1.187647773407586,
          -0.6271936129770707,
          1.529874764186071,
          -0.639045433088632,
          1.245578441840703,
          -1.0598794371239935,
          0.22162474696218795,
          0.714755826671371,
          -0.6464888249376306,
          -0.15991178748956184,
          0.44270651657742105,
          -0.49536621779670165,
          -0.3337392917600911,
          -0.3722023058235199,
          1.7853238046755189,
          0.6672531974451232,
          -0.0629772291874929,
          -0.2679822545976978,
          -0.427960450897043,
          1.2255891597486852,
          1.6349909023914029,
          -1.0990742295726037,
          -0.4031039386900612,
          -1.8840151714757252,
          0.24122678438561407,
          -1.63272285788489,
          -0.45215556888368347,
          0.9996177661914009,
          -0.8972395864459162,
          -0.3852976988003857,
          -1.6048338125867412,
          0.6810799365123126,
          0.6343674901247007,
          0.6846125078879841,
          0.7511672981039151,
          -0.28261636398842405
         ]
        }
       ],
       "layout": {
        "legend": {
         "bgcolor": "#F5F6F9",
         "font": {
          "color": "#4D5663"
         }
        },
        "paper_bgcolor": "#F5F6F9",
        "plot_bgcolor": "#F5F6F9",
        "template": {
         "data": {
          "bar": [
           {
            "error_x": {
             "color": "#2a3f5f"
            },
            "error_y": {
             "color": "#2a3f5f"
            },
            "marker": {
             "line": {
              "color": "#E5ECF6",
              "width": 0.5
             }
            },
            "type": "bar"
           }
          ],
          "barpolar": [
           {
            "marker": {
             "line": {
              "color": "#E5ECF6",
              "width": 0.5
             }
            },
            "type": "barpolar"
           }
          ],
          "carpet": [
           {
            "aaxis": {
             "endlinecolor": "#2a3f5f",
             "gridcolor": "white",
             "linecolor": "white",
             "minorgridcolor": "white",
             "startlinecolor": "#2a3f5f"
            },
            "baxis": {
             "endlinecolor": "#2a3f5f",
             "gridcolor": "white",
             "linecolor": "white",
             "minorgridcolor": "white",
             "startlinecolor": "#2a3f5f"
            },
            "type": "carpet"
           }
          ],
          "choropleth": [
           {
            "colorbar": {
             "outlinewidth": 0,
             "ticks": ""
            },
            "type": "choropleth"
           }
          ],
          "contour": [
           {
            "colorbar": {
             "outlinewidth": 0,
             "ticks": ""
            },
            "colorscale": [
             [
              0,
              "#0d0887"
             ],
             [
              0.1111111111111111,
              "#46039f"
             ],
             [
              0.2222222222222222,
              "#7201a8"
             ],
             [
              0.3333333333333333,
              "#9c179e"
             ],
             [
              0.4444444444444444,
              "#bd3786"
             ],
             [
              0.5555555555555556,
              "#d8576b"
             ],
             [
              0.6666666666666666,
              "#ed7953"
             ],
             [
              0.7777777777777778,
              "#fb9f3a"
             ],
             [
              0.8888888888888888,
              "#fdca26"
             ],
             [
              1,
              "#f0f921"
             ]
            ],
            "type": "contour"
           }
          ],
          "contourcarpet": [
           {
            "colorbar": {
             "outlinewidth": 0,
             "ticks": ""
            },
            "type": "contourcarpet"
           }
          ],
          "heatmap": [
           {
            "colorbar": {
             "outlinewidth": 0,
             "ticks": ""
            },
            "colorscale": [
             [
              0,
              "#0d0887"
             ],
             [
              0.1111111111111111,
              "#46039f"
             ],
             [
              0.2222222222222222,
              "#7201a8"
             ],
             [
              0.3333333333333333,
              "#9c179e"
             ],
             [
              0.4444444444444444,
              "#bd3786"
             ],
             [
              0.5555555555555556,
              "#d8576b"
             ],
             [
              0.6666666666666666,
              "#ed7953"
             ],
             [
              0.7777777777777778,
              "#fb9f3a"
             ],
             [
              0.8888888888888888,
              "#fdca26"
             ],
             [
              1,
              "#f0f921"
             ]
            ],
            "type": "heatmap"
           }
          ],
          "heatmapgl": [
           {
            "colorbar": {
             "outlinewidth": 0,
             "ticks": ""
            },
            "colorscale": [
             [
              0,
              "#0d0887"
             ],
             [
              0.1111111111111111,
              "#46039f"
             ],
             [
              0.2222222222222222,
              "#7201a8"
             ],
             [
              0.3333333333333333,
              "#9c179e"
             ],
             [
              0.4444444444444444,
              "#bd3786"
             ],
             [
              0.5555555555555556,
              "#d8576b"
             ],
             [
              0.6666666666666666,
              "#ed7953"
             ],
             [
              0.7777777777777778,
              "#fb9f3a"
             ],
             [
              0.8888888888888888,
              "#fdca26"
             ],
             [
              1,
              "#f0f921"
             ]
            ],
            "type": "heatmapgl"
           }
          ],
          "histogram": [
           {
            "marker": {
             "colorbar": {
              "outlinewidth": 0,
              "ticks": ""
             }
            },
            "type": "histogram"
           }
          ],
          "histogram2d": [
           {
            "colorbar": {
             "outlinewidth": 0,
             "ticks": ""
            },
            "colorscale": [
             [
              0,
              "#0d0887"
             ],
             [
              0.1111111111111111,
              "#46039f"
             ],
             [
              0.2222222222222222,
              "#7201a8"
             ],
             [
              0.3333333333333333,
              "#9c179e"
             ],
             [
              0.4444444444444444,
              "#bd3786"
             ],
             [
              0.5555555555555556,
              "#d8576b"
             ],
             [
              0.6666666666666666,
              "#ed7953"
             ],
             [
              0.7777777777777778,
              "#fb9f3a"
             ],
             [
              0.8888888888888888,
              "#fdca26"
             ],
             [
              1,
              "#f0f921"
             ]
            ],
            "type": "histogram2d"
           }
          ],
          "histogram2dcontour": [
           {
            "colorbar": {
             "outlinewidth": 0,
             "ticks": ""
            },
            "colorscale": [
             [
              0,
              "#0d0887"
             ],
             [
              0.1111111111111111,
              "#46039f"
             ],
             [
              0.2222222222222222,
              "#7201a8"
             ],
             [
              0.3333333333333333,
              "#9c179e"
             ],
             [
              0.4444444444444444,
              "#bd3786"
             ],
             [
              0.5555555555555556,
              "#d8576b"
             ],
             [
              0.6666666666666666,
              "#ed7953"
             ],
             [
              0.7777777777777778,
              "#fb9f3a"
             ],
             [
              0.8888888888888888,
              "#fdca26"
             ],
             [
              1,
              "#f0f921"
             ]
            ],
            "type": "histogram2dcontour"
           }
          ],
          "mesh3d": [
           {
            "colorbar": {
             "outlinewidth": 0,
             "ticks": ""
            },
            "type": "mesh3d"
           }
          ],
          "parcoords": [
           {
            "line": {
             "colorbar": {
              "outlinewidth": 0,
              "ticks": ""
             }
            },
            "type": "parcoords"
           }
          ],
          "pie": [
           {
            "automargin": true,
            "type": "pie"
           }
          ],
          "scatter": [
           {
            "marker": {
             "colorbar": {
              "outlinewidth": 0,
              "ticks": ""
             }
            },
            "type": "scatter"
           }
          ],
          "scatter3d": [
           {
            "line": {
             "colorbar": {
              "outlinewidth": 0,
              "ticks": ""
             }
            },
            "marker": {
             "colorbar": {
              "outlinewidth": 0,
              "ticks": ""
             }
            },
            "type": "scatter3d"
           }
          ],
          "scattercarpet": [
           {
            "marker": {
             "colorbar": {
              "outlinewidth": 0,
              "ticks": ""
             }
            },
            "type": "scattercarpet"
           }
          ],
          "scattergeo": [
           {
            "marker": {
             "colorbar": {
              "outlinewidth": 0,
              "ticks": ""
             }
            },
            "type": "scattergeo"
           }
          ],
          "scattergl": [
           {
            "marker": {
             "colorbar": {
              "outlinewidth": 0,
              "ticks": ""
             }
            },
            "type": "scattergl"
           }
          ],
          "scattermapbox": [
           {
            "marker": {
             "colorbar": {
              "outlinewidth": 0,
              "ticks": ""
             }
            },
            "type": "scattermapbox"
           }
          ],
          "scatterpolar": [
           {
            "marker": {
             "colorbar": {
              "outlinewidth": 0,
              "ticks": ""
             }
            },
            "type": "scatterpolar"
           }
          ],
          "scatterpolargl": [
           {
            "marker": {
             "colorbar": {
              "outlinewidth": 0,
              "ticks": ""
             }
            },
            "type": "scatterpolargl"
           }
          ],
          "scatterternary": [
           {
            "marker": {
             "colorbar": {
              "outlinewidth": 0,
              "ticks": ""
             }
            },
            "type": "scatterternary"
           }
          ],
          "surface": [
           {
            "colorbar": {
             "outlinewidth": 0,
             "ticks": ""
            },
            "colorscale": [
             [
              0,
              "#0d0887"
             ],
             [
              0.1111111111111111,
              "#46039f"
             ],
             [
              0.2222222222222222,
              "#7201a8"
             ],
             [
              0.3333333333333333,
              "#9c179e"
             ],
             [
              0.4444444444444444,
              "#bd3786"
             ],
             [
              0.5555555555555556,
              "#d8576b"
             ],
             [
              0.6666666666666666,
              "#ed7953"
             ],
             [
              0.7777777777777778,
              "#fb9f3a"
             ],
             [
              0.8888888888888888,
              "#fdca26"
             ],
             [
              1,
              "#f0f921"
             ]
            ],
            "type": "surface"
           }
          ],
          "table": [
           {
            "cells": {
             "fill": {
              "color": "#EBF0F8"
             },
             "line": {
              "color": "white"
             }
            },
            "header": {
             "fill": {
              "color": "#C8D4E3"
             },
             "line": {
              "color": "white"
             }
            },
            "type": "table"
           }
          ]
         },
         "layout": {
          "annotationdefaults": {
           "arrowcolor": "#2a3f5f",
           "arrowhead": 0,
           "arrowwidth": 1
          },
          "coloraxis": {
           "colorbar": {
            "outlinewidth": 0,
            "ticks": ""
           }
          },
          "colorscale": {
           "diverging": [
            [
             0,
             "#8e0152"
            ],
            [
             0.1,
             "#c51b7d"
            ],
            [
             0.2,
             "#de77ae"
            ],
            [
             0.3,
             "#f1b6da"
            ],
            [
             0.4,
             "#fde0ef"
            ],
            [
             0.5,
             "#f7f7f7"
            ],
            [
             0.6,
             "#e6f5d0"
            ],
            [
             0.7,
             "#b8e186"
            ],
            [
             0.8,
             "#7fbc41"
            ],
            [
             0.9,
             "#4d9221"
            ],
            [
             1,
             "#276419"
            ]
           ],
           "sequential": [
            [
             0,
             "#0d0887"
            ],
            [
             0.1111111111111111,
             "#46039f"
            ],
            [
             0.2222222222222222,
             "#7201a8"
            ],
            [
             0.3333333333333333,
             "#9c179e"
            ],
            [
             0.4444444444444444,
             "#bd3786"
            ],
            [
             0.5555555555555556,
             "#d8576b"
            ],
            [
             0.6666666666666666,
             "#ed7953"
            ],
            [
             0.7777777777777778,
             "#fb9f3a"
            ],
            [
             0.8888888888888888,
             "#fdca26"
            ],
            [
             1,
             "#f0f921"
            ]
           ],
           "sequentialminus": [
            [
             0,
             "#0d0887"
            ],
            [
             0.1111111111111111,
             "#46039f"
            ],
            [
             0.2222222222222222,
             "#7201a8"
            ],
            [
             0.3333333333333333,
             "#9c179e"
            ],
            [
             0.4444444444444444,
             "#bd3786"
            ],
            [
             0.5555555555555556,
             "#d8576b"
            ],
            [
             0.6666666666666666,
             "#ed7953"
            ],
            [
             0.7777777777777778,
             "#fb9f3a"
            ],
            [
             0.8888888888888888,
             "#fdca26"
            ],
            [
             1,
             "#f0f921"
            ]
           ]
          },
          "colorway": [
           "#636efa",
           "#EF553B",
           "#00cc96",
           "#ab63fa",
           "#FFA15A",
           "#19d3f3",
           "#FF6692",
           "#B6E880",
           "#FF97FF",
           "#FECB52"
          ],
          "font": {
           "color": "#2a3f5f"
          },
          "geo": {
           "bgcolor": "white",
           "lakecolor": "white",
           "landcolor": "#E5ECF6",
           "showlakes": true,
           "showland": true,
           "subunitcolor": "white"
          },
          "hoverlabel": {
           "align": "left"
          },
          "hovermode": "closest",
          "mapbox": {
           "style": "light"
          },
          "paper_bgcolor": "white",
          "plot_bgcolor": "#E5ECF6",
          "polar": {
           "angularaxis": {
            "gridcolor": "white",
            "linecolor": "white",
            "ticks": ""
           },
           "bgcolor": "#E5ECF6",
           "radialaxis": {
            "gridcolor": "white",
            "linecolor": "white",
            "ticks": ""
           }
          },
          "scene": {
           "xaxis": {
            "backgroundcolor": "#E5ECF6",
            "gridcolor": "white",
            "gridwidth": 2,
            "linecolor": "white",
            "showbackground": true,
            "ticks": "",
            "zerolinecolor": "white"
           },
           "yaxis": {
            "backgroundcolor": "#E5ECF6",
            "gridcolor": "white",
            "gridwidth": 2,
            "linecolor": "white",
            "showbackground": true,
            "ticks": "",
            "zerolinecolor": "white"
           },
           "zaxis": {
            "backgroundcolor": "#E5ECF6",
            "gridcolor": "white",
            "gridwidth": 2,
            "linecolor": "white",
            "showbackground": true,
            "ticks": "",
            "zerolinecolor": "white"
           }
          },
          "shapedefaults": {
           "line": {
            "color": "#2a3f5f"
           }
          },
          "ternary": {
           "aaxis": {
            "gridcolor": "white",
            "linecolor": "white",
            "ticks": ""
           },
           "baxis": {
            "gridcolor": "white",
            "linecolor": "white",
            "ticks": ""
           },
           "bgcolor": "#E5ECF6",
           "caxis": {
            "gridcolor": "white",
            "linecolor": "white",
            "ticks": ""
           }
          },
          "title": {
           "x": 0.05
          },
          "xaxis": {
           "automargin": true,
           "gridcolor": "white",
           "linecolor": "white",
           "ticks": "",
           "title": {
            "standoff": 15
           },
           "zerolinecolor": "white",
           "zerolinewidth": 2
          },
          "yaxis": {
           "automargin": true,
           "gridcolor": "white",
           "linecolor": "white",
           "ticks": "",
           "title": {
            "standoff": 15
           },
           "zerolinecolor": "white",
           "zerolinewidth": 2
          }
         }
        },
        "title": {
         "font": {
          "color": "#4D5663"
         }
        },
        "xaxis": {
         "gridcolor": "#E1E5ED",
         "showgrid": true,
         "tickfont": {
          "color": "#4D5663"
         },
         "title": {
          "font": {
           "color": "#4D5663"
          },
          "text": ""
         },
         "zerolinecolor": "#E1E5ED"
        },
        "yaxis": {
         "gridcolor": "#E1E5ED",
         "showgrid": true,
         "tickfont": {
          "color": "#4D5663"
         },
         "title": {
          "font": {
           "color": "#4D5663"
          },
          "text": ""
         },
         "zerolinecolor": "#E1E5ED"
        }
       }
      },
      "text/html": [
       "<div>\n",
       "        \n",
       "        \n",
       "            <div id=\"8be2f28e-371b-4bdb-871a-8f6ecd6a4096\" class=\"plotly-graph-div\" style=\"height:525px; width:100%;\"></div>\n",
       "            <script type=\"text/javascript\">\n",
       "                require([\"plotly\"], function(Plotly) {\n",
       "                    window.PLOTLYENV=window.PLOTLYENV || {};\n",
       "                    window.PLOTLYENV.BASE_URL='https://plot.ly';\n",
       "                    \n",
       "                if (document.getElementById(\"8be2f28e-371b-4bdb-871a-8f6ecd6a4096\")) {\n",
       "                    Plotly.newPlot(\n",
       "                        '8be2f28e-371b-4bdb-871a-8f6ecd6a4096',\n",
       "                        [{\"marker\": {\"color\": [\"rgb(255, 153, 51)\", \"rgb(55, 128, 191)\", \"rgb(50, 171, 96)\", \"rgb(128, 0, 128)\", \"rgb(219, 64, 82)\", \"rgb(0, 128, 128)\", \"rgb(255, 255, 51)\", \"rgb(128, 128, 0)\", \"rgb(251, 128, 114)\", \"rgb(128, 177, 211)\"], \"line\": {\"width\": 1.3}, \"size\": [33, 41, 45, 46, 51, 87, 111, 63, 34, 48, 53, 63, 96, 81, 19, 63, 41, 63, 12, 60, 79, 70, 90, 55, 77, 79, 62, 83, 25, 102, 85, 73, 77, 69, 56, 58, 86, 74, 84, 63, 35, 69, 45, 69, 74, 78, 73, 77, 47, 56, 72, 62, 67, 60, 52, 53, 42, 80, 51, 86, 47, 66, 86, 91, 43, 59, 58, 83, 31, 55, 73, 71, 96, 40, 60, 73, 71, 46, 48, 32, 39, 48, 52, 47, 70, 52, 87, 43, 46, 74, 69, 75, 56, 69, 60, 56, 47, 47, 74, 36], \"symbol\": \"circle\"}, \"mode\": \"markers\", \"text\": \"\", \"type\": \"scatter\", \"x\": [0.27442011925577803, 0.4966318940744484, 0.9235787135880593, -1.3078878995183352, 1.029829990968547, 0.8768161316518825, 1.7607058214307147, -1.3352873795477167, -1.2398425570338618, 1.5554085396300308, 0.10574878112682273, 0.02877669534919826, 0.14547075907513576, 1.0931273800644667, 0.6761310088429014, 0.2784728536362254, -0.1660772458435563, -1.3210450424175817, 0.5718288528568582, 0.14355910285361492, -0.015859406501193326, 1.213306555373937, 0.4930056971125333, 0.9639894896117828, -1.6921012175771217, -1.4497539051335953, 0.5452526346624451, -0.645093482314308, -0.21143817105405713, 2.025199604317894, 1.0647915440432545, -0.9974086869972061, -0.026009175991362356, 0.8223224835488065, -0.6874438195145413, -1.1633762926469993, -2.1889031235002805, -1.6981324604478112, -0.8322915772080726, 0.8457591850393001, 2.1442085506693567, -1.5640271898647706, 0.7744562894683265, -0.38201421593223095, -0.6212905805519496, 1.5069808387621415, -0.26160458098711914, -0.4081977076676588, 0.06513595918607111, 1.5251829050865908, -1.364239429827965, -0.5723650046038495, -0.35491042630058367, 0.40182125294929, -1.0754453343631818, -0.7618618960949269, -0.9443244125840022, 0.8377214807586354, -0.031809465745655796, -1.0932793443090683, 0.4765706510147636, 2.05418105903198, 0.6394359942486391, 0.6371385671293637, 0.2426186474648045, -1.0881770872260315, -0.5516764613258204, -0.11777518422355525, 0.541620929047994, 0.2957312870889277, 0.4429090976829458, 0.7507240275163064, 0.006266873749813978, 1.0006292376829993, 1.6362468479250005, -0.3947402655677738, -0.48899105814741345, -0.3409198288169905, -1.8392733203270557, 2.0689286752747007, -1.0029774967312513, -0.6540448424261963, -1.0189861726963385, 1.07798984585544, -0.07417500228963209, 1.9694312682613933, -0.6546260721310159, -1.854475447570704, 0.5933309905159341, 0.2967998336348711, 0.09463460669330889, 0.6294080359178124, -0.28956562341842773, -0.6560223447079263, 0.3153653081029692, -1.5263252201468034, 1.1928936794991623, 0.3887480233893524, -0.6057963382281494, -0.09917451743088809], \"y\": [-0.5338968153279375, -0.737604098516914, 0.786032577826171, -0.18168043763582525, 0.3948231518046967, -1.285656839190833, 0.4929836120109994, 0.730148677998628, 0.6268605758227215, -0.5557695793174016, -0.40070084283238566, -0.04766528323845765, 1.3308041018589245, 1.2819449899198534, 0.8477216185770992, -0.8927707828167398, 0.6494375285903279, -1.2050108148432601, -0.07473626077998291, 0.8980669929684267, -0.5269968586077552, 1.6733011574136327, -0.15811245055144024, -0.7697173802854936, -1.0724251934501332, 2.0162661600162446, 0.825875520162066, 1.3431956059693588, 0.48621638477181517, 1.9553703128659479, -1.2848791904167656, 1.293267623163678, 0.22717944081984312, 0.08644533575156765, -0.6200100862166263, 2.822142109349293, 0.8261081315305128, -1.2264751974926702, -0.0886059823022562, 0.9571956710271053, 0.08646891800960291, -0.34677771441293503, 0.40851804088487054, 0.6649783338954706, -1.0969296957460855, -0.6743437678108863, -1.0918800892854403, 1.3214368372712242, -0.489847125076919, -0.27283397042230634, 1.0339465645395904, 1.678053130552742, 0.964812094346171, 0.19271156696874114, 1.3594228629156795, 0.7175701611203561, 0.45770851544861324, -0.9127473216263866, 0.4025668759667475, 1.240468662104316, -0.41875097813805773, -1.9458153186721703, 0.3845377635616228, 1.1341057816012856, 1.187647773407586, -0.6271936129770707, 1.529874764186071, -0.639045433088632, 1.245578441840703, -1.0598794371239935, 0.22162474696218795, 0.714755826671371, -0.6464888249376306, -0.15991178748956184, 0.44270651657742105, -0.49536621779670165, -0.3337392917600911, -0.3722023058235199, 1.7853238046755189, 0.6672531974451232, -0.0629772291874929, -0.2679822545976978, -0.427960450897043, 1.2255891597486852, 1.6349909023914029, -1.0990742295726037, -0.4031039386900612, -1.8840151714757252, 0.24122678438561407, -1.63272285788489, -0.45215556888368347, 0.9996177661914009, -0.8972395864459162, -0.3852976988003857, -1.6048338125867412, 0.6810799365123126, 0.6343674901247007, 0.6846125078879841, 0.7511672981039151, -0.28261636398842405]}],\n",
       "                        {\"legend\": {\"bgcolor\": \"#F5F6F9\", \"font\": {\"color\": \"#4D5663\"}}, \"paper_bgcolor\": \"#F5F6F9\", \"plot_bgcolor\": \"#F5F6F9\", \"template\": {\"data\": {\"bar\": [{\"error_x\": {\"color\": \"#2a3f5f\"}, \"error_y\": {\"color\": \"#2a3f5f\"}, \"marker\": {\"line\": {\"color\": \"#E5ECF6\", \"width\": 0.5}}, \"type\": \"bar\"}], \"barpolar\": [{\"marker\": {\"line\": {\"color\": \"#E5ECF6\", \"width\": 0.5}}, \"type\": \"barpolar\"}], \"carpet\": [{\"aaxis\": {\"endlinecolor\": \"#2a3f5f\", \"gridcolor\": \"white\", \"linecolor\": \"white\", \"minorgridcolor\": \"white\", \"startlinecolor\": \"#2a3f5f\"}, \"baxis\": {\"endlinecolor\": \"#2a3f5f\", \"gridcolor\": \"white\", \"linecolor\": \"white\", \"minorgridcolor\": \"white\", \"startlinecolor\": \"#2a3f5f\"}, \"type\": \"carpet\"}], \"choropleth\": [{\"colorbar\": {\"outlinewidth\": 0, \"ticks\": \"\"}, \"type\": \"choropleth\"}], \"contour\": [{\"colorbar\": {\"outlinewidth\": 0, \"ticks\": \"\"}, \"colorscale\": [[0.0, \"#0d0887\"], [0.1111111111111111, \"#46039f\"], [0.2222222222222222, \"#7201a8\"], [0.3333333333333333, \"#9c179e\"], [0.4444444444444444, \"#bd3786\"], [0.5555555555555556, \"#d8576b\"], [0.6666666666666666, \"#ed7953\"], [0.7777777777777778, \"#fb9f3a\"], [0.8888888888888888, \"#fdca26\"], [1.0, \"#f0f921\"]], \"type\": \"contour\"}], \"contourcarpet\": [{\"colorbar\": {\"outlinewidth\": 0, \"ticks\": \"\"}, \"type\": \"contourcarpet\"}], \"heatmap\": [{\"colorbar\": {\"outlinewidth\": 0, \"ticks\": \"\"}, \"colorscale\": [[0.0, \"#0d0887\"], [0.1111111111111111, \"#46039f\"], [0.2222222222222222, \"#7201a8\"], [0.3333333333333333, \"#9c179e\"], [0.4444444444444444, \"#bd3786\"], [0.5555555555555556, \"#d8576b\"], [0.6666666666666666, \"#ed7953\"], [0.7777777777777778, \"#fb9f3a\"], [0.8888888888888888, \"#fdca26\"], [1.0, \"#f0f921\"]], \"type\": \"heatmap\"}], \"heatmapgl\": [{\"colorbar\": {\"outlinewidth\": 0, \"ticks\": \"\"}, \"colorscale\": [[0.0, \"#0d0887\"], [0.1111111111111111, \"#46039f\"], [0.2222222222222222, \"#7201a8\"], [0.3333333333333333, \"#9c179e\"], [0.4444444444444444, \"#bd3786\"], [0.5555555555555556, \"#d8576b\"], [0.6666666666666666, \"#ed7953\"], [0.7777777777777778, \"#fb9f3a\"], [0.8888888888888888, \"#fdca26\"], [1.0, \"#f0f921\"]], \"type\": \"heatmapgl\"}], \"histogram\": [{\"marker\": {\"colorbar\": {\"outlinewidth\": 0, \"ticks\": \"\"}}, \"type\": \"histogram\"}], \"histogram2d\": [{\"colorbar\": {\"outlinewidth\": 0, \"ticks\": \"\"}, \"colorscale\": [[0.0, \"#0d0887\"], [0.1111111111111111, \"#46039f\"], [0.2222222222222222, \"#7201a8\"], [0.3333333333333333, \"#9c179e\"], [0.4444444444444444, \"#bd3786\"], [0.5555555555555556, \"#d8576b\"], [0.6666666666666666, \"#ed7953\"], [0.7777777777777778, \"#fb9f3a\"], [0.8888888888888888, \"#fdca26\"], [1.0, \"#f0f921\"]], \"type\": \"histogram2d\"}], \"histogram2dcontour\": [{\"colorbar\": {\"outlinewidth\": 0, \"ticks\": \"\"}, \"colorscale\": [[0.0, \"#0d0887\"], [0.1111111111111111, \"#46039f\"], [0.2222222222222222, \"#7201a8\"], [0.3333333333333333, \"#9c179e\"], [0.4444444444444444, \"#bd3786\"], [0.5555555555555556, \"#d8576b\"], [0.6666666666666666, \"#ed7953\"], [0.7777777777777778, \"#fb9f3a\"], [0.8888888888888888, \"#fdca26\"], [1.0, \"#f0f921\"]], \"type\": \"histogram2dcontour\"}], \"mesh3d\": [{\"colorbar\": {\"outlinewidth\": 0, \"ticks\": \"\"}, \"type\": \"mesh3d\"}], \"parcoords\": [{\"line\": {\"colorbar\": {\"outlinewidth\": 0, \"ticks\": \"\"}}, \"type\": \"parcoords\"}], \"pie\": [{\"automargin\": true, \"type\": \"pie\"}], \"scatter\": [{\"marker\": {\"colorbar\": {\"outlinewidth\": 0, \"ticks\": \"\"}}, \"type\": \"scatter\"}], \"scatter3d\": [{\"line\": {\"colorbar\": {\"outlinewidth\": 0, \"ticks\": \"\"}}, \"marker\": {\"colorbar\": {\"outlinewidth\": 0, \"ticks\": \"\"}}, \"type\": \"scatter3d\"}], \"scattercarpet\": [{\"marker\": {\"colorbar\": {\"outlinewidth\": 0, \"ticks\": \"\"}}, \"type\": \"scattercarpet\"}], \"scattergeo\": [{\"marker\": {\"colorbar\": {\"outlinewidth\": 0, \"ticks\": \"\"}}, \"type\": \"scattergeo\"}], \"scattergl\": [{\"marker\": {\"colorbar\": {\"outlinewidth\": 0, \"ticks\": \"\"}}, \"type\": \"scattergl\"}], \"scattermapbox\": [{\"marker\": {\"colorbar\": {\"outlinewidth\": 0, \"ticks\": \"\"}}, \"type\": \"scattermapbox\"}], \"scatterpolar\": [{\"marker\": {\"colorbar\": {\"outlinewidth\": 0, \"ticks\": \"\"}}, \"type\": \"scatterpolar\"}], \"scatterpolargl\": [{\"marker\": {\"colorbar\": {\"outlinewidth\": 0, \"ticks\": \"\"}}, \"type\": \"scatterpolargl\"}], \"scatterternary\": [{\"marker\": {\"colorbar\": {\"outlinewidth\": 0, \"ticks\": \"\"}}, \"type\": \"scatterternary\"}], \"surface\": [{\"colorbar\": {\"outlinewidth\": 0, \"ticks\": \"\"}, \"colorscale\": [[0.0, \"#0d0887\"], [0.1111111111111111, \"#46039f\"], [0.2222222222222222, \"#7201a8\"], [0.3333333333333333, \"#9c179e\"], [0.4444444444444444, \"#bd3786\"], [0.5555555555555556, \"#d8576b\"], [0.6666666666666666, \"#ed7953\"], [0.7777777777777778, \"#fb9f3a\"], [0.8888888888888888, \"#fdca26\"], [1.0, \"#f0f921\"]], \"type\": \"surface\"}], \"table\": [{\"cells\": {\"fill\": {\"color\": \"#EBF0F8\"}, \"line\": {\"color\": \"white\"}}, \"header\": {\"fill\": {\"color\": \"#C8D4E3\"}, \"line\": {\"color\": \"white\"}}, \"type\": \"table\"}]}, \"layout\": {\"annotationdefaults\": {\"arrowcolor\": \"#2a3f5f\", \"arrowhead\": 0, \"arrowwidth\": 1}, \"coloraxis\": {\"colorbar\": {\"outlinewidth\": 0, \"ticks\": \"\"}}, \"colorscale\": {\"diverging\": [[0, \"#8e0152\"], [0.1, \"#c51b7d\"], [0.2, \"#de77ae\"], [0.3, \"#f1b6da\"], [0.4, \"#fde0ef\"], [0.5, \"#f7f7f7\"], [0.6, \"#e6f5d0\"], [0.7, \"#b8e186\"], [0.8, \"#7fbc41\"], [0.9, \"#4d9221\"], [1, \"#276419\"]], \"sequential\": [[0.0, \"#0d0887\"], [0.1111111111111111, \"#46039f\"], [0.2222222222222222, \"#7201a8\"], [0.3333333333333333, \"#9c179e\"], [0.4444444444444444, \"#bd3786\"], [0.5555555555555556, \"#d8576b\"], [0.6666666666666666, \"#ed7953\"], [0.7777777777777778, \"#fb9f3a\"], [0.8888888888888888, \"#fdca26\"], [1.0, \"#f0f921\"]], \"sequentialminus\": [[0.0, \"#0d0887\"], [0.1111111111111111, \"#46039f\"], [0.2222222222222222, \"#7201a8\"], [0.3333333333333333, \"#9c179e\"], [0.4444444444444444, \"#bd3786\"], [0.5555555555555556, \"#d8576b\"], [0.6666666666666666, \"#ed7953\"], [0.7777777777777778, \"#fb9f3a\"], [0.8888888888888888, \"#fdca26\"], [1.0, \"#f0f921\"]]}, \"colorway\": [\"#636efa\", \"#EF553B\", \"#00cc96\", \"#ab63fa\", \"#FFA15A\", \"#19d3f3\", \"#FF6692\", \"#B6E880\", \"#FF97FF\", \"#FECB52\"], \"font\": {\"color\": \"#2a3f5f\"}, \"geo\": {\"bgcolor\": \"white\", \"lakecolor\": \"white\", \"landcolor\": \"#E5ECF6\", \"showlakes\": true, \"showland\": true, \"subunitcolor\": \"white\"}, \"hoverlabel\": {\"align\": \"left\"}, \"hovermode\": \"closest\", \"mapbox\": {\"style\": \"light\"}, \"paper_bgcolor\": \"white\", \"plot_bgcolor\": \"#E5ECF6\", \"polar\": {\"angularaxis\": {\"gridcolor\": \"white\", \"linecolor\": \"white\", \"ticks\": \"\"}, \"bgcolor\": \"#E5ECF6\", \"radialaxis\": {\"gridcolor\": \"white\", \"linecolor\": \"white\", \"ticks\": \"\"}}, \"scene\": {\"xaxis\": {\"backgroundcolor\": \"#E5ECF6\", \"gridcolor\": \"white\", \"gridwidth\": 2, \"linecolor\": \"white\", \"showbackground\": true, \"ticks\": \"\", \"zerolinecolor\": \"white\"}, \"yaxis\": {\"backgroundcolor\": \"#E5ECF6\", \"gridcolor\": \"white\", \"gridwidth\": 2, \"linecolor\": \"white\", \"showbackground\": true, \"ticks\": \"\", \"zerolinecolor\": \"white\"}, \"zaxis\": {\"backgroundcolor\": \"#E5ECF6\", \"gridcolor\": \"white\", \"gridwidth\": 2, \"linecolor\": \"white\", \"showbackground\": true, \"ticks\": \"\", \"zerolinecolor\": \"white\"}}, \"shapedefaults\": {\"line\": {\"color\": \"#2a3f5f\"}}, \"ternary\": {\"aaxis\": {\"gridcolor\": \"white\", \"linecolor\": \"white\", \"ticks\": \"\"}, \"baxis\": {\"gridcolor\": \"white\", \"linecolor\": \"white\", \"ticks\": \"\"}, \"bgcolor\": \"#E5ECF6\", \"caxis\": {\"gridcolor\": \"white\", \"linecolor\": \"white\", \"ticks\": \"\"}}, \"title\": {\"x\": 0.05}, \"xaxis\": {\"automargin\": true, \"gridcolor\": \"white\", \"linecolor\": \"white\", \"ticks\": \"\", \"title\": {\"standoff\": 15}, \"zerolinecolor\": \"white\", \"zerolinewidth\": 2}, \"yaxis\": {\"automargin\": true, \"gridcolor\": \"white\", \"linecolor\": \"white\", \"ticks\": \"\", \"title\": {\"standoff\": 15}, \"zerolinecolor\": \"white\", \"zerolinewidth\": 2}}}, \"title\": {\"font\": {\"color\": \"#4D5663\"}}, \"xaxis\": {\"gridcolor\": \"#E1E5ED\", \"showgrid\": true, \"tickfont\": {\"color\": \"#4D5663\"}, \"title\": {\"font\": {\"color\": \"#4D5663\"}, \"text\": \"\"}, \"zerolinecolor\": \"#E1E5ED\"}, \"yaxis\": {\"gridcolor\": \"#E1E5ED\", \"showgrid\": true, \"tickfont\": {\"color\": \"#4D5663\"}, \"title\": {\"font\": {\"color\": \"#4D5663\"}, \"text\": \"\"}, \"zerolinecolor\": \"#E1E5ED\"}},\n",
       "                        {\"showLink\": true, \"linkText\": \"Export to plot.ly\", \"plotlyServerURL\": \"https://plot.ly\", \"responsive\": true}\n",
       "                    ).then(function(){\n",
       "                            \n",
       "var gd = document.getElementById('8be2f28e-371b-4bdb-871a-8f6ecd6a4096');\n",
       "var x = new MutationObserver(function (mutations, observer) {{\n",
       "        var display = window.getComputedStyle(gd).display;\n",
       "        if (!display || display === 'none') {{\n",
       "            console.log([gd, 'removed!']);\n",
       "            Plotly.purge(gd);\n",
       "            observer.disconnect();\n",
       "        }}\n",
       "}});\n",
       "\n",
       "// Listen for the removal of the full notebook cells\n",
       "var notebookContainer = gd.closest('#notebook-container');\n",
       "if (notebookContainer) {{\n",
       "    x.observe(notebookContainer, {childList: true});\n",
       "}}\n",
       "\n",
       "// Listen for the clearing of the current output cell\n",
       "var outputEl = gd.closest('.output');\n",
       "if (outputEl) {{\n",
       "    x.observe(outputEl, {childList: true});\n",
       "}}\n",
       "\n",
       "                        })\n",
       "                };\n",
       "                });\n",
       "            </script>\n",
       "        </div>"
      ]
     },
     "metadata": {},
     "output_type": "display_data"
    }
   ],
   "source": [
    "df.iplot(kind='bubble',x='A',y='B',size='C')"
   ]
  },
  {
   "cell_type": "markdown",
   "metadata": {},
   "source": [
    "## scatter_matrix()\n",
    "\n",
    "Similar to sns.pairplot()"
   ]
  },
  {
   "cell_type": "code",
   "execution_count": 18,
   "metadata": {},
   "outputs": [
    {
     "data": {
      "application/vnd.plotly.v1+json": {
       "config": {
        "linkText": "Export to plot.ly",
        "plotlyServerURL": "https://plot.ly",
        "showLink": true
       },
       "data": [
        {
         "histfunc": "count",
         "histnorm": "",
         "marker": {
          "color": "rgba(255, 153, 51, 1.0)",
          "line": {
           "color": "#4D5663",
           "width": 1.3
          }
         },
         "name": "A",
         "nbinsx": 10,
         "opacity": 0.8,
         "orientation": "v",
         "type": "histogram",
         "x": [
          0.27442011925577803,
          0.4966318940744484,
          0.9235787135880593,
          -1.3078878995183352,
          1.029829990968547,
          0.8768161316518825,
          1.7607058214307147,
          -1.3352873795477167,
          -1.2398425570338618,
          1.5554085396300308,
          0.10574878112682273,
          0.02877669534919826,
          0.14547075907513576,
          1.0931273800644667,
          0.6761310088429014,
          0.2784728536362254,
          -0.1660772458435563,
          -1.3210450424175817,
          0.5718288528568582,
          0.14355910285361492,
          -0.015859406501193326,
          1.213306555373937,
          0.4930056971125333,
          0.9639894896117828,
          -1.6921012175771217,
          -1.4497539051335953,
          0.5452526346624451,
          -0.645093482314308,
          -0.21143817105405713,
          2.025199604317894,
          1.0647915440432545,
          -0.9974086869972061,
          -0.026009175991362356,
          0.8223224835488065,
          -0.6874438195145413,
          -1.1633762926469993,
          -2.1889031235002805,
          -1.6981324604478112,
          -0.8322915772080726,
          0.8457591850393001,
          2.1442085506693567,
          -1.5640271898647706,
          0.7744562894683265,
          -0.38201421593223095,
          -0.6212905805519496,
          1.5069808387621415,
          -0.26160458098711914,
          -0.4081977076676588,
          0.06513595918607111,
          1.5251829050865908,
          -1.364239429827965,
          -0.5723650046038495,
          -0.35491042630058367,
          0.40182125294929,
          -1.0754453343631818,
          -0.7618618960949269,
          -0.9443244125840022,
          0.8377214807586354,
          -0.031809465745655796,
          -1.0932793443090683,
          0.4765706510147636,
          2.05418105903198,
          0.6394359942486391,
          0.6371385671293637,
          0.2426186474648045,
          -1.0881770872260315,
          -0.5516764613258204,
          -0.11777518422355525,
          0.541620929047994,
          0.2957312870889277,
          0.4429090976829458,
          0.7507240275163064,
          0.006266873749813978,
          1.0006292376829993,
          1.6362468479250005,
          -0.3947402655677738,
          -0.48899105814741345,
          -0.3409198288169905,
          -1.8392733203270557,
          2.0689286752747007,
          -1.0029774967312513,
          -0.6540448424261963,
          -1.0189861726963385,
          1.07798984585544,
          -0.07417500228963209,
          1.9694312682613933,
          -0.6546260721310159,
          -1.854475447570704,
          0.5933309905159341,
          0.2967998336348711,
          0.09463460669330889,
          0.6294080359178124,
          -0.28956562341842773,
          -0.6560223447079263,
          0.3153653081029692,
          -1.5263252201468034,
          1.1928936794991623,
          0.3887480233893524,
          -0.6057963382281494,
          -0.09917451743088809
         ],
         "xaxis": "x",
         "yaxis": "y"
        },
        {
         "line": {
          "color": "rgba(128, 128, 128, 1.0)",
          "dash": "solid",
          "shape": "linear",
          "width": 1.3
         },
         "marker": {
          "size": 2,
          "symbol": "circle"
         },
         "mode": "markers",
         "name": "A",
         "text": "",
         "type": "scatter",
         "x": [
          -0.5338968153279375,
          -0.737604098516914,
          0.786032577826171,
          -0.18168043763582525,
          0.3948231518046967,
          -1.285656839190833,
          0.4929836120109994,
          0.730148677998628,
          0.6268605758227215,
          -0.5557695793174016,
          -0.40070084283238566,
          -0.04766528323845765,
          1.3308041018589245,
          1.2819449899198534,
          0.8477216185770992,
          -0.8927707828167398,
          0.6494375285903279,
          -1.2050108148432601,
          -0.07473626077998291,
          0.8980669929684267,
          -0.5269968586077552,
          1.6733011574136327,
          -0.15811245055144024,
          -0.7697173802854936,
          -1.0724251934501332,
          2.0162661600162446,
          0.825875520162066,
          1.3431956059693588,
          0.48621638477181517,
          1.9553703128659479,
          -1.2848791904167656,
          1.293267623163678,
          0.22717944081984312,
          0.08644533575156765,
          -0.6200100862166263,
          2.822142109349293,
          0.8261081315305128,
          -1.2264751974926702,
          -0.0886059823022562,
          0.9571956710271053,
          0.08646891800960291,
          -0.34677771441293503,
          0.40851804088487054,
          0.6649783338954706,
          -1.0969296957460855,
          -0.6743437678108863,
          -1.0918800892854403,
          1.3214368372712242,
          -0.489847125076919,
          -0.27283397042230634,
          1.0339465645395904,
          1.678053130552742,
          0.964812094346171,
          0.19271156696874114,
          1.3594228629156795,
          0.7175701611203561,
          0.45770851544861324,
          -0.9127473216263866,
          0.4025668759667475,
          1.240468662104316,
          -0.41875097813805773,
          -1.9458153186721703,
          0.3845377635616228,
          1.1341057816012856,
          1.187647773407586,
          -0.6271936129770707,
          1.529874764186071,
          -0.639045433088632,
          1.245578441840703,
          -1.0598794371239935,
          0.22162474696218795,
          0.714755826671371,
          -0.6464888249376306,
          -0.15991178748956184,
          0.44270651657742105,
          -0.49536621779670165,
          -0.3337392917600911,
          -0.3722023058235199,
          1.7853238046755189,
          0.6672531974451232,
          -0.0629772291874929,
          -0.2679822545976978,
          -0.427960450897043,
          1.2255891597486852,
          1.6349909023914029,
          -1.0990742295726037,
          -0.4031039386900612,
          -1.8840151714757252,
          0.24122678438561407,
          -1.63272285788489,
          -0.45215556888368347,
          0.9996177661914009,
          -0.8972395864459162,
          -0.3852976988003857,
          -1.6048338125867412,
          0.6810799365123126,
          0.6343674901247007,
          0.6846125078879841,
          0.7511672981039151,
          -0.28261636398842405
         ],
         "xaxis": "x2",
         "y": [
          0.27442011925577803,
          0.4966318940744484,
          0.9235787135880593,
          -1.3078878995183352,
          1.029829990968547,
          0.8768161316518825,
          1.7607058214307147,
          -1.3352873795477167,
          -1.2398425570338618,
          1.5554085396300308,
          0.10574878112682273,
          0.02877669534919826,
          0.14547075907513576,
          1.0931273800644667,
          0.6761310088429014,
          0.2784728536362254,
          -0.1660772458435563,
          -1.3210450424175817,
          0.5718288528568582,
          0.14355910285361492,
          -0.015859406501193326,
          1.213306555373937,
          0.4930056971125333,
          0.9639894896117828,
          -1.6921012175771217,
          -1.4497539051335953,
          0.5452526346624451,
          -0.645093482314308,
          -0.21143817105405713,
          2.025199604317894,
          1.0647915440432545,
          -0.9974086869972061,
          -0.026009175991362356,
          0.8223224835488065,
          -0.6874438195145413,
          -1.1633762926469993,
          -2.1889031235002805,
          -1.6981324604478112,
          -0.8322915772080726,
          0.8457591850393001,
          2.1442085506693567,
          -1.5640271898647706,
          0.7744562894683265,
          -0.38201421593223095,
          -0.6212905805519496,
          1.5069808387621415,
          -0.26160458098711914,
          -0.4081977076676588,
          0.06513595918607111,
          1.5251829050865908,
          -1.364239429827965,
          -0.5723650046038495,
          -0.35491042630058367,
          0.40182125294929,
          -1.0754453343631818,
          -0.7618618960949269,
          -0.9443244125840022,
          0.8377214807586354,
          -0.031809465745655796,
          -1.0932793443090683,
          0.4765706510147636,
          2.05418105903198,
          0.6394359942486391,
          0.6371385671293637,
          0.2426186474648045,
          -1.0881770872260315,
          -0.5516764613258204,
          -0.11777518422355525,
          0.541620929047994,
          0.2957312870889277,
          0.4429090976829458,
          0.7507240275163064,
          0.006266873749813978,
          1.0006292376829993,
          1.6362468479250005,
          -0.3947402655677738,
          -0.48899105814741345,
          -0.3409198288169905,
          -1.8392733203270557,
          2.0689286752747007,
          -1.0029774967312513,
          -0.6540448424261963,
          -1.0189861726963385,
          1.07798984585544,
          -0.07417500228963209,
          1.9694312682613933,
          -0.6546260721310159,
          -1.854475447570704,
          0.5933309905159341,
          0.2967998336348711,
          0.09463460669330889,
          0.6294080359178124,
          -0.28956562341842773,
          -0.6560223447079263,
          0.3153653081029692,
          -1.5263252201468034,
          1.1928936794991623,
          0.3887480233893524,
          -0.6057963382281494,
          -0.09917451743088809
         ],
         "yaxis": "y2"
        },
        {
         "line": {
          "color": "rgba(128, 128, 128, 1.0)",
          "dash": "solid",
          "shape": "linear",
          "width": 1.3
         },
         "marker": {
          "size": 2,
          "symbol": "circle"
         },
         "mode": "markers",
         "name": "A",
         "text": "",
         "type": "scatter",
         "x": [
          -1.7485201069591834,
          -1.248420460246769,
          -1.0075280699285276,
          -0.9725518392526331,
          -0.6125580000788612,
          1.5760168254053477,
          3.1112798898969665,
          0.12091950003886064,
          -1.7155531562944366,
          -0.8096404549948362,
          -0.5060314294593212,
          0.09533818535459651,
          2.1690743098645586,
          1.2080495707997074,
          -2.6202202715084986,
          0.09767169102789787,
          -1.2819820037327558,
          0.13518469888419476,
          -3.084790549939067,
          -0.0928415934708775,
          1.1239154243379592,
          0.5284989727147826,
          1.780036515541744,
          -0.3670349035589682,
          0.991359504796717,
          1.0980606254994498,
          0.05889203924934366,
          1.3520304892360469,
          -2.2532625362966905,
          2.511047084901181,
          1.4777598495378366,
          0.7107639517827246,
          0.9905571434022301,
          0.4939042051628568,
          -0.30318369202593204,
          -0.20572389186947077,
          1.5111963961491124,
          0.818542866015444,
          1.405947976651865,
          0.07589676612528864,
          -1.6150177283856333,
          0.4829498586775949,
          -1.0020525017535273,
          0.48705033350238613,
          0.7893913940389492,
          1.042603772749581,
          0.7023316180161469,
          0.9989523840144684,
          -0.8679755846735273,
          -0.3498252885375398,
          0.676618385436938,
          0.04081092286680008,
          0.3610496227384134,
          -0.10556015372926142,
          -0.5683480892831416,
          -0.5250362254432627,
          -1.209124371647606,
          1.1859934357640527,
          -0.6432401817537491,
          1.5482412077671712,
          -0.9114281767939825,
          0.27412471147018425,
          1.5136983928699403,
          1.811251440223618,
          -1.1407022465952563,
          -0.11489383916197456,
          -0.18828021095885358,
          1.3309600894134206,
          -1.846507522364263,
          -0.3795601778584485,
          0.724337773539108,
          0.608226848828633,
          2.145322528431656,
          -1.316798218389222,
          -0.0561128168489964,
          0.6962038416091032,
          0.6021415493331566,
          -0.962852009548119,
          -0.8064038979687622,
          -1.8281566150887754,
          -1.3891228837001643,
          -0.8274390005044422,
          -0.6016672382221137,
          -0.8894914442305945,
          0.5220285374608629,
          -0.5593335491776248,
          1.5660959296870434,
          -1.1105594030213204,
          -0.9716912024083473,
          0.8155124851298962,
          0.4608813156671842,
          0.8719395265683174,
          -0.315649587010231,
          0.47345649994695366,
          -0.09303806480081672,
          -0.3039382915405551,
          -0.9049587882620793,
          -0.8812215048138823,
          0.8136540326243287,
          -1.586615858482131
         ],
         "xaxis": "x3",
         "y": [
          0.27442011925577803,
          0.4966318940744484,
          0.9235787135880593,
          -1.3078878995183352,
          1.029829990968547,
          0.8768161316518825,
          1.7607058214307147,
          -1.3352873795477167,
          -1.2398425570338618,
          1.5554085396300308,
          0.10574878112682273,
          0.02877669534919826,
          0.14547075907513576,
          1.0931273800644667,
          0.6761310088429014,
          0.2784728536362254,
          -0.1660772458435563,
          -1.3210450424175817,
          0.5718288528568582,
          0.14355910285361492,
          -0.015859406501193326,
          1.213306555373937,
          0.4930056971125333,
          0.9639894896117828,
          -1.6921012175771217,
          -1.4497539051335953,
          0.5452526346624451,
          -0.645093482314308,
          -0.21143817105405713,
          2.025199604317894,
          1.0647915440432545,
          -0.9974086869972061,
          -0.026009175991362356,
          0.8223224835488065,
          -0.6874438195145413,
          -1.1633762926469993,
          -2.1889031235002805,
          -1.6981324604478112,
          -0.8322915772080726,
          0.8457591850393001,
          2.1442085506693567,
          -1.5640271898647706,
          0.7744562894683265,
          -0.38201421593223095,
          -0.6212905805519496,
          1.5069808387621415,
          -0.26160458098711914,
          -0.4081977076676588,
          0.06513595918607111,
          1.5251829050865908,
          -1.364239429827965,
          -0.5723650046038495,
          -0.35491042630058367,
          0.40182125294929,
          -1.0754453343631818,
          -0.7618618960949269,
          -0.9443244125840022,
          0.8377214807586354,
          -0.031809465745655796,
          -1.0932793443090683,
          0.4765706510147636,
          2.05418105903198,
          0.6394359942486391,
          0.6371385671293637,
          0.2426186474648045,
          -1.0881770872260315,
          -0.5516764613258204,
          -0.11777518422355525,
          0.541620929047994,
          0.2957312870889277,
          0.4429090976829458,
          0.7507240275163064,
          0.006266873749813978,
          1.0006292376829993,
          1.6362468479250005,
          -0.3947402655677738,
          -0.48899105814741345,
          -0.3409198288169905,
          -1.8392733203270557,
          2.0689286752747007,
          -1.0029774967312513,
          -0.6540448424261963,
          -1.0189861726963385,
          1.07798984585544,
          -0.07417500228963209,
          1.9694312682613933,
          -0.6546260721310159,
          -1.854475447570704,
          0.5933309905159341,
          0.2967998336348711,
          0.09463460669330889,
          0.6294080359178124,
          -0.28956562341842773,
          -0.6560223447079263,
          0.3153653081029692,
          -1.5263252201468034,
          1.1928936794991623,
          0.3887480233893524,
          -0.6057963382281494,
          -0.09917451743088809
         ],
         "yaxis": "y3"
        },
        {
         "line": {
          "color": "rgba(128, 128, 128, 1.0)",
          "dash": "solid",
          "shape": "linear",
          "width": 1.3
         },
         "marker": {
          "size": 2,
          "symbol": "circle"
         },
         "mode": "markers",
         "name": "A",
         "text": "",
         "type": "scatter",
         "x": [
          2.400910959817672,
          0.6819598149990173,
          -0.6232220194147332,
          0.7887395442388007,
          -1.301788145951858,
          0.04298717719900988,
          -0.337606399168051,
          -0.3490972931123941,
          -0.5068354424402199,
          -0.3116103659287749,
          1.0846448965688362,
          0.7977311205483589,
          -1.1431753830869036,
          -0.3186293795663426,
          -1.750924615250202,
          -2.9488522016425787,
          1.0169344193039447,
          2.050260613333816,
          -1.5193722818685347,
          -0.5621209693088283,
          -0.5330376530210282,
          -2.8566440070623837,
          0.78605289587328,
          0.6611326911720234,
          0.5281680667288813,
          0.25602262924607333,
          -0.2421640457669898,
          0.6945191944719256,
          0.20354542028254255,
          1.8725122134796268,
          -0.36854262725668063,
          -0.12557761460437292,
          -1.1779969538295298,
          0.8337681119216217,
          -1.5967903515443078,
          -0.04603274957753495,
          0.8577657360409547,
          0.7615458964802142,
          -0.14898456791709666,
          1.5661071602007113,
          -0.026215842003465106,
          -1.082701548546245,
          1.291549300882984,
          0.660437905490934,
          0.7527743950155561,
          0.1931582437842661,
          0.28666233615420045,
          -1.3854754111964733,
          1.1329097329405442,
          -0.1666932286083753,
          1.0478947021859135,
          -1.8983432266477809,
          1.6402811698311521,
          0.7327081792627386,
          -1.1965885360578552,
          -1.1112064603879197,
          -0.27374826444604033,
          -0.3001220396103051,
          -0.5899607786100437,
          0.7028745544320834,
          -0.09837521162133121,
          -1.9735466621727498,
          -0.20186640833230038,
          1.0704831627253344,
          0.9826482537507075,
          -1.5718950401733178,
          -2.147274930201117,
          -0.6141840005922726,
          -2.350297390865512,
          -1.1963069467822,
          -1.2615040276058762,
          -0.07541991306592753,
          -0.5688190765678266,
          0.9355969297751028,
          -2.2030141721337824,
          -0.07365859575543833,
          -0.5432217858757188,
          0.0661776750639695,
          -0.9330942246422116,
          1.048692435536162,
          1.308334734308985,
          -0.28020285246212434,
          -0.7302103967012064,
          -0.23986559247048359,
          -0.20001295011184908,
          -1.536716833187831,
          -0.25617333188326635,
          -1.2055988763345966,
          -2.1354257691690695,
          1.3616065782581308,
          0.397343084340552,
          0.46338631253367857,
          -0.6698575399509631,
          -0.2403364364402599,
          -0.6986079146756682,
          -1.4686138159507987,
          -0.27074685859711606,
          0.5755507541235156,
          -2.2020184068867,
          -0.3417824817094762
         ],
         "xaxis": "x4",
         "y": [
          0.27442011925577803,
          0.4966318940744484,
          0.9235787135880593,
          -1.3078878995183352,
          1.029829990968547,
          0.8768161316518825,
          1.7607058214307147,
          -1.3352873795477167,
          -1.2398425570338618,
          1.5554085396300308,
          0.10574878112682273,
          0.02877669534919826,
          0.14547075907513576,
          1.0931273800644667,
          0.6761310088429014,
          0.2784728536362254,
          -0.1660772458435563,
          -1.3210450424175817,
          0.5718288528568582,
          0.14355910285361492,
          -0.015859406501193326,
          1.213306555373937,
          0.4930056971125333,
          0.9639894896117828,
          -1.6921012175771217,
          -1.4497539051335953,
          0.5452526346624451,
          -0.645093482314308,
          -0.21143817105405713,
          2.025199604317894,
          1.0647915440432545,
          -0.9974086869972061,
          -0.026009175991362356,
          0.8223224835488065,
          -0.6874438195145413,
          -1.1633762926469993,
          -2.1889031235002805,
          -1.6981324604478112,
          -0.8322915772080726,
          0.8457591850393001,
          2.1442085506693567,
          -1.5640271898647706,
          0.7744562894683265,
          -0.38201421593223095,
          -0.6212905805519496,
          1.5069808387621415,
          -0.26160458098711914,
          -0.4081977076676588,
          0.06513595918607111,
          1.5251829050865908,
          -1.364239429827965,
          -0.5723650046038495,
          -0.35491042630058367,
          0.40182125294929,
          -1.0754453343631818,
          -0.7618618960949269,
          -0.9443244125840022,
          0.8377214807586354,
          -0.031809465745655796,
          -1.0932793443090683,
          0.4765706510147636,
          2.05418105903198,
          0.6394359942486391,
          0.6371385671293637,
          0.2426186474648045,
          -1.0881770872260315,
          -0.5516764613258204,
          -0.11777518422355525,
          0.541620929047994,
          0.2957312870889277,
          0.4429090976829458,
          0.7507240275163064,
          0.006266873749813978,
          1.0006292376829993,
          1.6362468479250005,
          -0.3947402655677738,
          -0.48899105814741345,
          -0.3409198288169905,
          -1.8392733203270557,
          2.0689286752747007,
          -1.0029774967312513,
          -0.6540448424261963,
          -1.0189861726963385,
          1.07798984585544,
          -0.07417500228963209,
          1.9694312682613933,
          -0.6546260721310159,
          -1.854475447570704,
          0.5933309905159341,
          0.2967998336348711,
          0.09463460669330889,
          0.6294080359178124,
          -0.28956562341842773,
          -0.6560223447079263,
          0.3153653081029692,
          -1.5263252201468034,
          1.1928936794991623,
          0.3887480233893524,
          -0.6057963382281494,
          -0.09917451743088809
         ],
         "yaxis": "y4"
        },
        {
         "line": {
          "color": "rgba(128, 128, 128, 1.0)",
          "dash": "solid",
          "shape": "linear",
          "width": 1.3
         },
         "marker": {
          "size": 2,
          "symbol": "circle"
         },
         "mode": "markers",
         "name": "B",
         "text": "",
         "type": "scatter",
         "x": [
          0.27442011925577803,
          0.4966318940744484,
          0.9235787135880593,
          -1.3078878995183352,
          1.029829990968547,
          0.8768161316518825,
          1.7607058214307147,
          -1.3352873795477167,
          -1.2398425570338618,
          1.5554085396300308,
          0.10574878112682273,
          0.02877669534919826,
          0.14547075907513576,
          1.0931273800644667,
          0.6761310088429014,
          0.2784728536362254,
          -0.1660772458435563,
          -1.3210450424175817,
          0.5718288528568582,
          0.14355910285361492,
          -0.015859406501193326,
          1.213306555373937,
          0.4930056971125333,
          0.9639894896117828,
          -1.6921012175771217,
          -1.4497539051335953,
          0.5452526346624451,
          -0.645093482314308,
          -0.21143817105405713,
          2.025199604317894,
          1.0647915440432545,
          -0.9974086869972061,
          -0.026009175991362356,
          0.8223224835488065,
          -0.6874438195145413,
          -1.1633762926469993,
          -2.1889031235002805,
          -1.6981324604478112,
          -0.8322915772080726,
          0.8457591850393001,
          2.1442085506693567,
          -1.5640271898647706,
          0.7744562894683265,
          -0.38201421593223095,
          -0.6212905805519496,
          1.5069808387621415,
          -0.26160458098711914,
          -0.4081977076676588,
          0.06513595918607111,
          1.5251829050865908,
          -1.364239429827965,
          -0.5723650046038495,
          -0.35491042630058367,
          0.40182125294929,
          -1.0754453343631818,
          -0.7618618960949269,
          -0.9443244125840022,
          0.8377214807586354,
          -0.031809465745655796,
          -1.0932793443090683,
          0.4765706510147636,
          2.05418105903198,
          0.6394359942486391,
          0.6371385671293637,
          0.2426186474648045,
          -1.0881770872260315,
          -0.5516764613258204,
          -0.11777518422355525,
          0.541620929047994,
          0.2957312870889277,
          0.4429090976829458,
          0.7507240275163064,
          0.006266873749813978,
          1.0006292376829993,
          1.6362468479250005,
          -0.3947402655677738,
          -0.48899105814741345,
          -0.3409198288169905,
          -1.8392733203270557,
          2.0689286752747007,
          -1.0029774967312513,
          -0.6540448424261963,
          -1.0189861726963385,
          1.07798984585544,
          -0.07417500228963209,
          1.9694312682613933,
          -0.6546260721310159,
          -1.854475447570704,
          0.5933309905159341,
          0.2967998336348711,
          0.09463460669330889,
          0.6294080359178124,
          -0.28956562341842773,
          -0.6560223447079263,
          0.3153653081029692,
          -1.5263252201468034,
          1.1928936794991623,
          0.3887480233893524,
          -0.6057963382281494,
          -0.09917451743088809
         ],
         "xaxis": "x5",
         "y": [
          -0.5338968153279375,
          -0.737604098516914,
          0.786032577826171,
          -0.18168043763582525,
          0.3948231518046967,
          -1.285656839190833,
          0.4929836120109994,
          0.730148677998628,
          0.6268605758227215,
          -0.5557695793174016,
          -0.40070084283238566,
          -0.04766528323845765,
          1.3308041018589245,
          1.2819449899198534,
          0.8477216185770992,
          -0.8927707828167398,
          0.6494375285903279,
          -1.2050108148432601,
          -0.07473626077998291,
          0.8980669929684267,
          -0.5269968586077552,
          1.6733011574136327,
          -0.15811245055144024,
          -0.7697173802854936,
          -1.0724251934501332,
          2.0162661600162446,
          0.825875520162066,
          1.3431956059693588,
          0.48621638477181517,
          1.9553703128659479,
          -1.2848791904167656,
          1.293267623163678,
          0.22717944081984312,
          0.08644533575156765,
          -0.6200100862166263,
          2.822142109349293,
          0.8261081315305128,
          -1.2264751974926702,
          -0.0886059823022562,
          0.9571956710271053,
          0.08646891800960291,
          -0.34677771441293503,
          0.40851804088487054,
          0.6649783338954706,
          -1.0969296957460855,
          -0.6743437678108863,
          -1.0918800892854403,
          1.3214368372712242,
          -0.489847125076919,
          -0.27283397042230634,
          1.0339465645395904,
          1.678053130552742,
          0.964812094346171,
          0.19271156696874114,
          1.3594228629156795,
          0.7175701611203561,
          0.45770851544861324,
          -0.9127473216263866,
          0.4025668759667475,
          1.240468662104316,
          -0.41875097813805773,
          -1.9458153186721703,
          0.3845377635616228,
          1.1341057816012856,
          1.187647773407586,
          -0.6271936129770707,
          1.529874764186071,
          -0.639045433088632,
          1.245578441840703,
          -1.0598794371239935,
          0.22162474696218795,
          0.714755826671371,
          -0.6464888249376306,
          -0.15991178748956184,
          0.44270651657742105,
          -0.49536621779670165,
          -0.3337392917600911,
          -0.3722023058235199,
          1.7853238046755189,
          0.6672531974451232,
          -0.0629772291874929,
          -0.2679822545976978,
          -0.427960450897043,
          1.2255891597486852,
          1.6349909023914029,
          -1.0990742295726037,
          -0.4031039386900612,
          -1.8840151714757252,
          0.24122678438561407,
          -1.63272285788489,
          -0.45215556888368347,
          0.9996177661914009,
          -0.8972395864459162,
          -0.3852976988003857,
          -1.6048338125867412,
          0.6810799365123126,
          0.6343674901247007,
          0.6846125078879841,
          0.7511672981039151,
          -0.28261636398842405
         ],
         "yaxis": "y5"
        },
        {
         "histfunc": "count",
         "histnorm": "",
         "marker": {
          "color": "rgba(55, 128, 191, 1.0)",
          "line": {
           "color": "#4D5663",
           "width": 1.3
          }
         },
         "name": "B",
         "nbinsx": 10,
         "opacity": 0.8,
         "orientation": "v",
         "type": "histogram",
         "x": [
          -0.5338968153279375,
          -0.737604098516914,
          0.786032577826171,
          -0.18168043763582525,
          0.3948231518046967,
          -1.285656839190833,
          0.4929836120109994,
          0.730148677998628,
          0.6268605758227215,
          -0.5557695793174016,
          -0.40070084283238566,
          -0.04766528323845765,
          1.3308041018589245,
          1.2819449899198534,
          0.8477216185770992,
          -0.8927707828167398,
          0.6494375285903279,
          -1.2050108148432601,
          -0.07473626077998291,
          0.8980669929684267,
          -0.5269968586077552,
          1.6733011574136327,
          -0.15811245055144024,
          -0.7697173802854936,
          -1.0724251934501332,
          2.0162661600162446,
          0.825875520162066,
          1.3431956059693588,
          0.48621638477181517,
          1.9553703128659479,
          -1.2848791904167656,
          1.293267623163678,
          0.22717944081984312,
          0.08644533575156765,
          -0.6200100862166263,
          2.822142109349293,
          0.8261081315305128,
          -1.2264751974926702,
          -0.0886059823022562,
          0.9571956710271053,
          0.08646891800960291,
          -0.34677771441293503,
          0.40851804088487054,
          0.6649783338954706,
          -1.0969296957460855,
          -0.6743437678108863,
          -1.0918800892854403,
          1.3214368372712242,
          -0.489847125076919,
          -0.27283397042230634,
          1.0339465645395904,
          1.678053130552742,
          0.964812094346171,
          0.19271156696874114,
          1.3594228629156795,
          0.7175701611203561,
          0.45770851544861324,
          -0.9127473216263866,
          0.4025668759667475,
          1.240468662104316,
          -0.41875097813805773,
          -1.9458153186721703,
          0.3845377635616228,
          1.1341057816012856,
          1.187647773407586,
          -0.6271936129770707,
          1.529874764186071,
          -0.639045433088632,
          1.245578441840703,
          -1.0598794371239935,
          0.22162474696218795,
          0.714755826671371,
          -0.6464888249376306,
          -0.15991178748956184,
          0.44270651657742105,
          -0.49536621779670165,
          -0.3337392917600911,
          -0.3722023058235199,
          1.7853238046755189,
          0.6672531974451232,
          -0.0629772291874929,
          -0.2679822545976978,
          -0.427960450897043,
          1.2255891597486852,
          1.6349909023914029,
          -1.0990742295726037,
          -0.4031039386900612,
          -1.8840151714757252,
          0.24122678438561407,
          -1.63272285788489,
          -0.45215556888368347,
          0.9996177661914009,
          -0.8972395864459162,
          -0.3852976988003857,
          -1.6048338125867412,
          0.6810799365123126,
          0.6343674901247007,
          0.6846125078879841,
          0.7511672981039151,
          -0.28261636398842405
         ],
         "xaxis": "x6",
         "yaxis": "y6"
        },
        {
         "line": {
          "color": "rgba(128, 128, 128, 1.0)",
          "dash": "solid",
          "shape": "linear",
          "width": 1.3
         },
         "marker": {
          "size": 2,
          "symbol": "circle"
         },
         "mode": "markers",
         "name": "B",
         "text": "",
         "type": "scatter",
         "x": [
          -1.7485201069591834,
          -1.248420460246769,
          -1.0075280699285276,
          -0.9725518392526331,
          -0.6125580000788612,
          1.5760168254053477,
          3.1112798898969665,
          0.12091950003886064,
          -1.7155531562944366,
          -0.8096404549948362,
          -0.5060314294593212,
          0.09533818535459651,
          2.1690743098645586,
          1.2080495707997074,
          -2.6202202715084986,
          0.09767169102789787,
          -1.2819820037327558,
          0.13518469888419476,
          -3.084790549939067,
          -0.0928415934708775,
          1.1239154243379592,
          0.5284989727147826,
          1.780036515541744,
          -0.3670349035589682,
          0.991359504796717,
          1.0980606254994498,
          0.05889203924934366,
          1.3520304892360469,
          -2.2532625362966905,
          2.511047084901181,
          1.4777598495378366,
          0.7107639517827246,
          0.9905571434022301,
          0.4939042051628568,
          -0.30318369202593204,
          -0.20572389186947077,
          1.5111963961491124,
          0.818542866015444,
          1.405947976651865,
          0.07589676612528864,
          -1.6150177283856333,
          0.4829498586775949,
          -1.0020525017535273,
          0.48705033350238613,
          0.7893913940389492,
          1.042603772749581,
          0.7023316180161469,
          0.9989523840144684,
          -0.8679755846735273,
          -0.3498252885375398,
          0.676618385436938,
          0.04081092286680008,
          0.3610496227384134,
          -0.10556015372926142,
          -0.5683480892831416,
          -0.5250362254432627,
          -1.209124371647606,
          1.1859934357640527,
          -0.6432401817537491,
          1.5482412077671712,
          -0.9114281767939825,
          0.27412471147018425,
          1.5136983928699403,
          1.811251440223618,
          -1.1407022465952563,
          -0.11489383916197456,
          -0.18828021095885358,
          1.3309600894134206,
          -1.846507522364263,
          -0.3795601778584485,
          0.724337773539108,
          0.608226848828633,
          2.145322528431656,
          -1.316798218389222,
          -0.0561128168489964,
          0.6962038416091032,
          0.6021415493331566,
          -0.962852009548119,
          -0.8064038979687622,
          -1.8281566150887754,
          -1.3891228837001643,
          -0.8274390005044422,
          -0.6016672382221137,
          -0.8894914442305945,
          0.5220285374608629,
          -0.5593335491776248,
          1.5660959296870434,
          -1.1105594030213204,
          -0.9716912024083473,
          0.8155124851298962,
          0.4608813156671842,
          0.8719395265683174,
          -0.315649587010231,
          0.47345649994695366,
          -0.09303806480081672,
          -0.3039382915405551,
          -0.9049587882620793,
          -0.8812215048138823,
          0.8136540326243287,
          -1.586615858482131
         ],
         "xaxis": "x7",
         "y": [
          -0.5338968153279375,
          -0.737604098516914,
          0.786032577826171,
          -0.18168043763582525,
          0.3948231518046967,
          -1.285656839190833,
          0.4929836120109994,
          0.730148677998628,
          0.6268605758227215,
          -0.5557695793174016,
          -0.40070084283238566,
          -0.04766528323845765,
          1.3308041018589245,
          1.2819449899198534,
          0.8477216185770992,
          -0.8927707828167398,
          0.6494375285903279,
          -1.2050108148432601,
          -0.07473626077998291,
          0.8980669929684267,
          -0.5269968586077552,
          1.6733011574136327,
          -0.15811245055144024,
          -0.7697173802854936,
          -1.0724251934501332,
          2.0162661600162446,
          0.825875520162066,
          1.3431956059693588,
          0.48621638477181517,
          1.9553703128659479,
          -1.2848791904167656,
          1.293267623163678,
          0.22717944081984312,
          0.08644533575156765,
          -0.6200100862166263,
          2.822142109349293,
          0.8261081315305128,
          -1.2264751974926702,
          -0.0886059823022562,
          0.9571956710271053,
          0.08646891800960291,
          -0.34677771441293503,
          0.40851804088487054,
          0.6649783338954706,
          -1.0969296957460855,
          -0.6743437678108863,
          -1.0918800892854403,
          1.3214368372712242,
          -0.489847125076919,
          -0.27283397042230634,
          1.0339465645395904,
          1.678053130552742,
          0.964812094346171,
          0.19271156696874114,
          1.3594228629156795,
          0.7175701611203561,
          0.45770851544861324,
          -0.9127473216263866,
          0.4025668759667475,
          1.240468662104316,
          -0.41875097813805773,
          -1.9458153186721703,
          0.3845377635616228,
          1.1341057816012856,
          1.187647773407586,
          -0.6271936129770707,
          1.529874764186071,
          -0.639045433088632,
          1.245578441840703,
          -1.0598794371239935,
          0.22162474696218795,
          0.714755826671371,
          -0.6464888249376306,
          -0.15991178748956184,
          0.44270651657742105,
          -0.49536621779670165,
          -0.3337392917600911,
          -0.3722023058235199,
          1.7853238046755189,
          0.6672531974451232,
          -0.0629772291874929,
          -0.2679822545976978,
          -0.427960450897043,
          1.2255891597486852,
          1.6349909023914029,
          -1.0990742295726037,
          -0.4031039386900612,
          -1.8840151714757252,
          0.24122678438561407,
          -1.63272285788489,
          -0.45215556888368347,
          0.9996177661914009,
          -0.8972395864459162,
          -0.3852976988003857,
          -1.6048338125867412,
          0.6810799365123126,
          0.6343674901247007,
          0.6846125078879841,
          0.7511672981039151,
          -0.28261636398842405
         ],
         "yaxis": "y7"
        },
        {
         "line": {
          "color": "rgba(128, 128, 128, 1.0)",
          "dash": "solid",
          "shape": "linear",
          "width": 1.3
         },
         "marker": {
          "size": 2,
          "symbol": "circle"
         },
         "mode": "markers",
         "name": "B",
         "text": "",
         "type": "scatter",
         "x": [
          2.400910959817672,
          0.6819598149990173,
          -0.6232220194147332,
          0.7887395442388007,
          -1.301788145951858,
          0.04298717719900988,
          -0.337606399168051,
          -0.3490972931123941,
          -0.5068354424402199,
          -0.3116103659287749,
          1.0846448965688362,
          0.7977311205483589,
          -1.1431753830869036,
          -0.3186293795663426,
          -1.750924615250202,
          -2.9488522016425787,
          1.0169344193039447,
          2.050260613333816,
          -1.5193722818685347,
          -0.5621209693088283,
          -0.5330376530210282,
          -2.8566440070623837,
          0.78605289587328,
          0.6611326911720234,
          0.5281680667288813,
          0.25602262924607333,
          -0.2421640457669898,
          0.6945191944719256,
          0.20354542028254255,
          1.8725122134796268,
          -0.36854262725668063,
          -0.12557761460437292,
          -1.1779969538295298,
          0.8337681119216217,
          -1.5967903515443078,
          -0.04603274957753495,
          0.8577657360409547,
          0.7615458964802142,
          -0.14898456791709666,
          1.5661071602007113,
          -0.026215842003465106,
          -1.082701548546245,
          1.291549300882984,
          0.660437905490934,
          0.7527743950155561,
          0.1931582437842661,
          0.28666233615420045,
          -1.3854754111964733,
          1.1329097329405442,
          -0.1666932286083753,
          1.0478947021859135,
          -1.8983432266477809,
          1.6402811698311521,
          0.7327081792627386,
          -1.1965885360578552,
          -1.1112064603879197,
          -0.27374826444604033,
          -0.3001220396103051,
          -0.5899607786100437,
          0.7028745544320834,
          -0.09837521162133121,
          -1.9735466621727498,
          -0.20186640833230038,
          1.0704831627253344,
          0.9826482537507075,
          -1.5718950401733178,
          -2.147274930201117,
          -0.6141840005922726,
          -2.350297390865512,
          -1.1963069467822,
          -1.2615040276058762,
          -0.07541991306592753,
          -0.5688190765678266,
          0.9355969297751028,
          -2.2030141721337824,
          -0.07365859575543833,
          -0.5432217858757188,
          0.0661776750639695,
          -0.9330942246422116,
          1.048692435536162,
          1.308334734308985,
          -0.28020285246212434,
          -0.7302103967012064,
          -0.23986559247048359,
          -0.20001295011184908,
          -1.536716833187831,
          -0.25617333188326635,
          -1.2055988763345966,
          -2.1354257691690695,
          1.3616065782581308,
          0.397343084340552,
          0.46338631253367857,
          -0.6698575399509631,
          -0.2403364364402599,
          -0.6986079146756682,
          -1.4686138159507987,
          -0.27074685859711606,
          0.5755507541235156,
          -2.2020184068867,
          -0.3417824817094762
         ],
         "xaxis": "x8",
         "y": [
          -0.5338968153279375,
          -0.737604098516914,
          0.786032577826171,
          -0.18168043763582525,
          0.3948231518046967,
          -1.285656839190833,
          0.4929836120109994,
          0.730148677998628,
          0.6268605758227215,
          -0.5557695793174016,
          -0.40070084283238566,
          -0.04766528323845765,
          1.3308041018589245,
          1.2819449899198534,
          0.8477216185770992,
          -0.8927707828167398,
          0.6494375285903279,
          -1.2050108148432601,
          -0.07473626077998291,
          0.8980669929684267,
          -0.5269968586077552,
          1.6733011574136327,
          -0.15811245055144024,
          -0.7697173802854936,
          -1.0724251934501332,
          2.0162661600162446,
          0.825875520162066,
          1.3431956059693588,
          0.48621638477181517,
          1.9553703128659479,
          -1.2848791904167656,
          1.293267623163678,
          0.22717944081984312,
          0.08644533575156765,
          -0.6200100862166263,
          2.822142109349293,
          0.8261081315305128,
          -1.2264751974926702,
          -0.0886059823022562,
          0.9571956710271053,
          0.08646891800960291,
          -0.34677771441293503,
          0.40851804088487054,
          0.6649783338954706,
          -1.0969296957460855,
          -0.6743437678108863,
          -1.0918800892854403,
          1.3214368372712242,
          -0.489847125076919,
          -0.27283397042230634,
          1.0339465645395904,
          1.678053130552742,
          0.964812094346171,
          0.19271156696874114,
          1.3594228629156795,
          0.7175701611203561,
          0.45770851544861324,
          -0.9127473216263866,
          0.4025668759667475,
          1.240468662104316,
          -0.41875097813805773,
          -1.9458153186721703,
          0.3845377635616228,
          1.1341057816012856,
          1.187647773407586,
          -0.6271936129770707,
          1.529874764186071,
          -0.639045433088632,
          1.245578441840703,
          -1.0598794371239935,
          0.22162474696218795,
          0.714755826671371,
          -0.6464888249376306,
          -0.15991178748956184,
          0.44270651657742105,
          -0.49536621779670165,
          -0.3337392917600911,
          -0.3722023058235199,
          1.7853238046755189,
          0.6672531974451232,
          -0.0629772291874929,
          -0.2679822545976978,
          -0.427960450897043,
          1.2255891597486852,
          1.6349909023914029,
          -1.0990742295726037,
          -0.4031039386900612,
          -1.8840151714757252,
          0.24122678438561407,
          -1.63272285788489,
          -0.45215556888368347,
          0.9996177661914009,
          -0.8972395864459162,
          -0.3852976988003857,
          -1.6048338125867412,
          0.6810799365123126,
          0.6343674901247007,
          0.6846125078879841,
          0.7511672981039151,
          -0.28261636398842405
         ],
         "yaxis": "y8"
        },
        {
         "line": {
          "color": "rgba(128, 128, 128, 1.0)",
          "dash": "solid",
          "shape": "linear",
          "width": 1.3
         },
         "marker": {
          "size": 2,
          "symbol": "circle"
         },
         "mode": "markers",
         "name": "C",
         "text": "",
         "type": "scatter",
         "x": [
          0.27442011925577803,
          0.4966318940744484,
          0.9235787135880593,
          -1.3078878995183352,
          1.029829990968547,
          0.8768161316518825,
          1.7607058214307147,
          -1.3352873795477167,
          -1.2398425570338618,
          1.5554085396300308,
          0.10574878112682273,
          0.02877669534919826,
          0.14547075907513576,
          1.0931273800644667,
          0.6761310088429014,
          0.2784728536362254,
          -0.1660772458435563,
          -1.3210450424175817,
          0.5718288528568582,
          0.14355910285361492,
          -0.015859406501193326,
          1.213306555373937,
          0.4930056971125333,
          0.9639894896117828,
          -1.6921012175771217,
          -1.4497539051335953,
          0.5452526346624451,
          -0.645093482314308,
          -0.21143817105405713,
          2.025199604317894,
          1.0647915440432545,
          -0.9974086869972061,
          -0.026009175991362356,
          0.8223224835488065,
          -0.6874438195145413,
          -1.1633762926469993,
          -2.1889031235002805,
          -1.6981324604478112,
          -0.8322915772080726,
          0.8457591850393001,
          2.1442085506693567,
          -1.5640271898647706,
          0.7744562894683265,
          -0.38201421593223095,
          -0.6212905805519496,
          1.5069808387621415,
          -0.26160458098711914,
          -0.4081977076676588,
          0.06513595918607111,
          1.5251829050865908,
          -1.364239429827965,
          -0.5723650046038495,
          -0.35491042630058367,
          0.40182125294929,
          -1.0754453343631818,
          -0.7618618960949269,
          -0.9443244125840022,
          0.8377214807586354,
          -0.031809465745655796,
          -1.0932793443090683,
          0.4765706510147636,
          2.05418105903198,
          0.6394359942486391,
          0.6371385671293637,
          0.2426186474648045,
          -1.0881770872260315,
          -0.5516764613258204,
          -0.11777518422355525,
          0.541620929047994,
          0.2957312870889277,
          0.4429090976829458,
          0.7507240275163064,
          0.006266873749813978,
          1.0006292376829993,
          1.6362468479250005,
          -0.3947402655677738,
          -0.48899105814741345,
          -0.3409198288169905,
          -1.8392733203270557,
          2.0689286752747007,
          -1.0029774967312513,
          -0.6540448424261963,
          -1.0189861726963385,
          1.07798984585544,
          -0.07417500228963209,
          1.9694312682613933,
          -0.6546260721310159,
          -1.854475447570704,
          0.5933309905159341,
          0.2967998336348711,
          0.09463460669330889,
          0.6294080359178124,
          -0.28956562341842773,
          -0.6560223447079263,
          0.3153653081029692,
          -1.5263252201468034,
          1.1928936794991623,
          0.3887480233893524,
          -0.6057963382281494,
          -0.09917451743088809
         ],
         "xaxis": "x9",
         "y": [
          -1.7485201069591834,
          -1.248420460246769,
          -1.0075280699285276,
          -0.9725518392526331,
          -0.6125580000788612,
          1.5760168254053477,
          3.1112798898969665,
          0.12091950003886064,
          -1.7155531562944366,
          -0.8096404549948362,
          -0.5060314294593212,
          0.09533818535459651,
          2.1690743098645586,
          1.2080495707997074,
          -2.6202202715084986,
          0.09767169102789787,
          -1.2819820037327558,
          0.13518469888419476,
          -3.084790549939067,
          -0.0928415934708775,
          1.1239154243379592,
          0.5284989727147826,
          1.780036515541744,
          -0.3670349035589682,
          0.991359504796717,
          1.0980606254994498,
          0.05889203924934366,
          1.3520304892360469,
          -2.2532625362966905,
          2.511047084901181,
          1.4777598495378366,
          0.7107639517827246,
          0.9905571434022301,
          0.4939042051628568,
          -0.30318369202593204,
          -0.20572389186947077,
          1.5111963961491124,
          0.818542866015444,
          1.405947976651865,
          0.07589676612528864,
          -1.6150177283856333,
          0.4829498586775949,
          -1.0020525017535273,
          0.48705033350238613,
          0.7893913940389492,
          1.042603772749581,
          0.7023316180161469,
          0.9989523840144684,
          -0.8679755846735273,
          -0.3498252885375398,
          0.676618385436938,
          0.04081092286680008,
          0.3610496227384134,
          -0.10556015372926142,
          -0.5683480892831416,
          -0.5250362254432627,
          -1.209124371647606,
          1.1859934357640527,
          -0.6432401817537491,
          1.5482412077671712,
          -0.9114281767939825,
          0.27412471147018425,
          1.5136983928699403,
          1.811251440223618,
          -1.1407022465952563,
          -0.11489383916197456,
          -0.18828021095885358,
          1.3309600894134206,
          -1.846507522364263,
          -0.3795601778584485,
          0.724337773539108,
          0.608226848828633,
          2.145322528431656,
          -1.316798218389222,
          -0.0561128168489964,
          0.6962038416091032,
          0.6021415493331566,
          -0.962852009548119,
          -0.8064038979687622,
          -1.8281566150887754,
          -1.3891228837001643,
          -0.8274390005044422,
          -0.6016672382221137,
          -0.8894914442305945,
          0.5220285374608629,
          -0.5593335491776248,
          1.5660959296870434,
          -1.1105594030213204,
          -0.9716912024083473,
          0.8155124851298962,
          0.4608813156671842,
          0.8719395265683174,
          -0.315649587010231,
          0.47345649994695366,
          -0.09303806480081672,
          -0.3039382915405551,
          -0.9049587882620793,
          -0.8812215048138823,
          0.8136540326243287,
          -1.586615858482131
         ],
         "yaxis": "y9"
        },
        {
         "line": {
          "color": "rgba(128, 128, 128, 1.0)",
          "dash": "solid",
          "shape": "linear",
          "width": 1.3
         },
         "marker": {
          "size": 2,
          "symbol": "circle"
         },
         "mode": "markers",
         "name": "C",
         "text": "",
         "type": "scatter",
         "x": [
          -0.5338968153279375,
          -0.737604098516914,
          0.786032577826171,
          -0.18168043763582525,
          0.3948231518046967,
          -1.285656839190833,
          0.4929836120109994,
          0.730148677998628,
          0.6268605758227215,
          -0.5557695793174016,
          -0.40070084283238566,
          -0.04766528323845765,
          1.3308041018589245,
          1.2819449899198534,
          0.8477216185770992,
          -0.8927707828167398,
          0.6494375285903279,
          -1.2050108148432601,
          -0.07473626077998291,
          0.8980669929684267,
          -0.5269968586077552,
          1.6733011574136327,
          -0.15811245055144024,
          -0.7697173802854936,
          -1.0724251934501332,
          2.0162661600162446,
          0.825875520162066,
          1.3431956059693588,
          0.48621638477181517,
          1.9553703128659479,
          -1.2848791904167656,
          1.293267623163678,
          0.22717944081984312,
          0.08644533575156765,
          -0.6200100862166263,
          2.822142109349293,
          0.8261081315305128,
          -1.2264751974926702,
          -0.0886059823022562,
          0.9571956710271053,
          0.08646891800960291,
          -0.34677771441293503,
          0.40851804088487054,
          0.6649783338954706,
          -1.0969296957460855,
          -0.6743437678108863,
          -1.0918800892854403,
          1.3214368372712242,
          -0.489847125076919,
          -0.27283397042230634,
          1.0339465645395904,
          1.678053130552742,
          0.964812094346171,
          0.19271156696874114,
          1.3594228629156795,
          0.7175701611203561,
          0.45770851544861324,
          -0.9127473216263866,
          0.4025668759667475,
          1.240468662104316,
          -0.41875097813805773,
          -1.9458153186721703,
          0.3845377635616228,
          1.1341057816012856,
          1.187647773407586,
          -0.6271936129770707,
          1.529874764186071,
          -0.639045433088632,
          1.245578441840703,
          -1.0598794371239935,
          0.22162474696218795,
          0.714755826671371,
          -0.6464888249376306,
          -0.15991178748956184,
          0.44270651657742105,
          -0.49536621779670165,
          -0.3337392917600911,
          -0.3722023058235199,
          1.7853238046755189,
          0.6672531974451232,
          -0.0629772291874929,
          -0.2679822545976978,
          -0.427960450897043,
          1.2255891597486852,
          1.6349909023914029,
          -1.0990742295726037,
          -0.4031039386900612,
          -1.8840151714757252,
          0.24122678438561407,
          -1.63272285788489,
          -0.45215556888368347,
          0.9996177661914009,
          -0.8972395864459162,
          -0.3852976988003857,
          -1.6048338125867412,
          0.6810799365123126,
          0.6343674901247007,
          0.6846125078879841,
          0.7511672981039151,
          -0.28261636398842405
         ],
         "xaxis": "x10",
         "y": [
          -1.7485201069591834,
          -1.248420460246769,
          -1.0075280699285276,
          -0.9725518392526331,
          -0.6125580000788612,
          1.5760168254053477,
          3.1112798898969665,
          0.12091950003886064,
          -1.7155531562944366,
          -0.8096404549948362,
          -0.5060314294593212,
          0.09533818535459651,
          2.1690743098645586,
          1.2080495707997074,
          -2.6202202715084986,
          0.09767169102789787,
          -1.2819820037327558,
          0.13518469888419476,
          -3.084790549939067,
          -0.0928415934708775,
          1.1239154243379592,
          0.5284989727147826,
          1.780036515541744,
          -0.3670349035589682,
          0.991359504796717,
          1.0980606254994498,
          0.05889203924934366,
          1.3520304892360469,
          -2.2532625362966905,
          2.511047084901181,
          1.4777598495378366,
          0.7107639517827246,
          0.9905571434022301,
          0.4939042051628568,
          -0.30318369202593204,
          -0.20572389186947077,
          1.5111963961491124,
          0.818542866015444,
          1.405947976651865,
          0.07589676612528864,
          -1.6150177283856333,
          0.4829498586775949,
          -1.0020525017535273,
          0.48705033350238613,
          0.7893913940389492,
          1.042603772749581,
          0.7023316180161469,
          0.9989523840144684,
          -0.8679755846735273,
          -0.3498252885375398,
          0.676618385436938,
          0.04081092286680008,
          0.3610496227384134,
          -0.10556015372926142,
          -0.5683480892831416,
          -0.5250362254432627,
          -1.209124371647606,
          1.1859934357640527,
          -0.6432401817537491,
          1.5482412077671712,
          -0.9114281767939825,
          0.27412471147018425,
          1.5136983928699403,
          1.811251440223618,
          -1.1407022465952563,
          -0.11489383916197456,
          -0.18828021095885358,
          1.3309600894134206,
          -1.846507522364263,
          -0.3795601778584485,
          0.724337773539108,
          0.608226848828633,
          2.145322528431656,
          -1.316798218389222,
          -0.0561128168489964,
          0.6962038416091032,
          0.6021415493331566,
          -0.962852009548119,
          -0.8064038979687622,
          -1.8281566150887754,
          -1.3891228837001643,
          -0.8274390005044422,
          -0.6016672382221137,
          -0.8894914442305945,
          0.5220285374608629,
          -0.5593335491776248,
          1.5660959296870434,
          -1.1105594030213204,
          -0.9716912024083473,
          0.8155124851298962,
          0.4608813156671842,
          0.8719395265683174,
          -0.315649587010231,
          0.47345649994695366,
          -0.09303806480081672,
          -0.3039382915405551,
          -0.9049587882620793,
          -0.8812215048138823,
          0.8136540326243287,
          -1.586615858482131
         ],
         "yaxis": "y10"
        },
        {
         "histfunc": "count",
         "histnorm": "",
         "marker": {
          "color": "rgba(50, 171, 96, 1.0)",
          "line": {
           "color": "#4D5663",
           "width": 1.3
          }
         },
         "name": "C",
         "nbinsx": 10,
         "opacity": 0.8,
         "orientation": "v",
         "type": "histogram",
         "x": [
          -1.7485201069591834,
          -1.248420460246769,
          -1.0075280699285276,
          -0.9725518392526331,
          -0.6125580000788612,
          1.5760168254053477,
          3.1112798898969665,
          0.12091950003886064,
          -1.7155531562944366,
          -0.8096404549948362,
          -0.5060314294593212,
          0.09533818535459651,
          2.1690743098645586,
          1.2080495707997074,
          -2.6202202715084986,
          0.09767169102789787,
          -1.2819820037327558,
          0.13518469888419476,
          -3.084790549939067,
          -0.0928415934708775,
          1.1239154243379592,
          0.5284989727147826,
          1.780036515541744,
          -0.3670349035589682,
          0.991359504796717,
          1.0980606254994498,
          0.05889203924934366,
          1.3520304892360469,
          -2.2532625362966905,
          2.511047084901181,
          1.4777598495378366,
          0.7107639517827246,
          0.9905571434022301,
          0.4939042051628568,
          -0.30318369202593204,
          -0.20572389186947077,
          1.5111963961491124,
          0.818542866015444,
          1.405947976651865,
          0.07589676612528864,
          -1.6150177283856333,
          0.4829498586775949,
          -1.0020525017535273,
          0.48705033350238613,
          0.7893913940389492,
          1.042603772749581,
          0.7023316180161469,
          0.9989523840144684,
          -0.8679755846735273,
          -0.3498252885375398,
          0.676618385436938,
          0.04081092286680008,
          0.3610496227384134,
          -0.10556015372926142,
          -0.5683480892831416,
          -0.5250362254432627,
          -1.209124371647606,
          1.1859934357640527,
          -0.6432401817537491,
          1.5482412077671712,
          -0.9114281767939825,
          0.27412471147018425,
          1.5136983928699403,
          1.811251440223618,
          -1.1407022465952563,
          -0.11489383916197456,
          -0.18828021095885358,
          1.3309600894134206,
          -1.846507522364263,
          -0.3795601778584485,
          0.724337773539108,
          0.608226848828633,
          2.145322528431656,
          -1.316798218389222,
          -0.0561128168489964,
          0.6962038416091032,
          0.6021415493331566,
          -0.962852009548119,
          -0.8064038979687622,
          -1.8281566150887754,
          -1.3891228837001643,
          -0.8274390005044422,
          -0.6016672382221137,
          -0.8894914442305945,
          0.5220285374608629,
          -0.5593335491776248,
          1.5660959296870434,
          -1.1105594030213204,
          -0.9716912024083473,
          0.8155124851298962,
          0.4608813156671842,
          0.8719395265683174,
          -0.315649587010231,
          0.47345649994695366,
          -0.09303806480081672,
          -0.3039382915405551,
          -0.9049587882620793,
          -0.8812215048138823,
          0.8136540326243287,
          -1.586615858482131
         ],
         "xaxis": "x11",
         "yaxis": "y11"
        },
        {
         "line": {
          "color": "rgba(128, 128, 128, 1.0)",
          "dash": "solid",
          "shape": "linear",
          "width": 1.3
         },
         "marker": {
          "size": 2,
          "symbol": "circle"
         },
         "mode": "markers",
         "name": "C",
         "text": "",
         "type": "scatter",
         "x": [
          2.400910959817672,
          0.6819598149990173,
          -0.6232220194147332,
          0.7887395442388007,
          -1.301788145951858,
          0.04298717719900988,
          -0.337606399168051,
          -0.3490972931123941,
          -0.5068354424402199,
          -0.3116103659287749,
          1.0846448965688362,
          0.7977311205483589,
          -1.1431753830869036,
          -0.3186293795663426,
          -1.750924615250202,
          -2.9488522016425787,
          1.0169344193039447,
          2.050260613333816,
          -1.5193722818685347,
          -0.5621209693088283,
          -0.5330376530210282,
          -2.8566440070623837,
          0.78605289587328,
          0.6611326911720234,
          0.5281680667288813,
          0.25602262924607333,
          -0.2421640457669898,
          0.6945191944719256,
          0.20354542028254255,
          1.8725122134796268,
          -0.36854262725668063,
          -0.12557761460437292,
          -1.1779969538295298,
          0.8337681119216217,
          -1.5967903515443078,
          -0.04603274957753495,
          0.8577657360409547,
          0.7615458964802142,
          -0.14898456791709666,
          1.5661071602007113,
          -0.026215842003465106,
          -1.082701548546245,
          1.291549300882984,
          0.660437905490934,
          0.7527743950155561,
          0.1931582437842661,
          0.28666233615420045,
          -1.3854754111964733,
          1.1329097329405442,
          -0.1666932286083753,
          1.0478947021859135,
          -1.8983432266477809,
          1.6402811698311521,
          0.7327081792627386,
          -1.1965885360578552,
          -1.1112064603879197,
          -0.27374826444604033,
          -0.3001220396103051,
          -0.5899607786100437,
          0.7028745544320834,
          -0.09837521162133121,
          -1.9735466621727498,
          -0.20186640833230038,
          1.0704831627253344,
          0.9826482537507075,
          -1.5718950401733178,
          -2.147274930201117,
          -0.6141840005922726,
          -2.350297390865512,
          -1.1963069467822,
          -1.2615040276058762,
          -0.07541991306592753,
          -0.5688190765678266,
          0.9355969297751028,
          -2.2030141721337824,
          -0.07365859575543833,
          -0.5432217858757188,
          0.0661776750639695,
          -0.9330942246422116,
          1.048692435536162,
          1.308334734308985,
          -0.28020285246212434,
          -0.7302103967012064,
          -0.23986559247048359,
          -0.20001295011184908,
          -1.536716833187831,
          -0.25617333188326635,
          -1.2055988763345966,
          -2.1354257691690695,
          1.3616065782581308,
          0.397343084340552,
          0.46338631253367857,
          -0.6698575399509631,
          -0.2403364364402599,
          -0.6986079146756682,
          -1.4686138159507987,
          -0.27074685859711606,
          0.5755507541235156,
          -2.2020184068867,
          -0.3417824817094762
         ],
         "xaxis": "x12",
         "y": [
          -1.7485201069591834,
          -1.248420460246769,
          -1.0075280699285276,
          -0.9725518392526331,
          -0.6125580000788612,
          1.5760168254053477,
          3.1112798898969665,
          0.12091950003886064,
          -1.7155531562944366,
          -0.8096404549948362,
          -0.5060314294593212,
          0.09533818535459651,
          2.1690743098645586,
          1.2080495707997074,
          -2.6202202715084986,
          0.09767169102789787,
          -1.2819820037327558,
          0.13518469888419476,
          -3.084790549939067,
          -0.0928415934708775,
          1.1239154243379592,
          0.5284989727147826,
          1.780036515541744,
          -0.3670349035589682,
          0.991359504796717,
          1.0980606254994498,
          0.05889203924934366,
          1.3520304892360469,
          -2.2532625362966905,
          2.511047084901181,
          1.4777598495378366,
          0.7107639517827246,
          0.9905571434022301,
          0.4939042051628568,
          -0.30318369202593204,
          -0.20572389186947077,
          1.5111963961491124,
          0.818542866015444,
          1.405947976651865,
          0.07589676612528864,
          -1.6150177283856333,
          0.4829498586775949,
          -1.0020525017535273,
          0.48705033350238613,
          0.7893913940389492,
          1.042603772749581,
          0.7023316180161469,
          0.9989523840144684,
          -0.8679755846735273,
          -0.3498252885375398,
          0.676618385436938,
          0.04081092286680008,
          0.3610496227384134,
          -0.10556015372926142,
          -0.5683480892831416,
          -0.5250362254432627,
          -1.209124371647606,
          1.1859934357640527,
          -0.6432401817537491,
          1.5482412077671712,
          -0.9114281767939825,
          0.27412471147018425,
          1.5136983928699403,
          1.811251440223618,
          -1.1407022465952563,
          -0.11489383916197456,
          -0.18828021095885358,
          1.3309600894134206,
          -1.846507522364263,
          -0.3795601778584485,
          0.724337773539108,
          0.608226848828633,
          2.145322528431656,
          -1.316798218389222,
          -0.0561128168489964,
          0.6962038416091032,
          0.6021415493331566,
          -0.962852009548119,
          -0.8064038979687622,
          -1.8281566150887754,
          -1.3891228837001643,
          -0.8274390005044422,
          -0.6016672382221137,
          -0.8894914442305945,
          0.5220285374608629,
          -0.5593335491776248,
          1.5660959296870434,
          -1.1105594030213204,
          -0.9716912024083473,
          0.8155124851298962,
          0.4608813156671842,
          0.8719395265683174,
          -0.315649587010231,
          0.47345649994695366,
          -0.09303806480081672,
          -0.3039382915405551,
          -0.9049587882620793,
          -0.8812215048138823,
          0.8136540326243287,
          -1.586615858482131
         ],
         "yaxis": "y12"
        },
        {
         "line": {
          "color": "rgba(128, 128, 128, 1.0)",
          "dash": "solid",
          "shape": "linear",
          "width": 1.3
         },
         "marker": {
          "size": 2,
          "symbol": "circle"
         },
         "mode": "markers",
         "name": "D",
         "text": "",
         "type": "scatter",
         "x": [
          0.27442011925577803,
          0.4966318940744484,
          0.9235787135880593,
          -1.3078878995183352,
          1.029829990968547,
          0.8768161316518825,
          1.7607058214307147,
          -1.3352873795477167,
          -1.2398425570338618,
          1.5554085396300308,
          0.10574878112682273,
          0.02877669534919826,
          0.14547075907513576,
          1.0931273800644667,
          0.6761310088429014,
          0.2784728536362254,
          -0.1660772458435563,
          -1.3210450424175817,
          0.5718288528568582,
          0.14355910285361492,
          -0.015859406501193326,
          1.213306555373937,
          0.4930056971125333,
          0.9639894896117828,
          -1.6921012175771217,
          -1.4497539051335953,
          0.5452526346624451,
          -0.645093482314308,
          -0.21143817105405713,
          2.025199604317894,
          1.0647915440432545,
          -0.9974086869972061,
          -0.026009175991362356,
          0.8223224835488065,
          -0.6874438195145413,
          -1.1633762926469993,
          -2.1889031235002805,
          -1.6981324604478112,
          -0.8322915772080726,
          0.8457591850393001,
          2.1442085506693567,
          -1.5640271898647706,
          0.7744562894683265,
          -0.38201421593223095,
          -0.6212905805519496,
          1.5069808387621415,
          -0.26160458098711914,
          -0.4081977076676588,
          0.06513595918607111,
          1.5251829050865908,
          -1.364239429827965,
          -0.5723650046038495,
          -0.35491042630058367,
          0.40182125294929,
          -1.0754453343631818,
          -0.7618618960949269,
          -0.9443244125840022,
          0.8377214807586354,
          -0.031809465745655796,
          -1.0932793443090683,
          0.4765706510147636,
          2.05418105903198,
          0.6394359942486391,
          0.6371385671293637,
          0.2426186474648045,
          -1.0881770872260315,
          -0.5516764613258204,
          -0.11777518422355525,
          0.541620929047994,
          0.2957312870889277,
          0.4429090976829458,
          0.7507240275163064,
          0.006266873749813978,
          1.0006292376829993,
          1.6362468479250005,
          -0.3947402655677738,
          -0.48899105814741345,
          -0.3409198288169905,
          -1.8392733203270557,
          2.0689286752747007,
          -1.0029774967312513,
          -0.6540448424261963,
          -1.0189861726963385,
          1.07798984585544,
          -0.07417500228963209,
          1.9694312682613933,
          -0.6546260721310159,
          -1.854475447570704,
          0.5933309905159341,
          0.2967998336348711,
          0.09463460669330889,
          0.6294080359178124,
          -0.28956562341842773,
          -0.6560223447079263,
          0.3153653081029692,
          -1.5263252201468034,
          1.1928936794991623,
          0.3887480233893524,
          -0.6057963382281494,
          -0.09917451743088809
         ],
         "xaxis": "x13",
         "y": [
          2.400910959817672,
          0.6819598149990173,
          -0.6232220194147332,
          0.7887395442388007,
          -1.301788145951858,
          0.04298717719900988,
          -0.337606399168051,
          -0.3490972931123941,
          -0.5068354424402199,
          -0.3116103659287749,
          1.0846448965688362,
          0.7977311205483589,
          -1.1431753830869036,
          -0.3186293795663426,
          -1.750924615250202,
          -2.9488522016425787,
          1.0169344193039447,
          2.050260613333816,
          -1.5193722818685347,
          -0.5621209693088283,
          -0.5330376530210282,
          -2.8566440070623837,
          0.78605289587328,
          0.6611326911720234,
          0.5281680667288813,
          0.25602262924607333,
          -0.2421640457669898,
          0.6945191944719256,
          0.20354542028254255,
          1.8725122134796268,
          -0.36854262725668063,
          -0.12557761460437292,
          -1.1779969538295298,
          0.8337681119216217,
          -1.5967903515443078,
          -0.04603274957753495,
          0.8577657360409547,
          0.7615458964802142,
          -0.14898456791709666,
          1.5661071602007113,
          -0.026215842003465106,
          -1.082701548546245,
          1.291549300882984,
          0.660437905490934,
          0.7527743950155561,
          0.1931582437842661,
          0.28666233615420045,
          -1.3854754111964733,
          1.1329097329405442,
          -0.1666932286083753,
          1.0478947021859135,
          -1.8983432266477809,
          1.6402811698311521,
          0.7327081792627386,
          -1.1965885360578552,
          -1.1112064603879197,
          -0.27374826444604033,
          -0.3001220396103051,
          -0.5899607786100437,
          0.7028745544320834,
          -0.09837521162133121,
          -1.9735466621727498,
          -0.20186640833230038,
          1.0704831627253344,
          0.9826482537507075,
          -1.5718950401733178,
          -2.147274930201117,
          -0.6141840005922726,
          -2.350297390865512,
          -1.1963069467822,
          -1.2615040276058762,
          -0.07541991306592753,
          -0.5688190765678266,
          0.9355969297751028,
          -2.2030141721337824,
          -0.07365859575543833,
          -0.5432217858757188,
          0.0661776750639695,
          -0.9330942246422116,
          1.048692435536162,
          1.308334734308985,
          -0.28020285246212434,
          -0.7302103967012064,
          -0.23986559247048359,
          -0.20001295011184908,
          -1.536716833187831,
          -0.25617333188326635,
          -1.2055988763345966,
          -2.1354257691690695,
          1.3616065782581308,
          0.397343084340552,
          0.46338631253367857,
          -0.6698575399509631,
          -0.2403364364402599,
          -0.6986079146756682,
          -1.4686138159507987,
          -0.27074685859711606,
          0.5755507541235156,
          -2.2020184068867,
          -0.3417824817094762
         ],
         "yaxis": "y13"
        },
        {
         "line": {
          "color": "rgba(128, 128, 128, 1.0)",
          "dash": "solid",
          "shape": "linear",
          "width": 1.3
         },
         "marker": {
          "size": 2,
          "symbol": "circle"
         },
         "mode": "markers",
         "name": "D",
         "text": "",
         "type": "scatter",
         "x": [
          -0.5338968153279375,
          -0.737604098516914,
          0.786032577826171,
          -0.18168043763582525,
          0.3948231518046967,
          -1.285656839190833,
          0.4929836120109994,
          0.730148677998628,
          0.6268605758227215,
          -0.5557695793174016,
          -0.40070084283238566,
          -0.04766528323845765,
          1.3308041018589245,
          1.2819449899198534,
          0.8477216185770992,
          -0.8927707828167398,
          0.6494375285903279,
          -1.2050108148432601,
          -0.07473626077998291,
          0.8980669929684267,
          -0.5269968586077552,
          1.6733011574136327,
          -0.15811245055144024,
          -0.7697173802854936,
          -1.0724251934501332,
          2.0162661600162446,
          0.825875520162066,
          1.3431956059693588,
          0.48621638477181517,
          1.9553703128659479,
          -1.2848791904167656,
          1.293267623163678,
          0.22717944081984312,
          0.08644533575156765,
          -0.6200100862166263,
          2.822142109349293,
          0.8261081315305128,
          -1.2264751974926702,
          -0.0886059823022562,
          0.9571956710271053,
          0.08646891800960291,
          -0.34677771441293503,
          0.40851804088487054,
          0.6649783338954706,
          -1.0969296957460855,
          -0.6743437678108863,
          -1.0918800892854403,
          1.3214368372712242,
          -0.489847125076919,
          -0.27283397042230634,
          1.0339465645395904,
          1.678053130552742,
          0.964812094346171,
          0.19271156696874114,
          1.3594228629156795,
          0.7175701611203561,
          0.45770851544861324,
          -0.9127473216263866,
          0.4025668759667475,
          1.240468662104316,
          -0.41875097813805773,
          -1.9458153186721703,
          0.3845377635616228,
          1.1341057816012856,
          1.187647773407586,
          -0.6271936129770707,
          1.529874764186071,
          -0.639045433088632,
          1.245578441840703,
          -1.0598794371239935,
          0.22162474696218795,
          0.714755826671371,
          -0.6464888249376306,
          -0.15991178748956184,
          0.44270651657742105,
          -0.49536621779670165,
          -0.3337392917600911,
          -0.3722023058235199,
          1.7853238046755189,
          0.6672531974451232,
          -0.0629772291874929,
          -0.2679822545976978,
          -0.427960450897043,
          1.2255891597486852,
          1.6349909023914029,
          -1.0990742295726037,
          -0.4031039386900612,
          -1.8840151714757252,
          0.24122678438561407,
          -1.63272285788489,
          -0.45215556888368347,
          0.9996177661914009,
          -0.8972395864459162,
          -0.3852976988003857,
          -1.6048338125867412,
          0.6810799365123126,
          0.6343674901247007,
          0.6846125078879841,
          0.7511672981039151,
          -0.28261636398842405
         ],
         "xaxis": "x14",
         "y": [
          2.400910959817672,
          0.6819598149990173,
          -0.6232220194147332,
          0.7887395442388007,
          -1.301788145951858,
          0.04298717719900988,
          -0.337606399168051,
          -0.3490972931123941,
          -0.5068354424402199,
          -0.3116103659287749,
          1.0846448965688362,
          0.7977311205483589,
          -1.1431753830869036,
          -0.3186293795663426,
          -1.750924615250202,
          -2.9488522016425787,
          1.0169344193039447,
          2.050260613333816,
          -1.5193722818685347,
          -0.5621209693088283,
          -0.5330376530210282,
          -2.8566440070623837,
          0.78605289587328,
          0.6611326911720234,
          0.5281680667288813,
          0.25602262924607333,
          -0.2421640457669898,
          0.6945191944719256,
          0.20354542028254255,
          1.8725122134796268,
          -0.36854262725668063,
          -0.12557761460437292,
          -1.1779969538295298,
          0.8337681119216217,
          -1.5967903515443078,
          -0.04603274957753495,
          0.8577657360409547,
          0.7615458964802142,
          -0.14898456791709666,
          1.5661071602007113,
          -0.026215842003465106,
          -1.082701548546245,
          1.291549300882984,
          0.660437905490934,
          0.7527743950155561,
          0.1931582437842661,
          0.28666233615420045,
          -1.3854754111964733,
          1.1329097329405442,
          -0.1666932286083753,
          1.0478947021859135,
          -1.8983432266477809,
          1.6402811698311521,
          0.7327081792627386,
          -1.1965885360578552,
          -1.1112064603879197,
          -0.27374826444604033,
          -0.3001220396103051,
          -0.5899607786100437,
          0.7028745544320834,
          -0.09837521162133121,
          -1.9735466621727498,
          -0.20186640833230038,
          1.0704831627253344,
          0.9826482537507075,
          -1.5718950401733178,
          -2.147274930201117,
          -0.6141840005922726,
          -2.350297390865512,
          -1.1963069467822,
          -1.2615040276058762,
          -0.07541991306592753,
          -0.5688190765678266,
          0.9355969297751028,
          -2.2030141721337824,
          -0.07365859575543833,
          -0.5432217858757188,
          0.0661776750639695,
          -0.9330942246422116,
          1.048692435536162,
          1.308334734308985,
          -0.28020285246212434,
          -0.7302103967012064,
          -0.23986559247048359,
          -0.20001295011184908,
          -1.536716833187831,
          -0.25617333188326635,
          -1.2055988763345966,
          -2.1354257691690695,
          1.3616065782581308,
          0.397343084340552,
          0.46338631253367857,
          -0.6698575399509631,
          -0.2403364364402599,
          -0.6986079146756682,
          -1.4686138159507987,
          -0.27074685859711606,
          0.5755507541235156,
          -2.2020184068867,
          -0.3417824817094762
         ],
         "yaxis": "y14"
        },
        {
         "line": {
          "color": "rgba(128, 128, 128, 1.0)",
          "dash": "solid",
          "shape": "linear",
          "width": 1.3
         },
         "marker": {
          "size": 2,
          "symbol": "circle"
         },
         "mode": "markers",
         "name": "D",
         "text": "",
         "type": "scatter",
         "x": [
          -1.7485201069591834,
          -1.248420460246769,
          -1.0075280699285276,
          -0.9725518392526331,
          -0.6125580000788612,
          1.5760168254053477,
          3.1112798898969665,
          0.12091950003886064,
          -1.7155531562944366,
          -0.8096404549948362,
          -0.5060314294593212,
          0.09533818535459651,
          2.1690743098645586,
          1.2080495707997074,
          -2.6202202715084986,
          0.09767169102789787,
          -1.2819820037327558,
          0.13518469888419476,
          -3.084790549939067,
          -0.0928415934708775,
          1.1239154243379592,
          0.5284989727147826,
          1.780036515541744,
          -0.3670349035589682,
          0.991359504796717,
          1.0980606254994498,
          0.05889203924934366,
          1.3520304892360469,
          -2.2532625362966905,
          2.511047084901181,
          1.4777598495378366,
          0.7107639517827246,
          0.9905571434022301,
          0.4939042051628568,
          -0.30318369202593204,
          -0.20572389186947077,
          1.5111963961491124,
          0.818542866015444,
          1.405947976651865,
          0.07589676612528864,
          -1.6150177283856333,
          0.4829498586775949,
          -1.0020525017535273,
          0.48705033350238613,
          0.7893913940389492,
          1.042603772749581,
          0.7023316180161469,
          0.9989523840144684,
          -0.8679755846735273,
          -0.3498252885375398,
          0.676618385436938,
          0.04081092286680008,
          0.3610496227384134,
          -0.10556015372926142,
          -0.5683480892831416,
          -0.5250362254432627,
          -1.209124371647606,
          1.1859934357640527,
          -0.6432401817537491,
          1.5482412077671712,
          -0.9114281767939825,
          0.27412471147018425,
          1.5136983928699403,
          1.811251440223618,
          -1.1407022465952563,
          -0.11489383916197456,
          -0.18828021095885358,
          1.3309600894134206,
          -1.846507522364263,
          -0.3795601778584485,
          0.724337773539108,
          0.608226848828633,
          2.145322528431656,
          -1.316798218389222,
          -0.0561128168489964,
          0.6962038416091032,
          0.6021415493331566,
          -0.962852009548119,
          -0.8064038979687622,
          -1.8281566150887754,
          -1.3891228837001643,
          -0.8274390005044422,
          -0.6016672382221137,
          -0.8894914442305945,
          0.5220285374608629,
          -0.5593335491776248,
          1.5660959296870434,
          -1.1105594030213204,
          -0.9716912024083473,
          0.8155124851298962,
          0.4608813156671842,
          0.8719395265683174,
          -0.315649587010231,
          0.47345649994695366,
          -0.09303806480081672,
          -0.3039382915405551,
          -0.9049587882620793,
          -0.8812215048138823,
          0.8136540326243287,
          -1.586615858482131
         ],
         "xaxis": "x15",
         "y": [
          2.400910959817672,
          0.6819598149990173,
          -0.6232220194147332,
          0.7887395442388007,
          -1.301788145951858,
          0.04298717719900988,
          -0.337606399168051,
          -0.3490972931123941,
          -0.5068354424402199,
          -0.3116103659287749,
          1.0846448965688362,
          0.7977311205483589,
          -1.1431753830869036,
          -0.3186293795663426,
          -1.750924615250202,
          -2.9488522016425787,
          1.0169344193039447,
          2.050260613333816,
          -1.5193722818685347,
          -0.5621209693088283,
          -0.5330376530210282,
          -2.8566440070623837,
          0.78605289587328,
          0.6611326911720234,
          0.5281680667288813,
          0.25602262924607333,
          -0.2421640457669898,
          0.6945191944719256,
          0.20354542028254255,
          1.8725122134796268,
          -0.36854262725668063,
          -0.12557761460437292,
          -1.1779969538295298,
          0.8337681119216217,
          -1.5967903515443078,
          -0.04603274957753495,
          0.8577657360409547,
          0.7615458964802142,
          -0.14898456791709666,
          1.5661071602007113,
          -0.026215842003465106,
          -1.082701548546245,
          1.291549300882984,
          0.660437905490934,
          0.7527743950155561,
          0.1931582437842661,
          0.28666233615420045,
          -1.3854754111964733,
          1.1329097329405442,
          -0.1666932286083753,
          1.0478947021859135,
          -1.8983432266477809,
          1.6402811698311521,
          0.7327081792627386,
          -1.1965885360578552,
          -1.1112064603879197,
          -0.27374826444604033,
          -0.3001220396103051,
          -0.5899607786100437,
          0.7028745544320834,
          -0.09837521162133121,
          -1.9735466621727498,
          -0.20186640833230038,
          1.0704831627253344,
          0.9826482537507075,
          -1.5718950401733178,
          -2.147274930201117,
          -0.6141840005922726,
          -2.350297390865512,
          -1.1963069467822,
          -1.2615040276058762,
          -0.07541991306592753,
          -0.5688190765678266,
          0.9355969297751028,
          -2.2030141721337824,
          -0.07365859575543833,
          -0.5432217858757188,
          0.0661776750639695,
          -0.9330942246422116,
          1.048692435536162,
          1.308334734308985,
          -0.28020285246212434,
          -0.7302103967012064,
          -0.23986559247048359,
          -0.20001295011184908,
          -1.536716833187831,
          -0.25617333188326635,
          -1.2055988763345966,
          -2.1354257691690695,
          1.3616065782581308,
          0.397343084340552,
          0.46338631253367857,
          -0.6698575399509631,
          -0.2403364364402599,
          -0.6986079146756682,
          -1.4686138159507987,
          -0.27074685859711606,
          0.5755507541235156,
          -2.2020184068867,
          -0.3417824817094762
         ],
         "yaxis": "y15"
        },
        {
         "histfunc": "count",
         "histnorm": "",
         "marker": {
          "color": "rgba(128, 0, 128, 1.0)",
          "line": {
           "color": "#4D5663",
           "width": 1.3
          }
         },
         "name": "D",
         "nbinsx": 10,
         "opacity": 0.8,
         "orientation": "v",
         "type": "histogram",
         "x": [
          2.400910959817672,
          0.6819598149990173,
          -0.6232220194147332,
          0.7887395442388007,
          -1.301788145951858,
          0.04298717719900988,
          -0.337606399168051,
          -0.3490972931123941,
          -0.5068354424402199,
          -0.3116103659287749,
          1.0846448965688362,
          0.7977311205483589,
          -1.1431753830869036,
          -0.3186293795663426,
          -1.750924615250202,
          -2.9488522016425787,
          1.0169344193039447,
          2.050260613333816,
          -1.5193722818685347,
          -0.5621209693088283,
          -0.5330376530210282,
          -2.8566440070623837,
          0.78605289587328,
          0.6611326911720234,
          0.5281680667288813,
          0.25602262924607333,
          -0.2421640457669898,
          0.6945191944719256,
          0.20354542028254255,
          1.8725122134796268,
          -0.36854262725668063,
          -0.12557761460437292,
          -1.1779969538295298,
          0.8337681119216217,
          -1.5967903515443078,
          -0.04603274957753495,
          0.8577657360409547,
          0.7615458964802142,
          -0.14898456791709666,
          1.5661071602007113,
          -0.026215842003465106,
          -1.082701548546245,
          1.291549300882984,
          0.660437905490934,
          0.7527743950155561,
          0.1931582437842661,
          0.28666233615420045,
          -1.3854754111964733,
          1.1329097329405442,
          -0.1666932286083753,
          1.0478947021859135,
          -1.8983432266477809,
          1.6402811698311521,
          0.7327081792627386,
          -1.1965885360578552,
          -1.1112064603879197,
          -0.27374826444604033,
          -0.3001220396103051,
          -0.5899607786100437,
          0.7028745544320834,
          -0.09837521162133121,
          -1.9735466621727498,
          -0.20186640833230038,
          1.0704831627253344,
          0.9826482537507075,
          -1.5718950401733178,
          -2.147274930201117,
          -0.6141840005922726,
          -2.350297390865512,
          -1.1963069467822,
          -1.2615040276058762,
          -0.07541991306592753,
          -0.5688190765678266,
          0.9355969297751028,
          -2.2030141721337824,
          -0.07365859575543833,
          -0.5432217858757188,
          0.0661776750639695,
          -0.9330942246422116,
          1.048692435536162,
          1.308334734308985,
          -0.28020285246212434,
          -0.7302103967012064,
          -0.23986559247048359,
          -0.20001295011184908,
          -1.536716833187831,
          -0.25617333188326635,
          -1.2055988763345966,
          -2.1354257691690695,
          1.3616065782581308,
          0.397343084340552,
          0.46338631253367857,
          -0.6698575399509631,
          -0.2403364364402599,
          -0.6986079146756682,
          -1.4686138159507987,
          -0.27074685859711606,
          0.5755507541235156,
          -2.2020184068867,
          -0.3417824817094762
         ],
         "xaxis": "x16",
         "yaxis": "y16"
        }
       ],
       "layout": {
        "bargap": 0.02,
        "legend": {
         "bgcolor": "#F5F6F9",
         "font": {
          "color": "#4D5663"
         }
        },
        "paper_bgcolor": "#F5F6F9",
        "plot_bgcolor": "#F5F6F9",
        "showlegend": false,
        "template": {
         "data": {
          "bar": [
           {
            "error_x": {
             "color": "#2a3f5f"
            },
            "error_y": {
             "color": "#2a3f5f"
            },
            "marker": {
             "line": {
              "color": "#E5ECF6",
              "width": 0.5
             }
            },
            "type": "bar"
           }
          ],
          "barpolar": [
           {
            "marker": {
             "line": {
              "color": "#E5ECF6",
              "width": 0.5
             }
            },
            "type": "barpolar"
           }
          ],
          "carpet": [
           {
            "aaxis": {
             "endlinecolor": "#2a3f5f",
             "gridcolor": "white",
             "linecolor": "white",
             "minorgridcolor": "white",
             "startlinecolor": "#2a3f5f"
            },
            "baxis": {
             "endlinecolor": "#2a3f5f",
             "gridcolor": "white",
             "linecolor": "white",
             "minorgridcolor": "white",
             "startlinecolor": "#2a3f5f"
            },
            "type": "carpet"
           }
          ],
          "choropleth": [
           {
            "colorbar": {
             "outlinewidth": 0,
             "ticks": ""
            },
            "type": "choropleth"
           }
          ],
          "contour": [
           {
            "colorbar": {
             "outlinewidth": 0,
             "ticks": ""
            },
            "colorscale": [
             [
              0,
              "#0d0887"
             ],
             [
              0.1111111111111111,
              "#46039f"
             ],
             [
              0.2222222222222222,
              "#7201a8"
             ],
             [
              0.3333333333333333,
              "#9c179e"
             ],
             [
              0.4444444444444444,
              "#bd3786"
             ],
             [
              0.5555555555555556,
              "#d8576b"
             ],
             [
              0.6666666666666666,
              "#ed7953"
             ],
             [
              0.7777777777777778,
              "#fb9f3a"
             ],
             [
              0.8888888888888888,
              "#fdca26"
             ],
             [
              1,
              "#f0f921"
             ]
            ],
            "type": "contour"
           }
          ],
          "contourcarpet": [
           {
            "colorbar": {
             "outlinewidth": 0,
             "ticks": ""
            },
            "type": "contourcarpet"
           }
          ],
          "heatmap": [
           {
            "colorbar": {
             "outlinewidth": 0,
             "ticks": ""
            },
            "colorscale": [
             [
              0,
              "#0d0887"
             ],
             [
              0.1111111111111111,
              "#46039f"
             ],
             [
              0.2222222222222222,
              "#7201a8"
             ],
             [
              0.3333333333333333,
              "#9c179e"
             ],
             [
              0.4444444444444444,
              "#bd3786"
             ],
             [
              0.5555555555555556,
              "#d8576b"
             ],
             [
              0.6666666666666666,
              "#ed7953"
             ],
             [
              0.7777777777777778,
              "#fb9f3a"
             ],
             [
              0.8888888888888888,
              "#fdca26"
             ],
             [
              1,
              "#f0f921"
             ]
            ],
            "type": "heatmap"
           }
          ],
          "heatmapgl": [
           {
            "colorbar": {
             "outlinewidth": 0,
             "ticks": ""
            },
            "colorscale": [
             [
              0,
              "#0d0887"
             ],
             [
              0.1111111111111111,
              "#46039f"
             ],
             [
              0.2222222222222222,
              "#7201a8"
             ],
             [
              0.3333333333333333,
              "#9c179e"
             ],
             [
              0.4444444444444444,
              "#bd3786"
             ],
             [
              0.5555555555555556,
              "#d8576b"
             ],
             [
              0.6666666666666666,
              "#ed7953"
             ],
             [
              0.7777777777777778,
              "#fb9f3a"
             ],
             [
              0.8888888888888888,
              "#fdca26"
             ],
             [
              1,
              "#f0f921"
             ]
            ],
            "type": "heatmapgl"
           }
          ],
          "histogram": [
           {
            "marker": {
             "colorbar": {
              "outlinewidth": 0,
              "ticks": ""
             }
            },
            "type": "histogram"
           }
          ],
          "histogram2d": [
           {
            "colorbar": {
             "outlinewidth": 0,
             "ticks": ""
            },
            "colorscale": [
             [
              0,
              "#0d0887"
             ],
             [
              0.1111111111111111,
              "#46039f"
             ],
             [
              0.2222222222222222,
              "#7201a8"
             ],
             [
              0.3333333333333333,
              "#9c179e"
             ],
             [
              0.4444444444444444,
              "#bd3786"
             ],
             [
              0.5555555555555556,
              "#d8576b"
             ],
             [
              0.6666666666666666,
              "#ed7953"
             ],
             [
              0.7777777777777778,
              "#fb9f3a"
             ],
             [
              0.8888888888888888,
              "#fdca26"
             ],
             [
              1,
              "#f0f921"
             ]
            ],
            "type": "histogram2d"
           }
          ],
          "histogram2dcontour": [
           {
            "colorbar": {
             "outlinewidth": 0,
             "ticks": ""
            },
            "colorscale": [
             [
              0,
              "#0d0887"
             ],
             [
              0.1111111111111111,
              "#46039f"
             ],
             [
              0.2222222222222222,
              "#7201a8"
             ],
             [
              0.3333333333333333,
              "#9c179e"
             ],
             [
              0.4444444444444444,
              "#bd3786"
             ],
             [
              0.5555555555555556,
              "#d8576b"
             ],
             [
              0.6666666666666666,
              "#ed7953"
             ],
             [
              0.7777777777777778,
              "#fb9f3a"
             ],
             [
              0.8888888888888888,
              "#fdca26"
             ],
             [
              1,
              "#f0f921"
             ]
            ],
            "type": "histogram2dcontour"
           }
          ],
          "mesh3d": [
           {
            "colorbar": {
             "outlinewidth": 0,
             "ticks": ""
            },
            "type": "mesh3d"
           }
          ],
          "parcoords": [
           {
            "line": {
             "colorbar": {
              "outlinewidth": 0,
              "ticks": ""
             }
            },
            "type": "parcoords"
           }
          ],
          "pie": [
           {
            "automargin": true,
            "type": "pie"
           }
          ],
          "scatter": [
           {
            "marker": {
             "colorbar": {
              "outlinewidth": 0,
              "ticks": ""
             }
            },
            "type": "scatter"
           }
          ],
          "scatter3d": [
           {
            "line": {
             "colorbar": {
              "outlinewidth": 0,
              "ticks": ""
             }
            },
            "marker": {
             "colorbar": {
              "outlinewidth": 0,
              "ticks": ""
             }
            },
            "type": "scatter3d"
           }
          ],
          "scattercarpet": [
           {
            "marker": {
             "colorbar": {
              "outlinewidth": 0,
              "ticks": ""
             }
            },
            "type": "scattercarpet"
           }
          ],
          "scattergeo": [
           {
            "marker": {
             "colorbar": {
              "outlinewidth": 0,
              "ticks": ""
             }
            },
            "type": "scattergeo"
           }
          ],
          "scattergl": [
           {
            "marker": {
             "colorbar": {
              "outlinewidth": 0,
              "ticks": ""
             }
            },
            "type": "scattergl"
           }
          ],
          "scattermapbox": [
           {
            "marker": {
             "colorbar": {
              "outlinewidth": 0,
              "ticks": ""
             }
            },
            "type": "scattermapbox"
           }
          ],
          "scatterpolar": [
           {
            "marker": {
             "colorbar": {
              "outlinewidth": 0,
              "ticks": ""
             }
            },
            "type": "scatterpolar"
           }
          ],
          "scatterpolargl": [
           {
            "marker": {
             "colorbar": {
              "outlinewidth": 0,
              "ticks": ""
             }
            },
            "type": "scatterpolargl"
           }
          ],
          "scatterternary": [
           {
            "marker": {
             "colorbar": {
              "outlinewidth": 0,
              "ticks": ""
             }
            },
            "type": "scatterternary"
           }
          ],
          "surface": [
           {
            "colorbar": {
             "outlinewidth": 0,
             "ticks": ""
            },
            "colorscale": [
             [
              0,
              "#0d0887"
             ],
             [
              0.1111111111111111,
              "#46039f"
             ],
             [
              0.2222222222222222,
              "#7201a8"
             ],
             [
              0.3333333333333333,
              "#9c179e"
             ],
             [
              0.4444444444444444,
              "#bd3786"
             ],
             [
              0.5555555555555556,
              "#d8576b"
             ],
             [
              0.6666666666666666,
              "#ed7953"
             ],
             [
              0.7777777777777778,
              "#fb9f3a"
             ],
             [
              0.8888888888888888,
              "#fdca26"
             ],
             [
              1,
              "#f0f921"
             ]
            ],
            "type": "surface"
           }
          ],
          "table": [
           {
            "cells": {
             "fill": {
              "color": "#EBF0F8"
             },
             "line": {
              "color": "white"
             }
            },
            "header": {
             "fill": {
              "color": "#C8D4E3"
             },
             "line": {
              "color": "white"
             }
            },
            "type": "table"
           }
          ]
         },
         "layout": {
          "annotationdefaults": {
           "arrowcolor": "#2a3f5f",
           "arrowhead": 0,
           "arrowwidth": 1
          },
          "coloraxis": {
           "colorbar": {
            "outlinewidth": 0,
            "ticks": ""
           }
          },
          "colorscale": {
           "diverging": [
            [
             0,
             "#8e0152"
            ],
            [
             0.1,
             "#c51b7d"
            ],
            [
             0.2,
             "#de77ae"
            ],
            [
             0.3,
             "#f1b6da"
            ],
            [
             0.4,
             "#fde0ef"
            ],
            [
             0.5,
             "#f7f7f7"
            ],
            [
             0.6,
             "#e6f5d0"
            ],
            [
             0.7,
             "#b8e186"
            ],
            [
             0.8,
             "#7fbc41"
            ],
            [
             0.9,
             "#4d9221"
            ],
            [
             1,
             "#276419"
            ]
           ],
           "sequential": [
            [
             0,
             "#0d0887"
            ],
            [
             0.1111111111111111,
             "#46039f"
            ],
            [
             0.2222222222222222,
             "#7201a8"
            ],
            [
             0.3333333333333333,
             "#9c179e"
            ],
            [
             0.4444444444444444,
             "#bd3786"
            ],
            [
             0.5555555555555556,
             "#d8576b"
            ],
            [
             0.6666666666666666,
             "#ed7953"
            ],
            [
             0.7777777777777778,
             "#fb9f3a"
            ],
            [
             0.8888888888888888,
             "#fdca26"
            ],
            [
             1,
             "#f0f921"
            ]
           ],
           "sequentialminus": [
            [
             0,
             "#0d0887"
            ],
            [
             0.1111111111111111,
             "#46039f"
            ],
            [
             0.2222222222222222,
             "#7201a8"
            ],
            [
             0.3333333333333333,
             "#9c179e"
            ],
            [
             0.4444444444444444,
             "#bd3786"
            ],
            [
             0.5555555555555556,
             "#d8576b"
            ],
            [
             0.6666666666666666,
             "#ed7953"
            ],
            [
             0.7777777777777778,
             "#fb9f3a"
            ],
            [
             0.8888888888888888,
             "#fdca26"
            ],
            [
             1,
             "#f0f921"
            ]
           ]
          },
          "colorway": [
           "#636efa",
           "#EF553B",
           "#00cc96",
           "#ab63fa",
           "#FFA15A",
           "#19d3f3",
           "#FF6692",
           "#B6E880",
           "#FF97FF",
           "#FECB52"
          ],
          "font": {
           "color": "#2a3f5f"
          },
          "geo": {
           "bgcolor": "white",
           "lakecolor": "white",
           "landcolor": "#E5ECF6",
           "showlakes": true,
           "showland": true,
           "subunitcolor": "white"
          },
          "hoverlabel": {
           "align": "left"
          },
          "hovermode": "closest",
          "mapbox": {
           "style": "light"
          },
          "paper_bgcolor": "white",
          "plot_bgcolor": "#E5ECF6",
          "polar": {
           "angularaxis": {
            "gridcolor": "white",
            "linecolor": "white",
            "ticks": ""
           },
           "bgcolor": "#E5ECF6",
           "radialaxis": {
            "gridcolor": "white",
            "linecolor": "white",
            "ticks": ""
           }
          },
          "scene": {
           "xaxis": {
            "backgroundcolor": "#E5ECF6",
            "gridcolor": "white",
            "gridwidth": 2,
            "linecolor": "white",
            "showbackground": true,
            "ticks": "",
            "zerolinecolor": "white"
           },
           "yaxis": {
            "backgroundcolor": "#E5ECF6",
            "gridcolor": "white",
            "gridwidth": 2,
            "linecolor": "white",
            "showbackground": true,
            "ticks": "",
            "zerolinecolor": "white"
           },
           "zaxis": {
            "backgroundcolor": "#E5ECF6",
            "gridcolor": "white",
            "gridwidth": 2,
            "linecolor": "white",
            "showbackground": true,
            "ticks": "",
            "zerolinecolor": "white"
           }
          },
          "shapedefaults": {
           "line": {
            "color": "#2a3f5f"
           }
          },
          "ternary": {
           "aaxis": {
            "gridcolor": "white",
            "linecolor": "white",
            "ticks": ""
           },
           "baxis": {
            "gridcolor": "white",
            "linecolor": "white",
            "ticks": ""
           },
           "bgcolor": "#E5ECF6",
           "caxis": {
            "gridcolor": "white",
            "linecolor": "white",
            "ticks": ""
           }
          },
          "title": {
           "x": 0.05
          },
          "xaxis": {
           "automargin": true,
           "gridcolor": "white",
           "linecolor": "white",
           "ticks": "",
           "title": {
            "standoff": 15
           },
           "zerolinecolor": "white",
           "zerolinewidth": 2
          },
          "yaxis": {
           "automargin": true,
           "gridcolor": "white",
           "linecolor": "white",
           "ticks": "",
           "title": {
            "standoff": 15
           },
           "zerolinecolor": "white",
           "zerolinewidth": 2
          }
         }
        },
        "title": {
         "font": {
          "color": "#4D5663"
         }
        },
        "xaxis": {
         "anchor": "y",
         "domain": [
          0,
          0.2125
         ],
         "gridcolor": "#E1E5ED",
         "showgrid": false,
         "tickfont": {
          "color": "#4D5663"
         },
         "title": {
          "font": {
           "color": "#4D5663"
          },
          "text": ""
         },
         "zerolinecolor": "#E1E5ED"
        },
        "xaxis10": {
         "anchor": "y10",
         "domain": [
          0.2625,
          0.475
         ],
         "gridcolor": "#E1E5ED",
         "showgrid": false,
         "tickfont": {
          "color": "#4D5663"
         },
         "title": {
          "font": {
           "color": "#4D5663"
          },
          "text": ""
         },
         "zerolinecolor": "#E1E5ED"
        },
        "xaxis11": {
         "anchor": "y11",
         "domain": [
          0.525,
          0.7375
         ],
         "gridcolor": "#E1E5ED",
         "showgrid": false,
         "tickfont": {
          "color": "#4D5663"
         },
         "title": {
          "font": {
           "color": "#4D5663"
          },
          "text": ""
         },
         "zerolinecolor": "#E1E5ED"
        },
        "xaxis12": {
         "anchor": "y12",
         "domain": [
          0.7875,
          1
         ],
         "gridcolor": "#E1E5ED",
         "showgrid": false,
         "tickfont": {
          "color": "#4D5663"
         },
         "title": {
          "font": {
           "color": "#4D5663"
          },
          "text": ""
         },
         "zerolinecolor": "#E1E5ED"
        },
        "xaxis13": {
         "anchor": "y13",
         "domain": [
          0,
          0.2125
         ],
         "gridcolor": "#E1E5ED",
         "showgrid": false,
         "tickfont": {
          "color": "#4D5663"
         },
         "title": {
          "font": {
           "color": "#4D5663"
          },
          "text": ""
         },
         "zerolinecolor": "#E1E5ED"
        },
        "xaxis14": {
         "anchor": "y14",
         "domain": [
          0.2625,
          0.475
         ],
         "gridcolor": "#E1E5ED",
         "showgrid": false,
         "tickfont": {
          "color": "#4D5663"
         },
         "title": {
          "font": {
           "color": "#4D5663"
          },
          "text": ""
         },
         "zerolinecolor": "#E1E5ED"
        },
        "xaxis15": {
         "anchor": "y15",
         "domain": [
          0.525,
          0.7375
         ],
         "gridcolor": "#E1E5ED",
         "showgrid": false,
         "tickfont": {
          "color": "#4D5663"
         },
         "title": {
          "font": {
           "color": "#4D5663"
          },
          "text": ""
         },
         "zerolinecolor": "#E1E5ED"
        },
        "xaxis16": {
         "anchor": "y16",
         "domain": [
          0.7875,
          1
         ],
         "gridcolor": "#E1E5ED",
         "showgrid": false,
         "tickfont": {
          "color": "#4D5663"
         },
         "title": {
          "font": {
           "color": "#4D5663"
          },
          "text": ""
         },
         "zerolinecolor": "#E1E5ED"
        },
        "xaxis2": {
         "anchor": "y2",
         "domain": [
          0.2625,
          0.475
         ],
         "gridcolor": "#E1E5ED",
         "showgrid": false,
         "tickfont": {
          "color": "#4D5663"
         },
         "title": {
          "font": {
           "color": "#4D5663"
          },
          "text": ""
         },
         "zerolinecolor": "#E1E5ED"
        },
        "xaxis3": {
         "anchor": "y3",
         "domain": [
          0.525,
          0.7375
         ],
         "gridcolor": "#E1E5ED",
         "showgrid": false,
         "tickfont": {
          "color": "#4D5663"
         },
         "title": {
          "font": {
           "color": "#4D5663"
          },
          "text": ""
         },
         "zerolinecolor": "#E1E5ED"
        },
        "xaxis4": {
         "anchor": "y4",
         "domain": [
          0.7875,
          1
         ],
         "gridcolor": "#E1E5ED",
         "showgrid": false,
         "tickfont": {
          "color": "#4D5663"
         },
         "title": {
          "font": {
           "color": "#4D5663"
          },
          "text": ""
         },
         "zerolinecolor": "#E1E5ED"
        },
        "xaxis5": {
         "anchor": "y5",
         "domain": [
          0,
          0.2125
         ],
         "gridcolor": "#E1E5ED",
         "showgrid": false,
         "tickfont": {
          "color": "#4D5663"
         },
         "title": {
          "font": {
           "color": "#4D5663"
          },
          "text": ""
         },
         "zerolinecolor": "#E1E5ED"
        },
        "xaxis6": {
         "anchor": "y6",
         "domain": [
          0.2625,
          0.475
         ],
         "gridcolor": "#E1E5ED",
         "showgrid": false,
         "tickfont": {
          "color": "#4D5663"
         },
         "title": {
          "font": {
           "color": "#4D5663"
          },
          "text": ""
         },
         "zerolinecolor": "#E1E5ED"
        },
        "xaxis7": {
         "anchor": "y7",
         "domain": [
          0.525,
          0.7375
         ],
         "gridcolor": "#E1E5ED",
         "showgrid": false,
         "tickfont": {
          "color": "#4D5663"
         },
         "title": {
          "font": {
           "color": "#4D5663"
          },
          "text": ""
         },
         "zerolinecolor": "#E1E5ED"
        },
        "xaxis8": {
         "anchor": "y8",
         "domain": [
          0.7875,
          1
         ],
         "gridcolor": "#E1E5ED",
         "showgrid": false,
         "tickfont": {
          "color": "#4D5663"
         },
         "title": {
          "font": {
           "color": "#4D5663"
          },
          "text": ""
         },
         "zerolinecolor": "#E1E5ED"
        },
        "xaxis9": {
         "anchor": "y9",
         "domain": [
          0,
          0.2125
         ],
         "gridcolor": "#E1E5ED",
         "showgrid": false,
         "tickfont": {
          "color": "#4D5663"
         },
         "title": {
          "font": {
           "color": "#4D5663"
          },
          "text": ""
         },
         "zerolinecolor": "#E1E5ED"
        },
        "yaxis": {
         "anchor": "x",
         "domain": [
          0.8025,
          1
         ],
         "gridcolor": "#E1E5ED",
         "showgrid": false,
         "tickfont": {
          "color": "#4D5663"
         },
         "title": {
          "font": {
           "color": "#4D5663"
          },
          "text": ""
         },
         "zerolinecolor": "#E1E5ED"
        },
        "yaxis10": {
         "anchor": "x10",
         "domain": [
          0.2675,
          0.465
         ],
         "gridcolor": "#E1E5ED",
         "showgrid": false,
         "tickfont": {
          "color": "#4D5663"
         },
         "title": {
          "font": {
           "color": "#4D5663"
          },
          "text": ""
         },
         "zerolinecolor": "#E1E5ED"
        },
        "yaxis11": {
         "anchor": "x11",
         "domain": [
          0.2675,
          0.465
         ],
         "gridcolor": "#E1E5ED",
         "showgrid": false,
         "tickfont": {
          "color": "#4D5663"
         },
         "title": {
          "font": {
           "color": "#4D5663"
          },
          "text": ""
         },
         "zerolinecolor": "#E1E5ED"
        },
        "yaxis12": {
         "anchor": "x12",
         "domain": [
          0.2675,
          0.465
         ],
         "gridcolor": "#E1E5ED",
         "showgrid": false,
         "tickfont": {
          "color": "#4D5663"
         },
         "title": {
          "font": {
           "color": "#4D5663"
          },
          "text": ""
         },
         "zerolinecolor": "#E1E5ED"
        },
        "yaxis13": {
         "anchor": "x13",
         "domain": [
          0,
          0.1975
         ],
         "gridcolor": "#E1E5ED",
         "showgrid": false,
         "tickfont": {
          "color": "#4D5663"
         },
         "title": {
          "font": {
           "color": "#4D5663"
          },
          "text": ""
         },
         "zerolinecolor": "#E1E5ED"
        },
        "yaxis14": {
         "anchor": "x14",
         "domain": [
          0,
          0.1975
         ],
         "gridcolor": "#E1E5ED",
         "showgrid": false,
         "tickfont": {
          "color": "#4D5663"
         },
         "title": {
          "font": {
           "color": "#4D5663"
          },
          "text": ""
         },
         "zerolinecolor": "#E1E5ED"
        },
        "yaxis15": {
         "anchor": "x15",
         "domain": [
          0,
          0.1975
         ],
         "gridcolor": "#E1E5ED",
         "showgrid": false,
         "tickfont": {
          "color": "#4D5663"
         },
         "title": {
          "font": {
           "color": "#4D5663"
          },
          "text": ""
         },
         "zerolinecolor": "#E1E5ED"
        },
        "yaxis16": {
         "anchor": "x16",
         "domain": [
          0,
          0.1975
         ],
         "gridcolor": "#E1E5ED",
         "showgrid": false,
         "tickfont": {
          "color": "#4D5663"
         },
         "title": {
          "font": {
           "color": "#4D5663"
          },
          "text": ""
         },
         "zerolinecolor": "#E1E5ED"
        },
        "yaxis2": {
         "anchor": "x2",
         "domain": [
          0.8025,
          1
         ],
         "gridcolor": "#E1E5ED",
         "showgrid": false,
         "tickfont": {
          "color": "#4D5663"
         },
         "title": {
          "font": {
           "color": "#4D5663"
          },
          "text": ""
         },
         "zerolinecolor": "#E1E5ED"
        },
        "yaxis3": {
         "anchor": "x3",
         "domain": [
          0.8025,
          1
         ],
         "gridcolor": "#E1E5ED",
         "showgrid": false,
         "tickfont": {
          "color": "#4D5663"
         },
         "title": {
          "font": {
           "color": "#4D5663"
          },
          "text": ""
         },
         "zerolinecolor": "#E1E5ED"
        },
        "yaxis4": {
         "anchor": "x4",
         "domain": [
          0.8025,
          1
         ],
         "gridcolor": "#E1E5ED",
         "showgrid": false,
         "tickfont": {
          "color": "#4D5663"
         },
         "title": {
          "font": {
           "color": "#4D5663"
          },
          "text": ""
         },
         "zerolinecolor": "#E1E5ED"
        },
        "yaxis5": {
         "anchor": "x5",
         "domain": [
          0.535,
          0.7325
         ],
         "gridcolor": "#E1E5ED",
         "showgrid": false,
         "tickfont": {
          "color": "#4D5663"
         },
         "title": {
          "font": {
           "color": "#4D5663"
          },
          "text": ""
         },
         "zerolinecolor": "#E1E5ED"
        },
        "yaxis6": {
         "anchor": "x6",
         "domain": [
          0.535,
          0.7325
         ],
         "gridcolor": "#E1E5ED",
         "showgrid": false,
         "tickfont": {
          "color": "#4D5663"
         },
         "title": {
          "font": {
           "color": "#4D5663"
          },
          "text": ""
         },
         "zerolinecolor": "#E1E5ED"
        },
        "yaxis7": {
         "anchor": "x7",
         "domain": [
          0.535,
          0.7325
         ],
         "gridcolor": "#E1E5ED",
         "showgrid": false,
         "tickfont": {
          "color": "#4D5663"
         },
         "title": {
          "font": {
           "color": "#4D5663"
          },
          "text": ""
         },
         "zerolinecolor": "#E1E5ED"
        },
        "yaxis8": {
         "anchor": "x8",
         "domain": [
          0.535,
          0.7325
         ],
         "gridcolor": "#E1E5ED",
         "showgrid": false,
         "tickfont": {
          "color": "#4D5663"
         },
         "title": {
          "font": {
           "color": "#4D5663"
          },
          "text": ""
         },
         "zerolinecolor": "#E1E5ED"
        },
        "yaxis9": {
         "anchor": "x9",
         "domain": [
          0.2675,
          0.465
         ],
         "gridcolor": "#E1E5ED",
         "showgrid": false,
         "tickfont": {
          "color": "#4D5663"
         },
         "title": {
          "font": {
           "color": "#4D5663"
          },
          "text": ""
         },
         "zerolinecolor": "#E1E5ED"
        }
       }
      },
      "text/html": [
       "<div>\n",
       "        \n",
       "        \n",
       "            <div id=\"c2fd542d-a71e-481e-9b83-ee4082c451f9\" class=\"plotly-graph-div\" style=\"height:525px; width:100%;\"></div>\n",
       "            <script type=\"text/javascript\">\n",
       "                require([\"plotly\"], function(Plotly) {\n",
       "                    window.PLOTLYENV=window.PLOTLYENV || {};\n",
       "                    window.PLOTLYENV.BASE_URL='https://plot.ly';\n",
       "                    \n",
       "                if (document.getElementById(\"c2fd542d-a71e-481e-9b83-ee4082c451f9\")) {\n",
       "                    Plotly.newPlot(\n",
       "                        'c2fd542d-a71e-481e-9b83-ee4082c451f9',\n",
       "                        [{\"histfunc\": \"count\", \"histnorm\": \"\", \"marker\": {\"color\": \"rgba(255, 153, 51, 1.0)\", \"line\": {\"color\": \"#4D5663\", \"width\": 1.3}}, \"name\": \"A\", \"nbinsx\": 10, \"opacity\": 0.8, \"orientation\": \"v\", \"type\": \"histogram\", \"x\": [0.27442011925577803, 0.4966318940744484, 0.9235787135880593, -1.3078878995183352, 1.029829990968547, 0.8768161316518825, 1.7607058214307147, -1.3352873795477167, -1.2398425570338618, 1.5554085396300308, 0.10574878112682273, 0.02877669534919826, 0.14547075907513576, 1.0931273800644667, 0.6761310088429014, 0.2784728536362254, -0.1660772458435563, -1.3210450424175817, 0.5718288528568582, 0.14355910285361492, -0.015859406501193326, 1.213306555373937, 0.4930056971125333, 0.9639894896117828, -1.6921012175771217, -1.4497539051335953, 0.5452526346624451, -0.645093482314308, -0.21143817105405713, 2.025199604317894, 1.0647915440432545, -0.9974086869972061, -0.026009175991362356, 0.8223224835488065, -0.6874438195145413, -1.1633762926469993, -2.1889031235002805, -1.6981324604478112, -0.8322915772080726, 0.8457591850393001, 2.1442085506693567, -1.5640271898647706, 0.7744562894683265, -0.38201421593223095, -0.6212905805519496, 1.5069808387621415, -0.26160458098711914, -0.4081977076676588, 0.06513595918607111, 1.5251829050865908, -1.364239429827965, -0.5723650046038495, -0.35491042630058367, 0.40182125294929, -1.0754453343631818, -0.7618618960949269, -0.9443244125840022, 0.8377214807586354, -0.031809465745655796, -1.0932793443090683, 0.4765706510147636, 2.05418105903198, 0.6394359942486391, 0.6371385671293637, 0.2426186474648045, -1.0881770872260315, -0.5516764613258204, -0.11777518422355525, 0.541620929047994, 0.2957312870889277, 0.4429090976829458, 0.7507240275163064, 0.006266873749813978, 1.0006292376829993, 1.6362468479250005, -0.3947402655677738, -0.48899105814741345, -0.3409198288169905, -1.8392733203270557, 2.0689286752747007, -1.0029774967312513, -0.6540448424261963, -1.0189861726963385, 1.07798984585544, -0.07417500228963209, 1.9694312682613933, -0.6546260721310159, -1.854475447570704, 0.5933309905159341, 0.2967998336348711, 0.09463460669330889, 0.6294080359178124, -0.28956562341842773, -0.6560223447079263, 0.3153653081029692, -1.5263252201468034, 1.1928936794991623, 0.3887480233893524, -0.6057963382281494, -0.09917451743088809], \"xaxis\": \"x\", \"yaxis\": \"y\"}, {\"line\": {\"color\": \"rgba(128, 128, 128, 1.0)\", \"dash\": \"solid\", \"shape\": \"linear\", \"width\": 1.3}, \"marker\": {\"size\": 2, \"symbol\": \"circle\"}, \"mode\": \"markers\", \"name\": \"A\", \"text\": \"\", \"type\": \"scatter\", \"x\": [-0.5338968153279375, -0.737604098516914, 0.786032577826171, -0.18168043763582525, 0.3948231518046967, -1.285656839190833, 0.4929836120109994, 0.730148677998628, 0.6268605758227215, -0.5557695793174016, -0.40070084283238566, -0.04766528323845765, 1.3308041018589245, 1.2819449899198534, 0.8477216185770992, -0.8927707828167398, 0.6494375285903279, -1.2050108148432601, -0.07473626077998291, 0.8980669929684267, -0.5269968586077552, 1.6733011574136327, -0.15811245055144024, -0.7697173802854936, -1.0724251934501332, 2.0162661600162446, 0.825875520162066, 1.3431956059693588, 0.48621638477181517, 1.9553703128659479, -1.2848791904167656, 1.293267623163678, 0.22717944081984312, 0.08644533575156765, -0.6200100862166263, 2.822142109349293, 0.8261081315305128, -1.2264751974926702, -0.0886059823022562, 0.9571956710271053, 0.08646891800960291, -0.34677771441293503, 0.40851804088487054, 0.6649783338954706, -1.0969296957460855, -0.6743437678108863, -1.0918800892854403, 1.3214368372712242, -0.489847125076919, -0.27283397042230634, 1.0339465645395904, 1.678053130552742, 0.964812094346171, 0.19271156696874114, 1.3594228629156795, 0.7175701611203561, 0.45770851544861324, -0.9127473216263866, 0.4025668759667475, 1.240468662104316, -0.41875097813805773, -1.9458153186721703, 0.3845377635616228, 1.1341057816012856, 1.187647773407586, -0.6271936129770707, 1.529874764186071, -0.639045433088632, 1.245578441840703, -1.0598794371239935, 0.22162474696218795, 0.714755826671371, -0.6464888249376306, -0.15991178748956184, 0.44270651657742105, -0.49536621779670165, -0.3337392917600911, -0.3722023058235199, 1.7853238046755189, 0.6672531974451232, -0.0629772291874929, -0.2679822545976978, -0.427960450897043, 1.2255891597486852, 1.6349909023914029, -1.0990742295726037, -0.4031039386900612, -1.8840151714757252, 0.24122678438561407, -1.63272285788489, -0.45215556888368347, 0.9996177661914009, -0.8972395864459162, -0.3852976988003857, -1.6048338125867412, 0.6810799365123126, 0.6343674901247007, 0.6846125078879841, 0.7511672981039151, -0.28261636398842405], \"xaxis\": \"x2\", \"y\": [0.27442011925577803, 0.4966318940744484, 0.9235787135880593, -1.3078878995183352, 1.029829990968547, 0.8768161316518825, 1.7607058214307147, -1.3352873795477167, -1.2398425570338618, 1.5554085396300308, 0.10574878112682273, 0.02877669534919826, 0.14547075907513576, 1.0931273800644667, 0.6761310088429014, 0.2784728536362254, -0.1660772458435563, -1.3210450424175817, 0.5718288528568582, 0.14355910285361492, -0.015859406501193326, 1.213306555373937, 0.4930056971125333, 0.9639894896117828, -1.6921012175771217, -1.4497539051335953, 0.5452526346624451, -0.645093482314308, -0.21143817105405713, 2.025199604317894, 1.0647915440432545, -0.9974086869972061, -0.026009175991362356, 0.8223224835488065, -0.6874438195145413, -1.1633762926469993, -2.1889031235002805, -1.6981324604478112, -0.8322915772080726, 0.8457591850393001, 2.1442085506693567, -1.5640271898647706, 0.7744562894683265, -0.38201421593223095, -0.6212905805519496, 1.5069808387621415, -0.26160458098711914, -0.4081977076676588, 0.06513595918607111, 1.5251829050865908, -1.364239429827965, -0.5723650046038495, -0.35491042630058367, 0.40182125294929, -1.0754453343631818, -0.7618618960949269, -0.9443244125840022, 0.8377214807586354, -0.031809465745655796, -1.0932793443090683, 0.4765706510147636, 2.05418105903198, 0.6394359942486391, 0.6371385671293637, 0.2426186474648045, -1.0881770872260315, -0.5516764613258204, -0.11777518422355525, 0.541620929047994, 0.2957312870889277, 0.4429090976829458, 0.7507240275163064, 0.006266873749813978, 1.0006292376829993, 1.6362468479250005, -0.3947402655677738, -0.48899105814741345, -0.3409198288169905, -1.8392733203270557, 2.0689286752747007, -1.0029774967312513, -0.6540448424261963, -1.0189861726963385, 1.07798984585544, -0.07417500228963209, 1.9694312682613933, -0.6546260721310159, -1.854475447570704, 0.5933309905159341, 0.2967998336348711, 0.09463460669330889, 0.6294080359178124, -0.28956562341842773, -0.6560223447079263, 0.3153653081029692, -1.5263252201468034, 1.1928936794991623, 0.3887480233893524, -0.6057963382281494, -0.09917451743088809], \"yaxis\": \"y2\"}, {\"line\": {\"color\": \"rgba(128, 128, 128, 1.0)\", \"dash\": \"solid\", \"shape\": \"linear\", \"width\": 1.3}, \"marker\": {\"size\": 2, \"symbol\": \"circle\"}, \"mode\": \"markers\", \"name\": \"A\", \"text\": \"\", \"type\": \"scatter\", \"x\": [-1.7485201069591834, -1.248420460246769, -1.0075280699285276, -0.9725518392526331, -0.6125580000788612, 1.5760168254053477, 3.1112798898969665, 0.12091950003886064, -1.7155531562944366, -0.8096404549948362, -0.5060314294593212, 0.09533818535459651, 2.1690743098645586, 1.2080495707997074, -2.6202202715084986, 0.09767169102789787, -1.2819820037327558, 0.13518469888419476, -3.084790549939067, -0.0928415934708775, 1.1239154243379592, 0.5284989727147826, 1.780036515541744, -0.3670349035589682, 0.991359504796717, 1.0980606254994498, 0.05889203924934366, 1.3520304892360469, -2.2532625362966905, 2.511047084901181, 1.4777598495378366, 0.7107639517827246, 0.9905571434022301, 0.4939042051628568, -0.30318369202593204, -0.20572389186947077, 1.5111963961491124, 0.818542866015444, 1.405947976651865, 0.07589676612528864, -1.6150177283856333, 0.4829498586775949, -1.0020525017535273, 0.48705033350238613, 0.7893913940389492, 1.042603772749581, 0.7023316180161469, 0.9989523840144684, -0.8679755846735273, -0.3498252885375398, 0.676618385436938, 0.04081092286680008, 0.3610496227384134, -0.10556015372926142, -0.5683480892831416, -0.5250362254432627, -1.209124371647606, 1.1859934357640527, -0.6432401817537491, 1.5482412077671712, -0.9114281767939825, 0.27412471147018425, 1.5136983928699403, 1.811251440223618, -1.1407022465952563, -0.11489383916197456, -0.18828021095885358, 1.3309600894134206, -1.846507522364263, -0.3795601778584485, 0.724337773539108, 0.608226848828633, 2.145322528431656, -1.316798218389222, -0.0561128168489964, 0.6962038416091032, 0.6021415493331566, -0.962852009548119, -0.8064038979687622, -1.8281566150887754, -1.3891228837001643, -0.8274390005044422, -0.6016672382221137, -0.8894914442305945, 0.5220285374608629, -0.5593335491776248, 1.5660959296870434, -1.1105594030213204, -0.9716912024083473, 0.8155124851298962, 0.4608813156671842, 0.8719395265683174, -0.315649587010231, 0.47345649994695366, -0.09303806480081672, -0.3039382915405551, -0.9049587882620793, -0.8812215048138823, 0.8136540326243287, -1.586615858482131], \"xaxis\": \"x3\", \"y\": [0.27442011925577803, 0.4966318940744484, 0.9235787135880593, -1.3078878995183352, 1.029829990968547, 0.8768161316518825, 1.7607058214307147, -1.3352873795477167, -1.2398425570338618, 1.5554085396300308, 0.10574878112682273, 0.02877669534919826, 0.14547075907513576, 1.0931273800644667, 0.6761310088429014, 0.2784728536362254, -0.1660772458435563, -1.3210450424175817, 0.5718288528568582, 0.14355910285361492, -0.015859406501193326, 1.213306555373937, 0.4930056971125333, 0.9639894896117828, -1.6921012175771217, -1.4497539051335953, 0.5452526346624451, -0.645093482314308, -0.21143817105405713, 2.025199604317894, 1.0647915440432545, -0.9974086869972061, -0.026009175991362356, 0.8223224835488065, -0.6874438195145413, -1.1633762926469993, -2.1889031235002805, -1.6981324604478112, -0.8322915772080726, 0.8457591850393001, 2.1442085506693567, -1.5640271898647706, 0.7744562894683265, -0.38201421593223095, -0.6212905805519496, 1.5069808387621415, -0.26160458098711914, -0.4081977076676588, 0.06513595918607111, 1.5251829050865908, -1.364239429827965, -0.5723650046038495, -0.35491042630058367, 0.40182125294929, -1.0754453343631818, -0.7618618960949269, -0.9443244125840022, 0.8377214807586354, -0.031809465745655796, -1.0932793443090683, 0.4765706510147636, 2.05418105903198, 0.6394359942486391, 0.6371385671293637, 0.2426186474648045, -1.0881770872260315, -0.5516764613258204, -0.11777518422355525, 0.541620929047994, 0.2957312870889277, 0.4429090976829458, 0.7507240275163064, 0.006266873749813978, 1.0006292376829993, 1.6362468479250005, -0.3947402655677738, -0.48899105814741345, -0.3409198288169905, -1.8392733203270557, 2.0689286752747007, -1.0029774967312513, -0.6540448424261963, -1.0189861726963385, 1.07798984585544, -0.07417500228963209, 1.9694312682613933, -0.6546260721310159, -1.854475447570704, 0.5933309905159341, 0.2967998336348711, 0.09463460669330889, 0.6294080359178124, -0.28956562341842773, -0.6560223447079263, 0.3153653081029692, -1.5263252201468034, 1.1928936794991623, 0.3887480233893524, -0.6057963382281494, -0.09917451743088809], \"yaxis\": \"y3\"}, {\"line\": {\"color\": \"rgba(128, 128, 128, 1.0)\", \"dash\": \"solid\", \"shape\": \"linear\", \"width\": 1.3}, \"marker\": {\"size\": 2, \"symbol\": \"circle\"}, \"mode\": \"markers\", \"name\": \"A\", \"text\": \"\", \"type\": \"scatter\", \"x\": [2.400910959817672, 0.6819598149990173, -0.6232220194147332, 0.7887395442388007, -1.301788145951858, 0.04298717719900988, -0.337606399168051, -0.3490972931123941, -0.5068354424402199, -0.3116103659287749, 1.0846448965688362, 0.7977311205483589, -1.1431753830869036, -0.3186293795663426, -1.750924615250202, -2.9488522016425787, 1.0169344193039447, 2.050260613333816, -1.5193722818685347, -0.5621209693088283, -0.5330376530210282, -2.8566440070623837, 0.78605289587328, 0.6611326911720234, 0.5281680667288813, 0.25602262924607333, -0.2421640457669898, 0.6945191944719256, 0.20354542028254255, 1.8725122134796268, -0.36854262725668063, -0.12557761460437292, -1.1779969538295298, 0.8337681119216217, -1.5967903515443078, -0.04603274957753495, 0.8577657360409547, 0.7615458964802142, -0.14898456791709666, 1.5661071602007113, -0.026215842003465106, -1.082701548546245, 1.291549300882984, 0.660437905490934, 0.7527743950155561, 0.1931582437842661, 0.28666233615420045, -1.3854754111964733, 1.1329097329405442, -0.1666932286083753, 1.0478947021859135, -1.8983432266477809, 1.6402811698311521, 0.7327081792627386, -1.1965885360578552, -1.1112064603879197, -0.27374826444604033, -0.3001220396103051, -0.5899607786100437, 0.7028745544320834, -0.09837521162133121, -1.9735466621727498, -0.20186640833230038, 1.0704831627253344, 0.9826482537507075, -1.5718950401733178, -2.147274930201117, -0.6141840005922726, -2.350297390865512, -1.1963069467822, -1.2615040276058762, -0.07541991306592753, -0.5688190765678266, 0.9355969297751028, -2.2030141721337824, -0.07365859575543833, -0.5432217858757188, 0.0661776750639695, -0.9330942246422116, 1.048692435536162, 1.308334734308985, -0.28020285246212434, -0.7302103967012064, -0.23986559247048359, -0.20001295011184908, -1.536716833187831, -0.25617333188326635, -1.2055988763345966, -2.1354257691690695, 1.3616065782581308, 0.397343084340552, 0.46338631253367857, -0.6698575399509631, -0.2403364364402599, -0.6986079146756682, -1.4686138159507987, -0.27074685859711606, 0.5755507541235156, -2.2020184068867, -0.3417824817094762], \"xaxis\": \"x4\", \"y\": [0.27442011925577803, 0.4966318940744484, 0.9235787135880593, -1.3078878995183352, 1.029829990968547, 0.8768161316518825, 1.7607058214307147, -1.3352873795477167, -1.2398425570338618, 1.5554085396300308, 0.10574878112682273, 0.02877669534919826, 0.14547075907513576, 1.0931273800644667, 0.6761310088429014, 0.2784728536362254, -0.1660772458435563, -1.3210450424175817, 0.5718288528568582, 0.14355910285361492, -0.015859406501193326, 1.213306555373937, 0.4930056971125333, 0.9639894896117828, -1.6921012175771217, -1.4497539051335953, 0.5452526346624451, -0.645093482314308, -0.21143817105405713, 2.025199604317894, 1.0647915440432545, -0.9974086869972061, -0.026009175991362356, 0.8223224835488065, -0.6874438195145413, -1.1633762926469993, -2.1889031235002805, -1.6981324604478112, -0.8322915772080726, 0.8457591850393001, 2.1442085506693567, -1.5640271898647706, 0.7744562894683265, -0.38201421593223095, -0.6212905805519496, 1.5069808387621415, -0.26160458098711914, -0.4081977076676588, 0.06513595918607111, 1.5251829050865908, -1.364239429827965, -0.5723650046038495, -0.35491042630058367, 0.40182125294929, -1.0754453343631818, -0.7618618960949269, -0.9443244125840022, 0.8377214807586354, -0.031809465745655796, -1.0932793443090683, 0.4765706510147636, 2.05418105903198, 0.6394359942486391, 0.6371385671293637, 0.2426186474648045, -1.0881770872260315, -0.5516764613258204, -0.11777518422355525, 0.541620929047994, 0.2957312870889277, 0.4429090976829458, 0.7507240275163064, 0.006266873749813978, 1.0006292376829993, 1.6362468479250005, -0.3947402655677738, -0.48899105814741345, -0.3409198288169905, -1.8392733203270557, 2.0689286752747007, -1.0029774967312513, -0.6540448424261963, -1.0189861726963385, 1.07798984585544, -0.07417500228963209, 1.9694312682613933, -0.6546260721310159, -1.854475447570704, 0.5933309905159341, 0.2967998336348711, 0.09463460669330889, 0.6294080359178124, -0.28956562341842773, -0.6560223447079263, 0.3153653081029692, -1.5263252201468034, 1.1928936794991623, 0.3887480233893524, -0.6057963382281494, -0.09917451743088809], \"yaxis\": \"y4\"}, {\"line\": {\"color\": \"rgba(128, 128, 128, 1.0)\", \"dash\": \"solid\", \"shape\": \"linear\", \"width\": 1.3}, \"marker\": {\"size\": 2, \"symbol\": \"circle\"}, \"mode\": \"markers\", \"name\": \"B\", \"text\": \"\", \"type\": \"scatter\", \"x\": [0.27442011925577803, 0.4966318940744484, 0.9235787135880593, -1.3078878995183352, 1.029829990968547, 0.8768161316518825, 1.7607058214307147, -1.3352873795477167, -1.2398425570338618, 1.5554085396300308, 0.10574878112682273, 0.02877669534919826, 0.14547075907513576, 1.0931273800644667, 0.6761310088429014, 0.2784728536362254, -0.1660772458435563, -1.3210450424175817, 0.5718288528568582, 0.14355910285361492, -0.015859406501193326, 1.213306555373937, 0.4930056971125333, 0.9639894896117828, -1.6921012175771217, -1.4497539051335953, 0.5452526346624451, -0.645093482314308, -0.21143817105405713, 2.025199604317894, 1.0647915440432545, -0.9974086869972061, -0.026009175991362356, 0.8223224835488065, -0.6874438195145413, -1.1633762926469993, -2.1889031235002805, -1.6981324604478112, -0.8322915772080726, 0.8457591850393001, 2.1442085506693567, -1.5640271898647706, 0.7744562894683265, -0.38201421593223095, -0.6212905805519496, 1.5069808387621415, -0.26160458098711914, -0.4081977076676588, 0.06513595918607111, 1.5251829050865908, -1.364239429827965, -0.5723650046038495, -0.35491042630058367, 0.40182125294929, -1.0754453343631818, -0.7618618960949269, -0.9443244125840022, 0.8377214807586354, -0.031809465745655796, -1.0932793443090683, 0.4765706510147636, 2.05418105903198, 0.6394359942486391, 0.6371385671293637, 0.2426186474648045, -1.0881770872260315, -0.5516764613258204, -0.11777518422355525, 0.541620929047994, 0.2957312870889277, 0.4429090976829458, 0.7507240275163064, 0.006266873749813978, 1.0006292376829993, 1.6362468479250005, -0.3947402655677738, -0.48899105814741345, -0.3409198288169905, -1.8392733203270557, 2.0689286752747007, -1.0029774967312513, -0.6540448424261963, -1.0189861726963385, 1.07798984585544, -0.07417500228963209, 1.9694312682613933, -0.6546260721310159, -1.854475447570704, 0.5933309905159341, 0.2967998336348711, 0.09463460669330889, 0.6294080359178124, -0.28956562341842773, -0.6560223447079263, 0.3153653081029692, -1.5263252201468034, 1.1928936794991623, 0.3887480233893524, -0.6057963382281494, -0.09917451743088809], \"xaxis\": \"x5\", \"y\": [-0.5338968153279375, -0.737604098516914, 0.786032577826171, -0.18168043763582525, 0.3948231518046967, -1.285656839190833, 0.4929836120109994, 0.730148677998628, 0.6268605758227215, -0.5557695793174016, -0.40070084283238566, -0.04766528323845765, 1.3308041018589245, 1.2819449899198534, 0.8477216185770992, -0.8927707828167398, 0.6494375285903279, -1.2050108148432601, -0.07473626077998291, 0.8980669929684267, -0.5269968586077552, 1.6733011574136327, -0.15811245055144024, -0.7697173802854936, -1.0724251934501332, 2.0162661600162446, 0.825875520162066, 1.3431956059693588, 0.48621638477181517, 1.9553703128659479, -1.2848791904167656, 1.293267623163678, 0.22717944081984312, 0.08644533575156765, -0.6200100862166263, 2.822142109349293, 0.8261081315305128, -1.2264751974926702, -0.0886059823022562, 0.9571956710271053, 0.08646891800960291, -0.34677771441293503, 0.40851804088487054, 0.6649783338954706, -1.0969296957460855, -0.6743437678108863, -1.0918800892854403, 1.3214368372712242, -0.489847125076919, -0.27283397042230634, 1.0339465645395904, 1.678053130552742, 0.964812094346171, 0.19271156696874114, 1.3594228629156795, 0.7175701611203561, 0.45770851544861324, -0.9127473216263866, 0.4025668759667475, 1.240468662104316, -0.41875097813805773, -1.9458153186721703, 0.3845377635616228, 1.1341057816012856, 1.187647773407586, -0.6271936129770707, 1.529874764186071, -0.639045433088632, 1.245578441840703, -1.0598794371239935, 0.22162474696218795, 0.714755826671371, -0.6464888249376306, -0.15991178748956184, 0.44270651657742105, -0.49536621779670165, -0.3337392917600911, -0.3722023058235199, 1.7853238046755189, 0.6672531974451232, -0.0629772291874929, -0.2679822545976978, -0.427960450897043, 1.2255891597486852, 1.6349909023914029, -1.0990742295726037, -0.4031039386900612, -1.8840151714757252, 0.24122678438561407, -1.63272285788489, -0.45215556888368347, 0.9996177661914009, -0.8972395864459162, -0.3852976988003857, -1.6048338125867412, 0.6810799365123126, 0.6343674901247007, 0.6846125078879841, 0.7511672981039151, -0.28261636398842405], \"yaxis\": \"y5\"}, {\"histfunc\": \"count\", \"histnorm\": \"\", \"marker\": {\"color\": \"rgba(55, 128, 191, 1.0)\", \"line\": {\"color\": \"#4D5663\", \"width\": 1.3}}, \"name\": \"B\", \"nbinsx\": 10, \"opacity\": 0.8, \"orientation\": \"v\", \"type\": \"histogram\", \"x\": [-0.5338968153279375, -0.737604098516914, 0.786032577826171, -0.18168043763582525, 0.3948231518046967, -1.285656839190833, 0.4929836120109994, 0.730148677998628, 0.6268605758227215, -0.5557695793174016, -0.40070084283238566, -0.04766528323845765, 1.3308041018589245, 1.2819449899198534, 0.8477216185770992, -0.8927707828167398, 0.6494375285903279, -1.2050108148432601, -0.07473626077998291, 0.8980669929684267, -0.5269968586077552, 1.6733011574136327, -0.15811245055144024, -0.7697173802854936, -1.0724251934501332, 2.0162661600162446, 0.825875520162066, 1.3431956059693588, 0.48621638477181517, 1.9553703128659479, -1.2848791904167656, 1.293267623163678, 0.22717944081984312, 0.08644533575156765, -0.6200100862166263, 2.822142109349293, 0.8261081315305128, -1.2264751974926702, -0.0886059823022562, 0.9571956710271053, 0.08646891800960291, -0.34677771441293503, 0.40851804088487054, 0.6649783338954706, -1.0969296957460855, -0.6743437678108863, -1.0918800892854403, 1.3214368372712242, -0.489847125076919, -0.27283397042230634, 1.0339465645395904, 1.678053130552742, 0.964812094346171, 0.19271156696874114, 1.3594228629156795, 0.7175701611203561, 0.45770851544861324, -0.9127473216263866, 0.4025668759667475, 1.240468662104316, -0.41875097813805773, -1.9458153186721703, 0.3845377635616228, 1.1341057816012856, 1.187647773407586, -0.6271936129770707, 1.529874764186071, -0.639045433088632, 1.245578441840703, -1.0598794371239935, 0.22162474696218795, 0.714755826671371, -0.6464888249376306, -0.15991178748956184, 0.44270651657742105, -0.49536621779670165, -0.3337392917600911, -0.3722023058235199, 1.7853238046755189, 0.6672531974451232, -0.0629772291874929, -0.2679822545976978, -0.427960450897043, 1.2255891597486852, 1.6349909023914029, -1.0990742295726037, -0.4031039386900612, -1.8840151714757252, 0.24122678438561407, -1.63272285788489, -0.45215556888368347, 0.9996177661914009, -0.8972395864459162, -0.3852976988003857, -1.6048338125867412, 0.6810799365123126, 0.6343674901247007, 0.6846125078879841, 0.7511672981039151, -0.28261636398842405], \"xaxis\": \"x6\", \"yaxis\": \"y6\"}, {\"line\": {\"color\": \"rgba(128, 128, 128, 1.0)\", \"dash\": \"solid\", \"shape\": \"linear\", \"width\": 1.3}, \"marker\": {\"size\": 2, \"symbol\": \"circle\"}, \"mode\": \"markers\", \"name\": \"B\", \"text\": \"\", \"type\": \"scatter\", \"x\": [-1.7485201069591834, -1.248420460246769, -1.0075280699285276, -0.9725518392526331, -0.6125580000788612, 1.5760168254053477, 3.1112798898969665, 0.12091950003886064, -1.7155531562944366, -0.8096404549948362, -0.5060314294593212, 0.09533818535459651, 2.1690743098645586, 1.2080495707997074, -2.6202202715084986, 0.09767169102789787, -1.2819820037327558, 0.13518469888419476, -3.084790549939067, -0.0928415934708775, 1.1239154243379592, 0.5284989727147826, 1.780036515541744, -0.3670349035589682, 0.991359504796717, 1.0980606254994498, 0.05889203924934366, 1.3520304892360469, -2.2532625362966905, 2.511047084901181, 1.4777598495378366, 0.7107639517827246, 0.9905571434022301, 0.4939042051628568, -0.30318369202593204, -0.20572389186947077, 1.5111963961491124, 0.818542866015444, 1.405947976651865, 0.07589676612528864, -1.6150177283856333, 0.4829498586775949, -1.0020525017535273, 0.48705033350238613, 0.7893913940389492, 1.042603772749581, 0.7023316180161469, 0.9989523840144684, -0.8679755846735273, -0.3498252885375398, 0.676618385436938, 0.04081092286680008, 0.3610496227384134, -0.10556015372926142, -0.5683480892831416, -0.5250362254432627, -1.209124371647606, 1.1859934357640527, -0.6432401817537491, 1.5482412077671712, -0.9114281767939825, 0.27412471147018425, 1.5136983928699403, 1.811251440223618, -1.1407022465952563, -0.11489383916197456, -0.18828021095885358, 1.3309600894134206, -1.846507522364263, -0.3795601778584485, 0.724337773539108, 0.608226848828633, 2.145322528431656, -1.316798218389222, -0.0561128168489964, 0.6962038416091032, 0.6021415493331566, -0.962852009548119, -0.8064038979687622, -1.8281566150887754, -1.3891228837001643, -0.8274390005044422, -0.6016672382221137, -0.8894914442305945, 0.5220285374608629, -0.5593335491776248, 1.5660959296870434, -1.1105594030213204, -0.9716912024083473, 0.8155124851298962, 0.4608813156671842, 0.8719395265683174, -0.315649587010231, 0.47345649994695366, -0.09303806480081672, -0.3039382915405551, -0.9049587882620793, -0.8812215048138823, 0.8136540326243287, -1.586615858482131], \"xaxis\": \"x7\", \"y\": [-0.5338968153279375, -0.737604098516914, 0.786032577826171, -0.18168043763582525, 0.3948231518046967, -1.285656839190833, 0.4929836120109994, 0.730148677998628, 0.6268605758227215, -0.5557695793174016, -0.40070084283238566, -0.04766528323845765, 1.3308041018589245, 1.2819449899198534, 0.8477216185770992, -0.8927707828167398, 0.6494375285903279, -1.2050108148432601, -0.07473626077998291, 0.8980669929684267, -0.5269968586077552, 1.6733011574136327, -0.15811245055144024, -0.7697173802854936, -1.0724251934501332, 2.0162661600162446, 0.825875520162066, 1.3431956059693588, 0.48621638477181517, 1.9553703128659479, -1.2848791904167656, 1.293267623163678, 0.22717944081984312, 0.08644533575156765, -0.6200100862166263, 2.822142109349293, 0.8261081315305128, -1.2264751974926702, -0.0886059823022562, 0.9571956710271053, 0.08646891800960291, -0.34677771441293503, 0.40851804088487054, 0.6649783338954706, -1.0969296957460855, -0.6743437678108863, -1.0918800892854403, 1.3214368372712242, -0.489847125076919, -0.27283397042230634, 1.0339465645395904, 1.678053130552742, 0.964812094346171, 0.19271156696874114, 1.3594228629156795, 0.7175701611203561, 0.45770851544861324, -0.9127473216263866, 0.4025668759667475, 1.240468662104316, -0.41875097813805773, -1.9458153186721703, 0.3845377635616228, 1.1341057816012856, 1.187647773407586, -0.6271936129770707, 1.529874764186071, -0.639045433088632, 1.245578441840703, -1.0598794371239935, 0.22162474696218795, 0.714755826671371, -0.6464888249376306, -0.15991178748956184, 0.44270651657742105, -0.49536621779670165, -0.3337392917600911, -0.3722023058235199, 1.7853238046755189, 0.6672531974451232, -0.0629772291874929, -0.2679822545976978, -0.427960450897043, 1.2255891597486852, 1.6349909023914029, -1.0990742295726037, -0.4031039386900612, -1.8840151714757252, 0.24122678438561407, -1.63272285788489, -0.45215556888368347, 0.9996177661914009, -0.8972395864459162, -0.3852976988003857, -1.6048338125867412, 0.6810799365123126, 0.6343674901247007, 0.6846125078879841, 0.7511672981039151, -0.28261636398842405], \"yaxis\": \"y7\"}, {\"line\": {\"color\": \"rgba(128, 128, 128, 1.0)\", \"dash\": \"solid\", \"shape\": \"linear\", \"width\": 1.3}, \"marker\": {\"size\": 2, \"symbol\": \"circle\"}, \"mode\": \"markers\", \"name\": \"B\", \"text\": \"\", \"type\": \"scatter\", \"x\": [2.400910959817672, 0.6819598149990173, -0.6232220194147332, 0.7887395442388007, -1.301788145951858, 0.04298717719900988, -0.337606399168051, -0.3490972931123941, -0.5068354424402199, -0.3116103659287749, 1.0846448965688362, 0.7977311205483589, -1.1431753830869036, -0.3186293795663426, -1.750924615250202, -2.9488522016425787, 1.0169344193039447, 2.050260613333816, -1.5193722818685347, -0.5621209693088283, -0.5330376530210282, -2.8566440070623837, 0.78605289587328, 0.6611326911720234, 0.5281680667288813, 0.25602262924607333, -0.2421640457669898, 0.6945191944719256, 0.20354542028254255, 1.8725122134796268, -0.36854262725668063, -0.12557761460437292, -1.1779969538295298, 0.8337681119216217, -1.5967903515443078, -0.04603274957753495, 0.8577657360409547, 0.7615458964802142, -0.14898456791709666, 1.5661071602007113, -0.026215842003465106, -1.082701548546245, 1.291549300882984, 0.660437905490934, 0.7527743950155561, 0.1931582437842661, 0.28666233615420045, -1.3854754111964733, 1.1329097329405442, -0.1666932286083753, 1.0478947021859135, -1.8983432266477809, 1.6402811698311521, 0.7327081792627386, -1.1965885360578552, -1.1112064603879197, -0.27374826444604033, -0.3001220396103051, -0.5899607786100437, 0.7028745544320834, -0.09837521162133121, -1.9735466621727498, -0.20186640833230038, 1.0704831627253344, 0.9826482537507075, -1.5718950401733178, -2.147274930201117, -0.6141840005922726, -2.350297390865512, -1.1963069467822, -1.2615040276058762, -0.07541991306592753, -0.5688190765678266, 0.9355969297751028, -2.2030141721337824, -0.07365859575543833, -0.5432217858757188, 0.0661776750639695, -0.9330942246422116, 1.048692435536162, 1.308334734308985, -0.28020285246212434, -0.7302103967012064, -0.23986559247048359, -0.20001295011184908, -1.536716833187831, -0.25617333188326635, -1.2055988763345966, -2.1354257691690695, 1.3616065782581308, 0.397343084340552, 0.46338631253367857, -0.6698575399509631, -0.2403364364402599, -0.6986079146756682, -1.4686138159507987, -0.27074685859711606, 0.5755507541235156, -2.2020184068867, -0.3417824817094762], \"xaxis\": \"x8\", \"y\": [-0.5338968153279375, -0.737604098516914, 0.786032577826171, -0.18168043763582525, 0.3948231518046967, -1.285656839190833, 0.4929836120109994, 0.730148677998628, 0.6268605758227215, -0.5557695793174016, -0.40070084283238566, -0.04766528323845765, 1.3308041018589245, 1.2819449899198534, 0.8477216185770992, -0.8927707828167398, 0.6494375285903279, -1.2050108148432601, -0.07473626077998291, 0.8980669929684267, -0.5269968586077552, 1.6733011574136327, -0.15811245055144024, -0.7697173802854936, -1.0724251934501332, 2.0162661600162446, 0.825875520162066, 1.3431956059693588, 0.48621638477181517, 1.9553703128659479, -1.2848791904167656, 1.293267623163678, 0.22717944081984312, 0.08644533575156765, -0.6200100862166263, 2.822142109349293, 0.8261081315305128, -1.2264751974926702, -0.0886059823022562, 0.9571956710271053, 0.08646891800960291, -0.34677771441293503, 0.40851804088487054, 0.6649783338954706, -1.0969296957460855, -0.6743437678108863, -1.0918800892854403, 1.3214368372712242, -0.489847125076919, -0.27283397042230634, 1.0339465645395904, 1.678053130552742, 0.964812094346171, 0.19271156696874114, 1.3594228629156795, 0.7175701611203561, 0.45770851544861324, -0.9127473216263866, 0.4025668759667475, 1.240468662104316, -0.41875097813805773, -1.9458153186721703, 0.3845377635616228, 1.1341057816012856, 1.187647773407586, -0.6271936129770707, 1.529874764186071, -0.639045433088632, 1.245578441840703, -1.0598794371239935, 0.22162474696218795, 0.714755826671371, -0.6464888249376306, -0.15991178748956184, 0.44270651657742105, -0.49536621779670165, -0.3337392917600911, -0.3722023058235199, 1.7853238046755189, 0.6672531974451232, -0.0629772291874929, -0.2679822545976978, -0.427960450897043, 1.2255891597486852, 1.6349909023914029, -1.0990742295726037, -0.4031039386900612, -1.8840151714757252, 0.24122678438561407, -1.63272285788489, -0.45215556888368347, 0.9996177661914009, -0.8972395864459162, -0.3852976988003857, -1.6048338125867412, 0.6810799365123126, 0.6343674901247007, 0.6846125078879841, 0.7511672981039151, -0.28261636398842405], \"yaxis\": \"y8\"}, {\"line\": {\"color\": \"rgba(128, 128, 128, 1.0)\", \"dash\": \"solid\", \"shape\": \"linear\", \"width\": 1.3}, \"marker\": {\"size\": 2, \"symbol\": \"circle\"}, \"mode\": \"markers\", \"name\": \"C\", \"text\": \"\", \"type\": \"scatter\", \"x\": [0.27442011925577803, 0.4966318940744484, 0.9235787135880593, -1.3078878995183352, 1.029829990968547, 0.8768161316518825, 1.7607058214307147, -1.3352873795477167, -1.2398425570338618, 1.5554085396300308, 0.10574878112682273, 0.02877669534919826, 0.14547075907513576, 1.0931273800644667, 0.6761310088429014, 0.2784728536362254, -0.1660772458435563, -1.3210450424175817, 0.5718288528568582, 0.14355910285361492, -0.015859406501193326, 1.213306555373937, 0.4930056971125333, 0.9639894896117828, -1.6921012175771217, -1.4497539051335953, 0.5452526346624451, -0.645093482314308, -0.21143817105405713, 2.025199604317894, 1.0647915440432545, -0.9974086869972061, -0.026009175991362356, 0.8223224835488065, -0.6874438195145413, -1.1633762926469993, -2.1889031235002805, -1.6981324604478112, -0.8322915772080726, 0.8457591850393001, 2.1442085506693567, -1.5640271898647706, 0.7744562894683265, -0.38201421593223095, -0.6212905805519496, 1.5069808387621415, -0.26160458098711914, -0.4081977076676588, 0.06513595918607111, 1.5251829050865908, -1.364239429827965, -0.5723650046038495, -0.35491042630058367, 0.40182125294929, -1.0754453343631818, -0.7618618960949269, -0.9443244125840022, 0.8377214807586354, -0.031809465745655796, -1.0932793443090683, 0.4765706510147636, 2.05418105903198, 0.6394359942486391, 0.6371385671293637, 0.2426186474648045, -1.0881770872260315, -0.5516764613258204, -0.11777518422355525, 0.541620929047994, 0.2957312870889277, 0.4429090976829458, 0.7507240275163064, 0.006266873749813978, 1.0006292376829993, 1.6362468479250005, -0.3947402655677738, -0.48899105814741345, -0.3409198288169905, -1.8392733203270557, 2.0689286752747007, -1.0029774967312513, -0.6540448424261963, -1.0189861726963385, 1.07798984585544, -0.07417500228963209, 1.9694312682613933, -0.6546260721310159, -1.854475447570704, 0.5933309905159341, 0.2967998336348711, 0.09463460669330889, 0.6294080359178124, -0.28956562341842773, -0.6560223447079263, 0.3153653081029692, -1.5263252201468034, 1.1928936794991623, 0.3887480233893524, -0.6057963382281494, -0.09917451743088809], \"xaxis\": \"x9\", \"y\": [-1.7485201069591834, -1.248420460246769, -1.0075280699285276, -0.9725518392526331, -0.6125580000788612, 1.5760168254053477, 3.1112798898969665, 0.12091950003886064, -1.7155531562944366, -0.8096404549948362, -0.5060314294593212, 0.09533818535459651, 2.1690743098645586, 1.2080495707997074, -2.6202202715084986, 0.09767169102789787, -1.2819820037327558, 0.13518469888419476, -3.084790549939067, -0.0928415934708775, 1.1239154243379592, 0.5284989727147826, 1.780036515541744, -0.3670349035589682, 0.991359504796717, 1.0980606254994498, 0.05889203924934366, 1.3520304892360469, -2.2532625362966905, 2.511047084901181, 1.4777598495378366, 0.7107639517827246, 0.9905571434022301, 0.4939042051628568, -0.30318369202593204, -0.20572389186947077, 1.5111963961491124, 0.818542866015444, 1.405947976651865, 0.07589676612528864, -1.6150177283856333, 0.4829498586775949, -1.0020525017535273, 0.48705033350238613, 0.7893913940389492, 1.042603772749581, 0.7023316180161469, 0.9989523840144684, -0.8679755846735273, -0.3498252885375398, 0.676618385436938, 0.04081092286680008, 0.3610496227384134, -0.10556015372926142, -0.5683480892831416, -0.5250362254432627, -1.209124371647606, 1.1859934357640527, -0.6432401817537491, 1.5482412077671712, -0.9114281767939825, 0.27412471147018425, 1.5136983928699403, 1.811251440223618, -1.1407022465952563, -0.11489383916197456, -0.18828021095885358, 1.3309600894134206, -1.846507522364263, -0.3795601778584485, 0.724337773539108, 0.608226848828633, 2.145322528431656, -1.316798218389222, -0.0561128168489964, 0.6962038416091032, 0.6021415493331566, -0.962852009548119, -0.8064038979687622, -1.8281566150887754, -1.3891228837001643, -0.8274390005044422, -0.6016672382221137, -0.8894914442305945, 0.5220285374608629, -0.5593335491776248, 1.5660959296870434, -1.1105594030213204, -0.9716912024083473, 0.8155124851298962, 0.4608813156671842, 0.8719395265683174, -0.315649587010231, 0.47345649994695366, -0.09303806480081672, -0.3039382915405551, -0.9049587882620793, -0.8812215048138823, 0.8136540326243287, -1.586615858482131], \"yaxis\": \"y9\"}, {\"line\": {\"color\": \"rgba(128, 128, 128, 1.0)\", \"dash\": \"solid\", \"shape\": \"linear\", \"width\": 1.3}, \"marker\": {\"size\": 2, \"symbol\": \"circle\"}, \"mode\": \"markers\", \"name\": \"C\", \"text\": \"\", \"type\": \"scatter\", \"x\": [-0.5338968153279375, -0.737604098516914, 0.786032577826171, -0.18168043763582525, 0.3948231518046967, -1.285656839190833, 0.4929836120109994, 0.730148677998628, 0.6268605758227215, -0.5557695793174016, -0.40070084283238566, -0.04766528323845765, 1.3308041018589245, 1.2819449899198534, 0.8477216185770992, -0.8927707828167398, 0.6494375285903279, -1.2050108148432601, -0.07473626077998291, 0.8980669929684267, -0.5269968586077552, 1.6733011574136327, -0.15811245055144024, -0.7697173802854936, -1.0724251934501332, 2.0162661600162446, 0.825875520162066, 1.3431956059693588, 0.48621638477181517, 1.9553703128659479, -1.2848791904167656, 1.293267623163678, 0.22717944081984312, 0.08644533575156765, -0.6200100862166263, 2.822142109349293, 0.8261081315305128, -1.2264751974926702, -0.0886059823022562, 0.9571956710271053, 0.08646891800960291, -0.34677771441293503, 0.40851804088487054, 0.6649783338954706, -1.0969296957460855, -0.6743437678108863, -1.0918800892854403, 1.3214368372712242, -0.489847125076919, -0.27283397042230634, 1.0339465645395904, 1.678053130552742, 0.964812094346171, 0.19271156696874114, 1.3594228629156795, 0.7175701611203561, 0.45770851544861324, -0.9127473216263866, 0.4025668759667475, 1.240468662104316, -0.41875097813805773, -1.9458153186721703, 0.3845377635616228, 1.1341057816012856, 1.187647773407586, -0.6271936129770707, 1.529874764186071, -0.639045433088632, 1.245578441840703, -1.0598794371239935, 0.22162474696218795, 0.714755826671371, -0.6464888249376306, -0.15991178748956184, 0.44270651657742105, -0.49536621779670165, -0.3337392917600911, -0.3722023058235199, 1.7853238046755189, 0.6672531974451232, -0.0629772291874929, -0.2679822545976978, -0.427960450897043, 1.2255891597486852, 1.6349909023914029, -1.0990742295726037, -0.4031039386900612, -1.8840151714757252, 0.24122678438561407, -1.63272285788489, -0.45215556888368347, 0.9996177661914009, -0.8972395864459162, -0.3852976988003857, -1.6048338125867412, 0.6810799365123126, 0.6343674901247007, 0.6846125078879841, 0.7511672981039151, -0.28261636398842405], \"xaxis\": \"x10\", \"y\": [-1.7485201069591834, -1.248420460246769, -1.0075280699285276, -0.9725518392526331, -0.6125580000788612, 1.5760168254053477, 3.1112798898969665, 0.12091950003886064, -1.7155531562944366, -0.8096404549948362, -0.5060314294593212, 0.09533818535459651, 2.1690743098645586, 1.2080495707997074, -2.6202202715084986, 0.09767169102789787, -1.2819820037327558, 0.13518469888419476, -3.084790549939067, -0.0928415934708775, 1.1239154243379592, 0.5284989727147826, 1.780036515541744, -0.3670349035589682, 0.991359504796717, 1.0980606254994498, 0.05889203924934366, 1.3520304892360469, -2.2532625362966905, 2.511047084901181, 1.4777598495378366, 0.7107639517827246, 0.9905571434022301, 0.4939042051628568, -0.30318369202593204, -0.20572389186947077, 1.5111963961491124, 0.818542866015444, 1.405947976651865, 0.07589676612528864, -1.6150177283856333, 0.4829498586775949, -1.0020525017535273, 0.48705033350238613, 0.7893913940389492, 1.042603772749581, 0.7023316180161469, 0.9989523840144684, -0.8679755846735273, -0.3498252885375398, 0.676618385436938, 0.04081092286680008, 0.3610496227384134, -0.10556015372926142, -0.5683480892831416, -0.5250362254432627, -1.209124371647606, 1.1859934357640527, -0.6432401817537491, 1.5482412077671712, -0.9114281767939825, 0.27412471147018425, 1.5136983928699403, 1.811251440223618, -1.1407022465952563, -0.11489383916197456, -0.18828021095885358, 1.3309600894134206, -1.846507522364263, -0.3795601778584485, 0.724337773539108, 0.608226848828633, 2.145322528431656, -1.316798218389222, -0.0561128168489964, 0.6962038416091032, 0.6021415493331566, -0.962852009548119, -0.8064038979687622, -1.8281566150887754, -1.3891228837001643, -0.8274390005044422, -0.6016672382221137, -0.8894914442305945, 0.5220285374608629, -0.5593335491776248, 1.5660959296870434, -1.1105594030213204, -0.9716912024083473, 0.8155124851298962, 0.4608813156671842, 0.8719395265683174, -0.315649587010231, 0.47345649994695366, -0.09303806480081672, -0.3039382915405551, -0.9049587882620793, -0.8812215048138823, 0.8136540326243287, -1.586615858482131], \"yaxis\": \"y10\"}, {\"histfunc\": \"count\", \"histnorm\": \"\", \"marker\": {\"color\": \"rgba(50, 171, 96, 1.0)\", \"line\": {\"color\": \"#4D5663\", \"width\": 1.3}}, \"name\": \"C\", \"nbinsx\": 10, \"opacity\": 0.8, \"orientation\": \"v\", \"type\": \"histogram\", \"x\": [-1.7485201069591834, -1.248420460246769, -1.0075280699285276, -0.9725518392526331, -0.6125580000788612, 1.5760168254053477, 3.1112798898969665, 0.12091950003886064, -1.7155531562944366, -0.8096404549948362, -0.5060314294593212, 0.09533818535459651, 2.1690743098645586, 1.2080495707997074, -2.6202202715084986, 0.09767169102789787, -1.2819820037327558, 0.13518469888419476, -3.084790549939067, -0.0928415934708775, 1.1239154243379592, 0.5284989727147826, 1.780036515541744, -0.3670349035589682, 0.991359504796717, 1.0980606254994498, 0.05889203924934366, 1.3520304892360469, -2.2532625362966905, 2.511047084901181, 1.4777598495378366, 0.7107639517827246, 0.9905571434022301, 0.4939042051628568, -0.30318369202593204, -0.20572389186947077, 1.5111963961491124, 0.818542866015444, 1.405947976651865, 0.07589676612528864, -1.6150177283856333, 0.4829498586775949, -1.0020525017535273, 0.48705033350238613, 0.7893913940389492, 1.042603772749581, 0.7023316180161469, 0.9989523840144684, -0.8679755846735273, -0.3498252885375398, 0.676618385436938, 0.04081092286680008, 0.3610496227384134, -0.10556015372926142, -0.5683480892831416, -0.5250362254432627, -1.209124371647606, 1.1859934357640527, -0.6432401817537491, 1.5482412077671712, -0.9114281767939825, 0.27412471147018425, 1.5136983928699403, 1.811251440223618, -1.1407022465952563, -0.11489383916197456, -0.18828021095885358, 1.3309600894134206, -1.846507522364263, -0.3795601778584485, 0.724337773539108, 0.608226848828633, 2.145322528431656, -1.316798218389222, -0.0561128168489964, 0.6962038416091032, 0.6021415493331566, -0.962852009548119, -0.8064038979687622, -1.8281566150887754, -1.3891228837001643, -0.8274390005044422, -0.6016672382221137, -0.8894914442305945, 0.5220285374608629, -0.5593335491776248, 1.5660959296870434, -1.1105594030213204, -0.9716912024083473, 0.8155124851298962, 0.4608813156671842, 0.8719395265683174, -0.315649587010231, 0.47345649994695366, -0.09303806480081672, -0.3039382915405551, -0.9049587882620793, -0.8812215048138823, 0.8136540326243287, -1.586615858482131], \"xaxis\": \"x11\", \"yaxis\": \"y11\"}, {\"line\": {\"color\": \"rgba(128, 128, 128, 1.0)\", \"dash\": \"solid\", \"shape\": \"linear\", \"width\": 1.3}, \"marker\": {\"size\": 2, \"symbol\": \"circle\"}, \"mode\": \"markers\", \"name\": \"C\", \"text\": \"\", \"type\": \"scatter\", \"x\": [2.400910959817672, 0.6819598149990173, -0.6232220194147332, 0.7887395442388007, -1.301788145951858, 0.04298717719900988, -0.337606399168051, -0.3490972931123941, -0.5068354424402199, -0.3116103659287749, 1.0846448965688362, 0.7977311205483589, -1.1431753830869036, -0.3186293795663426, -1.750924615250202, -2.9488522016425787, 1.0169344193039447, 2.050260613333816, -1.5193722818685347, -0.5621209693088283, -0.5330376530210282, -2.8566440070623837, 0.78605289587328, 0.6611326911720234, 0.5281680667288813, 0.25602262924607333, -0.2421640457669898, 0.6945191944719256, 0.20354542028254255, 1.8725122134796268, -0.36854262725668063, -0.12557761460437292, -1.1779969538295298, 0.8337681119216217, -1.5967903515443078, -0.04603274957753495, 0.8577657360409547, 0.7615458964802142, -0.14898456791709666, 1.5661071602007113, -0.026215842003465106, -1.082701548546245, 1.291549300882984, 0.660437905490934, 0.7527743950155561, 0.1931582437842661, 0.28666233615420045, -1.3854754111964733, 1.1329097329405442, -0.1666932286083753, 1.0478947021859135, -1.8983432266477809, 1.6402811698311521, 0.7327081792627386, -1.1965885360578552, -1.1112064603879197, -0.27374826444604033, -0.3001220396103051, -0.5899607786100437, 0.7028745544320834, -0.09837521162133121, -1.9735466621727498, -0.20186640833230038, 1.0704831627253344, 0.9826482537507075, -1.5718950401733178, -2.147274930201117, -0.6141840005922726, -2.350297390865512, -1.1963069467822, -1.2615040276058762, -0.07541991306592753, -0.5688190765678266, 0.9355969297751028, -2.2030141721337824, -0.07365859575543833, -0.5432217858757188, 0.0661776750639695, -0.9330942246422116, 1.048692435536162, 1.308334734308985, -0.28020285246212434, -0.7302103967012064, -0.23986559247048359, -0.20001295011184908, -1.536716833187831, -0.25617333188326635, -1.2055988763345966, -2.1354257691690695, 1.3616065782581308, 0.397343084340552, 0.46338631253367857, -0.6698575399509631, -0.2403364364402599, -0.6986079146756682, -1.4686138159507987, -0.27074685859711606, 0.5755507541235156, -2.2020184068867, -0.3417824817094762], \"xaxis\": \"x12\", \"y\": [-1.7485201069591834, -1.248420460246769, -1.0075280699285276, -0.9725518392526331, -0.6125580000788612, 1.5760168254053477, 3.1112798898969665, 0.12091950003886064, -1.7155531562944366, -0.8096404549948362, -0.5060314294593212, 0.09533818535459651, 2.1690743098645586, 1.2080495707997074, -2.6202202715084986, 0.09767169102789787, -1.2819820037327558, 0.13518469888419476, -3.084790549939067, -0.0928415934708775, 1.1239154243379592, 0.5284989727147826, 1.780036515541744, -0.3670349035589682, 0.991359504796717, 1.0980606254994498, 0.05889203924934366, 1.3520304892360469, -2.2532625362966905, 2.511047084901181, 1.4777598495378366, 0.7107639517827246, 0.9905571434022301, 0.4939042051628568, -0.30318369202593204, -0.20572389186947077, 1.5111963961491124, 0.818542866015444, 1.405947976651865, 0.07589676612528864, -1.6150177283856333, 0.4829498586775949, -1.0020525017535273, 0.48705033350238613, 0.7893913940389492, 1.042603772749581, 0.7023316180161469, 0.9989523840144684, -0.8679755846735273, -0.3498252885375398, 0.676618385436938, 0.04081092286680008, 0.3610496227384134, -0.10556015372926142, -0.5683480892831416, -0.5250362254432627, -1.209124371647606, 1.1859934357640527, -0.6432401817537491, 1.5482412077671712, -0.9114281767939825, 0.27412471147018425, 1.5136983928699403, 1.811251440223618, -1.1407022465952563, -0.11489383916197456, -0.18828021095885358, 1.3309600894134206, -1.846507522364263, -0.3795601778584485, 0.724337773539108, 0.608226848828633, 2.145322528431656, -1.316798218389222, -0.0561128168489964, 0.6962038416091032, 0.6021415493331566, -0.962852009548119, -0.8064038979687622, -1.8281566150887754, -1.3891228837001643, -0.8274390005044422, -0.6016672382221137, -0.8894914442305945, 0.5220285374608629, -0.5593335491776248, 1.5660959296870434, -1.1105594030213204, -0.9716912024083473, 0.8155124851298962, 0.4608813156671842, 0.8719395265683174, -0.315649587010231, 0.47345649994695366, -0.09303806480081672, -0.3039382915405551, -0.9049587882620793, -0.8812215048138823, 0.8136540326243287, -1.586615858482131], \"yaxis\": \"y12\"}, {\"line\": {\"color\": \"rgba(128, 128, 128, 1.0)\", \"dash\": \"solid\", \"shape\": \"linear\", \"width\": 1.3}, \"marker\": {\"size\": 2, \"symbol\": \"circle\"}, \"mode\": \"markers\", \"name\": \"D\", \"text\": \"\", \"type\": \"scatter\", \"x\": [0.27442011925577803, 0.4966318940744484, 0.9235787135880593, -1.3078878995183352, 1.029829990968547, 0.8768161316518825, 1.7607058214307147, -1.3352873795477167, -1.2398425570338618, 1.5554085396300308, 0.10574878112682273, 0.02877669534919826, 0.14547075907513576, 1.0931273800644667, 0.6761310088429014, 0.2784728536362254, -0.1660772458435563, -1.3210450424175817, 0.5718288528568582, 0.14355910285361492, -0.015859406501193326, 1.213306555373937, 0.4930056971125333, 0.9639894896117828, -1.6921012175771217, -1.4497539051335953, 0.5452526346624451, -0.645093482314308, -0.21143817105405713, 2.025199604317894, 1.0647915440432545, -0.9974086869972061, -0.026009175991362356, 0.8223224835488065, -0.6874438195145413, -1.1633762926469993, -2.1889031235002805, -1.6981324604478112, -0.8322915772080726, 0.8457591850393001, 2.1442085506693567, -1.5640271898647706, 0.7744562894683265, -0.38201421593223095, -0.6212905805519496, 1.5069808387621415, -0.26160458098711914, -0.4081977076676588, 0.06513595918607111, 1.5251829050865908, -1.364239429827965, -0.5723650046038495, -0.35491042630058367, 0.40182125294929, -1.0754453343631818, -0.7618618960949269, -0.9443244125840022, 0.8377214807586354, -0.031809465745655796, -1.0932793443090683, 0.4765706510147636, 2.05418105903198, 0.6394359942486391, 0.6371385671293637, 0.2426186474648045, -1.0881770872260315, -0.5516764613258204, -0.11777518422355525, 0.541620929047994, 0.2957312870889277, 0.4429090976829458, 0.7507240275163064, 0.006266873749813978, 1.0006292376829993, 1.6362468479250005, -0.3947402655677738, -0.48899105814741345, -0.3409198288169905, -1.8392733203270557, 2.0689286752747007, -1.0029774967312513, -0.6540448424261963, -1.0189861726963385, 1.07798984585544, -0.07417500228963209, 1.9694312682613933, -0.6546260721310159, -1.854475447570704, 0.5933309905159341, 0.2967998336348711, 0.09463460669330889, 0.6294080359178124, -0.28956562341842773, -0.6560223447079263, 0.3153653081029692, -1.5263252201468034, 1.1928936794991623, 0.3887480233893524, -0.6057963382281494, -0.09917451743088809], \"xaxis\": \"x13\", \"y\": [2.400910959817672, 0.6819598149990173, -0.6232220194147332, 0.7887395442388007, -1.301788145951858, 0.04298717719900988, -0.337606399168051, -0.3490972931123941, -0.5068354424402199, -0.3116103659287749, 1.0846448965688362, 0.7977311205483589, -1.1431753830869036, -0.3186293795663426, -1.750924615250202, -2.9488522016425787, 1.0169344193039447, 2.050260613333816, -1.5193722818685347, -0.5621209693088283, -0.5330376530210282, -2.8566440070623837, 0.78605289587328, 0.6611326911720234, 0.5281680667288813, 0.25602262924607333, -0.2421640457669898, 0.6945191944719256, 0.20354542028254255, 1.8725122134796268, -0.36854262725668063, -0.12557761460437292, -1.1779969538295298, 0.8337681119216217, -1.5967903515443078, -0.04603274957753495, 0.8577657360409547, 0.7615458964802142, -0.14898456791709666, 1.5661071602007113, -0.026215842003465106, -1.082701548546245, 1.291549300882984, 0.660437905490934, 0.7527743950155561, 0.1931582437842661, 0.28666233615420045, -1.3854754111964733, 1.1329097329405442, -0.1666932286083753, 1.0478947021859135, -1.8983432266477809, 1.6402811698311521, 0.7327081792627386, -1.1965885360578552, -1.1112064603879197, -0.27374826444604033, -0.3001220396103051, -0.5899607786100437, 0.7028745544320834, -0.09837521162133121, -1.9735466621727498, -0.20186640833230038, 1.0704831627253344, 0.9826482537507075, -1.5718950401733178, -2.147274930201117, -0.6141840005922726, -2.350297390865512, -1.1963069467822, -1.2615040276058762, -0.07541991306592753, -0.5688190765678266, 0.9355969297751028, -2.2030141721337824, -0.07365859575543833, -0.5432217858757188, 0.0661776750639695, -0.9330942246422116, 1.048692435536162, 1.308334734308985, -0.28020285246212434, -0.7302103967012064, -0.23986559247048359, -0.20001295011184908, -1.536716833187831, -0.25617333188326635, -1.2055988763345966, -2.1354257691690695, 1.3616065782581308, 0.397343084340552, 0.46338631253367857, -0.6698575399509631, -0.2403364364402599, -0.6986079146756682, -1.4686138159507987, -0.27074685859711606, 0.5755507541235156, -2.2020184068867, -0.3417824817094762], \"yaxis\": \"y13\"}, {\"line\": {\"color\": \"rgba(128, 128, 128, 1.0)\", \"dash\": \"solid\", \"shape\": \"linear\", \"width\": 1.3}, \"marker\": {\"size\": 2, \"symbol\": \"circle\"}, \"mode\": \"markers\", \"name\": \"D\", \"text\": \"\", \"type\": \"scatter\", \"x\": [-0.5338968153279375, -0.737604098516914, 0.786032577826171, -0.18168043763582525, 0.3948231518046967, -1.285656839190833, 0.4929836120109994, 0.730148677998628, 0.6268605758227215, -0.5557695793174016, -0.40070084283238566, -0.04766528323845765, 1.3308041018589245, 1.2819449899198534, 0.8477216185770992, -0.8927707828167398, 0.6494375285903279, -1.2050108148432601, -0.07473626077998291, 0.8980669929684267, -0.5269968586077552, 1.6733011574136327, -0.15811245055144024, -0.7697173802854936, -1.0724251934501332, 2.0162661600162446, 0.825875520162066, 1.3431956059693588, 0.48621638477181517, 1.9553703128659479, -1.2848791904167656, 1.293267623163678, 0.22717944081984312, 0.08644533575156765, -0.6200100862166263, 2.822142109349293, 0.8261081315305128, -1.2264751974926702, -0.0886059823022562, 0.9571956710271053, 0.08646891800960291, -0.34677771441293503, 0.40851804088487054, 0.6649783338954706, -1.0969296957460855, -0.6743437678108863, -1.0918800892854403, 1.3214368372712242, -0.489847125076919, -0.27283397042230634, 1.0339465645395904, 1.678053130552742, 0.964812094346171, 0.19271156696874114, 1.3594228629156795, 0.7175701611203561, 0.45770851544861324, -0.9127473216263866, 0.4025668759667475, 1.240468662104316, -0.41875097813805773, -1.9458153186721703, 0.3845377635616228, 1.1341057816012856, 1.187647773407586, -0.6271936129770707, 1.529874764186071, -0.639045433088632, 1.245578441840703, -1.0598794371239935, 0.22162474696218795, 0.714755826671371, -0.6464888249376306, -0.15991178748956184, 0.44270651657742105, -0.49536621779670165, -0.3337392917600911, -0.3722023058235199, 1.7853238046755189, 0.6672531974451232, -0.0629772291874929, -0.2679822545976978, -0.427960450897043, 1.2255891597486852, 1.6349909023914029, -1.0990742295726037, -0.4031039386900612, -1.8840151714757252, 0.24122678438561407, -1.63272285788489, -0.45215556888368347, 0.9996177661914009, -0.8972395864459162, -0.3852976988003857, -1.6048338125867412, 0.6810799365123126, 0.6343674901247007, 0.6846125078879841, 0.7511672981039151, -0.28261636398842405], \"xaxis\": \"x14\", \"y\": [2.400910959817672, 0.6819598149990173, -0.6232220194147332, 0.7887395442388007, -1.301788145951858, 0.04298717719900988, -0.337606399168051, -0.3490972931123941, -0.5068354424402199, -0.3116103659287749, 1.0846448965688362, 0.7977311205483589, -1.1431753830869036, -0.3186293795663426, -1.750924615250202, -2.9488522016425787, 1.0169344193039447, 2.050260613333816, -1.5193722818685347, -0.5621209693088283, -0.5330376530210282, -2.8566440070623837, 0.78605289587328, 0.6611326911720234, 0.5281680667288813, 0.25602262924607333, -0.2421640457669898, 0.6945191944719256, 0.20354542028254255, 1.8725122134796268, -0.36854262725668063, -0.12557761460437292, -1.1779969538295298, 0.8337681119216217, -1.5967903515443078, -0.04603274957753495, 0.8577657360409547, 0.7615458964802142, -0.14898456791709666, 1.5661071602007113, -0.026215842003465106, -1.082701548546245, 1.291549300882984, 0.660437905490934, 0.7527743950155561, 0.1931582437842661, 0.28666233615420045, -1.3854754111964733, 1.1329097329405442, -0.1666932286083753, 1.0478947021859135, -1.8983432266477809, 1.6402811698311521, 0.7327081792627386, -1.1965885360578552, -1.1112064603879197, -0.27374826444604033, -0.3001220396103051, -0.5899607786100437, 0.7028745544320834, -0.09837521162133121, -1.9735466621727498, -0.20186640833230038, 1.0704831627253344, 0.9826482537507075, -1.5718950401733178, -2.147274930201117, -0.6141840005922726, -2.350297390865512, -1.1963069467822, -1.2615040276058762, -0.07541991306592753, -0.5688190765678266, 0.9355969297751028, -2.2030141721337824, -0.07365859575543833, -0.5432217858757188, 0.0661776750639695, -0.9330942246422116, 1.048692435536162, 1.308334734308985, -0.28020285246212434, -0.7302103967012064, -0.23986559247048359, -0.20001295011184908, -1.536716833187831, -0.25617333188326635, -1.2055988763345966, -2.1354257691690695, 1.3616065782581308, 0.397343084340552, 0.46338631253367857, -0.6698575399509631, -0.2403364364402599, -0.6986079146756682, -1.4686138159507987, -0.27074685859711606, 0.5755507541235156, -2.2020184068867, -0.3417824817094762], \"yaxis\": \"y14\"}, {\"line\": {\"color\": \"rgba(128, 128, 128, 1.0)\", \"dash\": \"solid\", \"shape\": \"linear\", \"width\": 1.3}, \"marker\": {\"size\": 2, \"symbol\": \"circle\"}, \"mode\": \"markers\", \"name\": \"D\", \"text\": \"\", \"type\": \"scatter\", \"x\": [-1.7485201069591834, -1.248420460246769, -1.0075280699285276, -0.9725518392526331, -0.6125580000788612, 1.5760168254053477, 3.1112798898969665, 0.12091950003886064, -1.7155531562944366, -0.8096404549948362, -0.5060314294593212, 0.09533818535459651, 2.1690743098645586, 1.2080495707997074, -2.6202202715084986, 0.09767169102789787, -1.2819820037327558, 0.13518469888419476, -3.084790549939067, -0.0928415934708775, 1.1239154243379592, 0.5284989727147826, 1.780036515541744, -0.3670349035589682, 0.991359504796717, 1.0980606254994498, 0.05889203924934366, 1.3520304892360469, -2.2532625362966905, 2.511047084901181, 1.4777598495378366, 0.7107639517827246, 0.9905571434022301, 0.4939042051628568, -0.30318369202593204, -0.20572389186947077, 1.5111963961491124, 0.818542866015444, 1.405947976651865, 0.07589676612528864, -1.6150177283856333, 0.4829498586775949, -1.0020525017535273, 0.48705033350238613, 0.7893913940389492, 1.042603772749581, 0.7023316180161469, 0.9989523840144684, -0.8679755846735273, -0.3498252885375398, 0.676618385436938, 0.04081092286680008, 0.3610496227384134, -0.10556015372926142, -0.5683480892831416, -0.5250362254432627, -1.209124371647606, 1.1859934357640527, -0.6432401817537491, 1.5482412077671712, -0.9114281767939825, 0.27412471147018425, 1.5136983928699403, 1.811251440223618, -1.1407022465952563, -0.11489383916197456, -0.18828021095885358, 1.3309600894134206, -1.846507522364263, -0.3795601778584485, 0.724337773539108, 0.608226848828633, 2.145322528431656, -1.316798218389222, -0.0561128168489964, 0.6962038416091032, 0.6021415493331566, -0.962852009548119, -0.8064038979687622, -1.8281566150887754, -1.3891228837001643, -0.8274390005044422, -0.6016672382221137, -0.8894914442305945, 0.5220285374608629, -0.5593335491776248, 1.5660959296870434, -1.1105594030213204, -0.9716912024083473, 0.8155124851298962, 0.4608813156671842, 0.8719395265683174, -0.315649587010231, 0.47345649994695366, -0.09303806480081672, -0.3039382915405551, -0.9049587882620793, -0.8812215048138823, 0.8136540326243287, -1.586615858482131], \"xaxis\": \"x15\", \"y\": [2.400910959817672, 0.6819598149990173, -0.6232220194147332, 0.7887395442388007, -1.301788145951858, 0.04298717719900988, -0.337606399168051, -0.3490972931123941, -0.5068354424402199, -0.3116103659287749, 1.0846448965688362, 0.7977311205483589, -1.1431753830869036, -0.3186293795663426, -1.750924615250202, -2.9488522016425787, 1.0169344193039447, 2.050260613333816, -1.5193722818685347, -0.5621209693088283, -0.5330376530210282, -2.8566440070623837, 0.78605289587328, 0.6611326911720234, 0.5281680667288813, 0.25602262924607333, -0.2421640457669898, 0.6945191944719256, 0.20354542028254255, 1.8725122134796268, -0.36854262725668063, -0.12557761460437292, -1.1779969538295298, 0.8337681119216217, -1.5967903515443078, -0.04603274957753495, 0.8577657360409547, 0.7615458964802142, -0.14898456791709666, 1.5661071602007113, -0.026215842003465106, -1.082701548546245, 1.291549300882984, 0.660437905490934, 0.7527743950155561, 0.1931582437842661, 0.28666233615420045, -1.3854754111964733, 1.1329097329405442, -0.1666932286083753, 1.0478947021859135, -1.8983432266477809, 1.6402811698311521, 0.7327081792627386, -1.1965885360578552, -1.1112064603879197, -0.27374826444604033, -0.3001220396103051, -0.5899607786100437, 0.7028745544320834, -0.09837521162133121, -1.9735466621727498, -0.20186640833230038, 1.0704831627253344, 0.9826482537507075, -1.5718950401733178, -2.147274930201117, -0.6141840005922726, -2.350297390865512, -1.1963069467822, -1.2615040276058762, -0.07541991306592753, -0.5688190765678266, 0.9355969297751028, -2.2030141721337824, -0.07365859575543833, -0.5432217858757188, 0.0661776750639695, -0.9330942246422116, 1.048692435536162, 1.308334734308985, -0.28020285246212434, -0.7302103967012064, -0.23986559247048359, -0.20001295011184908, -1.536716833187831, -0.25617333188326635, -1.2055988763345966, -2.1354257691690695, 1.3616065782581308, 0.397343084340552, 0.46338631253367857, -0.6698575399509631, -0.2403364364402599, -0.6986079146756682, -1.4686138159507987, -0.27074685859711606, 0.5755507541235156, -2.2020184068867, -0.3417824817094762], \"yaxis\": \"y15\"}, {\"histfunc\": \"count\", \"histnorm\": \"\", \"marker\": {\"color\": \"rgba(128, 0, 128, 1.0)\", \"line\": {\"color\": \"#4D5663\", \"width\": 1.3}}, \"name\": \"D\", \"nbinsx\": 10, \"opacity\": 0.8, \"orientation\": \"v\", \"type\": \"histogram\", \"x\": [2.400910959817672, 0.6819598149990173, -0.6232220194147332, 0.7887395442388007, -1.301788145951858, 0.04298717719900988, -0.337606399168051, -0.3490972931123941, -0.5068354424402199, -0.3116103659287749, 1.0846448965688362, 0.7977311205483589, -1.1431753830869036, -0.3186293795663426, -1.750924615250202, -2.9488522016425787, 1.0169344193039447, 2.050260613333816, -1.5193722818685347, -0.5621209693088283, -0.5330376530210282, -2.8566440070623837, 0.78605289587328, 0.6611326911720234, 0.5281680667288813, 0.25602262924607333, -0.2421640457669898, 0.6945191944719256, 0.20354542028254255, 1.8725122134796268, -0.36854262725668063, -0.12557761460437292, -1.1779969538295298, 0.8337681119216217, -1.5967903515443078, -0.04603274957753495, 0.8577657360409547, 0.7615458964802142, -0.14898456791709666, 1.5661071602007113, -0.026215842003465106, -1.082701548546245, 1.291549300882984, 0.660437905490934, 0.7527743950155561, 0.1931582437842661, 0.28666233615420045, -1.3854754111964733, 1.1329097329405442, -0.1666932286083753, 1.0478947021859135, -1.8983432266477809, 1.6402811698311521, 0.7327081792627386, -1.1965885360578552, -1.1112064603879197, -0.27374826444604033, -0.3001220396103051, -0.5899607786100437, 0.7028745544320834, -0.09837521162133121, -1.9735466621727498, -0.20186640833230038, 1.0704831627253344, 0.9826482537507075, -1.5718950401733178, -2.147274930201117, -0.6141840005922726, -2.350297390865512, -1.1963069467822, -1.2615040276058762, -0.07541991306592753, -0.5688190765678266, 0.9355969297751028, -2.2030141721337824, -0.07365859575543833, -0.5432217858757188, 0.0661776750639695, -0.9330942246422116, 1.048692435536162, 1.308334734308985, -0.28020285246212434, -0.7302103967012064, -0.23986559247048359, -0.20001295011184908, -1.536716833187831, -0.25617333188326635, -1.2055988763345966, -2.1354257691690695, 1.3616065782581308, 0.397343084340552, 0.46338631253367857, -0.6698575399509631, -0.2403364364402599, -0.6986079146756682, -1.4686138159507987, -0.27074685859711606, 0.5755507541235156, -2.2020184068867, -0.3417824817094762], \"xaxis\": \"x16\", \"yaxis\": \"y16\"}],\n",
       "                        {\"bargap\": 0.02, \"legend\": {\"bgcolor\": \"#F5F6F9\", \"font\": {\"color\": \"#4D5663\"}}, \"paper_bgcolor\": \"#F5F6F9\", \"plot_bgcolor\": \"#F5F6F9\", \"showlegend\": false, \"template\": {\"data\": {\"bar\": [{\"error_x\": {\"color\": \"#2a3f5f\"}, \"error_y\": {\"color\": \"#2a3f5f\"}, \"marker\": {\"line\": {\"color\": \"#E5ECF6\", \"width\": 0.5}}, \"type\": \"bar\"}], \"barpolar\": [{\"marker\": {\"line\": {\"color\": \"#E5ECF6\", \"width\": 0.5}}, \"type\": \"barpolar\"}], \"carpet\": [{\"aaxis\": {\"endlinecolor\": \"#2a3f5f\", \"gridcolor\": \"white\", \"linecolor\": \"white\", \"minorgridcolor\": \"white\", \"startlinecolor\": \"#2a3f5f\"}, \"baxis\": {\"endlinecolor\": \"#2a3f5f\", \"gridcolor\": \"white\", \"linecolor\": \"white\", \"minorgridcolor\": \"white\", \"startlinecolor\": \"#2a3f5f\"}, \"type\": \"carpet\"}], \"choropleth\": [{\"colorbar\": {\"outlinewidth\": 0, \"ticks\": \"\"}, \"type\": \"choropleth\"}], \"contour\": [{\"colorbar\": {\"outlinewidth\": 0, \"ticks\": \"\"}, \"colorscale\": [[0.0, \"#0d0887\"], [0.1111111111111111, \"#46039f\"], [0.2222222222222222, \"#7201a8\"], [0.3333333333333333, \"#9c179e\"], [0.4444444444444444, \"#bd3786\"], [0.5555555555555556, \"#d8576b\"], [0.6666666666666666, \"#ed7953\"], [0.7777777777777778, \"#fb9f3a\"], [0.8888888888888888, \"#fdca26\"], [1.0, \"#f0f921\"]], \"type\": \"contour\"}], \"contourcarpet\": [{\"colorbar\": {\"outlinewidth\": 0, \"ticks\": \"\"}, \"type\": \"contourcarpet\"}], \"heatmap\": [{\"colorbar\": {\"outlinewidth\": 0, \"ticks\": \"\"}, \"colorscale\": [[0.0, \"#0d0887\"], [0.1111111111111111, \"#46039f\"], [0.2222222222222222, \"#7201a8\"], [0.3333333333333333, \"#9c179e\"], [0.4444444444444444, \"#bd3786\"], [0.5555555555555556, \"#d8576b\"], [0.6666666666666666, \"#ed7953\"], [0.7777777777777778, \"#fb9f3a\"], [0.8888888888888888, \"#fdca26\"], [1.0, \"#f0f921\"]], \"type\": \"heatmap\"}], \"heatmapgl\": [{\"colorbar\": {\"outlinewidth\": 0, \"ticks\": \"\"}, \"colorscale\": [[0.0, \"#0d0887\"], [0.1111111111111111, \"#46039f\"], [0.2222222222222222, \"#7201a8\"], [0.3333333333333333, \"#9c179e\"], [0.4444444444444444, \"#bd3786\"], [0.5555555555555556, \"#d8576b\"], [0.6666666666666666, \"#ed7953\"], [0.7777777777777778, \"#fb9f3a\"], [0.8888888888888888, \"#fdca26\"], [1.0, \"#f0f921\"]], \"type\": \"heatmapgl\"}], \"histogram\": [{\"marker\": {\"colorbar\": {\"outlinewidth\": 0, \"ticks\": \"\"}}, \"type\": \"histogram\"}], \"histogram2d\": [{\"colorbar\": {\"outlinewidth\": 0, \"ticks\": \"\"}, \"colorscale\": [[0.0, \"#0d0887\"], [0.1111111111111111, \"#46039f\"], [0.2222222222222222, \"#7201a8\"], [0.3333333333333333, \"#9c179e\"], [0.4444444444444444, \"#bd3786\"], [0.5555555555555556, \"#d8576b\"], [0.6666666666666666, \"#ed7953\"], [0.7777777777777778, \"#fb9f3a\"], [0.8888888888888888, \"#fdca26\"], [1.0, \"#f0f921\"]], \"type\": \"histogram2d\"}], \"histogram2dcontour\": [{\"colorbar\": {\"outlinewidth\": 0, \"ticks\": \"\"}, \"colorscale\": [[0.0, \"#0d0887\"], [0.1111111111111111, \"#46039f\"], [0.2222222222222222, \"#7201a8\"], [0.3333333333333333, \"#9c179e\"], [0.4444444444444444, \"#bd3786\"], [0.5555555555555556, \"#d8576b\"], [0.6666666666666666, \"#ed7953\"], [0.7777777777777778, \"#fb9f3a\"], [0.8888888888888888, \"#fdca26\"], [1.0, \"#f0f921\"]], \"type\": \"histogram2dcontour\"}], \"mesh3d\": [{\"colorbar\": {\"outlinewidth\": 0, \"ticks\": \"\"}, \"type\": \"mesh3d\"}], \"parcoords\": [{\"line\": {\"colorbar\": {\"outlinewidth\": 0, \"ticks\": \"\"}}, \"type\": \"parcoords\"}], \"pie\": [{\"automargin\": true, \"type\": \"pie\"}], \"scatter\": [{\"marker\": {\"colorbar\": {\"outlinewidth\": 0, \"ticks\": \"\"}}, \"type\": \"scatter\"}], \"scatter3d\": [{\"line\": {\"colorbar\": {\"outlinewidth\": 0, \"ticks\": \"\"}}, \"marker\": {\"colorbar\": {\"outlinewidth\": 0, \"ticks\": \"\"}}, \"type\": \"scatter3d\"}], \"scattercarpet\": [{\"marker\": {\"colorbar\": {\"outlinewidth\": 0, \"ticks\": \"\"}}, \"type\": \"scattercarpet\"}], \"scattergeo\": [{\"marker\": {\"colorbar\": {\"outlinewidth\": 0, \"ticks\": \"\"}}, \"type\": \"scattergeo\"}], \"scattergl\": [{\"marker\": {\"colorbar\": {\"outlinewidth\": 0, \"ticks\": \"\"}}, \"type\": \"scattergl\"}], \"scattermapbox\": [{\"marker\": {\"colorbar\": {\"outlinewidth\": 0, \"ticks\": \"\"}}, \"type\": \"scattermapbox\"}], \"scatterpolar\": [{\"marker\": {\"colorbar\": {\"outlinewidth\": 0, \"ticks\": \"\"}}, \"type\": \"scatterpolar\"}], \"scatterpolargl\": [{\"marker\": {\"colorbar\": {\"outlinewidth\": 0, \"ticks\": \"\"}}, \"type\": \"scatterpolargl\"}], \"scatterternary\": [{\"marker\": {\"colorbar\": {\"outlinewidth\": 0, \"ticks\": \"\"}}, \"type\": \"scatterternary\"}], \"surface\": [{\"colorbar\": {\"outlinewidth\": 0, \"ticks\": \"\"}, \"colorscale\": [[0.0, \"#0d0887\"], [0.1111111111111111, \"#46039f\"], [0.2222222222222222, \"#7201a8\"], [0.3333333333333333, \"#9c179e\"], [0.4444444444444444, \"#bd3786\"], [0.5555555555555556, \"#d8576b\"], [0.6666666666666666, \"#ed7953\"], [0.7777777777777778, \"#fb9f3a\"], [0.8888888888888888, \"#fdca26\"], [1.0, \"#f0f921\"]], \"type\": \"surface\"}], \"table\": [{\"cells\": {\"fill\": {\"color\": \"#EBF0F8\"}, \"line\": {\"color\": \"white\"}}, \"header\": {\"fill\": {\"color\": \"#C8D4E3\"}, \"line\": {\"color\": \"white\"}}, \"type\": \"table\"}]}, \"layout\": {\"annotationdefaults\": {\"arrowcolor\": \"#2a3f5f\", \"arrowhead\": 0, \"arrowwidth\": 1}, \"coloraxis\": {\"colorbar\": {\"outlinewidth\": 0, \"ticks\": \"\"}}, \"colorscale\": {\"diverging\": [[0, \"#8e0152\"], [0.1, \"#c51b7d\"], [0.2, \"#de77ae\"], [0.3, \"#f1b6da\"], [0.4, \"#fde0ef\"], [0.5, \"#f7f7f7\"], [0.6, \"#e6f5d0\"], [0.7, \"#b8e186\"], [0.8, \"#7fbc41\"], [0.9, \"#4d9221\"], [1, \"#276419\"]], \"sequential\": [[0.0, \"#0d0887\"], [0.1111111111111111, \"#46039f\"], [0.2222222222222222, \"#7201a8\"], [0.3333333333333333, \"#9c179e\"], [0.4444444444444444, \"#bd3786\"], [0.5555555555555556, \"#d8576b\"], [0.6666666666666666, \"#ed7953\"], [0.7777777777777778, \"#fb9f3a\"], [0.8888888888888888, \"#fdca26\"], [1.0, \"#f0f921\"]], \"sequentialminus\": [[0.0, \"#0d0887\"], [0.1111111111111111, \"#46039f\"], [0.2222222222222222, \"#7201a8\"], [0.3333333333333333, \"#9c179e\"], [0.4444444444444444, \"#bd3786\"], [0.5555555555555556, \"#d8576b\"], [0.6666666666666666, \"#ed7953\"], [0.7777777777777778, \"#fb9f3a\"], [0.8888888888888888, \"#fdca26\"], [1.0, \"#f0f921\"]]}, \"colorway\": [\"#636efa\", \"#EF553B\", \"#00cc96\", \"#ab63fa\", \"#FFA15A\", \"#19d3f3\", \"#FF6692\", \"#B6E880\", \"#FF97FF\", \"#FECB52\"], \"font\": {\"color\": \"#2a3f5f\"}, \"geo\": {\"bgcolor\": \"white\", \"lakecolor\": \"white\", \"landcolor\": \"#E5ECF6\", \"showlakes\": true, \"showland\": true, \"subunitcolor\": \"white\"}, \"hoverlabel\": {\"align\": \"left\"}, \"hovermode\": \"closest\", \"mapbox\": {\"style\": \"light\"}, \"paper_bgcolor\": \"white\", \"plot_bgcolor\": \"#E5ECF6\", \"polar\": {\"angularaxis\": {\"gridcolor\": \"white\", \"linecolor\": \"white\", \"ticks\": \"\"}, \"bgcolor\": \"#E5ECF6\", \"radialaxis\": {\"gridcolor\": \"white\", \"linecolor\": \"white\", \"ticks\": \"\"}}, \"scene\": {\"xaxis\": {\"backgroundcolor\": \"#E5ECF6\", \"gridcolor\": \"white\", \"gridwidth\": 2, \"linecolor\": \"white\", \"showbackground\": true, \"ticks\": \"\", \"zerolinecolor\": \"white\"}, \"yaxis\": {\"backgroundcolor\": \"#E5ECF6\", \"gridcolor\": \"white\", \"gridwidth\": 2, \"linecolor\": \"white\", \"showbackground\": true, \"ticks\": \"\", \"zerolinecolor\": \"white\"}, \"zaxis\": {\"backgroundcolor\": \"#E5ECF6\", \"gridcolor\": \"white\", \"gridwidth\": 2, \"linecolor\": \"white\", \"showbackground\": true, \"ticks\": \"\", \"zerolinecolor\": \"white\"}}, \"shapedefaults\": {\"line\": {\"color\": \"#2a3f5f\"}}, \"ternary\": {\"aaxis\": {\"gridcolor\": \"white\", \"linecolor\": \"white\", \"ticks\": \"\"}, \"baxis\": {\"gridcolor\": \"white\", \"linecolor\": \"white\", \"ticks\": \"\"}, \"bgcolor\": \"#E5ECF6\", \"caxis\": {\"gridcolor\": \"white\", \"linecolor\": \"white\", \"ticks\": \"\"}}, \"title\": {\"x\": 0.05}, \"xaxis\": {\"automargin\": true, \"gridcolor\": \"white\", \"linecolor\": \"white\", \"ticks\": \"\", \"title\": {\"standoff\": 15}, \"zerolinecolor\": \"white\", \"zerolinewidth\": 2}, \"yaxis\": {\"automargin\": true, \"gridcolor\": \"white\", \"linecolor\": \"white\", \"ticks\": \"\", \"title\": {\"standoff\": 15}, \"zerolinecolor\": \"white\", \"zerolinewidth\": 2}}}, \"title\": {\"font\": {\"color\": \"#4D5663\"}}, \"xaxis\": {\"anchor\": \"y\", \"domain\": [0.0, 0.2125], \"gridcolor\": \"#E1E5ED\", \"showgrid\": false, \"tickfont\": {\"color\": \"#4D5663\"}, \"title\": {\"font\": {\"color\": \"#4D5663\"}, \"text\": \"\"}, \"zerolinecolor\": \"#E1E5ED\"}, \"xaxis10\": {\"anchor\": \"y10\", \"domain\": [0.2625, 0.475], \"gridcolor\": \"#E1E5ED\", \"showgrid\": false, \"tickfont\": {\"color\": \"#4D5663\"}, \"title\": {\"font\": {\"color\": \"#4D5663\"}, \"text\": \"\"}, \"zerolinecolor\": \"#E1E5ED\"}, \"xaxis11\": {\"anchor\": \"y11\", \"domain\": [0.525, 0.7375], \"gridcolor\": \"#E1E5ED\", \"showgrid\": false, \"tickfont\": {\"color\": \"#4D5663\"}, \"title\": {\"font\": {\"color\": \"#4D5663\"}, \"text\": \"\"}, \"zerolinecolor\": \"#E1E5ED\"}, \"xaxis12\": {\"anchor\": \"y12\", \"domain\": [0.7875, 1.0], \"gridcolor\": \"#E1E5ED\", \"showgrid\": false, \"tickfont\": {\"color\": \"#4D5663\"}, \"title\": {\"font\": {\"color\": \"#4D5663\"}, \"text\": \"\"}, \"zerolinecolor\": \"#E1E5ED\"}, \"xaxis13\": {\"anchor\": \"y13\", \"domain\": [0.0, 0.2125], \"gridcolor\": \"#E1E5ED\", \"showgrid\": false, \"tickfont\": {\"color\": \"#4D5663\"}, \"title\": {\"font\": {\"color\": \"#4D5663\"}, \"text\": \"\"}, \"zerolinecolor\": \"#E1E5ED\"}, \"xaxis14\": {\"anchor\": \"y14\", \"domain\": [0.2625, 0.475], \"gridcolor\": \"#E1E5ED\", \"showgrid\": false, \"tickfont\": {\"color\": \"#4D5663\"}, \"title\": {\"font\": {\"color\": \"#4D5663\"}, \"text\": \"\"}, \"zerolinecolor\": \"#E1E5ED\"}, \"xaxis15\": {\"anchor\": \"y15\", \"domain\": [0.525, 0.7375], \"gridcolor\": \"#E1E5ED\", \"showgrid\": false, \"tickfont\": {\"color\": \"#4D5663\"}, \"title\": {\"font\": {\"color\": \"#4D5663\"}, \"text\": \"\"}, \"zerolinecolor\": \"#E1E5ED\"}, \"xaxis16\": {\"anchor\": \"y16\", \"domain\": [0.7875, 1.0], \"gridcolor\": \"#E1E5ED\", \"showgrid\": false, \"tickfont\": {\"color\": \"#4D5663\"}, \"title\": {\"font\": {\"color\": \"#4D5663\"}, \"text\": \"\"}, \"zerolinecolor\": \"#E1E5ED\"}, \"xaxis2\": {\"anchor\": \"y2\", \"domain\": [0.2625, 0.475], \"gridcolor\": \"#E1E5ED\", \"showgrid\": false, \"tickfont\": {\"color\": \"#4D5663\"}, \"title\": {\"font\": {\"color\": \"#4D5663\"}, \"text\": \"\"}, \"zerolinecolor\": \"#E1E5ED\"}, \"xaxis3\": {\"anchor\": \"y3\", \"domain\": [0.525, 0.7375], \"gridcolor\": \"#E1E5ED\", \"showgrid\": false, \"tickfont\": {\"color\": \"#4D5663\"}, \"title\": {\"font\": {\"color\": \"#4D5663\"}, \"text\": \"\"}, \"zerolinecolor\": \"#E1E5ED\"}, \"xaxis4\": {\"anchor\": \"y4\", \"domain\": [0.7875, 1.0], \"gridcolor\": \"#E1E5ED\", \"showgrid\": false, \"tickfont\": {\"color\": \"#4D5663\"}, \"title\": {\"font\": {\"color\": \"#4D5663\"}, \"text\": \"\"}, \"zerolinecolor\": \"#E1E5ED\"}, \"xaxis5\": {\"anchor\": \"y5\", \"domain\": [0.0, 0.2125], \"gridcolor\": \"#E1E5ED\", \"showgrid\": false, \"tickfont\": {\"color\": \"#4D5663\"}, \"title\": {\"font\": {\"color\": \"#4D5663\"}, \"text\": \"\"}, \"zerolinecolor\": \"#E1E5ED\"}, \"xaxis6\": {\"anchor\": \"y6\", \"domain\": [0.2625, 0.475], \"gridcolor\": \"#E1E5ED\", \"showgrid\": false, \"tickfont\": {\"color\": \"#4D5663\"}, \"title\": {\"font\": {\"color\": \"#4D5663\"}, \"text\": \"\"}, \"zerolinecolor\": \"#E1E5ED\"}, \"xaxis7\": {\"anchor\": \"y7\", \"domain\": [0.525, 0.7375], \"gridcolor\": \"#E1E5ED\", \"showgrid\": false, \"tickfont\": {\"color\": \"#4D5663\"}, \"title\": {\"font\": {\"color\": \"#4D5663\"}, \"text\": \"\"}, \"zerolinecolor\": \"#E1E5ED\"}, \"xaxis8\": {\"anchor\": \"y8\", \"domain\": [0.7875, 1.0], \"gridcolor\": \"#E1E5ED\", \"showgrid\": false, \"tickfont\": {\"color\": \"#4D5663\"}, \"title\": {\"font\": {\"color\": \"#4D5663\"}, \"text\": \"\"}, \"zerolinecolor\": \"#E1E5ED\"}, \"xaxis9\": {\"anchor\": \"y9\", \"domain\": [0.0, 0.2125], \"gridcolor\": \"#E1E5ED\", \"showgrid\": false, \"tickfont\": {\"color\": \"#4D5663\"}, \"title\": {\"font\": {\"color\": \"#4D5663\"}, \"text\": \"\"}, \"zerolinecolor\": \"#E1E5ED\"}, \"yaxis\": {\"anchor\": \"x\", \"domain\": [0.8025, 1.0], \"gridcolor\": \"#E1E5ED\", \"showgrid\": false, \"tickfont\": {\"color\": \"#4D5663\"}, \"title\": {\"font\": {\"color\": \"#4D5663\"}, \"text\": \"\"}, \"zerolinecolor\": \"#E1E5ED\"}, \"yaxis10\": {\"anchor\": \"x10\", \"domain\": [0.2675, 0.465], \"gridcolor\": \"#E1E5ED\", \"showgrid\": false, \"tickfont\": {\"color\": \"#4D5663\"}, \"title\": {\"font\": {\"color\": \"#4D5663\"}, \"text\": \"\"}, \"zerolinecolor\": \"#E1E5ED\"}, \"yaxis11\": {\"anchor\": \"x11\", \"domain\": [0.2675, 0.465], \"gridcolor\": \"#E1E5ED\", \"showgrid\": false, \"tickfont\": {\"color\": \"#4D5663\"}, \"title\": {\"font\": {\"color\": \"#4D5663\"}, \"text\": \"\"}, \"zerolinecolor\": \"#E1E5ED\"}, \"yaxis12\": {\"anchor\": \"x12\", \"domain\": [0.2675, 0.465], \"gridcolor\": \"#E1E5ED\", \"showgrid\": false, \"tickfont\": {\"color\": \"#4D5663\"}, \"title\": {\"font\": {\"color\": \"#4D5663\"}, \"text\": \"\"}, \"zerolinecolor\": \"#E1E5ED\"}, \"yaxis13\": {\"anchor\": \"x13\", \"domain\": [0.0, 0.1975], \"gridcolor\": \"#E1E5ED\", \"showgrid\": false, \"tickfont\": {\"color\": \"#4D5663\"}, \"title\": {\"font\": {\"color\": \"#4D5663\"}, \"text\": \"\"}, \"zerolinecolor\": \"#E1E5ED\"}, \"yaxis14\": {\"anchor\": \"x14\", \"domain\": [0.0, 0.1975], \"gridcolor\": \"#E1E5ED\", \"showgrid\": false, \"tickfont\": {\"color\": \"#4D5663\"}, \"title\": {\"font\": {\"color\": \"#4D5663\"}, \"text\": \"\"}, \"zerolinecolor\": \"#E1E5ED\"}, \"yaxis15\": {\"anchor\": \"x15\", \"domain\": [0.0, 0.1975], \"gridcolor\": \"#E1E5ED\", \"showgrid\": false, \"tickfont\": {\"color\": \"#4D5663\"}, \"title\": {\"font\": {\"color\": \"#4D5663\"}, \"text\": \"\"}, \"zerolinecolor\": \"#E1E5ED\"}, \"yaxis16\": {\"anchor\": \"x16\", \"domain\": [0.0, 0.1975], \"gridcolor\": \"#E1E5ED\", \"showgrid\": false, \"tickfont\": {\"color\": \"#4D5663\"}, \"title\": {\"font\": {\"color\": \"#4D5663\"}, \"text\": \"\"}, \"zerolinecolor\": \"#E1E5ED\"}, \"yaxis2\": {\"anchor\": \"x2\", \"domain\": [0.8025, 1.0], \"gridcolor\": \"#E1E5ED\", \"showgrid\": false, \"tickfont\": {\"color\": \"#4D5663\"}, \"title\": {\"font\": {\"color\": \"#4D5663\"}, \"text\": \"\"}, \"zerolinecolor\": \"#E1E5ED\"}, \"yaxis3\": {\"anchor\": \"x3\", \"domain\": [0.8025, 1.0], \"gridcolor\": \"#E1E5ED\", \"showgrid\": false, \"tickfont\": {\"color\": \"#4D5663\"}, \"title\": {\"font\": {\"color\": \"#4D5663\"}, \"text\": \"\"}, \"zerolinecolor\": \"#E1E5ED\"}, \"yaxis4\": {\"anchor\": \"x4\", \"domain\": [0.8025, 1.0], \"gridcolor\": \"#E1E5ED\", \"showgrid\": false, \"tickfont\": {\"color\": \"#4D5663\"}, \"title\": {\"font\": {\"color\": \"#4D5663\"}, \"text\": \"\"}, \"zerolinecolor\": \"#E1E5ED\"}, \"yaxis5\": {\"anchor\": \"x5\", \"domain\": [0.535, 0.7325], \"gridcolor\": \"#E1E5ED\", \"showgrid\": false, \"tickfont\": {\"color\": \"#4D5663\"}, \"title\": {\"font\": {\"color\": \"#4D5663\"}, \"text\": \"\"}, \"zerolinecolor\": \"#E1E5ED\"}, \"yaxis6\": {\"anchor\": \"x6\", \"domain\": [0.535, 0.7325], \"gridcolor\": \"#E1E5ED\", \"showgrid\": false, \"tickfont\": {\"color\": \"#4D5663\"}, \"title\": {\"font\": {\"color\": \"#4D5663\"}, \"text\": \"\"}, \"zerolinecolor\": \"#E1E5ED\"}, \"yaxis7\": {\"anchor\": \"x7\", \"domain\": [0.535, 0.7325], \"gridcolor\": \"#E1E5ED\", \"showgrid\": false, \"tickfont\": {\"color\": \"#4D5663\"}, \"title\": {\"font\": {\"color\": \"#4D5663\"}, \"text\": \"\"}, \"zerolinecolor\": \"#E1E5ED\"}, \"yaxis8\": {\"anchor\": \"x8\", \"domain\": [0.535, 0.7325], \"gridcolor\": \"#E1E5ED\", \"showgrid\": false, \"tickfont\": {\"color\": \"#4D5663\"}, \"title\": {\"font\": {\"color\": \"#4D5663\"}, \"text\": \"\"}, \"zerolinecolor\": \"#E1E5ED\"}, \"yaxis9\": {\"anchor\": \"x9\", \"domain\": [0.2675, 0.465], \"gridcolor\": \"#E1E5ED\", \"showgrid\": false, \"tickfont\": {\"color\": \"#4D5663\"}, \"title\": {\"font\": {\"color\": \"#4D5663\"}, \"text\": \"\"}, \"zerolinecolor\": \"#E1E5ED\"}},\n",
       "                        {\"showLink\": true, \"linkText\": \"Export to plot.ly\", \"plotlyServerURL\": \"https://plot.ly\", \"responsive\": true}\n",
       "                    ).then(function(){\n",
       "                            \n",
       "var gd = document.getElementById('c2fd542d-a71e-481e-9b83-ee4082c451f9');\n",
       "var x = new MutationObserver(function (mutations, observer) {{\n",
       "        var display = window.getComputedStyle(gd).display;\n",
       "        if (!display || display === 'none') {{\n",
       "            console.log([gd, 'removed!']);\n",
       "            Plotly.purge(gd);\n",
       "            observer.disconnect();\n",
       "        }}\n",
       "}});\n",
       "\n",
       "// Listen for the removal of the full notebook cells\n",
       "var notebookContainer = gd.closest('#notebook-container');\n",
       "if (notebookContainer) {{\n",
       "    x.observe(notebookContainer, {childList: true});\n",
       "}}\n",
       "\n",
       "// Listen for the clearing of the current output cell\n",
       "var outputEl = gd.closest('.output');\n",
       "if (outputEl) {{\n",
       "    x.observe(outputEl, {childList: true});\n",
       "}}\n",
       "\n",
       "                        })\n",
       "                };\n",
       "                });\n",
       "            </script>\n",
       "        </div>"
      ]
     },
     "metadata": {},
     "output_type": "display_data"
    }
   ],
   "source": [
    "df.scatter_matrix()"
   ]
  }
 ],
 "metadata": {
  "kernelspec": {
   "display_name": "Python 3",
   "language": "python",
   "name": "python3"
  },
  "language_info": {
   "codemirror_mode": {
    "name": "ipython",
    "version": 3
   },
   "file_extension": ".py",
   "mimetype": "text/x-python",
   "name": "python",
   "nbconvert_exporter": "python",
   "pygments_lexer": "ipython3",
   "version": "3.7.6"
  }
 },
 "nbformat": 4,
 "nbformat_minor": 1
}
